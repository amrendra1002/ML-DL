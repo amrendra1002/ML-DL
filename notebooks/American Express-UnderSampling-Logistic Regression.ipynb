{
 "cells": [
  {
   "cell_type": "code",
   "execution_count": 111,
   "metadata": {},
   "outputs": [],
   "source": [
    "import pandas as pd\n",
    "import numpy as np\n",
    "import seaborn as sb\n",
    "import matplotlib.pyplot as plt"
   ]
  },
  {
   "cell_type": "code",
   "execution_count": 112,
   "metadata": {},
   "outputs": [],
   "source": [
    "from sklearn import model_selection, metrics\n",
    "from sklearn.metrics import accuracy_score\n",
    "from sklearn.model_selection import KFold\n",
    "from sklearn.model_selection import cross_val_score"
   ]
  },
  {
   "cell_type": "code",
   "execution_count": 113,
   "metadata": {},
   "outputs": [],
   "source": [
    "train_file='D:\\\\My Personal Documents\\\\Learnings\\\\Data Science\\\\Data Sets\\\\AmericanExpress\\\\train.csv'\n",
    "test_file='D:\\\\My Personal Documents\\\\Learnings\\\\Data Science\\\\Data Sets\\\\AmericanExpress\\\\test.csv'\n",
    "user_logs='D:\\\\My Personal Documents\\\\Learnings\\\\Data Science\\\\Data Sets\\\\AmericanExpress\\\\historical_user_logs.csv'\n",
    "\n",
    "train=pd.read_csv(train_file)\n",
    "test=pd.read_csv(test_file)\n",
    "user_log=pd.read_csv(user_logs)"
   ]
  },
  {
   "cell_type": "code",
   "execution_count": 114,
   "metadata": {},
   "outputs": [
    {
     "data": {
      "text/html": [
       "<div>\n",
       "<style scoped>\n",
       "    .dataframe tbody tr th:only-of-type {\n",
       "        vertical-align: middle;\n",
       "    }\n",
       "\n",
       "    .dataframe tbody tr th {\n",
       "        vertical-align: top;\n",
       "    }\n",
       "\n",
       "    .dataframe thead th {\n",
       "        text-align: right;\n",
       "    }\n",
       "</style>\n",
       "<table border=\"1\" class=\"dataframe\">\n",
       "  <thead>\n",
       "    <tr style=\"text-align: right;\">\n",
       "      <th></th>\n",
       "      <th>session_id</th>\n",
       "      <th>user_id</th>\n",
       "      <th>campaign_id</th>\n",
       "      <th>webpage_id</th>\n",
       "      <th>product_category_1</th>\n",
       "      <th>product_category_2</th>\n",
       "      <th>user_group_id</th>\n",
       "      <th>age_level</th>\n",
       "      <th>user_depth</th>\n",
       "      <th>city_development_index</th>\n",
       "      <th>var_1</th>\n",
       "      <th>is_click</th>\n",
       "    </tr>\n",
       "  </thead>\n",
       "  <tbody>\n",
       "    <tr>\n",
       "      <th>session_id</th>\n",
       "      <td>1.000000</td>\n",
       "      <td>0.009265</td>\n",
       "      <td>-0.245661</td>\n",
       "      <td>-0.253621</td>\n",
       "      <td>-0.040190</td>\n",
       "      <td>-0.192477</td>\n",
       "      <td>0.043984</td>\n",
       "      <td>0.064951</td>\n",
       "      <td>-0.000137</td>\n",
       "      <td>-0.001072</td>\n",
       "      <td>0.023594</td>\n",
       "      <td>-0.011598</td>\n",
       "    </tr>\n",
       "    <tr>\n",
       "      <th>user_id</th>\n",
       "      <td>0.009265</td>\n",
       "      <td>1.000000</td>\n",
       "      <td>-0.009227</td>\n",
       "      <td>-0.022056</td>\n",
       "      <td>0.031165</td>\n",
       "      <td>0.015698</td>\n",
       "      <td>0.045024</td>\n",
       "      <td>0.047687</td>\n",
       "      <td>-0.011238</td>\n",
       "      <td>-0.034073</td>\n",
       "      <td>0.057129</td>\n",
       "      <td>-0.004089</td>\n",
       "    </tr>\n",
       "    <tr>\n",
       "      <th>campaign_id</th>\n",
       "      <td>-0.245661</td>\n",
       "      <td>-0.009227</td>\n",
       "      <td>1.000000</td>\n",
       "      <td>0.606313</td>\n",
       "      <td>-0.113342</td>\n",
       "      <td>0.222252</td>\n",
       "      <td>-0.028817</td>\n",
       "      <td>-0.063227</td>\n",
       "      <td>-0.023217</td>\n",
       "      <td>0.023914</td>\n",
       "      <td>-0.006588</td>\n",
       "      <td>0.011447</td>\n",
       "    </tr>\n",
       "    <tr>\n",
       "      <th>webpage_id</th>\n",
       "      <td>-0.253621</td>\n",
       "      <td>-0.022056</td>\n",
       "      <td>0.606313</td>\n",
       "      <td>1.000000</td>\n",
       "      <td>-0.280598</td>\n",
       "      <td>-0.157034</td>\n",
       "      <td>-0.087625</td>\n",
       "      <td>-0.119225</td>\n",
       "      <td>0.010909</td>\n",
       "      <td>-0.013158</td>\n",
       "      <td>-0.021678</td>\n",
       "      <td>0.041717</td>\n",
       "    </tr>\n",
       "    <tr>\n",
       "      <th>product_category_1</th>\n",
       "      <td>-0.040190</td>\n",
       "      <td>0.031165</td>\n",
       "      <td>-0.113342</td>\n",
       "      <td>-0.280598</td>\n",
       "      <td>1.000000</td>\n",
       "      <td>0.107853</td>\n",
       "      <td>0.093174</td>\n",
       "      <td>0.152602</td>\n",
       "      <td>0.002871</td>\n",
       "      <td>0.021651</td>\n",
       "      <td>0.054029</td>\n",
       "      <td>-0.016531</td>\n",
       "    </tr>\n",
       "    <tr>\n",
       "      <th>product_category_2</th>\n",
       "      <td>-0.192477</td>\n",
       "      <td>0.015698</td>\n",
       "      <td>0.222252</td>\n",
       "      <td>-0.157034</td>\n",
       "      <td>0.107853</td>\n",
       "      <td>1.000000</td>\n",
       "      <td>0.175898</td>\n",
       "      <td>0.202951</td>\n",
       "      <td>-0.068418</td>\n",
       "      <td>0.127381</td>\n",
       "      <td>0.024321</td>\n",
       "      <td>0.019213</td>\n",
       "    </tr>\n",
       "    <tr>\n",
       "      <th>user_group_id</th>\n",
       "      <td>0.043984</td>\n",
       "      <td>0.045024</td>\n",
       "      <td>-0.028817</td>\n",
       "      <td>-0.087625</td>\n",
       "      <td>0.093174</td>\n",
       "      <td>0.175898</td>\n",
       "      <td>1.000000</td>\n",
       "      <td>0.635146</td>\n",
       "      <td>-0.012627</td>\n",
       "      <td>0.043475</td>\n",
       "      <td>0.031456</td>\n",
       "      <td>-0.007815</td>\n",
       "    </tr>\n",
       "    <tr>\n",
       "      <th>age_level</th>\n",
       "      <td>0.064951</td>\n",
       "      <td>0.047687</td>\n",
       "      <td>-0.063227</td>\n",
       "      <td>-0.119225</td>\n",
       "      <td>0.152602</td>\n",
       "      <td>0.202951</td>\n",
       "      <td>0.635146</td>\n",
       "      <td>1.000000</td>\n",
       "      <td>0.022386</td>\n",
       "      <td>0.002434</td>\n",
       "      <td>0.121815</td>\n",
       "      <td>-0.009681</td>\n",
       "    </tr>\n",
       "    <tr>\n",
       "      <th>user_depth</th>\n",
       "      <td>-0.000137</td>\n",
       "      <td>-0.011238</td>\n",
       "      <td>-0.023217</td>\n",
       "      <td>0.010909</td>\n",
       "      <td>0.002871</td>\n",
       "      <td>-0.068418</td>\n",
       "      <td>-0.012627</td>\n",
       "      <td>0.022386</td>\n",
       "      <td>1.000000</td>\n",
       "      <td>-0.055224</td>\n",
       "      <td>0.105176</td>\n",
       "      <td>-0.000952</td>\n",
       "    </tr>\n",
       "    <tr>\n",
       "      <th>city_development_index</th>\n",
       "      <td>-0.001072</td>\n",
       "      <td>-0.034073</td>\n",
       "      <td>0.023914</td>\n",
       "      <td>-0.013158</td>\n",
       "      <td>0.021651</td>\n",
       "      <td>0.127381</td>\n",
       "      <td>0.043475</td>\n",
       "      <td>0.002434</td>\n",
       "      <td>-0.055224</td>\n",
       "      <td>1.000000</td>\n",
       "      <td>-0.129241</td>\n",
       "      <td>-0.005686</td>\n",
       "    </tr>\n",
       "    <tr>\n",
       "      <th>var_1</th>\n",
       "      <td>0.023594</td>\n",
       "      <td>0.057129</td>\n",
       "      <td>-0.006588</td>\n",
       "      <td>-0.021678</td>\n",
       "      <td>0.054029</td>\n",
       "      <td>0.024321</td>\n",
       "      <td>0.031456</td>\n",
       "      <td>0.121815</td>\n",
       "      <td>0.105176</td>\n",
       "      <td>-0.129241</td>\n",
       "      <td>1.000000</td>\n",
       "      <td>0.011296</td>\n",
       "    </tr>\n",
       "    <tr>\n",
       "      <th>is_click</th>\n",
       "      <td>-0.011598</td>\n",
       "      <td>-0.004089</td>\n",
       "      <td>0.011447</td>\n",
       "      <td>0.041717</td>\n",
       "      <td>-0.016531</td>\n",
       "      <td>0.019213</td>\n",
       "      <td>-0.007815</td>\n",
       "      <td>-0.009681</td>\n",
       "      <td>-0.000952</td>\n",
       "      <td>-0.005686</td>\n",
       "      <td>0.011296</td>\n",
       "      <td>1.000000</td>\n",
       "    </tr>\n",
       "  </tbody>\n",
       "</table>\n",
       "</div>"
      ],
      "text/plain": [
       "                        session_id   user_id  campaign_id  webpage_id  \\\n",
       "session_id                1.000000  0.009265    -0.245661   -0.253621   \n",
       "user_id                   0.009265  1.000000    -0.009227   -0.022056   \n",
       "campaign_id              -0.245661 -0.009227     1.000000    0.606313   \n",
       "webpage_id               -0.253621 -0.022056     0.606313    1.000000   \n",
       "product_category_1       -0.040190  0.031165    -0.113342   -0.280598   \n",
       "product_category_2       -0.192477  0.015698     0.222252   -0.157034   \n",
       "user_group_id             0.043984  0.045024    -0.028817   -0.087625   \n",
       "age_level                 0.064951  0.047687    -0.063227   -0.119225   \n",
       "user_depth               -0.000137 -0.011238    -0.023217    0.010909   \n",
       "city_development_index   -0.001072 -0.034073     0.023914   -0.013158   \n",
       "var_1                     0.023594  0.057129    -0.006588   -0.021678   \n",
       "is_click                 -0.011598 -0.004089     0.011447    0.041717   \n",
       "\n",
       "                        product_category_1  product_category_2  user_group_id  \\\n",
       "session_id                       -0.040190           -0.192477       0.043984   \n",
       "user_id                           0.031165            0.015698       0.045024   \n",
       "campaign_id                      -0.113342            0.222252      -0.028817   \n",
       "webpage_id                       -0.280598           -0.157034      -0.087625   \n",
       "product_category_1                1.000000            0.107853       0.093174   \n",
       "product_category_2                0.107853            1.000000       0.175898   \n",
       "user_group_id                     0.093174            0.175898       1.000000   \n",
       "age_level                         0.152602            0.202951       0.635146   \n",
       "user_depth                        0.002871           -0.068418      -0.012627   \n",
       "city_development_index            0.021651            0.127381       0.043475   \n",
       "var_1                             0.054029            0.024321       0.031456   \n",
       "is_click                         -0.016531            0.019213      -0.007815   \n",
       "\n",
       "                        age_level  user_depth  city_development_index  \\\n",
       "session_id               0.064951   -0.000137               -0.001072   \n",
       "user_id                  0.047687   -0.011238               -0.034073   \n",
       "campaign_id             -0.063227   -0.023217                0.023914   \n",
       "webpage_id              -0.119225    0.010909               -0.013158   \n",
       "product_category_1       0.152602    0.002871                0.021651   \n",
       "product_category_2       0.202951   -0.068418                0.127381   \n",
       "user_group_id            0.635146   -0.012627                0.043475   \n",
       "age_level                1.000000    0.022386                0.002434   \n",
       "user_depth               0.022386    1.000000               -0.055224   \n",
       "city_development_index   0.002434   -0.055224                1.000000   \n",
       "var_1                    0.121815    0.105176               -0.129241   \n",
       "is_click                -0.009681   -0.000952               -0.005686   \n",
       "\n",
       "                           var_1  is_click  \n",
       "session_id              0.023594 -0.011598  \n",
       "user_id                 0.057129 -0.004089  \n",
       "campaign_id            -0.006588  0.011447  \n",
       "webpage_id             -0.021678  0.041717  \n",
       "product_category_1      0.054029 -0.016531  \n",
       "product_category_2      0.024321  0.019213  \n",
       "user_group_id           0.031456 -0.007815  \n",
       "age_level               0.121815 -0.009681  \n",
       "user_depth              0.105176 -0.000952  \n",
       "city_development_index -0.129241 -0.005686  \n",
       "var_1                   1.000000  0.011296  \n",
       "is_click                0.011296  1.000000  "
      ]
     },
     "execution_count": 114,
     "metadata": {},
     "output_type": "execute_result"
    }
   ],
   "source": [
    "train.corr()"
   ]
  },
  {
   "cell_type": "code",
   "execution_count": 115,
   "metadata": {},
   "outputs": [],
   "source": [
    "is_click_count= len(train[train.is_click==1])"
   ]
  },
  {
   "cell_type": "code",
   "execution_count": 116,
   "metadata": {},
   "outputs": [],
   "source": [
    "non_click_indices = train[train.is_click==0].index"
   ]
  },
  {
   "cell_type": "code",
   "execution_count": 117,
   "metadata": {},
   "outputs": [],
   "source": [
    "random_indices = np.random.choice(non_click_indices,is_click_count*10, replace=False)"
   ]
  },
  {
   "cell_type": "code",
   "execution_count": 118,
   "metadata": {},
   "outputs": [],
   "source": [
    "click_indices = train[train.is_click==1].index"
   ]
  },
  {
   "cell_type": "code",
   "execution_count": 119,
   "metadata": {},
   "outputs": [],
   "source": [
    "under_sample_indices = np.concatenate([click_indices,random_indices])"
   ]
  },
  {
   "cell_type": "code",
   "execution_count": 120,
   "metadata": {},
   "outputs": [],
   "source": [
    "under_sample = train.loc[under_sample_indices]"
   ]
  },
  {
   "cell_type": "code",
   "execution_count": 121,
   "metadata": {},
   "outputs": [],
   "source": [
    "train=under_sample"
   ]
  },
  {
   "cell_type": "code",
   "execution_count": 122,
   "metadata": {},
   "outputs": [
    {
     "data": {
      "text/plain": [
       "<matplotlib.axes._subplots.AxesSubplot at 0x21d95b2de80>"
      ]
     },
     "execution_count": 122,
     "metadata": {},
     "output_type": "execute_result"
    },
    {
     "data": {
      "image/png": "[encoded data removed]",
      "text/plain": [
       "<Figure size 432x288 with 1 Axes>"
      ]
     },
     "metadata": {},
     "output_type": "display_data"
    }
   ],
   "source": [
    "sb.countplot(under_sample.is_click)"
   ]
  },
  {
   "cell_type": "code",
   "execution_count": 123,
   "metadata": {},
   "outputs": [],
   "source": [
    "user_log_view=user_log[user_log.action=='view']\n",
    "user_log_interest=user_log[user_log.action=='interest']"
   ]
  },
  {
   "cell_type": "code",
   "execution_count": 124,
   "metadata": {},
   "outputs": [],
   "source": [
    "user_log_interest=user_log_interest.groupby(['user_id','product']).action.count().reset_index()"
   ]
  },
  {
   "cell_type": "code",
   "execution_count": 125,
   "metadata": {},
   "outputs": [
    {
     "data": {
      "text/html": [
       "<div>\n",
       "<style scoped>\n",
       "    .dataframe tbody tr th:only-of-type {\n",
       "        vertical-align: middle;\n",
       "    }\n",
       "\n",
       "    .dataframe tbody tr th {\n",
       "        vertical-align: top;\n",
       "    }\n",
       "\n",
       "    .dataframe thead th {\n",
       "        text-align: right;\n",
       "    }\n",
       "</style>\n",
       "<table border=\"1\" class=\"dataframe\">\n",
       "  <thead>\n",
       "    <tr style=\"text-align: right;\">\n",
       "      <th></th>\n",
       "      <th>user_id</th>\n",
       "      <th>product</th>\n",
       "      <th>interest</th>\n",
       "    </tr>\n",
       "  </thead>\n",
       "  <tbody>\n",
       "    <tr>\n",
       "      <th>0</th>\n",
       "      <td>19</td>\n",
       "      <td>D</td>\n",
       "      <td>1</td>\n",
       "    </tr>\n",
       "    <tr>\n",
       "      <th>1</th>\n",
       "      <td>19</td>\n",
       "      <td>F</td>\n",
       "      <td>2</td>\n",
       "    </tr>\n",
       "    <tr>\n",
       "      <th>2</th>\n",
       "      <td>19</td>\n",
       "      <td>G</td>\n",
       "      <td>2</td>\n",
       "    </tr>\n",
       "    <tr>\n",
       "      <th>3</th>\n",
       "      <td>26</td>\n",
       "      <td>H</td>\n",
       "      <td>1</td>\n",
       "    </tr>\n",
       "    <tr>\n",
       "      <th>4</th>\n",
       "      <td>30</td>\n",
       "      <td>H</td>\n",
       "      <td>1</td>\n",
       "    </tr>\n",
       "  </tbody>\n",
       "</table>\n",
       "</div>"
      ],
      "text/plain": [
       "   user_id product  interest\n",
       "0       19       D         1\n",
       "1       19       F         2\n",
       "2       19       G         2\n",
       "3       26       H         1\n",
       "4       30       H         1"
      ]
     },
     "execution_count": 125,
     "metadata": {},
     "output_type": "execute_result"
    }
   ],
   "source": [
    "user_log_interest.rename(columns={'action': 'interest'}, inplace=True)\n",
    "user_log_interest.head()"
   ]
  },
  {
   "cell_type": "code",
   "execution_count": 126,
   "metadata": {},
   "outputs": [],
   "source": [
    "user_log_view=user_log_view.groupby(['user_id','product']).action.count().reset_index()"
   ]
  },
  {
   "cell_type": "code",
   "execution_count": 127,
   "metadata": {},
   "outputs": [
    {
     "data": {
      "text/html": [
       "<div>\n",
       "<style scoped>\n",
       "    .dataframe tbody tr th:only-of-type {\n",
       "        vertical-align: middle;\n",
       "    }\n",
       "\n",
       "    .dataframe tbody tr th {\n",
       "        vertical-align: top;\n",
       "    }\n",
       "\n",
       "    .dataframe thead th {\n",
       "        text-align: right;\n",
       "    }\n",
       "</style>\n",
       "<table border=\"1\" class=\"dataframe\">\n",
       "  <thead>\n",
       "    <tr style=\"text-align: right;\">\n",
       "      <th></th>\n",
       "      <th>user_id</th>\n",
       "      <th>product</th>\n",
       "      <th>view</th>\n",
       "    </tr>\n",
       "  </thead>\n",
       "  <tbody>\n",
       "    <tr>\n",
       "      <th>0</th>\n",
       "      <td>4</td>\n",
       "      <td>A</td>\n",
       "      <td>3</td>\n",
       "    </tr>\n",
       "    <tr>\n",
       "      <th>1</th>\n",
       "      <td>4</td>\n",
       "      <td>B</td>\n",
       "      <td>1</td>\n",
       "    </tr>\n",
       "    <tr>\n",
       "      <th>2</th>\n",
       "      <td>4</td>\n",
       "      <td>H</td>\n",
       "      <td>1</td>\n",
       "    </tr>\n",
       "    <tr>\n",
       "      <th>3</th>\n",
       "      <td>4</td>\n",
       "      <td>I</td>\n",
       "      <td>2</td>\n",
       "    </tr>\n",
       "    <tr>\n",
       "      <th>4</th>\n",
       "      <td>19</td>\n",
       "      <td>A</td>\n",
       "      <td>14</td>\n",
       "    </tr>\n",
       "  </tbody>\n",
       "</table>\n",
       "</div>"
      ],
      "text/plain": [
       "   user_id product  view\n",
       "0        4       A     3\n",
       "1        4       B     1\n",
       "2        4       H     1\n",
       "3        4       I     2\n",
       "4       19       A    14"
      ]
     },
     "execution_count": 127,
     "metadata": {},
     "output_type": "execute_result"
    }
   ],
   "source": [
    "user_log_view.rename(columns={'action': 'view'}, inplace=True)\n",
    "user_log_view.head()\n"
   ]
  },
  {
   "cell_type": "code",
   "execution_count": 128,
   "metadata": {},
   "outputs": [
    {
     "data": {
      "text/plain": [
       "(128858, 14)"
      ]
     },
     "execution_count": 128,
     "metadata": {},
     "output_type": "execute_result"
    }
   ],
   "source": [
    "test.shape"
   ]
  },
  {
   "cell_type": "code",
   "execution_count": 129,
   "metadata": {},
   "outputs": [
    {
     "name": "stderr",
     "output_type": "stream",
     "text": [
      "C:\\Amrendra\\Anaconda\\lib\\site-packages\\pandas\\core\\frame.py:6201: FutureWarning: Sorting because non-concatenation axis is not aligned. A future version\n",
      "of pandas will change to not sort by default.\n",
      "\n",
      "To accept the future behavior, pass 'sort=True'.\n",
      "\n",
      "To retain the current behavior and silence the warning, pass sort=False\n",
      "\n",
      "  sort=sort)\n"
     ]
    },
    {
     "name": "stdout",
     "output_type": "stream",
     "text": [
      "<class 'pandas.core.frame.DataFrame'>\n",
      "Int64Index: 473499 entries, 38 to 128857\n",
      "Data columns (total 16 columns):\n",
      "DateTime                  473499 non-null object\n",
      "age_level                 454239 non-null float64\n",
      "campaign_id               473499 non-null int64\n",
      "city_development_index    345576 non-null float64\n",
      "gender                    454239 non-null object\n",
      "is_click                  344641 non-null float64\n",
      "product                   473499 non-null object\n",
      "product_category_1        473499 non-null int64\n",
      "product_category_2        125019 non-null float64\n",
      "session_id                473499 non-null int64\n",
      "source                    473499 non-null object\n",
      "user_depth                454239 non-null float64\n",
      "user_group_id             454239 non-null float64\n",
      "user_id                   473499 non-null int64\n",
      "var_1                     473499 non-null int64\n",
      "webpage_id                473499 non-null int64\n",
      "dtypes: float64(6), int64(6), object(4)\n",
      "memory usage: 61.4+ MB\n"
     ]
    }
   ],
   "source": [
    "train['source']='train'\n",
    "test['source']='test'\n",
    "train=train.append(test)\n",
    "train.info()\n"
   ]
  },
  {
   "cell_type": "code",
   "execution_count": 130,
   "metadata": {},
   "outputs": [],
   "source": [
    "train=pd.merge(train,user_log_interest,how='left', on=['user_id','product'])\n",
    "train=pd.merge(train,user_log_view,how='left', on=['user_id','product'])"
   ]
  },
  {
   "cell_type": "code",
   "execution_count": 131,
   "metadata": {},
   "outputs": [
    {
     "name": "stdout",
     "output_type": "stream",
     "text": [
      "<class 'pandas.core.frame.DataFrame'>\n",
      "Int64Index: 473499 entries, 0 to 473498\n",
      "Data columns (total 18 columns):\n",
      "DateTime                  473499 non-null object\n",
      "age_level                 454239 non-null float64\n",
      "campaign_id               473499 non-null int64\n",
      "city_development_index    345576 non-null float64\n",
      "gender                    454239 non-null object\n",
      "is_click                  344641 non-null float64\n",
      "product                   473499 non-null object\n",
      "product_category_1        473499 non-null int64\n",
      "product_category_2        125019 non-null float64\n",
      "session_id                473499 non-null int64\n",
      "source                    473499 non-null object\n",
      "user_depth                454239 non-null float64\n",
      "user_group_id             454239 non-null float64\n",
      "user_id                   473499 non-null int64\n",
      "var_1                     473499 non-null int64\n",
      "webpage_id                473499 non-null int64\n",
      "interest                  82513 non-null float64\n",
      "view                      381853 non-null float64\n",
      "dtypes: float64(8), int64(6), object(4)\n",
      "memory usage: 68.6+ MB\n"
     ]
    }
   ],
   "source": [
    "train.info()"
   ]
  },
  {
   "cell_type": "code",
   "execution_count": 132,
   "metadata": {},
   "outputs": [],
   "source": [
    "#t_click1=train[train.is_click==1]\n",
    "#train=train.append(t_click1)\n",
    "#train=train.append(t_click1)"
   ]
  },
  {
   "cell_type": "code",
   "execution_count": 133,
   "metadata": {},
   "outputs": [
    {
     "data": {
      "text/plain": [
       "DateTime                       0\n",
       "age_level                  19260\n",
       "campaign_id                    0\n",
       "city_development_index    127923\n",
       "gender                     19260\n",
       "is_click                  128858\n",
       "product                        0\n",
       "product_category_1             0\n",
       "product_category_2        348480\n",
       "session_id                     0\n",
       "source                         0\n",
       "user_depth                 19260\n",
       "user_group_id              19260\n",
       "user_id                        0\n",
       "var_1                          0\n",
       "webpage_id                     0\n",
       "interest                  390986\n",
       "view                       91646\n",
       "dtype: int64"
      ]
     },
     "execution_count": 133,
     "metadata": {},
     "output_type": "execute_result"
    }
   ],
   "source": [
    "train.isnull().sum()"
   ]
  },
  {
   "cell_type": "code",
   "execution_count": 134,
   "metadata": {},
   "outputs": [
    {
     "data": {
      "text/plain": [
       "<matplotlib.axes._subplots.AxesSubplot at 0x21d97152710>"
      ]
     },
     "execution_count": 134,
     "metadata": {},
     "output_type": "execute_result"
    },
    {
     "data": {
      "image/png": "[encoded data removed]",
      "text/plain": [
       "<Figure size 432x288 with 1 Axes>"
      ]
     },
     "metadata": {},
     "output_type": "display_data"
    }
   ],
   "source": [
    "sb.countplot(train.is_click)"
   ]
  },
  {
   "cell_type": "code",
   "execution_count": 135,
   "metadata": {},
   "outputs": [
    {
     "data": {
      "text/plain": [
       "<matplotlib.axes._subplots.AxesSubplot at 0x21d94a76f60>"
      ]
     },
     "execution_count": 135,
     "metadata": {},
     "output_type": "execute_result"
    },
    {
     "data": {
      "image/png": "[encoded data removed]",
      "text/plain": [
       "<Figure size 864x432 with 1 Axes>"
      ]
     },
     "metadata": {},
     "output_type": "display_data"
    }
   ],
   "source": [
    "plt.figure(figsize=(12,6))\n",
    "sb.countplot(x='is_click', hue='product', data=train)"
   ]
  },
  {
   "cell_type": "code",
   "execution_count": 136,
   "metadata": {},
   "outputs": [
    {
     "data": {
      "text/plain": [
       "<matplotlib.axes._subplots.AxesSubplot at 0x21d96379be0>"
      ]
     },
     "execution_count": 136,
     "metadata": {},
     "output_type": "execute_result"
    },
    {
     "data": {
      "image/png": "[encoded data removed]",
      "text/plain": [
       "<Figure size 864x432 with 1 Axes>"
      ]
     },
     "metadata": {},
     "output_type": "display_data"
    }
   ],
   "source": [
    "plt.figure(figsize=(12,6))\n",
    "sb.countplot(x='is_click', hue='gender', data=train)"
   ]
  },
  {
   "cell_type": "code",
   "execution_count": 137,
   "metadata": {},
   "outputs": [
    {
     "data": {
      "text/plain": [
       "<matplotlib.axes._subplots.AxesSubplot at 0x21d94ebb240>"
      ]
     },
     "execution_count": 137,
     "metadata": {},
     "output_type": "execute_result"
    },
    {
     "data": {
      "image/png": "[encoded data removed]",
      "text/plain": [
       "<Figure size 864x432 with 1 Axes>"
      ]
     },
     "metadata": {},
     "output_type": "display_data"
    }
   ],
   "source": [
    "plt.figure(figsize=(12,6))\n",
    "sb.countplot(x='is_click', hue='var_1', data=train)"
   ]
  },
  {
   "cell_type": "code",
   "execution_count": 138,
   "metadata": {},
   "outputs": [
    {
     "data": {
      "text/plain": [
       "<matplotlib.axes._subplots.AxesSubplot at 0x21d95b8e630>"
      ]
     },
     "execution_count": 138,
     "metadata": {},
     "output_type": "execute_result"
    },
    {
     "data": {
      "image/png": "[encoded data removed]",
      "text/plain": [
       "<Figure size 864x432 with 1 Axes>"
      ]
     },
     "metadata": {},
     "output_type": "display_data"
    }
   ],
   "source": [
    "plt.figure(figsize=(12,6))\n",
    "sb.countplot(x='var_1', hue='is_click', data=train)"
   ]
  },
  {
   "cell_type": "raw",
   "metadata": {},
   "source": [
    "plt.figure(figsize=(12,6))\n",
    "sb.countplot(x='is_click', hue='user_depth', data=train)"
   ]
  },
  {
   "cell_type": "code",
   "execution_count": 139,
   "metadata": {},
   "outputs": [],
   "source": [
    "train_label= train.is_click\n"
   ]
  },
  {
   "cell_type": "code",
   "execution_count": 140,
   "metadata": {},
   "outputs": [],
   "source": [
    "train.gender=train.gender.fillna('Unknown')"
   ]
  },
  {
   "cell_type": "code",
   "execution_count": 141,
   "metadata": {},
   "outputs": [],
   "source": [
    "train.city_development_index= train.city_development_index.fillna(method='pad')"
   ]
  },
  {
   "cell_type": "code",
   "execution_count": 142,
   "metadata": {},
   "outputs": [],
   "source": [
    "train.age_level= train.age_level.fillna(method='pad')"
   ]
  },
  {
   "cell_type": "code",
   "execution_count": 143,
   "metadata": {},
   "outputs": [],
   "source": [
    "train.user_depth= train.user_depth.fillna(method='pad')"
   ]
  },
  {
   "cell_type": "code",
   "execution_count": 144,
   "metadata": {},
   "outputs": [],
   "source": [
    "train.user_group_id= train.user_group_id.fillna(method='pad')"
   ]
  },
  {
   "cell_type": "code",
   "execution_count": 145,
   "metadata": {},
   "outputs": [],
   "source": [
    "train.view=train.view.fillna(0)\n",
    "train.interest=train.interest.fillna(0)"
   ]
  },
  {
   "cell_type": "code",
   "execution_count": 146,
   "metadata": {},
   "outputs": [],
   "source": [
    "train=pd.get_dummies(train,columns=['gender','product'])"
   ]
  },
  {
   "cell_type": "code",
   "execution_count": 147,
   "metadata": {},
   "outputs": [
    {
     "data": {
      "text/html": [
       "<div>\n",
       "<style scoped>\n",
       "    .dataframe tbody tr th:only-of-type {\n",
       "        vertical-align: middle;\n",
       "    }\n",
       "\n",
       "    .dataframe tbody tr th {\n",
       "        vertical-align: top;\n",
       "    }\n",
       "\n",
       "    .dataframe thead th {\n",
       "        text-align: right;\n",
       "    }\n",
       "</style>\n",
       "<table border=\"1\" class=\"dataframe\">\n",
       "  <thead>\n",
       "    <tr style=\"text-align: right;\">\n",
       "      <th></th>\n",
       "      <th>DateTime</th>\n",
       "      <th>age_level</th>\n",
       "      <th>campaign_id</th>\n",
       "      <th>city_development_index</th>\n",
       "      <th>is_click</th>\n",
       "      <th>product_category_1</th>\n",
       "      <th>product_category_2</th>\n",
       "      <th>session_id</th>\n",
       "      <th>source</th>\n",
       "      <th>user_depth</th>\n",
       "      <th>...</th>\n",
       "      <th>product_A</th>\n",
       "      <th>product_B</th>\n",
       "      <th>product_C</th>\n",
       "      <th>product_D</th>\n",
       "      <th>product_E</th>\n",
       "      <th>product_F</th>\n",
       "      <th>product_G</th>\n",
       "      <th>product_H</th>\n",
       "      <th>product_I</th>\n",
       "      <th>product_J</th>\n",
       "    </tr>\n",
       "  </thead>\n",
       "  <tbody>\n",
       "    <tr>\n",
       "      <th>0</th>\n",
       "      <td>2017-07-02 00:05</td>\n",
       "      <td>2.0</td>\n",
       "      <td>359520</td>\n",
       "      <td>NaN</td>\n",
       "      <td>1.0</td>\n",
       "      <td>3</td>\n",
       "      <td>NaN</td>\n",
       "      <td>489923</td>\n",
       "      <td>train</td>\n",
       "      <td>2.0</td>\n",
       "      <td>...</td>\n",
       "      <td>0</td>\n",
       "      <td>0</td>\n",
       "      <td>0</td>\n",
       "      <td>0</td>\n",
       "      <td>0</td>\n",
       "      <td>0</td>\n",
       "      <td>0</td>\n",
       "      <td>1</td>\n",
       "      <td>0</td>\n",
       "      <td>0</td>\n",
       "    </tr>\n",
       "    <tr>\n",
       "      <th>1</th>\n",
       "      <td>2017-07-02 00:07</td>\n",
       "      <td>3.0</td>\n",
       "      <td>98970</td>\n",
       "      <td>4.0</td>\n",
       "      <td>1.0</td>\n",
       "      <td>4</td>\n",
       "      <td>NaN</td>\n",
       "      <td>419802</td>\n",
       "      <td>train</td>\n",
       "      <td>3.0</td>\n",
       "      <td>...</td>\n",
       "      <td>0</td>\n",
       "      <td>0</td>\n",
       "      <td>0</td>\n",
       "      <td>0</td>\n",
       "      <td>0</td>\n",
       "      <td>0</td>\n",
       "      <td>1</td>\n",
       "      <td>0</td>\n",
       "      <td>0</td>\n",
       "      <td>0</td>\n",
       "    </tr>\n",
       "    <tr>\n",
       "      <th>2</th>\n",
       "      <td>2017-07-02 00:08</td>\n",
       "      <td>3.0</td>\n",
       "      <td>359520</td>\n",
       "      <td>4.0</td>\n",
       "      <td>1.0</td>\n",
       "      <td>4</td>\n",
       "      <td>NaN</td>\n",
       "      <td>145098</td>\n",
       "      <td>train</td>\n",
       "      <td>3.0</td>\n",
       "      <td>...</td>\n",
       "      <td>0</td>\n",
       "      <td>0</td>\n",
       "      <td>1</td>\n",
       "      <td>0</td>\n",
       "      <td>0</td>\n",
       "      <td>0</td>\n",
       "      <td>0</td>\n",
       "      <td>0</td>\n",
       "      <td>0</td>\n",
       "      <td>0</td>\n",
       "    </tr>\n",
       "    <tr>\n",
       "      <th>3</th>\n",
       "      <td>2017-07-02 00:13</td>\n",
       "      <td>2.0</td>\n",
       "      <td>405490</td>\n",
       "      <td>4.0</td>\n",
       "      <td>1.0</td>\n",
       "      <td>3</td>\n",
       "      <td>NaN</td>\n",
       "      <td>102183</td>\n",
       "      <td>train</td>\n",
       "      <td>3.0</td>\n",
       "      <td>...</td>\n",
       "      <td>0</td>\n",
       "      <td>0</td>\n",
       "      <td>1</td>\n",
       "      <td>0</td>\n",
       "      <td>0</td>\n",
       "      <td>0</td>\n",
       "      <td>0</td>\n",
       "      <td>0</td>\n",
       "      <td>0</td>\n",
       "      <td>0</td>\n",
       "    </tr>\n",
       "    <tr>\n",
       "      <th>4</th>\n",
       "      <td>2017-07-02 00:13</td>\n",
       "      <td>2.0</td>\n",
       "      <td>405490</td>\n",
       "      <td>3.0</td>\n",
       "      <td>1.0</td>\n",
       "      <td>3</td>\n",
       "      <td>NaN</td>\n",
       "      <td>72843</td>\n",
       "      <td>train</td>\n",
       "      <td>3.0</td>\n",
       "      <td>...</td>\n",
       "      <td>0</td>\n",
       "      <td>0</td>\n",
       "      <td>1</td>\n",
       "      <td>0</td>\n",
       "      <td>0</td>\n",
       "      <td>0</td>\n",
       "      <td>0</td>\n",
       "      <td>0</td>\n",
       "      <td>0</td>\n",
       "      <td>0</td>\n",
       "    </tr>\n",
       "  </tbody>\n",
       "</table>\n",
       "<p>5 rows × 29 columns</p>\n",
       "</div>"
      ],
      "text/plain": [
       "           DateTime  age_level  campaign_id  city_development_index  is_click  \\\n",
       "0  2017-07-02 00:05        2.0       359520                     NaN       1.0   \n",
       "1  2017-07-02 00:07        3.0        98970                     4.0       1.0   \n",
       "2  2017-07-02 00:08        3.0       359520                     4.0       1.0   \n",
       "3  2017-07-02 00:13        2.0       405490                     4.0       1.0   \n",
       "4  2017-07-02 00:13        2.0       405490                     3.0       1.0   \n",
       "\n",
       "   product_category_1  product_category_2  session_id source  user_depth  \\\n",
       "0                   3                 NaN      489923  train         2.0   \n",
       "1                   4                 NaN      419802  train         3.0   \n",
       "2                   4                 NaN      145098  train         3.0   \n",
       "3                   3                 NaN      102183  train         3.0   \n",
       "4                   3                 NaN       72843  train         3.0   \n",
       "\n",
       "     ...      product_A  product_B  product_C  product_D  product_E  \\\n",
       "0    ...              0          0          0          0          0   \n",
       "1    ...              0          0          0          0          0   \n",
       "2    ...              0          0          1          0          0   \n",
       "3    ...              0          0          1          0          0   \n",
       "4    ...              0          0          1          0          0   \n",
       "\n",
       "   product_F  product_G  product_H  product_I  product_J  \n",
       "0          0          0          1          0          0  \n",
       "1          0          1          0          0          0  \n",
       "2          0          0          0          0          0  \n",
       "3          0          0          0          0          0  \n",
       "4          0          0          0          0          0  \n",
       "\n",
       "[5 rows x 29 columns]"
      ]
     },
     "execution_count": 147,
     "metadata": {},
     "output_type": "execute_result"
    }
   ],
   "source": [
    "train.head()"
   ]
  },
  {
   "cell_type": "code",
   "execution_count": 148,
   "metadata": {},
   "outputs": [],
   "source": [
    "train= train.drop(['DateTime','user_id','product_category_2','session_id'],axis=1)"
   ]
  },
  {
   "cell_type": "code",
   "execution_count": 149,
   "metadata": {},
   "outputs": [
    {
     "data": {
      "text/html": [
       "<div>\n",
       "<style scoped>\n",
       "    .dataframe tbody tr th:only-of-type {\n",
       "        vertical-align: middle;\n",
       "    }\n",
       "\n",
       "    .dataframe tbody tr th {\n",
       "        vertical-align: top;\n",
       "    }\n",
       "\n",
       "    .dataframe thead th {\n",
       "        text-align: right;\n",
       "    }\n",
       "</style>\n",
       "<table border=\"1\" class=\"dataframe\">\n",
       "  <thead>\n",
       "    <tr style=\"text-align: right;\">\n",
       "      <th></th>\n",
       "      <th>age_level</th>\n",
       "      <th>campaign_id</th>\n",
       "      <th>city_development_index</th>\n",
       "      <th>is_click</th>\n",
       "      <th>product_category_1</th>\n",
       "      <th>source</th>\n",
       "      <th>user_depth</th>\n",
       "      <th>user_group_id</th>\n",
       "      <th>var_1</th>\n",
       "      <th>webpage_id</th>\n",
       "      <th>...</th>\n",
       "      <th>product_A</th>\n",
       "      <th>product_B</th>\n",
       "      <th>product_C</th>\n",
       "      <th>product_D</th>\n",
       "      <th>product_E</th>\n",
       "      <th>product_F</th>\n",
       "      <th>product_G</th>\n",
       "      <th>product_H</th>\n",
       "      <th>product_I</th>\n",
       "      <th>product_J</th>\n",
       "    </tr>\n",
       "  </thead>\n",
       "  <tbody>\n",
       "    <tr>\n",
       "      <th>0</th>\n",
       "      <td>2.0</td>\n",
       "      <td>359520</td>\n",
       "      <td>NaN</td>\n",
       "      <td>1.0</td>\n",
       "      <td>3</td>\n",
       "      <td>train</td>\n",
       "      <td>2.0</td>\n",
       "      <td>2.0</td>\n",
       "      <td>0</td>\n",
       "      <td>13787</td>\n",
       "      <td>...</td>\n",
       "      <td>0</td>\n",
       "      <td>0</td>\n",
       "      <td>0</td>\n",
       "      <td>0</td>\n",
       "      <td>0</td>\n",
       "      <td>0</td>\n",
       "      <td>0</td>\n",
       "      <td>1</td>\n",
       "      <td>0</td>\n",
       "      <td>0</td>\n",
       "    </tr>\n",
       "    <tr>\n",
       "      <th>1</th>\n",
       "      <td>3.0</td>\n",
       "      <td>98970</td>\n",
       "      <td>4.0</td>\n",
       "      <td>1.0</td>\n",
       "      <td>4</td>\n",
       "      <td>train</td>\n",
       "      <td>3.0</td>\n",
       "      <td>9.0</td>\n",
       "      <td>1</td>\n",
       "      <td>6970</td>\n",
       "      <td>...</td>\n",
       "      <td>0</td>\n",
       "      <td>0</td>\n",
       "      <td>0</td>\n",
       "      <td>0</td>\n",
       "      <td>0</td>\n",
       "      <td>0</td>\n",
       "      <td>1</td>\n",
       "      <td>0</td>\n",
       "      <td>0</td>\n",
       "      <td>0</td>\n",
       "    </tr>\n",
       "    <tr>\n",
       "      <th>2</th>\n",
       "      <td>3.0</td>\n",
       "      <td>359520</td>\n",
       "      <td>4.0</td>\n",
       "      <td>1.0</td>\n",
       "      <td>4</td>\n",
       "      <td>train</td>\n",
       "      <td>3.0</td>\n",
       "      <td>3.0</td>\n",
       "      <td>0</td>\n",
       "      <td>13787</td>\n",
       "      <td>...</td>\n",
       "      <td>0</td>\n",
       "      <td>0</td>\n",
       "      <td>1</td>\n",
       "      <td>0</td>\n",
       "      <td>0</td>\n",
       "      <td>0</td>\n",
       "      <td>0</td>\n",
       "      <td>0</td>\n",
       "      <td>0</td>\n",
       "      <td>0</td>\n",
       "    </tr>\n",
       "    <tr>\n",
       "      <th>3</th>\n",
       "      <td>2.0</td>\n",
       "      <td>405490</td>\n",
       "      <td>4.0</td>\n",
       "      <td>1.0</td>\n",
       "      <td>3</td>\n",
       "      <td>train</td>\n",
       "      <td>3.0</td>\n",
       "      <td>2.0</td>\n",
       "      <td>0</td>\n",
       "      <td>60305</td>\n",
       "      <td>...</td>\n",
       "      <td>0</td>\n",
       "      <td>0</td>\n",
       "      <td>1</td>\n",
       "      <td>0</td>\n",
       "      <td>0</td>\n",
       "      <td>0</td>\n",
       "      <td>0</td>\n",
       "      <td>0</td>\n",
       "      <td>0</td>\n",
       "      <td>0</td>\n",
       "    </tr>\n",
       "    <tr>\n",
       "      <th>4</th>\n",
       "      <td>2.0</td>\n",
       "      <td>405490</td>\n",
       "      <td>3.0</td>\n",
       "      <td>1.0</td>\n",
       "      <td>3</td>\n",
       "      <td>train</td>\n",
       "      <td>3.0</td>\n",
       "      <td>2.0</td>\n",
       "      <td>1</td>\n",
       "      <td>60305</td>\n",
       "      <td>...</td>\n",
       "      <td>0</td>\n",
       "      <td>0</td>\n",
       "      <td>1</td>\n",
       "      <td>0</td>\n",
       "      <td>0</td>\n",
       "      <td>0</td>\n",
       "      <td>0</td>\n",
       "      <td>0</td>\n",
       "      <td>0</td>\n",
       "      <td>0</td>\n",
       "    </tr>\n",
       "  </tbody>\n",
       "</table>\n",
       "<p>5 rows × 25 columns</p>\n",
       "</div>"
      ],
      "text/plain": [
       "   age_level  campaign_id  city_development_index  is_click  \\\n",
       "0        2.0       359520                     NaN       1.0   \n",
       "1        3.0        98970                     4.0       1.0   \n",
       "2        3.0       359520                     4.0       1.0   \n",
       "3        2.0       405490                     4.0       1.0   \n",
       "4        2.0       405490                     3.0       1.0   \n",
       "\n",
       "   product_category_1 source  user_depth  user_group_id  var_1  webpage_id  \\\n",
       "0                   3  train         2.0            2.0      0       13787   \n",
       "1                   4  train         3.0            9.0      1        6970   \n",
       "2                   4  train         3.0            3.0      0       13787   \n",
       "3                   3  train         3.0            2.0      0       60305   \n",
       "4                   3  train         3.0            2.0      1       60305   \n",
       "\n",
       "     ...      product_A  product_B  product_C  product_D  product_E  \\\n",
       "0    ...              0          0          0          0          0   \n",
       "1    ...              0          0          0          0          0   \n",
       "2    ...              0          0          1          0          0   \n",
       "3    ...              0          0          1          0          0   \n",
       "4    ...              0          0          1          0          0   \n",
       "\n",
       "   product_F  product_G  product_H  product_I  product_J  \n",
       "0          0          0          1          0          0  \n",
       "1          0          1          0          0          0  \n",
       "2          0          0          0          0          0  \n",
       "3          0          0          0          0          0  \n",
       "4          0          0          0          0          0  \n",
       "\n",
       "[5 rows x 25 columns]"
      ]
     },
     "execution_count": 149,
     "metadata": {},
     "output_type": "execute_result"
    }
   ],
   "source": [
    "train.head()"
   ]
  },
  {
   "cell_type": "code",
   "execution_count": 150,
   "metadata": {},
   "outputs": [],
   "source": [
    "test=train[train.source=='test']\n",
    "train=train[train.source=='train']\n"
   ]
  },
  {
   "cell_type": "code",
   "execution_count": 151,
   "metadata": {},
   "outputs": [],
   "source": [
    "train.drop('source',axis=1,inplace=True)"
   ]
  },
  {
   "cell_type": "code",
   "execution_count": 152,
   "metadata": {},
   "outputs": [],
   "source": [
    "test.drop('source',axis=1,inplace=True)"
   ]
  },
  {
   "cell_type": "code",
   "execution_count": 153,
   "metadata": {},
   "outputs": [],
   "source": [
    "train_label=train.is_click"
   ]
  },
  {
   "cell_type": "code",
   "execution_count": 154,
   "metadata": {},
   "outputs": [
    {
     "data": {
      "text/plain": [
       "age_level                 0\n",
       "campaign_id               0\n",
       "city_development_index    0\n",
       "is_click                  0\n",
       "product_category_1        0\n",
       "user_depth                0\n",
       "user_group_id             0\n",
       "var_1                     0\n",
       "webpage_id                0\n",
       "interest                  0\n",
       "view                      0\n",
       "gender_Female             0\n",
       "gender_Male               0\n",
       "gender_Unknown            0\n",
       "product_A                 0\n",
       "product_B                 0\n",
       "product_C                 0\n",
       "product_D                 0\n",
       "product_E                 0\n",
       "product_F                 0\n",
       "product_G                 0\n",
       "product_H                 0\n",
       "product_I                 0\n",
       "product_J                 0\n",
       "dtype: int64"
      ]
     },
     "execution_count": 154,
     "metadata": {},
     "output_type": "execute_result"
    }
   ],
   "source": [
    "train=train[~(train.city_development_index.isna())]\n",
    "train.isna().sum()"
   ]
  },
  {
   "cell_type": "code",
   "execution_count": 155,
   "metadata": {},
   "outputs": [],
   "source": [
    "x=train.drop(\"is_click\",axis=1)"
   ]
  },
  {
   "cell_type": "code",
   "execution_count": 156,
   "metadata": {},
   "outputs": [],
   "source": [
    "y=train[\"is_click\"]"
   ]
  },
  {
   "cell_type": "code",
   "execution_count": 157,
   "metadata": {},
   "outputs": [],
   "source": [
    "from sklearn.model_selection import train_test_split\n",
    "x_train, x_test, y_train, y_test = train_test_split(x,y, test_size=0.3,random_state=22)"
   ]
  },
  {
   "cell_type": "code",
   "execution_count": 158,
   "metadata": {},
   "outputs": [],
   "source": [
    "from sklearn.linear_model import LogisticRegression\n",
    "logmod=LogisticRegression()"
   ]
  },
  {
   "cell_type": "code",
   "execution_count": 159,
   "metadata": {},
   "outputs": [
    {
     "name": "stderr",
     "output_type": "stream",
     "text": [
      "C:\\Amrendra\\Anaconda\\lib\\site-packages\\sklearn\\linear_model\\logistic.py:432: FutureWarning: Default solver will be changed to 'lbfgs' in 0.22. Specify a solver to silence this warning.\n",
      "  FutureWarning)\n"
     ]
    }
   ],
   "source": [
    "logmod.fit(x_train,y_train)\n",
    "pred=logmod.predict(x_test)"
   ]
  },
  {
   "cell_type": "code",
   "execution_count": 160,
   "metadata": {},
   "outputs": [
    {
     "name": "stderr",
     "output_type": "stream",
     "text": [
      "C:\\Amrendra\\Anaconda\\lib\\site-packages\\sklearn\\metrics\\classification.py:1143: UndefinedMetricWarning: Precision and F-score are ill-defined and being set to 0.0 in labels with no predicted samples.\n",
      "  'precision', 'predicted', average, warn_for)\n",
      "C:\\Amrendra\\Anaconda\\lib\\site-packages\\sklearn\\metrics\\classification.py:1143: UndefinedMetricWarning: Precision and F-score are ill-defined and being set to 0.0 in labels with no predicted samples.\n",
      "  'precision', 'predicted', average, warn_for)\n",
      "C:\\Amrendra\\Anaconda\\lib\\site-packages\\sklearn\\metrics\\classification.py:1143: UndefinedMetricWarning: Precision and F-score are ill-defined and being set to 0.0 in labels with no predicted samples.\n",
      "  'precision', 'predicted', average, warn_for)\n"
     ]
    },
    {
     "data": {
      "text/plain": [
       "'              precision    recall  f1-score   support\\n\\n         0.0       0.91      1.00      0.95     93933\\n         1.0       0.00      0.00      0.00      9459\\n\\n   micro avg       0.91      0.91      0.91    103392\\n   macro avg       0.45      0.50      0.48    103392\\nweighted avg       0.83      0.91      0.86    103392\\n'"
      ]
     },
     "execution_count": 160,
     "metadata": {},
     "output_type": "execute_result"
    }
   ],
   "source": [
    "from sklearn.metrics import classification_report\n",
    "classification_report(y_test,pred)"
   ]
  },
  {
   "cell_type": "code",
   "execution_count": 161,
   "metadata": {},
   "outputs": [
    {
     "data": {
      "text/plain": [
       "array([[93933,     0],\n",
       "       [ 9459,     0]], dtype=int64)"
      ]
     },
     "execution_count": 161,
     "metadata": {},
     "output_type": "execute_result"
    }
   ],
   "source": [
    "from sklearn.metrics import confusion_matrix\n",
    "confusion_matrix(y_test,pred)"
   ]
  },
  {
   "cell_type": "code",
   "execution_count": 162,
   "metadata": {},
   "outputs": [
    {
     "data": {
      "text/plain": [
       "0.9085132311977716"
      ]
     },
     "execution_count": 162,
     "metadata": {},
     "output_type": "execute_result"
    }
   ],
   "source": [
    "from sklearn.metrics import accuracy_score\n",
    "accuracy_score(y_test,pred)"
   ]
  },
  {
   "cell_type": "code",
   "execution_count": 163,
   "metadata": {},
   "outputs": [],
   "source": [
    "x_test=test.drop(\"is_click\",axis=1)\n",
    "test_pred=logmod.predict(x_test)\n",
    "prediction=pd.Series(test_pred.tolist()).astype(int)"
   ]
  },
  {
   "cell_type": "code",
   "execution_count": 164,
   "metadata": {},
   "outputs": [],
   "source": [
    "prediction.to_csv('D:/My Personal Documents/Learnings/Data Science/Data Sets/AmericanExpress/predictionulgst.csv')"
   ]
  },
  {
   "cell_type": "code",
   "execution_count": 165,
   "metadata": {},
   "outputs": [],
   "source": [
    "#test.shape"
   ]
  },
  {
   "cell_type": "code",
   "execution_count": null,
   "metadata": {},
   "outputs": [],
   "source": []
  }
 ],
 "metadata": {
  "kernelspec": {
   "display_name": "Python 3",
   "language": "python",
   "name": "python3"
  },
  "language_info": {
   "codemirror_mode": {
    "name": "ipython",
    "version": 3
   },
   "file_extension": ".py",
   "mimetype": "text/x-python",
   "name": "python",
   "nbconvert_exporter": "python",
   "pygments_lexer": "ipython3",
   "version": "3.6.5"
  }
 },
 "nbformat": 4,
 "nbformat_minor": 2
}
