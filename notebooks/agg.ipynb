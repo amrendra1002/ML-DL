{
 "cells": [
  {
   "cell_type": "code",
   "execution_count": 128,
   "metadata": {},
   "outputs": [],
   "source": [
    "import pandas as pd\n",
    "from matplotlib import pyplot as plt\n",
    "import seaborn as sb\n",
    "import glob\n",
    "import os\n",
    "import numpy as np\n",
    "import datetime"
   ]
  },
  {
   "cell_type": "code",
   "execution_count": 2,
   "metadata": {},
   "outputs": [],
   "source": [
    "os.chdir(r'C:\\NICE Documents\\Bank of Indonesia\\Raw Data')"
   ]
  },
  {
   "cell_type": "code",
   "execution_count": 3,
   "metadata": {},
   "outputs": [
    {
     "name": "stderr",
     "output_type": "stream",
     "text": [
      "C:\\Anaconda\\lib\\site-packages\\IPython\\core\\interactiveshell.py:3319: DtypeWarning: Columns (18) have mixed types. Specify dtype option on import or set low_memory=False.\n",
      "  exec(code_obj, self.user_global_ns, self.user_ns)\n"
     ]
    }
   ],
   "source": [
    "data = pd.concat(map(pd.read_csv, glob.glob('*.csv')))"
   ]
  },
  {
   "cell_type": "code",
   "execution_count": 4,
   "metadata": {},
   "outputs": [
    {
     "data": {
      "text/plain": [
       "(12949324, 77)"
      ]
     },
     "execution_count": 4,
     "metadata": {},
     "output_type": "execute_result"
    }
   ],
   "source": [
    "data.shape"
   ]
  },
  {
   "cell_type": "code",
   "execution_count": 7,
   "metadata": {},
   "outputs": [],
   "source": [
    "del data"
   ]
  },
  {
   "cell_type": "code",
   "execution_count": 410,
   "metadata": {},
   "outputs": [
    {
     "ename": "NameError",
     "evalue": "name 'data' is not defined",
     "output_type": "error",
     "traceback": [
      "\u001b[1;31m---------------------------------------------------------------------------\u001b[0m",
      "\u001b[1;31mNameError\u001b[0m                                 Traceback (most recent call last)",
      "\u001b[1;32m<ipython-input-410-81d9af5397fc>\u001b[0m in \u001b[0;36m<module>\u001b[1;34m\u001b[0m\n\u001b[1;32m----> 1\u001b[1;33m \u001b[0mdata_temp\u001b[0m \u001b[1;33m=\u001b[0m \u001b[0mdata\u001b[0m\u001b[1;33m[\u001b[0m\u001b[0mdata\u001b[0m\u001b[1;33m.\u001b[0m\u001b[0mType\u001b[0m\u001b[1;33m==\u001b[0m\u001b[1;34m'Trade'\u001b[0m\u001b[1;33m]\u001b[0m\u001b[1;33m\u001b[0m\u001b[1;33m\u001b[0m\u001b[0m\n\u001b[0m",
      "\u001b[1;31mNameError\u001b[0m: name 'data' is not defined"
     ]
    }
   ],
   "source": [
    "data_temp = data[data.Type=='Trade']"
   ]
  },
  {
   "cell_type": "code",
   "execution_count": 8,
   "metadata": {},
   "outputs": [],
   "source": [
    "data_temp = data_temp[['#RIC','Date-Time','Price','Volume','Qualifiers']]"
   ]
  },
  {
   "cell_type": "code",
   "execution_count": 414,
   "metadata": {},
   "outputs": [
    {
     "ename": "IndexError",
     "evalue": "list index out of range",
     "output_type": "error",
     "traceback": [
      "\u001b[1;31m---------------------------------------------------------------------------\u001b[0m",
      "\u001b[1;31mIndexError\u001b[0m                                Traceback (most recent call last)",
      "\u001b[1;32m<ipython-input-414-bbd3182594fb>\u001b[0m in \u001b[0;36m<module>\u001b[1;34m\u001b[0m\n\u001b[1;32m----> 1\u001b[1;33m \u001b[0mdata_temp\u001b[0m\u001b[1;33m.\u001b[0m\u001b[0mQualifiers\u001b[0m \u001b[1;33m=\u001b[0m \u001b[0mdata_temp\u001b[0m\u001b[1;33m.\u001b[0m\u001b[0mQualifiers\u001b[0m\u001b[1;33m.\u001b[0m\u001b[0mmap\u001b[0m\u001b[1;33m(\u001b[0m\u001b[1;32mlambda\u001b[0m \u001b[0mx\u001b[0m\u001b[1;33m:\u001b[0m \u001b[0mx\u001b[0m\u001b[1;33m.\u001b[0m\u001b[0msplit\u001b[0m\u001b[1;33m(\u001b[0m\u001b[1;34m';'\u001b[0m\u001b[1;33m)\u001b[0m\u001b[1;33m[\u001b[0m\u001b[1;36m1\u001b[0m\u001b[1;33m]\u001b[0m\u001b[1;33m[\u001b[0m\u001b[1;36m1\u001b[0m\u001b[1;33m]\u001b[0m\u001b[1;33m)\u001b[0m\u001b[1;33m\u001b[0m\u001b[1;33m\u001b[0m\u001b[0m\n\u001b[0m",
      "\u001b[1;32mC:\\Anaconda\\lib\\site-packages\\pandas\\core\\series.py\u001b[0m in \u001b[0;36mmap\u001b[1;34m(self, arg, na_action)\u001b[0m\n\u001b[0;32m   3826\u001b[0m         \u001b[0mdtype\u001b[0m\u001b[1;33m:\u001b[0m \u001b[0mobject\u001b[0m\u001b[1;33m\u001b[0m\u001b[1;33m\u001b[0m\u001b[0m\n\u001b[0;32m   3827\u001b[0m         \"\"\"\n\u001b[1;32m-> 3828\u001b[1;33m         \u001b[0mnew_values\u001b[0m \u001b[1;33m=\u001b[0m \u001b[0msuper\u001b[0m\u001b[1;33m(\u001b[0m\u001b[1;33m)\u001b[0m\u001b[1;33m.\u001b[0m\u001b[0m_map_values\u001b[0m\u001b[1;33m(\u001b[0m\u001b[0marg\u001b[0m\u001b[1;33m,\u001b[0m \u001b[0mna_action\u001b[0m\u001b[1;33m=\u001b[0m\u001b[0mna_action\u001b[0m\u001b[1;33m)\u001b[0m\u001b[1;33m\u001b[0m\u001b[1;33m\u001b[0m\u001b[0m\n\u001b[0m\u001b[0;32m   3829\u001b[0m         \u001b[1;32mreturn\u001b[0m \u001b[0mself\u001b[0m\u001b[1;33m.\u001b[0m\u001b[0m_constructor\u001b[0m\u001b[1;33m(\u001b[0m\u001b[0mnew_values\u001b[0m\u001b[1;33m,\u001b[0m \u001b[0mindex\u001b[0m\u001b[1;33m=\u001b[0m\u001b[0mself\u001b[0m\u001b[1;33m.\u001b[0m\u001b[0mindex\u001b[0m\u001b[1;33m)\u001b[0m\u001b[1;33m.\u001b[0m\u001b[0m__finalize__\u001b[0m\u001b[1;33m(\u001b[0m\u001b[0mself\u001b[0m\u001b[1;33m)\u001b[0m\u001b[1;33m\u001b[0m\u001b[1;33m\u001b[0m\u001b[0m\n\u001b[0;32m   3830\u001b[0m \u001b[1;33m\u001b[0m\u001b[0m\n",
      "\u001b[1;32mC:\\Anaconda\\lib\\site-packages\\pandas\\core\\base.py\u001b[0m in \u001b[0;36m_map_values\u001b[1;34m(self, mapper, na_action)\u001b[0m\n\u001b[0;32m   1298\u001b[0m \u001b[1;33m\u001b[0m\u001b[0m\n\u001b[0;32m   1299\u001b[0m         \u001b[1;31m# mapper is a function\u001b[0m\u001b[1;33m\u001b[0m\u001b[1;33m\u001b[0m\u001b[1;33m\u001b[0m\u001b[0m\n\u001b[1;32m-> 1300\u001b[1;33m         \u001b[0mnew_values\u001b[0m \u001b[1;33m=\u001b[0m \u001b[0mmap_f\u001b[0m\u001b[1;33m(\u001b[0m\u001b[0mvalues\u001b[0m\u001b[1;33m,\u001b[0m \u001b[0mmapper\u001b[0m\u001b[1;33m)\u001b[0m\u001b[1;33m\u001b[0m\u001b[1;33m\u001b[0m\u001b[0m\n\u001b[0m\u001b[0;32m   1301\u001b[0m \u001b[1;33m\u001b[0m\u001b[0m\n\u001b[0;32m   1302\u001b[0m         \u001b[1;32mreturn\u001b[0m \u001b[0mnew_values\u001b[0m\u001b[1;33m\u001b[0m\u001b[1;33m\u001b[0m\u001b[0m\n",
      "\u001b[1;32mpandas/_libs/lib.pyx\u001b[0m in \u001b[0;36mpandas._libs.lib.map_infer\u001b[1;34m()\u001b[0m\n",
      "\u001b[1;32m<ipython-input-414-bbd3182594fb>\u001b[0m in \u001b[0;36m<lambda>\u001b[1;34m(x)\u001b[0m\n\u001b[1;32m----> 1\u001b[1;33m \u001b[0mdata_temp\u001b[0m\u001b[1;33m.\u001b[0m\u001b[0mQualifiers\u001b[0m \u001b[1;33m=\u001b[0m \u001b[0mdata_temp\u001b[0m\u001b[1;33m.\u001b[0m\u001b[0mQualifiers\u001b[0m\u001b[1;33m.\u001b[0m\u001b[0mmap\u001b[0m\u001b[1;33m(\u001b[0m\u001b[1;32mlambda\u001b[0m \u001b[0mx\u001b[0m\u001b[1;33m:\u001b[0m \u001b[0mx\u001b[0m\u001b[1;33m.\u001b[0m\u001b[0msplit\u001b[0m\u001b[1;33m(\u001b[0m\u001b[1;34m';'\u001b[0m\u001b[1;33m)\u001b[0m\u001b[1;33m[\u001b[0m\u001b[1;36m1\u001b[0m\u001b[1;33m]\u001b[0m\u001b[1;33m[\u001b[0m\u001b[1;36m1\u001b[0m\u001b[1;33m]\u001b[0m\u001b[1;33m)\u001b[0m\u001b[1;33m\u001b[0m\u001b[1;33m\u001b[0m\u001b[0m\n\u001b[0m",
      "\u001b[1;31mIndexError\u001b[0m: list index out of range"
     ]
    }
   ],
   "source": [
    "data_temp.Qualifiers = data_temp.Qualifiers.map(lambda x: x.split(';')[1][1])"
   ]
  },
  {
   "cell_type": "code",
   "execution_count": 468,
   "metadata": {},
   "outputs": [],
   "source": [
    "def create_date_featues(df):\n",
    "    df['Date-Time'] = pd.to_datetime(df['Date-Time'],format='%Y-%m-%d')\n",
    "    df['Year'] = pd.to_datetime(df['Date-Time']).dt.year\n",
    "    df['Month'] = pd.to_datetime(df['Date-Time']).dt.month\n",
    "    df['Day'] = pd.to_datetime(df['Date-Time']).dt.day\n",
    "    df['Hour'] = pd.to_datetime(df['Date-Time']).dt.hour\n",
    "    return df"
   ]
  },
  {
   "cell_type": "code",
   "execution_count": 469,
   "metadata": {},
   "outputs": [],
   "source": [
    "df = create_date_featues(data_temp)"
   ]
  },
  {
   "cell_type": "code",
   "execution_count": 470,
   "metadata": {},
   "outputs": [
    {
     "data": {
      "text/plain": [
       "Index(['#RIC', 'Date-Time', 'Price', 'Volume', 'Qualifiers', 'Turnover',\n",
       "       'Year', 'Month', 'Day', 'Hour', 'Minutes', 'Second', 'row_num',\n",
       "       'DateTime', 'Date-Hour'],\n",
       "      dtype='object')"
      ]
     },
     "execution_count": 470,
     "metadata": {},
     "output_type": "execute_result"
    }
   ],
   "source": [
    "df.columns"
   ]
  },
  {
   "cell_type": "code",
   "execution_count": 516,
   "metadata": {},
   "outputs": [],
   "source": [
    "df_buy = df[df.Qualifiers=='b']\n",
    "data_Grp_buy = df_buy.groupby(['#RIC','Year','Month','Day','Hour'])"
   ]
  },
  {
   "cell_type": "code",
   "execution_count": 517,
   "metadata": {},
   "outputs": [],
   "source": [
    "df_buy_features = data_Grp_buy.Price.sum().reset_index().rename(columns={'Price': 'buy_price_sum'})\n",
    "df_buy_features['buy_vol_sum'] = data_Grp_buy.Volume.sum().values"
   ]
  },
  {
   "cell_type": "code",
   "execution_count": 518,
   "metadata": {},
   "outputs": [
    {
     "data": {
      "text/plain": [
       "Index(['#RIC', 'Date-Time', 'Price', 'Volume', 'Qualifiers', 'Turnover',\n",
       "       'Year', 'Month', 'Day', 'Hour', 'Minutes', 'Second', 'row_num',\n",
       "       'DateTime', 'Date-Hour'],\n",
       "      dtype='object')"
      ]
     },
     "execution_count": 518,
     "metadata": {},
     "output_type": "execute_result"
    }
   ],
   "source": [
    "df_buy.columns"
   ]
  },
  {
   "cell_type": "code",
   "execution_count": 519,
   "metadata": {},
   "outputs": [],
   "source": [
    "df_sale = df[df.Qualifiers=='s']\n",
    "data_Grp_sale = df_sale.groupby(['#RIC','Year','Month','Day','Hour'])"
   ]
  },
  {
   "cell_type": "code",
   "execution_count": 520,
   "metadata": {},
   "outputs": [],
   "source": [
    "df_sale_features = data_Grp_sale.Price.sum().reset_index().rename(columns={'Price': 'sale_price_sum'})\n",
    "df_sale_features['sale_vol_sum'] = data_Grp_sale.Volume.sum().values"
   ]
  },
  {
   "cell_type": "code",
   "execution_count": 503,
   "metadata": {},
   "outputs": [
    {
     "data": {
      "text/plain": [
       "Index(['#RIC', 'Year', 'Month', 'Day', 'Hour', 'sale_price_sum',\n",
       "       'sale_vol_sum'],\n",
       "      dtype='object')"
      ]
     },
     "execution_count": 503,
     "metadata": {},
     "output_type": "execute_result"
    }
   ],
   "source": [
    "df_sale.columns"
   ]
  },
  {
   "cell_type": "code",
   "execution_count": 457,
   "metadata": {},
   "outputs": [
    {
     "data": {
      "text/plain": [
       "(8324, 18)"
      ]
     },
     "execution_count": 457,
     "metadata": {},
     "output_type": "execute_result"
    }
   ],
   "source": [
    "agg_data.shape"
   ]
  },
  {
   "cell_type": "code",
   "execution_count": 541,
   "metadata": {},
   "outputs": [],
   "source": [
    "def create_features(df, tag):\n",
    "    data_Grp = df.groupby(['#RIC','Year','Month','Day','Hour'])\n",
    "    agg_data = data_Grp.Price.min().reset_index()\n",
    "    agg_data['max_price'] = data_Grp.Price.max().values\n",
    "    agg_data['total_price'] = data_Grp.Price.sum().values\n",
    "    agg_data['mean_price'] = data_Grp.Price.mean().values\n",
    "    agg_data['price_%change']=agg_data.mean_price.pct_change().fillna(0)\n",
    "    agg_data['max_volume'] = data_Grp.Volume.max().values\n",
    "    agg_data['total_volume'] = data_Grp.Volume.sum().values\n",
    "    agg_data['min_volume'] = data_Grp.Volume.min().values\n",
    "    agg_data['mean_volume'] = data_Grp.Volume.mean().values\n",
    "    agg_data['mean_vol_%change']=agg_data.mean_volume.pct_change().fillna(0)\n",
    "    agg_data.rename(columns={'Price':'min_price'},inplace=True)\n",
    "    agg_data['vwap_price'] = data_Grp.Turnover.sum().values/agg_data['mean_volume']\n",
    "    \n",
    "    agg_data_f = pd.DataFrame([])\n",
    "    for r in list(agg_data['#RIC'].unique()):\n",
    "        agg_data_t = agg_data[agg_data['#RIC']==r]\n",
    "        agg_data_t['rolling_mean_price']= agg_data_t.mean_price.rolling(8, min_periods=1).mean()\n",
    "        agg_data_t['rolling_mean_vol']= agg_data_t.mean_volume.rolling(8, min_periods=1).mean()\n",
    "        agg_data_t['rolling_mean_vwap']= agg_data_t.vwap_price.rolling(8, min_periods=1).mean()\n",
    "        agg_data_t['mean_price_t_1']= agg_data_t.mean_price.shift(1).fillna(agg_data_t.mean_price)\n",
    "        agg_data_t['mean_volume_t_1']= agg_data_t.mean_volume.shift(1).fillna(agg_data_t.mean_volume)\n",
    "        agg_data_f= pd.concat([agg_data_f,agg_data_t],axis=0, ignore_index=True)\n",
    "        \n",
    "    agg_data_f['price_%change_trend8hr'] = (agg_data_f.mean_price - agg_data_f.mean_price_t_1)*100/agg_data_f.rolling_mean_price\n",
    "    agg_data_f['mean_vol_%change_trend8hr'] = (agg_data_f.mean_volume - agg_data_f.mean_volume_t_1)*100/agg_data_f.rolling_mean_vol\n",
    "    agg_data_f['vwap_price_trend8hr'] = agg_data_f.vwap_price/agg_data_f.rolling_mean_vwap\n",
    "    \n",
    "    agg_data_final = agg_data_f[['#RIC','Year','Month', 'Day', 'Hour','max_price','min_price',\n",
    "       'mean_price', 'price_%change', 'price_%change_trend8hr', 'max_volume', \n",
    "       'min_volume', 'mean_volume', 'mean_vol_%change','mean_vol_%change_trend8hr', 'vwap_price', 'vwap_price_trend8hr']]\n",
    "    \n",
    "    agg_data_final.rename(columns = {'max_price': tag + '_' + 'max_price',\n",
    "                                     'min_price': tag + '_' + 'min_price',\n",
    "                                     'mean_price': tag + '_' + 'mean_price',\n",
    "                                     'price_%change': tag + '_' + 'price_%change',\n",
    "                                     'price_%change_trend8hr': tag + '_' + 'price_%change_trend8hr',\n",
    "                                     'max_volume': tag + '_' + 'max_volume',\n",
    "                                     'min_volume': tag + '_' + 'min_volume',\n",
    "                                     'mean_volume': tag + '_' + 'mean_volume',\n",
    "                                     'mean_vol_%change': tag + '_' + 'mean_vol_%change',\n",
    "                                     'mean_vol_%change_trend8hr': tag + '_' + 'mean_vol_%change_trend8hr',\n",
    "                                     'vwap_price': tag + '_' + 'vwap_price',\n",
    "                                     'vwap_price_trend8hr': tag + '_' + 'vwap_price_trend8hr',\n",
    "                                    }, inplace=True)\n",
    "    return agg_data_final"
   ]
  },
  {
   "cell_type": "code",
   "execution_count": 542,
   "metadata": {},
   "outputs": [
    {
     "name": "stderr",
     "output_type": "stream",
     "text": [
      "C:\\Anaconda\\lib\\site-packages\\ipykernel_launcher.py:19: SettingWithCopyWarning: \n",
      "A value is trying to be set on a copy of a slice from a DataFrame.\n",
      "Try using .loc[row_indexer,col_indexer] = value instead\n",
      "\n",
      "See the caveats in the documentation: http://pandas.pydata.org/pandas-docs/stable/user_guide/indexing.html#returning-a-view-versus-a-copy\n",
      "C:\\Anaconda\\lib\\site-packages\\ipykernel_launcher.py:20: SettingWithCopyWarning: \n",
      "A value is trying to be set on a copy of a slice from a DataFrame.\n",
      "Try using .loc[row_indexer,col_indexer] = value instead\n",
      "\n",
      "See the caveats in the documentation: http://pandas.pydata.org/pandas-docs/stable/user_guide/indexing.html#returning-a-view-versus-a-copy\n",
      "C:\\Anaconda\\lib\\site-packages\\ipykernel_launcher.py:21: SettingWithCopyWarning: \n",
      "A value is trying to be set on a copy of a slice from a DataFrame.\n",
      "Try using .loc[row_indexer,col_indexer] = value instead\n",
      "\n",
      "See the caveats in the documentation: http://pandas.pydata.org/pandas-docs/stable/user_guide/indexing.html#returning-a-view-versus-a-copy\n",
      "C:\\Anaconda\\lib\\site-packages\\ipykernel_launcher.py:22: SettingWithCopyWarning: \n",
      "A value is trying to be set on a copy of a slice from a DataFrame.\n",
      "Try using .loc[row_indexer,col_indexer] = value instead\n",
      "\n",
      "See the caveats in the documentation: http://pandas.pydata.org/pandas-docs/stable/user_guide/indexing.html#returning-a-view-versus-a-copy\n",
      "C:\\Anaconda\\lib\\site-packages\\ipykernel_launcher.py:23: SettingWithCopyWarning: \n",
      "A value is trying to be set on a copy of a slice from a DataFrame.\n",
      "Try using .loc[row_indexer,col_indexer] = value instead\n",
      "\n",
      "See the caveats in the documentation: http://pandas.pydata.org/pandas-docs/stable/user_guide/indexing.html#returning-a-view-versus-a-copy\n"
     ]
    }
   ],
   "source": [
    "agg_data_buy = create_features(df_buy, \"buy\")\n",
    "agg_data_sale = create_features(df_sale, \"sale\")\n",
    "agg_data_all = create_features(df, \"total\")"
   ]
  },
  {
   "cell_type": "code",
   "execution_count": 543,
   "metadata": {},
   "outputs": [],
   "source": [
    "agg_data_all = agg_data_all.merge(df_buy_features, on= ['#RIC', 'Year','Month','Day', 'Hour'], how='left')"
   ]
  },
  {
   "cell_type": "code",
   "execution_count": 544,
   "metadata": {},
   "outputs": [],
   "source": [
    "agg_data_all = agg_data_all.merge(df_sale_features, on= ['#RIC','Year','Month', 'Day', 'Hour'], how='left')"
   ]
  },
  {
   "cell_type": "code",
   "execution_count": 545,
   "metadata": {},
   "outputs": [],
   "source": [
    "agg_data_all['buy-sell-price_%change8hr'] = (agg_data_all.buy_price_sum - agg_data_all.sale_price_sum)*100/(agg_data_all.buy_price_sum + agg_data_all.sale_price_sum)"
   ]
  },
  {
   "cell_type": "code",
   "execution_count": 546,
   "metadata": {},
   "outputs": [],
   "source": [
    "agg_data_all['buy-sell-volume_%change'] = (agg_data_all.buy_vol_sum - agg_data_all.sale_vol_sum)*100/(agg_data_all.buy_vol_sum + agg_data_all.sale_vol_sum)"
   ]
  },
  {
   "cell_type": "code",
   "execution_count": 547,
   "metadata": {},
   "outputs": [],
   "source": [
    "agg_data_all = agg_data_all.drop(['buy_price_sum', 'buy_vol_sum', 'sale_price_sum', 'sale_vol_sum'], axis=1)"
   ]
  },
  {
   "cell_type": "code",
   "execution_count": 548,
   "metadata": {},
   "outputs": [],
   "source": [
    "agg_data_final = agg_data_all.merge(agg_data_buy, on= ['#RIC', 'Year','Month','Day', 'Hour'], how='left')\n",
    "agg_data_final = agg_data_final.merge(agg_data_sale, on= ['#RIC', 'Year','Month','Day', 'Hour'], how='left')"
   ]
  },
  {
   "cell_type": "code",
   "execution_count": 549,
   "metadata": {},
   "outputs": [
    {
     "data": {
      "text/plain": [
       "(8324, 43)"
      ]
     },
     "execution_count": 549,
     "metadata": {},
     "output_type": "execute_result"
    }
   ],
   "source": [
    "agg_data_final[agg_data_final.isnull()].shape"
   ]
  },
  {
   "cell_type": "code",
   "execution_count": 564,
   "metadata": {},
   "outputs": [],
   "source": [
    "agg_data_final = agg_data_final.dropna()"
   ]
  },
  {
   "cell_type": "code",
   "execution_count": 395,
   "metadata": {},
   "outputs": [],
   "source": []
  },
  {
   "cell_type": "code",
   "execution_count": 565,
   "metadata": {},
   "outputs": [
    {
     "data": {
      "text/html": [
       "<div>\n",
       "<style scoped>\n",
       "    .dataframe tbody tr th:only-of-type {\n",
       "        vertical-align: middle;\n",
       "    }\n",
       "\n",
       "    .dataframe tbody tr th {\n",
       "        vertical-align: top;\n",
       "    }\n",
       "\n",
       "    .dataframe thead th {\n",
       "        text-align: right;\n",
       "    }\n",
       "</style>\n",
       "<table border=\"1\" class=\"dataframe\">\n",
       "  <thead>\n",
       "    <tr style=\"text-align: right;\">\n",
       "      <th></th>\n",
       "      <th>#RIC</th>\n",
       "      <th>Year</th>\n",
       "      <th>Month</th>\n",
       "      <th>Day</th>\n",
       "      <th>Hour</th>\n",
       "      <th>total_max_price</th>\n",
       "      <th>total_min_price</th>\n",
       "      <th>total_mean_price</th>\n",
       "      <th>total_price_%change</th>\n",
       "      <th>total_price_%change_trend8hr</th>\n",
       "      <th>...</th>\n",
       "      <th>sale_mean_price</th>\n",
       "      <th>sale_price_%change</th>\n",
       "      <th>sale_price_%change_trend8hr</th>\n",
       "      <th>sale_max_volume</th>\n",
       "      <th>sale_min_volume</th>\n",
       "      <th>sale_mean_volume</th>\n",
       "      <th>sale_mean_vol_%change</th>\n",
       "      <th>sale_mean_vol_%change_trend8hr</th>\n",
       "      <th>sale_vwap_price</th>\n",
       "      <th>sale_vwap_price_trend8hr</th>\n",
       "    </tr>\n",
       "  </thead>\n",
       "  <tbody>\n",
       "    <tr>\n",
       "      <th>0</th>\n",
       "      <td>AUD=D5</td>\n",
       "      <td>2020</td>\n",
       "      <td>2</td>\n",
       "      <td>11</td>\n",
       "      <td>21</td>\n",
       "      <td>0.67150</td>\n",
       "      <td>0.67135</td>\n",
       "      <td>0.671448</td>\n",
       "      <td>0.000000</td>\n",
       "      <td>0.000000</td>\n",
       "      <td>...</td>\n",
       "      <td>0.671450</td>\n",
       "      <td>0.000000</td>\n",
       "      <td>0.000000</td>\n",
       "      <td>1.0</td>\n",
       "      <td>1.0</td>\n",
       "      <td>1.000000</td>\n",
       "      <td>0.000000</td>\n",
       "      <td>0.000000</td>\n",
       "      <td>11.414650</td>\n",
       "      <td>1.000000</td>\n",
       "    </tr>\n",
       "    <tr>\n",
       "      <th>1</th>\n",
       "      <td>AUD=D5</td>\n",
       "      <td>2020</td>\n",
       "      <td>2</td>\n",
       "      <td>11</td>\n",
       "      <td>22</td>\n",
       "      <td>0.67150</td>\n",
       "      <td>0.67140</td>\n",
       "      <td>0.671452</td>\n",
       "      <td>0.000006</td>\n",
       "      <td>0.000625</td>\n",
       "      <td>...</td>\n",
       "      <td>0.671411</td>\n",
       "      <td>-0.000058</td>\n",
       "      <td>-0.005792</td>\n",
       "      <td>2.0</td>\n",
       "      <td>1.0</td>\n",
       "      <td>1.222222</td>\n",
       "      <td>0.222222</td>\n",
       "      <td>20.000000</td>\n",
       "      <td>12.085364</td>\n",
       "      <td>1.028541</td>\n",
       "    </tr>\n",
       "    <tr>\n",
       "      <th>2</th>\n",
       "      <td>AUD=D5</td>\n",
       "      <td>2020</td>\n",
       "      <td>2</td>\n",
       "      <td>11</td>\n",
       "      <td>23</td>\n",
       "      <td>0.67210</td>\n",
       "      <td>0.67125</td>\n",
       "      <td>0.671769</td>\n",
       "      <td>0.000472</td>\n",
       "      <td>0.047198</td>\n",
       "      <td>...</td>\n",
       "      <td>0.671831</td>\n",
       "      <td>0.000625</td>\n",
       "      <td>0.062466</td>\n",
       "      <td>4.0</td>\n",
       "      <td>1.0</td>\n",
       "      <td>1.142857</td>\n",
       "      <td>-0.064935</td>\n",
       "      <td>-7.075472</td>\n",
       "      <td>32.920037</td>\n",
       "      <td>1.750444</td>\n",
       "    </tr>\n",
       "    <tr>\n",
       "      <th>3</th>\n",
       "      <td>AUD=D5</td>\n",
       "      <td>2020</td>\n",
       "      <td>2</td>\n",
       "      <td>12</td>\n",
       "      <td>0</td>\n",
       "      <td>0.67195</td>\n",
       "      <td>0.67125</td>\n",
       "      <td>0.671584</td>\n",
       "      <td>-0.000275</td>\n",
       "      <td>-0.027508</td>\n",
       "      <td>...</td>\n",
       "      <td>0.671564</td>\n",
       "      <td>-0.000396</td>\n",
       "      <td>-0.039636</td>\n",
       "      <td>3.0</td>\n",
       "      <td>1.0</td>\n",
       "      <td>1.073826</td>\n",
       "      <td>-0.060403</td>\n",
       "      <td>-6.220601</td>\n",
       "      <td>100.063092</td>\n",
       "      <td>2.557799</td>\n",
       "    </tr>\n",
       "    <tr>\n",
       "      <th>4</th>\n",
       "      <td>AUD=D5</td>\n",
       "      <td>2020</td>\n",
       "      <td>2</td>\n",
       "      <td>12</td>\n",
       "      <td>1</td>\n",
       "      <td>0.67335</td>\n",
       "      <td>0.67185</td>\n",
       "      <td>0.672767</td>\n",
       "      <td>0.001761</td>\n",
       "      <td>0.176016</td>\n",
       "      <td>...</td>\n",
       "      <td>0.672772</td>\n",
       "      <td>0.001798</td>\n",
       "      <td>0.179751</td>\n",
       "      <td>9.0</td>\n",
       "      <td>1.0</td>\n",
       "      <td>1.186636</td>\n",
       "      <td>0.105055</td>\n",
       "      <td>10.026631</td>\n",
       "      <td>291.990986</td>\n",
       "      <td>3.255383</td>\n",
       "    </tr>\n",
       "    <tr>\n",
       "      <th>...</th>\n",
       "      <td>...</td>\n",
       "      <td>...</td>\n",
       "      <td>...</td>\n",
       "      <td>...</td>\n",
       "      <td>...</td>\n",
       "      <td>...</td>\n",
       "      <td>...</td>\n",
       "      <td>...</td>\n",
       "      <td>...</td>\n",
       "      <td>...</td>\n",
       "      <td>...</td>\n",
       "      <td>...</td>\n",
       "      <td>...</td>\n",
       "      <td>...</td>\n",
       "      <td>...</td>\n",
       "      <td>...</td>\n",
       "      <td>...</td>\n",
       "      <td>...</td>\n",
       "      <td>...</td>\n",
       "      <td>...</td>\n",
       "      <td>...</td>\n",
       "    </tr>\n",
       "    <tr>\n",
       "      <th>8319</th>\n",
       "      <td>ZAR=D5</td>\n",
       "      <td>2020</td>\n",
       "      <td>2</td>\n",
       "      <td>28</td>\n",
       "      <td>17</td>\n",
       "      <td>15.75800</td>\n",
       "      <td>15.64400</td>\n",
       "      <td>15.710800</td>\n",
       "      <td>0.000997</td>\n",
       "      <td>0.100097</td>\n",
       "      <td>...</td>\n",
       "      <td>15.714333</td>\n",
       "      <td>0.001037</td>\n",
       "      <td>0.104120</td>\n",
       "      <td>1.0</td>\n",
       "      <td>1.0</td>\n",
       "      <td>1.000000</td>\n",
       "      <td>-0.040201</td>\n",
       "      <td>-3.965552</td>\n",
       "      <td>424.287000</td>\n",
       "      <td>0.317751</td>\n",
       "    </tr>\n",
       "    <tr>\n",
       "      <th>8320</th>\n",
       "      <td>ZAR=D5</td>\n",
       "      <td>2020</td>\n",
       "      <td>2</td>\n",
       "      <td>28</td>\n",
       "      <td>18</td>\n",
       "      <td>15.77000</td>\n",
       "      <td>15.73100</td>\n",
       "      <td>15.748391</td>\n",
       "      <td>0.002393</td>\n",
       "      <td>0.240165</td>\n",
       "      <td>...</td>\n",
       "      <td>15.746688</td>\n",
       "      <td>0.002059</td>\n",
       "      <td>0.206709</td>\n",
       "      <td>1.0</td>\n",
       "      <td>1.0</td>\n",
       "      <td>1.000000</td>\n",
       "      <td>0.000000</td>\n",
       "      <td>0.000000</td>\n",
       "      <td>251.947000</td>\n",
       "      <td>0.209819</td>\n",
       "    </tr>\n",
       "    <tr>\n",
       "      <th>8321</th>\n",
       "      <td>ZAR=D5</td>\n",
       "      <td>2020</td>\n",
       "      <td>2</td>\n",
       "      <td>28</td>\n",
       "      <td>19</td>\n",
       "      <td>15.82400</td>\n",
       "      <td>15.65400</td>\n",
       "      <td>15.761016</td>\n",
       "      <td>0.000802</td>\n",
       "      <td>0.080553</td>\n",
       "      <td>...</td>\n",
       "      <td>15.753286</td>\n",
       "      <td>0.000419</td>\n",
       "      <td>0.042102</td>\n",
       "      <td>1.0</td>\n",
       "      <td>1.0</td>\n",
       "      <td>1.000000</td>\n",
       "      <td>0.000000</td>\n",
       "      <td>0.000000</td>\n",
       "      <td>441.092000</td>\n",
       "      <td>0.370776</td>\n",
       "    </tr>\n",
       "    <tr>\n",
       "      <th>8322</th>\n",
       "      <td>ZAR=D5</td>\n",
       "      <td>2020</td>\n",
       "      <td>2</td>\n",
       "      <td>28</td>\n",
       "      <td>20</td>\n",
       "      <td>15.70000</td>\n",
       "      <td>15.59500</td>\n",
       "      <td>15.625591</td>\n",
       "      <td>-0.008592</td>\n",
       "      <td>-0.863609</td>\n",
       "      <td>...</td>\n",
       "      <td>15.613714</td>\n",
       "      <td>-0.008860</td>\n",
       "      <td>-0.890184</td>\n",
       "      <td>2.0</td>\n",
       "      <td>1.0</td>\n",
       "      <td>1.071429</td>\n",
       "      <td>0.071429</td>\n",
       "      <td>6.949047</td>\n",
       "      <td>218.597867</td>\n",
       "      <td>0.195564</td>\n",
       "    </tr>\n",
       "    <tr>\n",
       "      <th>8323</th>\n",
       "      <td>ZAR=D5</td>\n",
       "      <td>2020</td>\n",
       "      <td>2</td>\n",
       "      <td>28</td>\n",
       "      <td>21</td>\n",
       "      <td>15.67000</td>\n",
       "      <td>15.59300</td>\n",
       "      <td>15.620800</td>\n",
       "      <td>-0.000307</td>\n",
       "      <td>-0.030543</td>\n",
       "      <td>...</td>\n",
       "      <td>15.629533</td>\n",
       "      <td>0.001013</td>\n",
       "      <td>0.100854</td>\n",
       "      <td>1.0</td>\n",
       "      <td>1.0</td>\n",
       "      <td>1.000000</td>\n",
       "      <td>-0.066667</td>\n",
       "      <td>-6.997674</td>\n",
       "      <td>234.443000</td>\n",
       "      <td>0.217293</td>\n",
       "    </tr>\n",
       "  </tbody>\n",
       "</table>\n",
       "<p>5972 rows × 43 columns</p>\n",
       "</div>"
      ],
      "text/plain": [
       "        #RIC  Year  Month  Day  Hour  total_max_price  total_min_price  \\\n",
       "0     AUD=D5  2020      2   11    21          0.67150          0.67135   \n",
       "1     AUD=D5  2020      2   11    22          0.67150          0.67140   \n",
       "2     AUD=D5  2020      2   11    23          0.67210          0.67125   \n",
       "3     AUD=D5  2020      2   12     0          0.67195          0.67125   \n",
       "4     AUD=D5  2020      2   12     1          0.67335          0.67185   \n",
       "...      ...   ...    ...  ...   ...              ...              ...   \n",
       "8319  ZAR=D5  2020      2   28    17         15.75800         15.64400   \n",
       "8320  ZAR=D5  2020      2   28    18         15.77000         15.73100   \n",
       "8321  ZAR=D5  2020      2   28    19         15.82400         15.65400   \n",
       "8322  ZAR=D5  2020      2   28    20         15.70000         15.59500   \n",
       "8323  ZAR=D5  2020      2   28    21         15.67000         15.59300   \n",
       "\n",
       "      total_mean_price  total_price_%change  total_price_%change_trend8hr  \\\n",
       "0             0.671448             0.000000                      0.000000   \n",
       "1             0.671452             0.000006                      0.000625   \n",
       "2             0.671769             0.000472                      0.047198   \n",
       "3             0.671584            -0.000275                     -0.027508   \n",
       "4             0.672767             0.001761                      0.176016   \n",
       "...                ...                  ...                           ...   \n",
       "8319         15.710800             0.000997                      0.100097   \n",
       "8320         15.748391             0.002393                      0.240165   \n",
       "8321         15.761016             0.000802                      0.080553   \n",
       "8322         15.625591            -0.008592                     -0.863609   \n",
       "8323         15.620800            -0.000307                     -0.030543   \n",
       "\n",
       "      ...  sale_mean_price  sale_price_%change  sale_price_%change_trend8hr  \\\n",
       "0     ...         0.671450            0.000000                     0.000000   \n",
       "1     ...         0.671411           -0.000058                    -0.005792   \n",
       "2     ...         0.671831            0.000625                     0.062466   \n",
       "3     ...         0.671564           -0.000396                    -0.039636   \n",
       "4     ...         0.672772            0.001798                     0.179751   \n",
       "...   ...              ...                 ...                          ...   \n",
       "8319  ...        15.714333            0.001037                     0.104120   \n",
       "8320  ...        15.746688            0.002059                     0.206709   \n",
       "8321  ...        15.753286            0.000419                     0.042102   \n",
       "8322  ...        15.613714           -0.008860                    -0.890184   \n",
       "8323  ...        15.629533            0.001013                     0.100854   \n",
       "\n",
       "      sale_max_volume  sale_min_volume  sale_mean_volume  \\\n",
       "0                 1.0              1.0          1.000000   \n",
       "1                 2.0              1.0          1.222222   \n",
       "2                 4.0              1.0          1.142857   \n",
       "3                 3.0              1.0          1.073826   \n",
       "4                 9.0              1.0          1.186636   \n",
       "...               ...              ...               ...   \n",
       "8319              1.0              1.0          1.000000   \n",
       "8320              1.0              1.0          1.000000   \n",
       "8321              1.0              1.0          1.000000   \n",
       "8322              2.0              1.0          1.071429   \n",
       "8323              1.0              1.0          1.000000   \n",
       "\n",
       "      sale_mean_vol_%change  sale_mean_vol_%change_trend8hr  sale_vwap_price  \\\n",
       "0                  0.000000                        0.000000        11.414650   \n",
       "1                  0.222222                       20.000000        12.085364   \n",
       "2                 -0.064935                       -7.075472        32.920037   \n",
       "3                 -0.060403                       -6.220601       100.063092   \n",
       "4                  0.105055                       10.026631       291.990986   \n",
       "...                     ...                             ...              ...   \n",
       "8319              -0.040201                       -3.965552       424.287000   \n",
       "8320               0.000000                        0.000000       251.947000   \n",
       "8321               0.000000                        0.000000       441.092000   \n",
       "8322               0.071429                        6.949047       218.597867   \n",
       "8323              -0.066667                       -6.997674       234.443000   \n",
       "\n",
       "      sale_vwap_price_trend8hr  \n",
       "0                     1.000000  \n",
       "1                     1.028541  \n",
       "2                     1.750444  \n",
       "3                     2.557799  \n",
       "4                     3.255383  \n",
       "...                        ...  \n",
       "8319                  0.317751  \n",
       "8320                  0.209819  \n",
       "8321                  0.370776  \n",
       "8322                  0.195564  \n",
       "8323                  0.217293  \n",
       "\n",
       "[5972 rows x 43 columns]"
      ]
     },
     "execution_count": 565,
     "metadata": {},
     "output_type": "execute_result"
    }
   ],
   "source": [
    "agg_data_final"
   ]
  },
  {
   "cell_type": "code",
   "execution_count": 569,
   "metadata": {},
   "outputs": [],
   "source": [
    "agg_data_sensitive = agg_data_final[agg_data_final.Hour==21]\n",
    "agg_data_nonsensitive = agg_data_final[agg_data_final.Hour!=21]"
   ]
  },
  {
   "cell_type": "code",
   "execution_count": 570,
   "metadata": {},
   "outputs": [],
   "source": [
    "agg_data_sensitive.to_csv(r'C:\\NICE Documents\\Bank of Indonesia\\agg_data_sensitive.csv', index=False)\n",
    "agg_data_nonsensitive.to_csv(r'C:\\NICE Documents\\Bank of Indonesia\\agg_data_nonsensitive.csv', index=False)"
   ]
  },
  {
   "cell_type": "code",
   "execution_count": 571,
   "metadata": {},
   "outputs": [
    {
     "data": {
      "text/plain": [
       "Index(['#RIC', 'Year', 'Month', 'Day', 'Hour', 'total_max_price',\n",
       "       'total_min_price', 'total_mean_price', 'total_price_%change',\n",
       "       'total_price_%change_trend8hr', 'total_max_volume', 'total_min_volume',\n",
       "       'total_mean_volume', 'total_mean_vol_%change',\n",
       "       'total_mean_vol_%change_trend8hr', 'total_vwap_price',\n",
       "       'total_vwap_price_trend8hr', 'buy-sell-price_%change8hr',\n",
       "       'buy-sell-volume_%change', 'buy_max_price', 'buy_min_price',\n",
       "       'buy_mean_price', 'buy_price_%change', 'buy_price_%change_trend8hr',\n",
       "       'buy_max_volume', 'buy_min_volume', 'buy_mean_volume',\n",
       "       'buy_mean_vol_%change', 'buy_mean_vol_%change_trend8hr',\n",
       "       'buy_vwap_price', 'buy_vwap_price_trend8hr', 'sale_max_price',\n",
       "       'sale_min_price', 'sale_mean_price', 'sale_price_%change',\n",
       "       'sale_price_%change_trend8hr', 'sale_max_volume', 'sale_min_volume',\n",
       "       'sale_mean_volume', 'sale_mean_vol_%change',\n",
       "       'sale_mean_vol_%change_trend8hr', 'sale_vwap_price',\n",
       "       'sale_vwap_price_trend8hr'],\n",
       "      dtype='object')"
      ]
     },
     "execution_count": 571,
     "metadata": {},
     "output_type": "execute_result"
    }
   ],
   "source": [
    "agg_data_final.columns"
   ]
  },
  {
   "cell_type": "code",
   "execution_count": null,
   "metadata": {},
   "outputs": [],
   "source": []
  }
 ],
 "metadata": {
  "kernelspec": {
   "display_name": "Python 3",
   "language": "python",
   "name": "python3"
  },
  "language_info": {
   "codemirror_mode": {
    "name": "ipython",
    "version": 3
   },
   "file_extension": ".py",
   "mimetype": "text/x-python",
   "name": "python",
   "nbconvert_exporter": "python",
   "pygments_lexer": "ipython3",
   "version": "3.7.6"
  }
 },
 "nbformat": 4,
 "nbformat_minor": 2
}
