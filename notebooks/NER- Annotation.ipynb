{
 "cells": [
  {
   "cell_type": "code",
   "execution_count": 18,
   "metadata": {},
   "outputs": [],
   "source": [
    "import pandas as pd\n",
    "import numpy as np\n",
    "import re\n",
    "from itertools import accumulate"
   ]
  },
  {
   "cell_type": "code",
   "execution_count": 19,
   "metadata": {},
   "outputs": [],
   "source": [
    "emails = pd.read_csv(r'C:\\Users\\amrenkumar\\Desktop\\TestData\\full-output.csv')"
   ]
  },
  {
   "cell_type": "code",
   "execution_count": 20,
   "metadata": {},
   "outputs": [
    {
     "data": {
      "text/plain": [
       "(635, 11)"
      ]
     },
     "execution_count": 20,
     "metadata": {},
     "output_type": "execute_result"
    }
   ],
   "source": [
    "emails.shape"
   ]
  },
  {
   "cell_type": "code",
   "execution_count": 21,
   "metadata": {},
   "outputs": [],
   "source": [
    "emails_clean = emails[~emails.interaction_content.isnull()]"
   ]
  },
  {
   "cell_type": "code",
   "execution_count": 22,
   "metadata": {},
   "outputs": [],
   "source": [
    "emails_clean = emails_clean.interaction_content"
   ]
  },
  {
   "cell_type": "code",
   "execution_count": 23,
   "metadata": {},
   "outputs": [
    {
     "name": "stderr",
     "output_type": "stream",
     "text": [
      "C:\\Anaconda\\lib\\site-packages\\pandas\\core\\base.py:1241: SettingWithCopyWarning: \n",
      "A value is trying to be set on a copy of a slice from a DataFrame\n",
      "\n",
      "See the caveats in the documentation: http://pandas.pydata.org/pandas-docs/stable/indexing.html#indexing-view-versus-copy\n",
      "  return self._update_inplace(result)\n"
     ]
    }
   ],
   "source": [
    "emails_clean.drop_duplicates(keep='first', inplace=True)"
   ]
  },
  {
   "cell_type": "code",
   "execution_count": 24,
   "metadata": {},
   "outputs": [
    {
     "data": {
      "text/plain": [
       "8     Trading ideas and investment strategies discus...\n",
       "11    Trading ideas and investment strategies discus...\n",
       "12    Trading ideas and investment strategies discus...\n",
       "13    Trading ideas and investment strategies discus...\n",
       "25    Trading ideas and investment strategies discus...\n",
       "Name: interaction_content, dtype: object"
      ]
     },
     "execution_count": 24,
     "metadata": {},
     "output_type": "execute_result"
    }
   ],
   "source": [
    "emails_clean.head()"
   ]
  },
  {
   "cell_type": "code",
   "execution_count": 25,
   "metadata": {},
   "outputs": [],
   "source": [
    "email_clean= emails_clean.str.replace(\"[^a-zA-Z0-9. ]\", \"\")\n",
    "#email_clean= emails_clean.interaction_content.str"
   ]
  },
  {
   "cell_type": "code",
   "execution_count": 26,
   "metadata": {},
   "outputs": [
    {
     "name": "stdout",
     "output_type": "stream",
     "text": [
      "Trading ideas and investment strategies discussed herein may give rise to significant risk and are not suitable for all investors. Investors should have experience in FX markets and the financial resources to absorb any losses arising from applying these ideas or strategies. BofA Merrill Lynch does and seeks to do business with companies covered in its research reports. As a result investors should be aware that the firm may have a conflict of interest that could affect the objectivity of this report. Investors should consider this report as only a single factor in making their investment decision. Refer to important disclosures on page 8 to 10. Analyst Certification on Page 7. 11463056  Liquid Technical Edge Bearish  despite basing Treasury yields amp ESZ4  Rates and FX  Global 15 December 2014     MacNeil Curry CFA CMT 1 646 855 6781 Technical Strategist MLPFamp S macneil.currybaml.com     strength should be faded as  tries to base We are bearish . Elliott wave analysis says that nterm strength must be seen as corrective and temporary despite the potential for US equities and Treasury yields to resume their larger uptrends. Into 120.17119.65 we would look for a top and resumption lower for 115.63114.98  measured move and potentially below before greater signs of basing emerge. In contrast  is trying to carve out a more sustainable base and turn higher from 1.56005 area support. A close above 1.57551.5791 confirms exposing the 200d at 1.6013 potentially 1.6172. US Treasury yields are set to turn higher as ESZ4 show signs of basing. We have been of the view that the recent weakness in both Treasury yields and ESZ4 has been corrective and temporary. With equity markets now showing signs of capitulation  Friday saw the VXV VIX ratio close below 1 as both ESZ4 and 10s reaching proposed basing levels of 1190.501970.25 50d and 38.2 of Oct Dec rally and 2.0672.040 61.8 amp 23 rd of Oct Nov rise respectively we look expect a resumption of their larger uptrends. Through 2025.25 in ESZ4 says the uptrend has resumed for multiyear channel resistance at 2085.50 with a break of 2061 confirming a resumption of the bull trend. 10yr yields need a break of 2.150 to say the uptrend is resuming for the Nov highs at 2.404 and beyond with a break of 2.227 confirming a resumption of the bear trend. While we are bearish 10s 5yr yields should continue to lead the way. While they are caught in a near term consolidation  Triangle between 1.7301.453 we look for a bearish breakout towards the 15m highs of 1.8651.879 Bearish Copper We are bearish and short Copper. The break of pivotal long term support at 66356602 says the long term downtrend has resumed for 59775893  Triangle objective and YTD channel support. The corrective bounce of the past several weeks is in the process of completing and should not exceed the 6565 area before the larger downtrend resumes.  For the rest of 2015 Liquid Technical Edge will be on an ad hoc basis. Regular publication will resume Jan 05 2015 Outstanding Trades FX Short  at 0.7935 risking 0.8050 target 0.7582 and potentially below FI No Trades CO Short LME Copper 90d Fwd at 6446 risk 6575 target 5969 potentially below  Unauthorized redistribution of this report is prohibited. This report is intended for greg. kimbaml.com.    Liquid Technical Edge  15 December 2014 2  Chart 1 USDJPY   Chart 2 GBPUSD     Liquid Technical Edge  15 December 2014 3 Chart 3 SampP500 E mini future   Chart 4 SampP500 and VXV VIX ratio      Liquid Technical Edge  15 December 2014 4 Chart 5 US 10yr Treasury yields   Chart 6 US 5yr Treasury yields     Liquid Technical Edge  15 December 2014 5  Chart 7 LME 90d Copper   Table 1 Trade recommendation history rolling 12 month history Date  trade entered Buy Sell Market Entry Level or premium bp Date  trade closed Exit Level or premium Return TYPE 1162014 Buy US 5s30s 143.7000 11262014 138.8000 3.41 FI 10312014 Buy GBPZAR 17.6275 11172014 17.3065 1.82 FX 1132014 Sell CLF5 80.7000 11102014 79.4500 1.55 CO 10302014 Buy USDKRW 1054.0000 1152014 1089.4000 3.36 FX 10232014 Sell NZDUSD 0.7870 10282014 0.7944 0.94 FX 10212014 Sell AUDUSD 0.8818 10292014 0.8905 0.99 FX 7292014 Buy US 2s3s 44.30 1082014 45.85 3.50 FI 9232014 Buy USDMXN 13.2850 1082014 13.3550 0.53 FX 9232014 Sell GBPUSD 1.6376 1082014 1.6095 1.72 FX 9162014 Sell EURUSD 1.29500 9162014 1.299 0.31 FX 982014 Buy USDTRY 2.16720 9112014 2.191 1.10 FX 782014 Sell EURUSD 1.35950 942014 1.3104 3.61 FX 6202014 Buy NOKSEK 1.09060 932014 1.1275 3.38 FX 922014 Buy TYZ4 125.32813 932014 124.9375 0.31 FI 8142014 Buy AUDNZD 1.09450 8242014 1.1147 1.85 FX 8142014 Sell EURUSD 1.33950 8222014 1.3233 1.21 FX 862014 Sell WNU4 152.53125 872014 153.21875 0.45 FI 852014 Sell AUDUSD 0.9308 862014 0.935 0.45 FX 792014 Sell US 5s30s 166.3 7312014 158.3 4.81 FI 6302014 Buy USDCLP 552.1000 7302014 572.09 3.62 FX 722014 Sell USDJPY 101.9650 7302014 102.85 0.87 FX 7112014 Buy USDCNH 6.2041 7232014 6.1925 0.19 FX 6242014 Buy USDZAR 10.5797 7232014 10.5295 0.47 FX 6252014 Sell TYU4 124.984375 792014 124.984375 0.00 FI 6242014 Buy USDCNH 6.2275 712014 6.2045 0.37 FX    Liquid Technical Edge  15 December 2014 6 Table 1 Trade recommendation history rolling 12 month history Date  trade entered Buy Sell Market Entry Level or premium bp Date  trade closed Exit Level or premium Return TYPE 6112014 Sell LME Copper 6675 6232014 6840 2.47 CO 6102014 Buy USDCHF 0.8992 6192014 0.8923 0.77 FX 5302014 Buy USDZAR 10.5635 6192014 10.6566 0.88 FX 5302014 Sell US 5s30s 183.0 6192014 174.6 4.59 FI 662014 Sell TYU4 124.78125 6192014 124.65625 0.10 FI 5302014 Buy CLZ4CLZ5 7.18 6182014 8.25 14.90 CO 5122014 Sell Spot Gold 1300 6122014 1270 2.31 CO 5162014 Sell IKM4 124.67 662014 125.84 0.94 FI 5192014 Sell EURUSD 1.3735 652014 1.3625 0.80 FX 4292014 Sell EURNOK 8.2956 652014 8.1675 1.54 FX 492014 Buy USDCHF 0.8796 652014 0.894 1.64 FX 472014 Buy USDCHF 0.8836 652014 0.894 1.18 FX 4252014 Sell EURAUD 1.4915 5192014 1.475 1.11 FX 512014 Sell Spot Silver 19.2000 5142014 19.95 3.91 CO 4222014 Buy GBPUSD 1.6844 592014 1.6909 0.39 FX 4252014 Buy AUDNZD 1.0805 522014 1.072 0.79 FX 4152014 Sell US 5s30s 185.3 4302014 178.8 3.51 FI 4152014 Sell Spot Gold 1300.8300 4242014 1295 0.45 CO 3242014 Sell GBPAUD 1.8075 4162014 1.7960 0.64 FX 3312014 Sell FVM4 118.7969 492014 119.3125 0.43 FI 422014 Sell COM4 104.4900 432014 106.15 1.59 CO 2192014 Buy USDCAD 1.1020 2262014 1.1115 0.86 FX 2262014 Buy USDMXN 13.2931 362014 13.175 0.89 FX 332014 Sell Spot Gold 1337.0000 332014 1346 0.67 CO 2242014 Buy AUDUSD 0.8990 2272014 0.893 0.67 FX 2132014 Buy AUDNZD 1.0750 2262014 1.078 0.28 FX 2252014 Sell USM4 131.8125 2252014 132.3125 0.38 FI 2122014 Buy TYH4 125.359375 2202014 125.671875 0.25 FI 2122014 Sell LME Copper 7098 2192014 7215 1.65 CO 1142014 Buy USDCAD 1.0930 2112014 1.101 0.73 FX 192014 Buy USDKRW 1059 242014 1081.0 2.08 FX 1152014 Buy COM4 105.00 1312014 105.00 0.00 CO 1172014 Sell EURUSD 1.3547 1232014 1.3650 0.76 FX 12192013 Buy USDTRY 2.0715 1172014 2.2161 6.98 FX 12102013 Buy USDMXN 12.86 12192013 12.86 0.00 FX 1252013 Sell TYH4 124.453125 12202013 123.75 0.56 FI 11122013 Buy USDJPY 99.53 12202013 104.6 5.09 FX 12162013 Sell EURUSD 1.3764 12272013 1.3834 0.51 FX 9202013 Sell LME Copper 7294 12132013 7207 1.19 CO Source BofA Merrill Lynch Global Research. Past performance is no guarantee of future results. Records for trades prior to May 2013 are available upon request     Liquid Technical Edge  15 December 2014 7 Methodology Trades ideas are based primarily on tools such as pattern recognition and trend analysis but may also be based on market sentiment positioning and inter market relationships. This analysis provides directional views on global sovereign debt foreign exchange and commodity markets. Markets and instruments to be traded  Foreign Exchange G20 currencies using cash forwards futures and options  Fixed Income Global sovereign debt using cash swaps forwards futures and options  Commodities Exchange traded energy base and precious metals and agricultural commodity markets Trade Specifics All trades will have a predetermined stop loss and profit objective and will ideally have a projected reward risk ratio of 3to1 or better i. e. we will enter trade recommendations where we expect that the potential return will be three times the possible loss. Entry and exit of trades will be done at market or limit using desk prices where we would buy on the offer and sell on the bid. All trade ideas will be published in either  Liquid Technical Edge or  Liquid Technical Alert report. We exit trades when our trades hit their respective targets or stops or when we change our views based on a change in market conditions. All trades will be closed out in a  Liquid Technical Edge or a  Liquid Technical Alert. Trade Performance We provide price return performance on a trade by trade basis using the previously published entry and exit levels for the previous last 12 months trades. We will publish price performance of all trades whenever a new trade is initiated or a previous trade is closed. Additionally performance of open trades can be seen daily in Liquid Technical Edge. The performance of trades entered into by investors will vary from our reported performance depending on entry and exit levels and any additional costs fees and expenses that that maybe associated with the trades. Past performance is not indicative of future performance of our trade recommendations. Analyst Certification I MacNeil Curry CFA CMT hereby certify that the views expressed in this research report accurately reflect my personal views about the subject securities and issuers. I also certify that no part of my compensation was is or will be directly or indirectly related to the specific recommendations or view expressed in this research report.    Liquid Technical Edge  15 December 2014 8  Important Disclosures  BofA Merrill Lynch Research personnel including the analyst s responsible for this report receive compensation based upon among other factors the overall profitability of Bank of America Corporation including profits derived from investment banking revenues. BofA Merrill Lynch Global Credit Research analysts regularly interact with sales and trading desk personnel in connection with their research including to ascertain pricing and liquidity in the fixed income markets. Other Important Disclosures This report may refer to fixed income securities that may not be offered or sold in one or more states or jurisdictions. Readers of this report are advised that any discussion recommendation or other mention of such securities is not a solicitation or offer to transact in such securities. Investors should contact their BofA Merrill Lynch representative or Merrill Lynch Financial Global Wealth Management financial advisor for information relating to fixed income securities Rule 144A securities may be offered or sold only to persons in the U. S. who are Qualified Institutional Buyers within the meaning of Rule 144A under the Securities Act of 1933 as amended. SECURITIES DISCUSSED HEREIN MAY BE RATED BELOW INVESTMENT GRADE AND SHOULD THEREFORE ONLY BE CONSIDERED FOR INCLUSION IN ACCOUNTS QUALIFIED FOR SPECULATIVE INVESTMENT. Recipients who are not institutional investors or market professionals should seek the advice of their independent financial advisor before considering information in this report in connection with any investment decision or for a necessary explanation of its contents. The securities discussed in this report may be traded overthecounter. Retail sales andor distribution of this report may be made only in states where these securities are exempt from registration or have been qualified for sale. Officers of MLPFamp S or one or more of its affiliates other than research analysts may have a financial interest in securities of the issuer s or in related investments. This report and the securities discussed herein may not be eligible for distribution or sale in all countries or to certain categories of investors. BofA Merrill Lynch Global Research policies relating to conflicts of interest are described at http www.ml.commedia43347.pdf. quot BofA Merrill Lynchquot includes Merrill Lynch Pierce Fenner amp Smith Incorporated quotMLPFamp Squot and its affiliates. Investors should contact their BofA Merrill Lynch representative or Merrill Lynch Global Wealth Management financial advisor if they have questions concerning this report. quot BofA Merrill Lynchquot and quot Merrill Lynchquot are each global brands for BofA Merrill Lynch Global Research. Information relating to NonUS affiliates of BofA Merrill Lynch and Distribution of Affiliate Research Reports MLPFamp S distributes or may in the future distribute research reports of the following nonUS affiliates in the US short name legal name Merrill Lynch  France Merrill Lynch Capital Markets  France SAS Merrill Lynch  Frankfurt Merrill Lynch International Bank Ltd. Frankfurt Branch Merrill Lynch  South Africa Merrill Lynch South Africa  Pty Ltd. Merrill Lynch  Milan Merrill Lynch International Bank Limited MLI  UK Merrill Lynch International Merrill Lynch  Australia Merrill Lynch Equities  Australia Limited Merrill Lynch  Hong Kong Merrill Lynch  Asia Pacific Limited Merrill Lynch  Singapore Merrill Lynch  Singapore Pte Ltd. Merrill Lynch  Canada Merrill Lynch Canada Inc Merrill Lynch  Mexico Merrill Lynch Mexico SA de CV Casa de Bolsa Merrill Lynch  Argentina Merrill Lynch Argentina SA Merrill Lynch  Japan Merrill Lynch Japan Securities Co. Ltd. Merrill Lynch  Seoul Merrill Lynch International Incorporated  Seoul Branch Merrill Lynch  Taiwan Merrill Lynch Securities  Taiwan Ltd. DSP Merrill Lynch  India DSP Merrill Lynch Limited PT Merrill Lynch  Indonesia PT Merrill Lynch Indonesia Merrill Lynch  Israel Merrill Lynch Israel Limited Merrill Lynch  Russia OOO Merrill Lynch Securities Moscow Merrill Lynch  Turkey I. B. Merrill Lynch Yatirim Bank A. S. Merrill Lynch  Turkey Broker Merrill Lynch Menkul Deerler A.. Merrill Lynch  Dubai Merrill Lynch International Dubai Branch MLPFamp S  Zurich rep. office MLPFamp S Incorporated Zurich representative office Merrill Lynch  Spain Merrill Lynch Capital Markets Espana S. A. S. V. Merrill Lynch  Brazil Bank of America Merrill Lynch Banco Multiplo S. A. Merrill Lynch KSA Company Merrill Lynch Kingdom of Saudi Arabia Company. This research report has been approved for publication and is distributed in the United Kingdom to professional clients and eligible counterparties as each is defined in the rules of the Financial Conduct Authority and the Prudential Regulation Authority by Merrill Lynch International and Bank of America Merrill Lynch International Limited which are authorized by the Prudential Regulation Authority and regulated by the Financial Conduct Authority and the Prudential Regulation Authority and is distributed in the United Kingdom to retail clients as defined in the rules of the Financial Conduct Authority and the Prudential Regulation Authority by Merrill Lynch International Bank Limited London Branch which is authorised by the Central Bank of Ireland and subject to limited regulation by the Financial Conduct Authority and Prudential Regulation Authority  details about the extent of our regulation by the Financial Conduct Authority and Prudential Regulation Authority are available from us on request has been considered and distributed in Japan by Merrill Lynch Japan Securities Co. Ltd. a registered securities dealer under the Financial Instruments and Exchange Act in Japan is distributed in Hong Kong by Merrill Lynch  Asia Pacific Limited which is regulated by the Hong Kong SFC and the Hong Kong Monetary Authority is issued and distributed in Taiwan by Merrill Lynch Securities  Taiwan Ltd. is issued and distributed in India by DSP Merrill Lynch Limited and is issued and distributed in Singapore to institutional investors andor accredited investors  each as defined under the Financial Advisers Regulations by Merrill Lynch International Bank Limited  Merchant Bank and Merrill Lynch  Singapore Pte Ltd. Company Registration No. s F 06872E and 198602883D respectively. Merrill Lynch International Bank Limited  Merchant Bank and Merrill Lynch  Singapore Pte Ltd. are regulated by the Monetary Authority of Singapore. Bank of America N. A. Australian Branch ARBN 064 874 531 AFS License 412901  BANA Australia and Merrill Lynch Equities  Australia Limited ABN 65 006 276 795 AFS License 235132  MLEA distributes this report in Australia only to Wholesale clients as defined by s.761G of the Corporations Act 2001. With the exception of BANA Australia neither MLEA nor any of its affiliates involved in preparing this research report is an Authorised DepositTaking Institution under the Banking Act 1959 nor regulated by the Australian Prudential Regulation Authority. No approval is required for publication or distribution of this report in Brazil and its local distribution is made by Bank of America Merrill Lynch Banco Mltiplo S. A. in accordance with applicable regulations. Merrill Lynch  Dubai is authorized and regulated by the Dubai Financial Services Authority  DFSA. Research reports prepared and issued by Merrill Lynch  Dubai are prepared and issued in accordance with the requirements of the DFSA conduct of business rules. Merrill Lynch  Frankfurt distributes this report in Germany. Merrill Lynch  Frankfurt is regulated by BaFin. This research report has been prepared and issued by MLPFamp S andor one or more of its nonUS affiliates. MLPFamp S is the distributor of this research report in the US and accepts full responsibility for research reports of its nonUS affiliates distributed to MLPFamp S clients in the US. Any US person receiving this research report and wishing to effect any transaction in any security discussed in the report should do so through MLPFamp S and not such foreign affiliates. Hong Kong recipients of this research report should contact Merrill Lynch  Asia Pacific Limited in respect of any matters relating to dealing in securities or provision of specific advice on securities. Singapore recipients of this research report should contact Merrill Lynch International Bank Limited  Merchant Bank andor Merrill Lynch  Singapore Pte Ltd in respect of any matters arising from or in connection with this research report.    Liquid Technical Edge  15 December 2014 9 General Investment Related Disclosures Taiwan Readers Neither the information nor any opinion expressed herein constitutes an offer or a solicitation of an offer to transact in any securities or other financial instrument. No part of this report may be used or reproduced or quoted in any manner whatsoever in Taiwan by the press or any other person without the express written consent of BofA Merrill Lynch. This research report provides general information only. Neither the information nor any opinion expressed constitutes an offer or an invitation to make an offer to buy or sell any securities or other financial instrument or any derivative related to such securities or instruments  e. g. options futures warrants and contracts for differences. This report is not intended to provide personal investment advice and it does not take into account the specific investment objectives financial situation and the particular needs of any specific person. Investors should seek financial advice regarding the appropriateness of investing in financial instruments and implementing investment strategies discussed or recommended in this report and should understand that statements regarding future prospects may not be realized. Any decision to purchase or subscribe for securities in any offering must be based solely on existing public information on such security or the information in the prospectus or other offering document issued in connection with such offering and not on this report. Securities and other financial instruments discussed in this report or recommended offered or sold by Merrill Lynch are not insured by the Federal Deposit Insurance Corporation and are not deposits or other obligations of any insured depository institution including Bank of America N. A.. Investments in general and derivatives in particular involve numerous risks including among others market risk counterparty default risk and liquidity risk. No security financial instrument or derivative is suitable for all investors. In some cases securities and other financial instruments may be difficult to value or sell and reliable information about the value or risks related to the security or financial instrument may be difficult to obtain. Investors should note that income from such securities and other financial instruments if any may fluctuate and that price or value of such securities and instruments may rise or fall and in some cases investors may lose their entire principal investment. Past performance is not necessarily a guide to future performance. Levels and basis for taxation may change. Futures and options are not appropriate for all investors. Such financial instruments may expire worthless. Before investing in futures or options clients must receive the appropriate risk disclosure documents. Investment strategies explained in this report may not be appropriate at all times. Costs of such strategies do not include commission or margin expenses. BofA Merrill Lynch is aware that the implementation of the ideas expressed in this report may depend upon an investor s ability to quotshortquot securities or other financial instruments and that such action may be limited by regulations prohibiting or restricting quotshortsellingquot in many jurisdictions. Investors are urged to seek advice regarding the applicability of such regulations prior to executing any short idea contained in this report. This report may contain a trading idea or recommendation which highlights a specific identified near term catalyst or event impacting a security issuer industry sector or the market generally that presents a transaction opportunity but does not have any impact on the analyst s particular  Overweight or  Underweight rating which is based on a three month trade horizon. Trading ideas and recommendations may differ directionally from the analyst s rating on a security or issuer because they reflect the impact of a near term catalyst or event. Foreign currency rates of exchange may adversely affect the value price or income of any security or financial instrument mentioned in this report. Investors in such securities and instruments effectively assume currency risk. UK Readers The protections provided by the U. K. regulatory regime including the Financial Services Scheme do not apply in general to business coordinated by BofA Merrill Lynch entities located outside of the United Kingdom. BofA Merrill Lynch Global Research policies relating to conflicts of interest are described at http www.ml.commedia43347.pdf. Officers of MLPFamp S or one or more of its affiliates other than research analysts may have a financial interest in securities of the issuer s or in related investments. MLPFamp S or one of its affiliates is a regular issuer of traded financial instruments linked to securities that may have been recommended in this report. MLPFamp S or one of its affiliates may at any time hold a trading position  long or short in the securities and financial instruments discussed in this report. BofA Merrill Lynch through business units other than BofA Merrill Lynch Global Research may have issued and may in the future issue trading ideas or recommendations that are inconsistent with and reach different conclusions from the information presented in this report. Such ideas or recommendations reflect the different time frames assumptions views and analytical methods of the persons who prepared them and BofA Merrill Lynch is under no obligation to ensure that such other trading ideas or recommendations are brought to the attention of any recipient of this report. In the event that the recipient received this report pursuant to a contract between the recipient and MLPFamp S for the provision of research services for a separate fee and in connection therewith MLPFamp S may be deemed to be acting as an investment adviser such status relates if at all solely to the person with whom MLPFamp S has contracted directly and does not extend beyond the delivery of this report unless otherwise agreed specifically in writing by MLPFamp S. MLPFamp S is and continues to act solely as a brokerdealer in connection with the execution of any transactions including transactions in any securities mentioned in this report. Copyright and General Information regarding Research Reports Copyright 2014 Merrill Lynch Pierce Fenner amp Smith Incorporated. All rights reserved. This research report is prepared for the use of BofA Merrill Lynch clients and may not be redistributed retransmitted or disclosed in whole or in part or in any form or manner without the express written consent of BofA Merrill Lynch. BofA Merrill Lynch research reports are distributed simultaneously to internal and client websites and other portals by BofA Merrill Lynch and are not publiclyavailable materials. Any unauthorized use or disclosure is prohibited. Receipt and review of this research report constitutes your agreement not to redistribute retransmit or disclose to others the contents opinions conclusion or information contained in this report including any investment recommendations estimates or price targets without first obtaining expressed permission from an authorized officer of BofA Merrill Lynch. Materials prepared by BofA Merrill Lynch Global Research personnel are based on public information. Facts and views presented in this material have not been reviewed by and may not reflect information known to professionals in other business areas of BofA Merrill Lynch including investment banking personnel. BofA Merrill Lynch has established information barriers between BofA Merrill Lynch Global Research and certain business groups. As a result BofA Merrill Lynch does not disclose certain client relationships with or compensation received from such companies in research reports. To the extent this report discusses any legal proceeding or issues it has not been prepared as nor is it intended to express any legal conclusion opinion or advice. Investors should consult their own legal advisers as to issues of law relating to the subject matter of this report. BofA Merrill Lynch Global Research personnel s knowledge of legal proceedings in which any BofA Merrill Lynch entity andor its directors officers and employees may be plaintiffs defendants codefendants or coplaintiffs with or involving companies mentioned in this report is based on public information. Facts and views presented in this material that relate to any such proceedings have not been reviewed by discussed with and may not reflect information known to professionals in other business areas of BofA Merrill Lynch in connection with the legal proceedings or matters relevant to such proceedings. This report has been prepared independently of any issuer of securities mentioned herein and not in connection with any proposed offering of securities or as agent of any issuer of any securities. None of MLPFamp S any of its affiliates or their research analysts has any authority whatsoever to make any representation or warranty on behalf of the issuer s. BofA Merrill Lynch Global Research policy prohibits research personnel from disclosing a recommendation investment rating or investment thesis for review by an issuer prior to the publication of a research report containing such rating recommendation or investment thesis. Any information relating to the tax status of financial instruments discussed herein is not intended to provide tax advice or to be used by anyone to provide tax advice. Investors are urged to seek tax advice based on their particular circumstances from an independent tax professional. The information herein other than disclosure information relating to BofA Merrill Lynch and its affiliates was obtained from various sources and we do not guarantee its accuracy. This report may contain links to third party websites. BofA Merrill Lynch is not responsible for the content of any third party website or any linked content contained in a third party website. Content contained on such third party websites is not part of this report and is not incorporated by reference into this report. The inclusion of a link in this report does not imply any endorsement by or any affiliation with BofA Merrill Lynch. Access to any third party website is at    Liquid Technical Edge  15 December 2014 10 your own risk and you should always review the terms and privacy policies at third party websites before submitting any personal information to them. BofA Merrill Lynch is not responsible for such terms and privacy policies and expressly disclaims any liability for them. All opinions projections and estimates constitute the judgment of the author as of the date of the report and are subject to change without notice. Prices also are subject to change without notice. BofA Merrill Lynch is under no obligation to update this report and BofA Merrill Lynch s ability to publish research on the subject companyies in the future is subject to applicable quiet periods. You should therefore assume that BofA Merrill Lynch will not update any fact circumstance or opinion contained in this report. Certain outstanding reports may contain discussions andor investment opinions relating to securities financial instruments andor issuers that are no longer current. Always refer to the most recent research report relating to a company or issuer prior to making an investment decision. In some cases a company or issuer may be classified as Restricted or may be Under Review or Extended Review. In each case investors should consider any investment opinion relating to such company or issuer or its security andor financial instruments to be suspended or withdrawn and should not rely on the analyses and investment opinion s pertaining to such issuer or its securities andor financial instruments nor should the analyses or opinion s be considered a solicitation of any kind. Sales persons and financial advisors affiliated with MLPFamp S or any of its affiliates may not solicit purchases of securities or financial instruments that are Restricted or Under Review and may only solicit securities under Extended Review in accordance with firm policies. Neither BofA Merrill Lynch nor any officer or employee of BofA Merrill Lynch accepts any liability whatsoever for any direct indirect or consequential damages or losses arising from any use of this report or its contents.\n",
      "Trading ideas and investment strategies discussed herein may give rise to significant risk and are not suitable for all investors. Investors should have experience in FX markets and the financial resources to absorb any losses arising from applying these ideas or strategies. BofA Merrill Lynch does and seeks to do business with companies covered in its research reports. As a result investors should be aware that the firm may have a conflict of interest that could affect the objectivity of this report. Investors should consider this report as only a single factor in making their investment decision. Refer to important disclosures on page 10 to 12. Analyst Certification on Page 9. 11466662  Liquid Insight BoE Nothing to see here  Rates and Currencies Research  Global 06 January 2015     Global Rates amp Currencies Research MLPFamp S Mark Capleton 44 20 7995 6118 Rates Strategist MLI  UK mark.capletonbaml.com Kamal Sharma 44 20 7996 4855 FX Strategist MLI  UK ksharma32baml.com Adarsh Sinha 852 2161 7155 FX Strategist Merrill Lynch  Hong Kong adarsh.sinhabaml.com Yang Chen 852 3602 1695 Rates Strategist Merrill Lynch  Hong Kong ychen8baml.com See Team Page for Full List of Contributors  Recent Liquid Insight Publications 19 December 2014 Last call for GBP 19 December 2014 Pay 5y5y GBP  valuation stretched and supports fading 18 December 2014 Fundamental shift or risk premium increase 17 December 2014 BoJ preview Oil price in focus 16 December 2014 It s not crazy to buy bonds 15 December 2014 Another December to remember 12 December 2014 TLTRO allotment unlikely to derail QE 11 December 2014 CNY  Is the squeeze over 10 December 2014 The Fed s to do list 9 December 2014 Anchors away  By Kamal Sharma and Mark Capleton Chart of the Day Wage developments will remain the key focus for MPC  Source BoAML Global Research KPMG Comfortably on hold At its first scheduled meeting of the year we expect the Bank of England to leave interest rates on hold at 0.5 and the Asset Purchase Facility  APF at 375bn. We do not expect it to release a statement following the announcement as is usual protocol. Nevertheless there should be a small nugget of information for the gilt market in the announcement. In order to maintain the stock of QE at 375bn the Bank will need to reinvest 4.3bn following a January 22 redemption. Since this precedes the February MPC meeting we would expect reinvestment confirmation this week.   Unauthorized redistribution of this report is prohibited. This report is intended for benjamin.petobaml.com.    Liquid Insight  06 January 2015 2  It has been an inauspicious start to the year for the GBP particularly versus the USD as UKUS rate differentials move against the sterling. The nearterm outlook thus appears to be challenging as inflation continues to disappoint and as investors look ahead to the UK general election. We think the decision to keep rates on hold for the majority of the Monetary Policy Committee should be a relatively easy one this time around and indeed over the coming months against the backdrop of a softening in nearterm inflationary pressures. The November CPI inflation reading fell from 1.3 to 1.0 significantly below consensus and to its lowest since Autumn 2002. In its November Inflation Report the BoE had looked for a 1.3 reading for November. In our view CPI inflation is set to fall further in the near term and will give the majority of the MPC greater control on the debate on the timing of the first rate hike. The December CPI due for release on 13 January is expected to show CPI inflation falling to around 0.7 yoy. This would trigger an open letter from BoE Governor Mark Carney to the Chancellor on the reasons why inflation is printed below 1 from the 2 target. Inflation is likely to trough around 0.5 early this year and this is notably below the BoE s expectations of a trough of around 1 in its November Inflation Report given the continued pressure on global energy prices. Clearly that gives the bulk of the MPC an easier backdrop to leave rates on hold. However the key debate for the MPC over the course of the year will be wage developments and it is this area where the two hawks  Martin Weale and Ian McCafferty fundamentally disagree with the rest of the MPC. The Chart of the Day illustrates this point clearly. The hawks assert that the average earnings growth is on the cusp of a meaningful rise over the coming year as suggested by developments in the KPMG survey on permanent staff salaries. This would suggest the need for an immediate rise in rates to counteract future inflationary pressures. By contrast the mainstream have to date preferred to wait for actual signs of a strong pickup in average earnings before deciding to act on rates. UK rates markets have gradually priced out the chance of a UK rate hike in 2015 with expectations currently for a move in 1Q16 versus our own expectation for a move in August 2015. The Minutes of December meeting reveal that the MPC has been surprised and is perhaps slightly uncomfortable by the extent to which UK rates markets have pushed back ratehike expectations. Indeed Governor Carney recently stated that the Bank of England is prepared to look through the current supplydriven fall in oil prices. The key to this view is whether UK inflation expectations will remain resilient to recent declines in oil prices Chart 1 and whether there are any second round effects  slowing average earnings for example. Since inflation expectations did not become dislodged to the upside despite UK CPI inflation averaging 3 over 200613 it would be asymmetric to expect it to become rapidly dislodged to the downside. Indeed while deflation is common within individual components of the UK CPI basket  in the decade prior to the crisis around 30 of items were typically in deflation  there is actually less downward pull on aggregate inflation than usual from such items at present.       Liquid Insight  06 January 2015 3 Chart 1 UK GfK BoE 12month inflation expectations  Source BoAML Global Research Bank of England  RPI measure of inflation Rates Something does not seem right The pace of gilt issuance will be slower in value terms over the balance of the fiscal year although it will step up a gear once the new fiscal year begins in March and the market is well aware of the upcoming 4.3bn BoE reinvestment. We suspect these have helped gilts do so well both in outright terms and relative to other markets but are concerned the market may be overplaying the story. The overall risk to be delivered over the quarter after allowing for the BoE s  risk extraction will still be fairly normal by recent standards because we will see a sizeable amount of linker risk coming via syndication later this month Chart 2 PVBP risk supply  net of BoE buybacks to end March  mn bp  Source BoAML Global Research Debt Management Office Bank of England And of course the higher pace of issuance expected from April will not be tempered by BoE reinvestment at least until September since redemptions will be bunched later in the 201516 fiscal year    2.0 2.5 3.0 3.5 4.0 4.5 5.0 2005 2006 2007 2008 2009 2010 2011 2012 2013 2014 2015 40 20 0 20 40 60 80 09 10 11 12 13 14 15 Nominal InflationLinked    Liquid Insight  06 January 2015 4 Chart 3 BoE QE holdings  bn showing late2015early2016 bunching  Source BoAML Global Research Debt Management Office Bank of England By pushing the expected first hike into 1Q16 we believe the market has also moved to expect the 31.6bn total of potential BoE reinvestments between September 2015 and January 2016 to go ahead whereas we would argue at least half that amount is still in the balance. The latest Bankstats numbers just out confirmed that banks purchased another large block of gilts in November taking the total over two months to 11bn. Although it possible this marks a desire to accumulate high quality liquid assets we would question the likely persistence of such a large monthly bid. Meanwhile overseas investors continued to leave the gilt market alone and sterling weakness seems to corroborate the idea that gilts are not benefiting from rebalancing out of negativelyyielding core Euro as some are suggesting Chart 4 Monthly net gilt buying by UK banks and overseas investors bn  Source BoAML Global Research Debt Management Office Bank of England We reaffirm our core bearish gilt view. The 5y5y Sonia at 1  is not our idea of a neutral policy rate. In trying to identify catalysts that might arrest the gilt rally perhaps we need look no further than this week s 10y nominal and 30y linker auctions. Though modest in size the yield levels are somewhat demanding. 0 2 4 6 8 10 12 14 16 18 Jan13 Jul13 Jan14 Jul14 Jan15 Jul15 Jan16 Jul16 All past reinvestments 2015 amp 16 prospective reinvestments 20 15 10 5 0 5 10 15 20 10 11 12 13 14 Oseas Banks    Liquid Insight  06 January 2015 5 FX MPC losing the footrace versus the Fed It has been an inauspicious start to the year for GBP which has underperformed all of its G10 peers with the exception of the NOK. Sentiment has not been helped by further evidence of a loss of momentum in the UK economy with both the manufacturing and construction PMI numbers printing on the weaker side of expectations. Though the USD has made a strong start to 2015 GBP USD has been particularly hit hard driven primarily by a further shift in rate differentials in favor of the USD Chart 5. With the markets pushing back the chances of UK rate hikes into 1Q16 the Bank of England continues to lose the footrace to policy tightening versus the Fed. GBP USD is thus likely to remain under pressure in the nearterm as these forces continue to dominate sentiment. EUR GBP has once again failed to make a sustained break of the 0.7750 level despite significant pressure on the EUR at the start of the year. The conflicting forces of prospective QE weighing on EUR and softening nearterm UK inflationary pressures weighing on GBP suggest that EUR GBP will trade a range for the time being. But in our view with the UK general election on the horizon and continued uncertainty on the outcome there appears to be no respite for the GBP at present. Chart 5 GBPUSD versus UKUS 2yr rate differentials  Source BoAML Global Research Bloomberg    0.00 0.10 0.20 0.30 0.40 0.50 0.60 0.70 0.80 0.90 1.00 1.45 1.50 1.55 1.60 1.65 1.70 1.75 2010 2011 2012 2013 2014 2015 GBPUSD lhs UKUS rate spread rhs    Liquid Insight  06 January 2015 6 Notable Rates and FX research  Global Rates amp Currencies 2015 Year Ahead 23 November 2014  Sell GBP JPY FX Quant Trader 5 January 2015.  Inching towards the inevitable Global Rates and FX Weekly 12 December 2014.  Ringing in the year of the hike US Rates Weekly 19 December 2014.  Riskoff as the year ends Liquid Cross Border Flows 15 December 2014.  Key trade ideas Top Rates and FX trades for 2015 For rationale and details refer to Global Rates amp Currencies 2015 Year Ahead Liquidity Transfusion 23 November 2014 Rates Pay 5y US swap rates vs 5y offshore China swap rates entry 119bp target 60bp stop 145bp Receive Eonia 1y one year forward entry 4 bp target 15 bp stop 0bp Buy 1y6m onetouch put spread in EUR USD struck at 1.18 for 14.5  spot reference 1.2425 Buy 30y US inflation vs 30y Euro inflation in swaps entry cost 49bp target 80bp stop 35bp Buy 200mm T 0.625 111516 vs paying in matched maturity swaps entry 17.5bp target 28bp stop 12bp Buy 3y Portugal and 10y Bunds and sell 10y Spain 55 83 and 100 target 115bp stop 93bp FX Sell AUD USD spot entry 0.8710 target 0.78 stop 0.86  19 Dec 2014 Sell CHF NOK spot entry 7.00 target 6.25 stop loss 7.42 Sell 3m USD JPY 125 one touch option to finance buying a 6m 125 one touch option in U10mU13m ratio payout  spot reference 117.80 1y USDCAD 1.27 digital call for 10.25  spot reference 1.13  New trade Rates Sell 10y US swap spreads by selling 100mm T 2.25 111524 vs receiving matched maturity swap Enter 10.3bp Target 7.5bp Stop loss 12bp  To take advantage of a seasonal tightening pattern in January most of the tightening typically occurs around the first week of the month likely due to the corporate issuance calendar which typically picks up strongly at the start of January. Existing open trades Rates Sell US front end by shorting 4000 EDZ6 contracts Enter 98.14 target 97.75 stop 98.32. Nov 4 2014  Data confirms that the US recovery is intact and a data dependent Fed should increase risk premiums in the front end. Demand from foreign officials and banks appear to be slowing. Positioning is also cleaner. Buy 10y US swap spreads by buying 10y 200mm T2.375 8152024 Treasuries vs matched maturity swaps Enter 12.3bp Stop loss 5bp target 25bp.  A costeffective way to position for either a surprising carrytrade unwind as Fed tightening approaches or a surprising riskoff development. Sell 100mm UST 2.5 51524 1st offtherun 10y vs receiving a durationmatched swap maturing on the same date Enter 12bp target 8bp stoploss 14.5bp  Take advantage of a strong seasonal spread tightening in September due to heavy corporate issuance Buy 2m 2s5s curve cap spread buying 400mn 2m 2s5s ATMF cap vs 400mn 2m 2s5s ATMF15bp cap Entry cost 210K 5.25bp target Pamp L of 360K stoploss loss of 180K  The RedsBlues curve looks rather flat to FOMC projections. In addition a too low neutral rate is priced in. Long 2035 inflationlinked bond entry  BEI 2.52 target 2.80 stop 2.40  RBA inflation forecasts now see a rise towards the top of the band by the end of 2015. There is no term premium in long end linkers. As we expect significant depreciation of the AUD in 2015 imported inflation is expected to add to rising inflation pressures towards the end of next year.    Liquid Insight  06 January 2015 7  Buy 1y1y payer ladders by buying 500mn 1y1y ATMF payers selling 500mn 1y1y ATMF27bp payers and selling 500mn 1y1y ATMF54bp payers entry cost 0 target 400K stoploss 200K  The trade carries positively and offers an attractive valuation. It should deliver attractive terminal payoffs in any reasonable scenario of the Fed policy Buy 100mn ATM 1m10y payers Premium 680K target 1.4mn stoploss entire premium  Economic data in coming weeks could further strengthen as we get payback from the extreme winter weather. Carry is less punitive in being short 10s Buy the ERU6 Sep16 99.12599.00 Jul put spread for 3.5 ticks target 5 ticks  We favor downside positions in futures rather than OIS ahead of the ECB meeting and express this view via options as the probability of imminent ECB action is low but not zero Enter a 1y1y vs 3y1y Eonia steepener current 68.5bp target 84bp stop 63bp  With the ECB expected to remain on hold we expect a bear steepening of the curve. Should the ECB surprise markets we see a simple refi rate cut as the most likely step which would also steepen the 1y1y3y1y curve Buy 125.87mn 1y2y ATM payers sell 125.87mn 1y2y ATM25bp payers vs sell 250mn 1y1y ATM68bp payers target Pamp L 125K stoploss loss of 60K  Monetizes the richness of vols and payer skews and should benefit from a steeper RedsGreens curve Buy 200mm T0.625 93017 vs matched maturity swaps entry cost 13.5bp stoploss 5bp target 25bp 3y spreads offer more exposure to geopolitical risks and ongoing regulatory reform Buying EUR100mm 1m1y ATM vs selling 1m1y ATM10bp payers. Entry cost 3bp target maturity maximum 7bp gain.  Market pricing in too aggressive ECB easing. This trade is a short term technical positioning for ECB disappointment. Buying 100mm 3m5y ATMF 1.77 receivers vs selling 26mm 3m30y ATMF 3.71 receivers. Entry cost 0 Stoploss 100K target 200K.  To position for continuing data weakness while been protected against a market selloff  FX Sell EUR JPY spot entry 147.52 target 142.00 stop 149.50  EURJPY has overshot relative to movements in 10year real rates and the market is underpricing the risk of Abe losing seats in the election. Strong demand for EUR puts against most currencies into the ECB suggests downside EUR risks Sell CAD MXN spot entry 12.1085 target 11.7972 stop 12.2000 To position for BoC on hold post the weak employment report vs. our bullish view on MXN as we expect growth to pick up in H2 2014 in Mexico. Flows and technical also support this trade.    Liquid Insight  06 January 2015 8 Options Risk Statement Potential Risk at Expiry amp Options Limited Duration Risk Unlike owning or shorting a stock employing any listed options strategy is by definition governed by a finite duration. The most severe risks associated with general options trading are total loss of capital invested and delivery assignment risk all of which can occur in a short period.  Investor suitability The use of standardized options and other related derivatives instruments are considered unsuitable for many investors. Investors considering such strategies are encouraged to become familiar with the quotCharacteristics and Risks of Standardized Optionsquot  an OCC authored white paper on options risks. U. S. investors should consult with a FINRA Registered Options Principal. For detailed information regarding the risks involved with investing in listed options http www.theocc.comaboutpublicationscharacterrisks.jsp         Liquid Insight  06 January 2015 9  Analyst Certification We David Woo Adarsh Sinha and Yang Chen hereby certify that the views expressed in this research report about securities and issuers accurately reflect our respective models applied in the analysis. We also certify that no part of our respective compensation was is or will be directly or indirectly related to the specific recommendations or view expressed in this research report.    Liquid Insight  06 January 2015 10  Important Disclosures  BofA Merrill Lynch Research personnel including the analyst s responsible for this report receive compensation based upon among other factors the overall profitability of Bank of America Corporation including profits derived from investment banking revenues. BofA Merrill Lynch Global Credit Research analysts regularly interact with sales and trading desk personnel in connection with their research including to ascertain pricing and liquidity in the fixed income markets. Other Important Disclosures This report may refer to fixed income securities that may not be offered or sold in one or more states or jurisdictions. Readers of this report are advised that any discussion recommendation or other mention of such securities is not a solicitation or offer to transact in such securities. Investors should contact their BofA Merrill Lynch representative or Merrill Lynch Financial Global Wealth Management financial advisor for information relating to fixed income securities Rule 144A securities may be offered or sold only to persons in the U. S. who are Qualified Institutional Buyers within the meaning of Rule 144A under the Securities Act of 1933 as amended. SECURITIES DISCUSSED HEREIN MAY BE RATED BELOW INVESTMENT GRADE AND SHOULD THEREFORE ONLY BE CONSIDERED FOR INCLUSION IN ACCOUNTS QUALIFIED FOR SPECULATIVE INVESTMENT. Recipients who are not institutional investors or market professionals should seek the advice of their independent financial advisor before considering information in this report in connection with any investment decision or for a necessary explanation of its contents. The securities discussed in this report may be traded overthecounter. Retail sales andor distribution of this report may be made only in states where these securities are exempt from registration or have been qualified for sale. Officers of MLPFamp S or one or more of its affiliates other than research analysts may have a financial interest in securities of the issuer s or in related investments. This report and the securities discussed herein may not be eligible for distribution or sale in all countries or to certain categories of investors. BofA Merrill Lynch Global Research policies relating to conflicts of interest are described at http www.ml.commedia43347.pdf. quot BofA Merrill Lynchquot includes Merrill Lynch Pierce Fenner amp Smith Incorporated quotMLPFamp Squot and its affiliates. Investors should contact their BofA Merrill Lynch representative or Merrill Lynch Global Wealth Management financial advisor if they have questions concerning this report. quot BofA Merrill Lynchquot and quot Merrill Lynchquot are each global brands for BofA Merrill Lynch Global Research. Information relating to NonUS affiliates of BofA Merrill Lynch and Distribution of Affiliate Research Reports MLPFamp S distributes or may in the future distribute research reports of the following nonUS affiliates in the US short name legal name Merrill Lynch  France Merrill Lynch Capital Markets  France SAS Merrill Lynch  Frankfurt Merrill Lynch International Bank Ltd. Frankfurt Branch Merrill Lynch  South Africa Merrill Lynch South Africa  Pty Ltd. Merrill Lynch  Milan Merrill Lynch International Bank Limited MLI  UK Merrill Lynch International Merrill Lynch  Australia Merrill Lynch Equities  Australia Limited Merrill Lynch  Hong Kong Merrill Lynch  Asia Pacific Limited Merrill Lynch  Singapore Merrill Lynch  Singapore Pte Ltd. Merrill Lynch  Canada Merrill Lynch Canada Inc Merrill Lynch  Mexico Merrill Lynch Mexico SA de CV Casa de Bolsa Merrill Lynch  Argentina Merrill Lynch Argentina SA Merrill Lynch  Japan Merrill Lynch Japan Securities Co. Ltd. Merrill Lynch  Seoul Merrill Lynch International Incorporated  Seoul Branch Merrill Lynch  Taiwan Merrill Lynch Securities  Taiwan Ltd. DSP Merrill Lynch  India DSP Merrill Lynch Limited PT Merrill Lynch  Indonesia PT Merrill Lynch Indonesia Merrill Lynch  Israel Merrill Lynch Israel Limited Merrill Lynch  Russia OOO Merrill Lynch Securities Moscow Merrill Lynch  Turkey I. B. Merrill Lynch Yatirim Bank A. S. Merrill Lynch  Turkey Broker Merrill Lynch Menkul Deerler A.. Merrill Lynch  Dubai Merrill Lynch International Dubai Branch MLPFamp S  Zurich rep. office MLPFamp S Incorporated Zurich representative office Merrill Lynch  Spain Merrill Lynch Capital Markets Espana S. A. S. V. Merrill Lynch  Brazil Bank of America Merrill Lynch Banco Multiplo S. A. Merrill Lynch KSA Company Merrill Lynch Kingdom of Saudi Arabia Company. This research report has been approved for publication and is distributed in the United Kingdom to professional clients and eligible counterparties as each is defined in the rules of the Financial Conduct Authority and the Prudential Regulation Authority by Merrill Lynch International and Bank of America Merrill Lynch International Limited which are authorized by the Prudential Regulation Authority and regulated by the Financial Conduct Authority and the Prudential Regulation Authority and is distributed in the United Kingdom to retail clients as defined in the rules of the Financial Conduct Authority and the Prudential Regulation Authority by Merrill Lynch International Bank Limited London Branch which is authorised by the Central Bank of Ireland and subject to limited regulation by the Financial Conduct Authority and Prudential Regulation Authority  details about the extent of our regulation by the Financial Conduct Authority and Prudential Regulation Authority are available from us on request has been considered and distributed in Japan by Merrill Lynch Japan Securities Co. Ltd. a registered securities dealer under the Financial Instruments and Exchange Act in Japan is distributed in Hong Kong by Merrill Lynch  Asia Pacific Limited which is regulated by the Hong Kong SFC and the Hong Kong Monetary Authority is issued and distributed in Taiwan by Merrill Lynch Securities  Taiwan Ltd. is issued and distributed in India by DSP Merrill Lynch Limited and is issued and distributed in Singapore to institutional investors andor accredited investors  each as defined under the Financial Advisers Regulations by Merrill Lynch International Bank Limited  Merchant Bank and Merrill Lynch  Singapore Pte Ltd. Company Registration No. s F 06872E and 198602883D respectively. Merrill Lynch International Bank Limited  Merchant Bank and Merrill Lynch  Singapore Pte Ltd. are regulated by the Monetary Authority of Singapore. Bank of America N. A. Australian Branch ARBN 064 874 531 AFS License 412901  BANA Australia and Merrill Lynch Equities  Australia Limited ABN 65 006 276 795 AFS License 235132  MLEA distributes this report in Australia only to Wholesale clients as defined by s.761G of the Corporations Act 2001. With the exception of BANA Australia neither MLEA nor any of its affiliates involved in preparing this research report is an Authorised DepositTaking Institution under the Banking Act 1959 nor regulated by the Australian Prudential Regulation Authority. No approval is required for publication or distribution of this report in Brazil and its local distribution is made by Bank of America Merrill Lynch Banco Mltiplo S. A. in accordance with applicable regulations. Merrill Lynch  Dubai is authorized and regulated by the Dubai Financial Services Authority  DFSA. Research reports prepared and issued by Merrill Lynch  Dubai are prepared and issued in accordance with the requirements of the DFSA conduct of business rules. Merrill Lynch  Frankfurt distributes this report in Germany. Merrill Lynch  Frankfurt is regulated by BaFin. This research report has been prepared and issued by MLPFamp S andor one or more of its nonUS affiliates. MLPFamp S is the distributor of this research report in the US and accepts full responsibility for research reports of its nonUS affiliates distributed to MLPFamp S clients in the US. Any US person receiving this research report and wishing to effect any transaction in any security discussed in the report should do so through MLPFamp S and not such foreign affiliates. Hong Kong recipients of this research report should contact Merrill Lynch  Asia Pacific Limited in respect of any matters relating to dealing in securities or provision of specific advice on securities. Singapore recipients of this research report should contact Merrill Lynch International Bank Limited  Merchant Bank andor Merrill Lynch  Singapore Pte Ltd in respect of any matters arising from or in connection with this research report.    Liquid Insight  06 January 2015 11 General Investment Related Disclosures Taiwan Readers Neither the information nor any opinion expressed herein constitutes an offer or a solicitation of an offer to transact in any securities or other financial instrument. No part of this report may be used or reproduced or quoted in any manner whatsoever in Taiwan by the press or any other person without the express written consent of BofA Merrill Lynch. This research report provides general information only. Neither the information nor any opinion expressed constitutes an offer or an invitation to make an offer to buy or sell any securities or other financial instrument or any derivative related to such securities or instruments  e. g. options futures warrants and contracts for differences. This report is not intended to provide personal investment advice and it does not take into account the specific investment objectives financial situation and the particular needs of any specific person. Investors should seek financial advice regarding the appropriateness of investing in financial instruments and implementing investment strategies discussed or recommended in this report and should understand that statements regarding future prospects may not be realized. Any decision to purchase or subscribe for securities in any offering must be based solely on existing public information on such security or the information in the prospectus or other offering document issued in connection with such offering and not on this report. Securities and other financial instruments discussed in this report or recommended offered or sold by Merrill Lynch are not insured by the Federal Deposit Insurance Corporation and are not deposits or other obligations of any insured depository institution including Bank of America N. A.. Investments in general and derivatives in particular involve numerous risks including among others market risk counterparty default risk and liquidity risk. No security financial instrument or derivative is suitable for all investors. In some cases securities and other financial instruments may be difficult to value or sell and reliable information about the value or risks related to the security or financial instrument may be difficult to obtain. Investors should note that income from such securities and other financial instruments if any may fluctuate and that price or value of such securities and instruments may rise or fall and in some cases investors may lose their entire principal investment. Past performance is not necessarily a guide to future performance. Levels and basis for taxation may change. Futures and options are not appropriate for all investors. Such financial instruments may expire worthless. Before investing in futures or options clients must receive the appropriate risk disclosure documents. Investment strategies explained in this report may not be appropriate at all times. Costs of such strategies do not include commission or margin expenses. BofA Merrill Lynch is aware that the implementation of the ideas expressed in this report may depend upon an investor s ability to quotshortquot securities or other financial instruments and that such action may be limited by regulations prohibiting or restricting quotshortsellingquot in many jurisdictions. Investors are urged to seek advice regarding the applicability of such regulations prior to executing any short idea contained in this report. This report may contain a trading idea or recommendation which highlights a specific identified near term catalyst or event impacting a security issuer industry sector or the market generally that presents a transaction opportunity but does not have any impact on the analyst s particular  Overweight or  Underweight rating which is based on a three month trade horizon. Trading ideas and recommendations may differ directionally from the analyst s rating on a security or issuer because they reflect the impact of a near term catalyst or event. Foreign currency rates of exchange may adversely affect the value price or income of any security or financial instrument mentioned in this report. Investors in such securities and instruments effectively assume currency risk. UK Readers The protections provided by the U. K. regulatory regime including the Financial Services Scheme do not apply in general to business coordinated by BofA Merrill Lynch entities located outside of the United Kingdom. BofA Merrill Lynch Global Research policies relating to conflicts of interest are described at http www.ml.commedia43347.pdf. Officers of MLPFamp S or one or more of its affiliates other than research analysts may have a financial interest in securities of the issuer s or in related investments. MLPFamp S or one of its affiliates is a regular issuer of traded financial instruments linked to securities that may have been recommended in this report. MLPFamp S or one of its affiliates may at any time hold a trading position  long or short in the securities and financial instruments discussed in this report. BofA Merrill Lynch through business units other than BofA Merrill Lynch Global Research may have issued and may in the future issue trading ideas or recommendations that are inconsistent with and reach different conclusions from the information presented in this report. Such ideas or recommendations reflect the different time frames assumptions views and analytical methods of the persons who prepared them and BofA Merrill Lynch is under no obligation to ensure that such other trading ideas or recommendations are brought to the attention of any recipient of this report. In the event that the recipient received this report pursuant to a contract between the recipient and MLPFamp S for the provision of research services for a separate fee and in connection therewith MLPFamp S may be deemed to be acting as an investment adviser such status relates if at all solely to the person with whom MLPFamp S has contracted directly and does not extend beyond the delivery of this report unless otherwise agreed specifically in writing by MLPFamp S. MLPFamp S is and continues to act solely as a brokerdealer in connection with the execution of any transactions including transactions in any securities mentioned in this report. Copyright and General Information regarding Research Reports Copyright 2015 Merrill Lynch Pierce Fenner amp Smith Incorporated. All rights reserved. This research report is prepared for the use of BofA Merrill Lynch clients and may not be redistributed retransmitted or disclosed in whole or in part or in any form or manner without the express written consent of BofA Merrill Lynch. BofA Merrill Lynch research reports are distributed simultaneously to internal and client websites and other portals by BofA Merrill Lynch and are not publiclyavailable materials. Any unauthorized use or disclosure is prohibited. Receipt and review of this research report constitutes your agreement not to redistribute retransmit or disclose to others the contents opinions conclusion or information contained in this report including any investment recommendations estimates or price targets without first obtaining expressed permission from an authorized officer of BofA Merrill Lynch. Materials prepared by BofA Merrill Lynch Global Research personnel are based on public information. Facts and views presented in this material have not been reviewed by and may not reflect information known to professionals in other business areas of BofA Merrill Lynch including investment banking personnel. BofA Merrill Lynch has established information barriers between BofA Merrill Lynch Global Research and certain business groups. As a result BofA Merrill Lynch does not disclose certain client relationships with or compensation received from such companies in research reports. To the extent this report discusses any legal proceeding or issues it has not been prepared as nor is it intended to express any legal conclusion opinion or advice. Investors should consult their own legal advisers as to issues of law relating to the subject matter of this report. BofA Merrill Lynch Global Research personnel s knowledge of legal proceedings in which any BofA Merrill Lynch entity andor its directors officers and employees may be plaintiffs defendants codefendants or coplaintiffs with or involving companies mentioned in this report is based on public information. Facts and views presented in this material that relate to any such proceedings have not been reviewed by discussed with and may not reflect information known to professionals in other business areas of BofA Merrill Lynch in connection with the legal proceedings or matters relevant to such proceedings. This report has been prepared independently of any issuer of securities mentioned herein and not in connection with any proposed offering of securities or as agent of any issuer of any securities. None of MLPFamp S any of its affiliates or their research analysts has any authority whatsoever to make any representation or warranty on behalf of the issuer s. BofA Merrill Lynch Global Research policy prohibits research personnel from disclosing a recommendation investment rating or investment thesis for review by an issuer prior to the publication of a research report containing such rating recommendation or investment thesis. Any information relating to the tax status of financial instruments discussed herein is not intended to provide tax advice or to be used by anyone to provide tax advice. Investors are urged to seek tax advice based on their particular circumstances from an independent tax professional. The information herein other than disclosure information relating to BofA Merrill Lynch and its affiliates was obtained from various sources and we do not guarantee its accuracy. This report may contain links to third party websites. BofA Merrill Lynch is not responsible for the content of any third party website or any linked content contained in a third party website. Content contained on such third party websites is not part of this report and is not incorporated by reference into this report. The inclusion of a link in this report does not imply any endorsement by or any affiliation with BofA Merrill Lynch. Access to any third party website is at    Liquid Insight  06 January 2015 12 your own risk and you should always review the terms and privacy policies at third party websites before submitting any personal information to them. BofA Merrill Lynch is not responsible for such terms and privacy policies and expressly disclaims any liability for them. All opinions projections and estimates constitute the judgment of the author as of the date of the report and are subject to change without notice. Prices also are subject to change without notice. BofA Merrill Lynch is under no obligation to update this report and BofA Merrill Lynch s ability to publish research on the subject companyies in the future is subject to applicable quiet periods. You should therefore assume that BofA Merrill Lynch will not update any fact circumstance or opinion contained in this report. Certain outstanding reports may contain discussions andor investment opinions relating to securities financial instruments andor issuers that are no longer current. Always refer to the most recent research report relating to a company or issuer prior to making an investment decision. In some cases a company or issuer may be classified as Restricted or may be Under Review or Extended Review. In each case investors should consider any investment opinion relating to such company or issuer or its security andor financial instruments to be suspended or withdrawn and should not rely on the analyses and investment opinion s pertaining to such issuer or its securities andor financial instruments nor should the analyses or opinion s be considered a solicitation of any kind. Sales persons and financial advisors affiliated with MLPFamp S or any of its affiliates may not solicit purchases of securities or financial instruments that are Restricted or Under Review and may only solicit securities under Extended Review in accordance with firm policies. Neither BofA Merrill Lynch nor any officer or employee of BofA Merrill Lynch accepts any liability whatsoever for any direct indirect or consequential damages or losses arising from any use of this report or its contents.    Liquid Insight  06 January 2015 13  Team Page US David Woo 1 646 855 5442 FX and Rates Strategist MLPFamp S david.woobaml.com Priya Misra 1 646 855 6467 Rates Strategist MLPFamp S p.misrabaml.com Ralph Axel 1 646 855 6226 Rates Strategist MLPFamp S ralph.axelbaml.com Ruslan Bikbov 1 646 855 9770 Rates Strategist MLPFamp S ruslan.bikbovbaml.com Brian Smedley 1 646 855 9809 Rates Strategist MLPFamp S brian.smedleybaml.com Shyam S.Rajan 1 646 855 9808 Rates Strategist MLPFamp S shyam.rajanbaml.com John Shin 1 646 855 9342 FX Strategist MLPFamp S joong. s.shinbaml.com MacNeil Curry CFA CMT 1 646 855 6781 Technical Strategist MLPFamp S macneil.currybaml.com John Hopkinson 1 646 855 6246 FX Strategist MLPFamp S john.hopkinsonbaml.com Ankur Singh 1 646 855 9699 FX Strategist MLPFamp S ankur.singhbaml.com Ian Gordon 1 646 855 8749 FX Strategist MLPFamp S ian.gordonbaml.com Vadim Iaralov 1 646 855 8732 FX Strategist MLPFamp S vadim.iaralovbaml.com Europe Ralf Preusser CFA 44 20 7995 7331 Rates Strategist MLI  UK ralf.preusserbaml.com Ruben SeguraCayuela 44 20 7995 2102 Europe Economist MLI UK ruben.seguracayuelabaml.com Mark Capleton 44 20 7995 6118 Rates Strategist MLI  UK mark.capletonbaml.com Sphia Salim 44 20 7996 2227 Rates Strategist MLI  UK sphia.salimbaml.com Athanasios Vamvakidis 44 20 7995 0790 FX Strategist MLI  UK athanasios.vamvakidisbaml.com Kamal Sharma 44 20 7996 4855 FX Strategist MLI  UK ksharma32baml.com Myria Kyriacou 44 20 7996 1728 FX Strategist MLI  UK myria.kyriacoubaml.com Pac Rim Tony Morriss 61 2 9226 5023 Rates Strategist Merrill Lynch  Australia tony.morrissbaml.com Shogo Fujita 81 3 6225 6684 Rates Strategist Merrill Lynch  Japan shogo.fujitabaml.com Adarsh Sinha 852 2161 7155 FX Strategist Merrill Lynch  Hong Kong adarsh.sinhabaml.com Shuichi Ohsaki 81 3 6225 7747 Rates Strategist Merrill Lynch  Japan shuichi.ohsakibaml.com Yang Chen 852 3602 1695 Rates Strategist Merrill Lynch  Hong Kong ychen8baml.com Shusuke Yamada CFA 81 3 6225 8515 FX Strategist Merrill Lynch  Japan shusuke.yamadabaml.com Global Emerging Markets Alberto Ades 1 646 855 4044 GEM FI FX Strategy Economist MLPFamp S alberto. adesbaml.com Claudio Irigoyen 1 646 855 1734 LatAm FIFX Strategist MLPFamp S claudio.irigoyenbaml.com David Hauner CFA 44 20 7996 1241 EEMEA Strategist amp Economist MLI  UK david.haunerbaml.com Claudio Piron 65 6591 0401 Emerging Asia FI FX Strategist Merrill Lynch  Singapore claudio.pironbaml.com Isidore Smart 1 646 855 8083 GEM Economist MLPFamp S isidore.smartbaml.com .\n"
     ]
    }
   ],
   "source": [
    "for i in email_clean[0:2]:\n",
    "    print(i)"
   ]
  },
  {
   "cell_type": "code",
   "execution_count": 27,
   "metadata": {},
   "outputs": [
    {
     "name": "stderr",
     "output_type": "stream",
     "text": [
      "[nltk_data] Downloading package averaged_perceptron_tagger to\n",
      "[nltk_data]     C:\\Users\\amrenkumar\\AppData\\Roaming\\nltk_data...\n",
      "[nltk_data]   Package averaged_perceptron_tagger is already up-to-\n",
      "[nltk_data]       date!\n"
     ]
    },
    {
     "data": {
      "text/plain": [
       "True"
      ]
     },
     "execution_count": 27,
     "metadata": {},
     "output_type": "execute_result"
    }
   ],
   "source": [
    "import nltk\n",
    "from nltk.tag import pos_tag\n",
    "nltk.download('averaged_perceptron_tagger')"
   ]
  },
  {
   "cell_type": "code",
   "execution_count": 28,
   "metadata": {},
   "outputs": [],
   "source": [
    "sent_tokens=[]\n",
    "for i in list(email_clean):\n",
    "    sent_tokens.append(nltk.sent_tokenize(i))"
   ]
  },
  {
   "cell_type": "code",
   "execution_count": 29,
   "metadata": {},
   "outputs": [],
   "source": [
    "sents = []\n",
    "for sent in range(len(sent_tokens)):\n",
    "    for i in range(len(sent_tokens[sent])):\n",
    "        sents.append(sent_tokens[sent][i])\n",
    "    "
   ]
  },
  {
   "cell_type": "code",
   "execution_count": 30,
   "metadata": {},
   "outputs": [],
   "source": [
    "def tokenizer(sent):\n",
    "    tokens = nltk.word_tokenize(sent)\n",
    "    tags = nltk.pos_tag(tokens)\n",
    "    \n",
    "    tag_p = []\n",
    "    for i in range(len(tags)):\n",
    "        tag_p.append(tags[i][1])\n",
    "    \n",
    "    token_len = []\n",
    "    for i in tokens:\n",
    "        token_len.append(len(i)+1)\n",
    "        \n",
    "    list2 = list(accumulate(token_len))\n",
    "    list2 = [x -1 for x in list2 ]\n",
    "    \n",
    "    list0 = [0]\n",
    "    for i in list2:\n",
    "        list0.append(i+1)\n",
    "        \n",
    "    data = pd.DataFrame(list(zip(tokens,list0,list2, tag_p)))\n",
    "    \n",
    "    return data"
   ]
  },
  {
   "cell_type": "code",
   "execution_count": 31,
   "metadata": {},
   "outputs": [],
   "source": [
    "df_final= pd.DataFrame()\n",
    "for sent in sents[0:500]:\n",
    "    df_final = df_final.append(tokenizer(sent))"
   ]
  },
  {
   "cell_type": "code",
   "execution_count": 16,
   "metadata": {},
   "outputs": [],
   "source": [
    "df_final.to_csv('Annotation.csv')"
   ]
  },
  {
   "cell_type": "code",
   "execution_count": 33,
   "metadata": {},
   "outputs": [
    {
     "data": {
      "text/html": [
       "<div>\n",
       "<style scoped>\n",
       "    .dataframe tbody tr th:only-of-type {\n",
       "        vertical-align: middle;\n",
       "    }\n",
       "\n",
       "    .dataframe tbody tr th {\n",
       "        vertical-align: top;\n",
       "    }\n",
       "\n",
       "    .dataframe thead th {\n",
       "        text-align: right;\n",
       "    }\n",
       "</style>\n",
       "<table border=\"1\" class=\"dataframe\">\n",
       "  <thead>\n",
       "    <tr style=\"text-align: right;\">\n",
       "      <th></th>\n",
       "      <th>0</th>\n",
       "      <th>1</th>\n",
       "      <th>2</th>\n",
       "      <th>3</th>\n",
       "    </tr>\n",
       "  </thead>\n",
       "  <tbody>\n",
       "    <tr>\n",
       "      <th>0</th>\n",
       "      <td>Trading</td>\n",
       "      <td>0</td>\n",
       "      <td>7</td>\n",
       "      <td>NN</td>\n",
       "    </tr>\n",
       "    <tr>\n",
       "      <th>1</th>\n",
       "      <td>ideas</td>\n",
       "      <td>8</td>\n",
       "      <td>13</td>\n",
       "      <td>NNS</td>\n",
       "    </tr>\n",
       "    <tr>\n",
       "      <th>2</th>\n",
       "      <td>and</td>\n",
       "      <td>14</td>\n",
       "      <td>17</td>\n",
       "      <td>CC</td>\n",
       "    </tr>\n",
       "    <tr>\n",
       "      <th>3</th>\n",
       "      <td>investment</td>\n",
       "      <td>18</td>\n",
       "      <td>28</td>\n",
       "      <td>NN</td>\n",
       "    </tr>\n",
       "    <tr>\n",
       "      <th>4</th>\n",
       "      <td>strategies</td>\n",
       "      <td>29</td>\n",
       "      <td>39</td>\n",
       "      <td>NNS</td>\n",
       "    </tr>\n",
       "    <tr>\n",
       "      <th>5</th>\n",
       "      <td>discussed</td>\n",
       "      <td>40</td>\n",
       "      <td>49</td>\n",
       "      <td>VBN</td>\n",
       "    </tr>\n",
       "    <tr>\n",
       "      <th>6</th>\n",
       "      <td>herein</td>\n",
       "      <td>50</td>\n",
       "      <td>56</td>\n",
       "      <td>NN</td>\n",
       "    </tr>\n",
       "    <tr>\n",
       "      <th>7</th>\n",
       "      <td>may</td>\n",
       "      <td>57</td>\n",
       "      <td>60</td>\n",
       "      <td>MD</td>\n",
       "    </tr>\n",
       "    <tr>\n",
       "      <th>8</th>\n",
       "      <td>give</td>\n",
       "      <td>61</td>\n",
       "      <td>65</td>\n",
       "      <td>VB</td>\n",
       "    </tr>\n",
       "    <tr>\n",
       "      <th>9</th>\n",
       "      <td>rise</td>\n",
       "      <td>66</td>\n",
       "      <td>70</td>\n",
       "      <td>NN</td>\n",
       "    </tr>\n",
       "    <tr>\n",
       "      <th>10</th>\n",
       "      <td>to</td>\n",
       "      <td>71</td>\n",
       "      <td>73</td>\n",
       "      <td>TO</td>\n",
       "    </tr>\n",
       "    <tr>\n",
       "      <th>11</th>\n",
       "      <td>significant</td>\n",
       "      <td>74</td>\n",
       "      <td>85</td>\n",
       "      <td>JJ</td>\n",
       "    </tr>\n",
       "    <tr>\n",
       "      <th>12</th>\n",
       "      <td>risk</td>\n",
       "      <td>86</td>\n",
       "      <td>90</td>\n",
       "      <td>NN</td>\n",
       "    </tr>\n",
       "    <tr>\n",
       "      <th>13</th>\n",
       "      <td>and</td>\n",
       "      <td>91</td>\n",
       "      <td>94</td>\n",
       "      <td>CC</td>\n",
       "    </tr>\n",
       "    <tr>\n",
       "      <th>14</th>\n",
       "      <td>are</td>\n",
       "      <td>95</td>\n",
       "      <td>98</td>\n",
       "      <td>VBP</td>\n",
       "    </tr>\n",
       "    <tr>\n",
       "      <th>15</th>\n",
       "      <td>not</td>\n",
       "      <td>99</td>\n",
       "      <td>102</td>\n",
       "      <td>RB</td>\n",
       "    </tr>\n",
       "    <tr>\n",
       "      <th>16</th>\n",
       "      <td>suitable</td>\n",
       "      <td>103</td>\n",
       "      <td>111</td>\n",
       "      <td>JJ</td>\n",
       "    </tr>\n",
       "    <tr>\n",
       "      <th>17</th>\n",
       "      <td>for</td>\n",
       "      <td>112</td>\n",
       "      <td>115</td>\n",
       "      <td>IN</td>\n",
       "    </tr>\n",
       "    <tr>\n",
       "      <th>18</th>\n",
       "      <td>all</td>\n",
       "      <td>116</td>\n",
       "      <td>119</td>\n",
       "      <td>DT</td>\n",
       "    </tr>\n",
       "    <tr>\n",
       "      <th>19</th>\n",
       "      <td>investors</td>\n",
       "      <td>120</td>\n",
       "      <td>129</td>\n",
       "      <td>NNS</td>\n",
       "    </tr>\n",
       "    <tr>\n",
       "      <th>20</th>\n",
       "      <td>.</td>\n",
       "      <td>130</td>\n",
       "      <td>131</td>\n",
       "      <td>.</td>\n",
       "    </tr>\n",
       "    <tr>\n",
       "      <th>0</th>\n",
       "      <td>Investors</td>\n",
       "      <td>0</td>\n",
       "      <td>9</td>\n",
       "      <td>NNS</td>\n",
       "    </tr>\n",
       "    <tr>\n",
       "      <th>1</th>\n",
       "      <td>should</td>\n",
       "      <td>10</td>\n",
       "      <td>16</td>\n",
       "      <td>MD</td>\n",
       "    </tr>\n",
       "    <tr>\n",
       "      <th>2</th>\n",
       "      <td>have</td>\n",
       "      <td>17</td>\n",
       "      <td>21</td>\n",
       "      <td>VB</td>\n",
       "    </tr>\n",
       "    <tr>\n",
       "      <th>3</th>\n",
       "      <td>experience</td>\n",
       "      <td>22</td>\n",
       "      <td>32</td>\n",
       "      <td>NN</td>\n",
       "    </tr>\n",
       "    <tr>\n",
       "      <th>4</th>\n",
       "      <td>in</td>\n",
       "      <td>33</td>\n",
       "      <td>35</td>\n",
       "      <td>IN</td>\n",
       "    </tr>\n",
       "    <tr>\n",
       "      <th>5</th>\n",
       "      <td>FX</td>\n",
       "      <td>36</td>\n",
       "      <td>38</td>\n",
       "      <td>NNP</td>\n",
       "    </tr>\n",
       "    <tr>\n",
       "      <th>6</th>\n",
       "      <td>markets</td>\n",
       "      <td>39</td>\n",
       "      <td>46</td>\n",
       "      <td>NNS</td>\n",
       "    </tr>\n",
       "    <tr>\n",
       "      <th>7</th>\n",
       "      <td>and</td>\n",
       "      <td>47</td>\n",
       "      <td>50</td>\n",
       "      <td>CC</td>\n",
       "    </tr>\n",
       "    <tr>\n",
       "      <th>8</th>\n",
       "      <td>the</td>\n",
       "      <td>51</td>\n",
       "      <td>54</td>\n",
       "      <td>DT</td>\n",
       "    </tr>\n",
       "    <tr>\n",
       "      <th>9</th>\n",
       "      <td>financial</td>\n",
       "      <td>55</td>\n",
       "      <td>64</td>\n",
       "      <td>JJ</td>\n",
       "    </tr>\n",
       "    <tr>\n",
       "      <th>10</th>\n",
       "      <td>resources</td>\n",
       "      <td>65</td>\n",
       "      <td>74</td>\n",
       "      <td>NNS</td>\n",
       "    </tr>\n",
       "    <tr>\n",
       "      <th>11</th>\n",
       "      <td>to</td>\n",
       "      <td>75</td>\n",
       "      <td>77</td>\n",
       "      <td>TO</td>\n",
       "    </tr>\n",
       "    <tr>\n",
       "      <th>12</th>\n",
       "      <td>absorb</td>\n",
       "      <td>78</td>\n",
       "      <td>84</td>\n",
       "      <td>VB</td>\n",
       "    </tr>\n",
       "    <tr>\n",
       "      <th>13</th>\n",
       "      <td>any</td>\n",
       "      <td>85</td>\n",
       "      <td>88</td>\n",
       "      <td>DT</td>\n",
       "    </tr>\n",
       "    <tr>\n",
       "      <th>14</th>\n",
       "      <td>losses</td>\n",
       "      <td>89</td>\n",
       "      <td>95</td>\n",
       "      <td>NNS</td>\n",
       "    </tr>\n",
       "    <tr>\n",
       "      <th>15</th>\n",
       "      <td>arising</td>\n",
       "      <td>96</td>\n",
       "      <td>103</td>\n",
       "      <td>VBG</td>\n",
       "    </tr>\n",
       "    <tr>\n",
       "      <th>16</th>\n",
       "      <td>from</td>\n",
       "      <td>104</td>\n",
       "      <td>108</td>\n",
       "      <td>IN</td>\n",
       "    </tr>\n",
       "    <tr>\n",
       "      <th>17</th>\n",
       "      <td>applying</td>\n",
       "      <td>109</td>\n",
       "      <td>117</td>\n",
       "      <td>VBG</td>\n",
       "    </tr>\n",
       "    <tr>\n",
       "      <th>18</th>\n",
       "      <td>these</td>\n",
       "      <td>118</td>\n",
       "      <td>123</td>\n",
       "      <td>DT</td>\n",
       "    </tr>\n",
       "  </tbody>\n",
       "</table>\n",
       "</div>"
      ],
      "text/plain": [
       "              0    1    2    3\n",
       "0       Trading    0    7   NN\n",
       "1         ideas    8   13  NNS\n",
       "2           and   14   17   CC\n",
       "3    investment   18   28   NN\n",
       "4    strategies   29   39  NNS\n",
       "5     discussed   40   49  VBN\n",
       "6        herein   50   56   NN\n",
       "7           may   57   60   MD\n",
       "8          give   61   65   VB\n",
       "9          rise   66   70   NN\n",
       "10           to   71   73   TO\n",
       "11  significant   74   85   JJ\n",
       "12         risk   86   90   NN\n",
       "13          and   91   94   CC\n",
       "14          are   95   98  VBP\n",
       "15          not   99  102   RB\n",
       "16     suitable  103  111   JJ\n",
       "17          for  112  115   IN\n",
       "18          all  116  119   DT\n",
       "19    investors  120  129  NNS\n",
       "20            .  130  131    .\n",
       "0     Investors    0    9  NNS\n",
       "1        should   10   16   MD\n",
       "2          have   17   21   VB\n",
       "3    experience   22   32   NN\n",
       "4            in   33   35   IN\n",
       "5            FX   36   38  NNP\n",
       "6       markets   39   46  NNS\n",
       "7           and   47   50   CC\n",
       "8           the   51   54   DT\n",
       "9     financial   55   64   JJ\n",
       "10    resources   65   74  NNS\n",
       "11           to   75   77   TO\n",
       "12       absorb   78   84   VB\n",
       "13          any   85   88   DT\n",
       "14       losses   89   95  NNS\n",
       "15      arising   96  103  VBG\n",
       "16         from  104  108   IN\n",
       "17     applying  109  117  VBG\n",
       "18        these  118  123   DT"
      ]
     },
     "execution_count": 33,
     "metadata": {},
     "output_type": "execute_result"
    }
   ],
   "source": [
    "df_final.head(40)"
   ]
  },
  {
   "cell_type": "code",
   "execution_count": null,
   "metadata": {},
   "outputs": [],
   "source": []
  }
 ],
 "metadata": {
  "kernelspec": {
   "display_name": "Python 3",
   "language": "python",
   "name": "python3"
  },
  "language_info": {
   "codemirror_mode": {
    "name": "ipython",
    "version": 3
   },
   "file_extension": ".py",
   "mimetype": "text/x-python",
   "name": "python",
   "nbconvert_exporter": "python",
   "pygments_lexer": "ipython3",
   "version": "3.7.6"
  }
 },
 "nbformat": 4,
 "nbformat_minor": 2
}
