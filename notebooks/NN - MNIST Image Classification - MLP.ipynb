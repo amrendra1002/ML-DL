{
 "cells": [
  {
   "cell_type": "markdown",
   "metadata": {},
   "source": [
    "### Classify MNIST digits using MLP"
   ]
  },
  {
   "cell_type": "code",
   "execution_count": 1,
   "metadata": {},
   "outputs": [
    {
     "name": "stderr",
     "output_type": "stream",
     "text": [
      "C:\\Amrendra\\Anaconda\\lib\\site-packages\\h5py\\__init__.py:36: FutureWarning: Conversion of the second argument of issubdtype from `float` to `np.floating` is deprecated. In future, it will be treated as `np.float64 == np.dtype(float).type`.\n",
      "  from ._conv import register_converters as _register_converters\n",
      "Using TensorFlow backend.\n"
     ]
    }
   ],
   "source": [
    "import keras\n",
    "from keras.models import Sequential\n",
    "from keras.layers import Dense\n",
    "from keras.optimizers import SGD"
   ]
  },
  {
   "cell_type": "code",
   "execution_count": 2,
   "metadata": {},
   "outputs": [],
   "source": [
    "from keras.datasets import mnist\n",
    "(x_train, y_train), (x_test, y_test) = mnist.load_data()"
   ]
  },
  {
   "cell_type": "code",
   "execution_count": 3,
   "metadata": {},
   "outputs": [
    {
     "name": "stdout",
     "output_type": "stream",
     "text": [
      "(60000, 28, 28)\n",
      "(60000,)\n",
      "(10000, 28, 28)\n",
      "(10000,)\n"
     ]
    }
   ],
   "source": [
    "print(x_train.shape)\n",
    "print(y_train.shape)\n",
    "print(x_test.shape)\n",
    "print(y_test.shape)"
   ]
  },
  {
   "cell_type": "code",
   "execution_count": 4,
   "metadata": {},
   "outputs": [],
   "source": [
    "x_train=x_train.reshape(60000,784).astype('float32')\n",
    "x_test=x_test.reshape(10000,784).astype('float32')"
   ]
  },
  {
   "cell_type": "code",
   "execution_count": 5,
   "metadata": {},
   "outputs": [],
   "source": [
    "x_train /= 255\n",
    "x_test /= 255"
   ]
  },
  {
   "cell_type": "code",
   "execution_count": 6,
   "metadata": {},
   "outputs": [],
   "source": [
    "n_class=10\n",
    "y_train = keras.utils.to_categorical(y_train,n_class)\n",
    "y_test = keras.utils.to_categorical(y_test,n_class)"
   ]
  },
  {
   "cell_type": "code",
   "execution_count": 7,
   "metadata": {},
   "outputs": [],
   "source": [
    "model = Sequential()\n",
    "model.add(Dense(256,activation='tanh',input_shape=(784,)))\n",
    "model.add(Dense(10,activation='softmax'))"
   ]
  },
  {
   "cell_type": "code",
   "execution_count": 8,
   "metadata": {},
   "outputs": [],
   "source": [
    "model.compile(optimizer='adam', loss='categorical_crossentropy', metrics=['accuracy'])"
   ]
  },
  {
   "cell_type": "code",
   "execution_count": 9,
   "metadata": {},
   "outputs": [
    {
     "name": "stdout",
     "output_type": "stream",
     "text": [
      "Train on 60000 samples, validate on 10000 samples\n",
      "Epoch 1/10\n",
      "60000/60000 [==============================] - 8s 138us/step - loss: 0.2719 - acc: 0.9206 - val_loss: 0.1462 - val_acc: 0.9565\n",
      "Epoch 2/10\n",
      "60000/60000 [==============================] - 9s 153us/step - loss: 0.1227 - acc: 0.9634 - val_loss: 0.0995 - val_acc: 0.9695\n",
      "Epoch 3/10\n",
      "60000/60000 [==============================] - 9s 144us/step - loss: 0.0795 - acc: 0.9763 - val_loss: 0.0897 - val_acc: 0.9724\n",
      "Epoch 4/10\n",
      "60000/60000 [==============================] - 11s 182us/step - loss: 0.0551 - acc: 0.9832 - val_loss: 0.0714 - val_acc: 0.9769\n",
      "Epoch 5/10\n",
      "60000/60000 [==============================] - 8s 140us/step - loss: 0.0397 - acc: 0.9880 - val_loss: 0.0734 - val_acc: 0.9770\n",
      "Epoch 6/10\n",
      "60000/60000 [==============================] - 8s 134us/step - loss: 0.0284 - acc: 0.9917 - val_loss: 0.0839 - val_acc: 0.9747\n",
      "Epoch 7/10\n",
      "60000/60000 [==============================] - 8s 135us/step - loss: 0.0210 - acc: 0.9940 - val_loss: 0.0730 - val_acc: 0.9790\n",
      "Epoch 8/10\n",
      "60000/60000 [==============================] - 9s 152us/step - loss: 0.0162 - acc: 0.9952 - val_loss: 0.0848 - val_acc: 0.9735\n",
      "Epoch 9/10\n",
      "60000/60000 [==============================] - 10s 159us/step - loss: 0.0116 - acc: 0.9969 - val_loss: 0.0667 - val_acc: 0.9799\n",
      "Epoch 10/10\n",
      "60000/60000 [==============================] - 10s 162us/step - loss: 0.0098 - acc: 0.9974 - val_loss: 0.0717 - val_acc: 0.9790\n"
     ]
    },
    {
     "data": {
      "text/plain": [
       "<keras.callbacks.History at 0x2b9053f9240>"
      ]
     },
     "execution_count": 9,
     "metadata": {},
     "output_type": "execute_result"
    }
   ],
   "source": [
    "model.fit(x_train,y_train,epochs=10,verbose=1, validation_data=(x_test,y_test))"
   ]
  },
  {
   "cell_type": "code",
   "execution_count": null,
   "metadata": {},
   "outputs": [],
   "source": []
  }
 ],
 "metadata": {
  "kernelspec": {
   "display_name": "Python 3",
   "language": "python",
   "name": "python3"
  },
  "language_info": {
   "codemirror_mode": {
    "name": "ipython",
    "version": 3
   },
   "file_extension": ".py",
   "mimetype": "text/x-python",
   "name": "python",
   "nbconvert_exporter": "python",
   "pygments_lexer": "ipython3",
   "version": "3.6.5"
  }
 },
 "nbformat": 4,
 "nbformat_minor": 2
}
