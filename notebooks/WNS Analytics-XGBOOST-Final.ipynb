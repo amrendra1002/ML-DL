{
 "cells": [
  {
   "cell_type": "markdown",
   "metadata": {},
   "source": [
    "### Problem Statement\n",
    "The task is to predict whether a potential promotee at checkpoint in the test set will be promoted or not after the evaluation process. "
   ]
  },
  {
   "cell_type": "code",
   "execution_count": 740,
   "metadata": {},
   "outputs": [],
   "source": [
    "\n",
    "import pandas as pd\n",
    "import numpy as np\n",
    "import xgboost as xgb\n",
    "from xgboost.sklearn import XGBClassifier\n",
    "from sklearn import cross_validation, metrics\n",
    "from sklearn.grid_search import GridSearchCV\n",
    "\n",
    "import matplotlib.pylab as plt\n",
    "%matplotlib inline\n",
    "from matplotlib.pylab import rcParams\n",
    "rcParams['figure.figsize'] = 12, 4"
   ]
  },
  {
   "cell_type": "code",
   "execution_count": 741,
   "metadata": {},
   "outputs": [],
   "source": [
    "train_data='D:/My Personal Documents/Learnings/Data Science/Data Sets/WNS Analytics/train_LZdllcl.csv'\n",
    "test_data='D:/My Personal Documents/Learnings/Data Science/Data Sets/WNS Analytics/test_2umaH9m.csv'\n",
    "train_result='D:/My Personal Documents/Learnings/Data Science/Data Sets/WNS Analytics/train_result.csv'"
   ]
  },
  {
   "cell_type": "code",
   "execution_count": 742,
   "metadata": {},
   "outputs": [],
   "source": [
    "train=pd.read_csv(train_data)\n",
    "test=pd.read_csv(test_data)\n",
    "test_results = pd.read_csv(train_result)"
   ]
  },
  {
   "cell_type": "code",
   "execution_count": 743,
   "metadata": {},
   "outputs": [],
   "source": [
    "target = 'is_promoted'\n",
    "IDcol = 'employee_id'\n",
    "exclusion=['education_Below Secondary','region_region_10','region_region_21','region_region_12','region_region_19','region_region_6','region_region_14','region_region_33','region_region_3']"
   ]
  },
  {
   "cell_type": "code",
   "execution_count": null,
   "metadata": {},
   "outputs": [],
   "source": []
  },
  {
   "cell_type": "code",
   "execution_count": 744,
   "metadata": {
    "scrolled": true
   },
   "outputs": [
    {
     "name": "stdout",
     "output_type": "stream",
     "text": [
      "(54808, 15) (23490, 14) (78298, 15)\n"
     ]
    },
    {
     "name": "stderr",
     "output_type": "stream",
     "text": [
      "C:\\Amrendra\\Anaconda\\lib\\site-packages\\ipykernel_launcher.py:3: FutureWarning: Sorting because non-concatenation axis is not aligned. A future version\n",
      "of pandas will change to not sort by default.\n",
      "\n",
      "To accept the future behavior, pass 'sort=True'.\n",
      "\n",
      "To retain the current behavior and silence the warning, pass sort=False\n",
      "\n",
      "  This is separate from the ipykernel package so we can avoid doing imports until\n"
     ]
    }
   ],
   "source": [
    "train['source']='train'\n",
    "test['source']='test'\n",
    "data = pd.concat([train, test],ignore_index=True)\n",
    "print (train.shape, test.shape, data.shape)"
   ]
  },
  {
   "cell_type": "markdown",
   "metadata": {},
   "source": [
    "def f_trans(col1,col2): \n",
    "    if(col1 in (5.0,4.0,3.0) and col2==1):\n",
    "        return 1 \n",
    "    else: \n",
    "        return 0"
   ]
  },
  {
   "cell_type": "markdown",
   "metadata": {},
   "source": [
    "data['top_performer'] = data.apply(lambda x: f_trans(x['previous_year_rating'],x['KPIs_met >80%']), axis=1)"
   ]
  },
  {
   "cell_type": "markdown",
   "metadata": {},
   "source": [
    "def age_trans(age):\n",
    "    if(age<30):\n",
    "        return 'Young'\n",
    "    elif(age>=30 and age<40):\n",
    "        return 'Middle Age'\n",
    "    elif(age >=40):\n",
    "        return 'Senior'"
   ]
  },
  {
   "cell_type": "markdown",
   "metadata": {},
   "source": [
    "data['age']=data['age'].apply(age_trans)"
   ]
  },
  {
   "cell_type": "code",
   "execution_count": 745,
   "metadata": {},
   "outputs": [],
   "source": [
    "def rating_trans(rating): \n",
    "    if(rating>=4.0): \n",
    "        return 'High' \n",
    "    elif(rating==3.0): \n",
    "        return 'Medium' \n",
    "    elif(rating < 3.0): \n",
    "        return 'low'"
   ]
  },
  {
   "cell_type": "code",
   "execution_count": 746,
   "metadata": {},
   "outputs": [],
   "source": [
    "data['previous_year_rating']=data['previous_year_rating'].apply(rating_trans)"
   ]
  },
  {
   "cell_type": "code",
   "execution_count": 747,
   "metadata": {},
   "outputs": [
    {
     "name": "stderr",
     "output_type": "stream",
     "text": [
      "C:\\Amrendra\\Anaconda\\lib\\site-packages\\ipykernel_launcher.py:1: SettingWithCopyWarning: \n",
      "A value is trying to be set on a copy of a slice from a DataFrame\n",
      "\n",
      "See the caveats in the documentation: http://pandas.pydata.org/pandas-docs/stable/indexing.html#indexing-view-versus-copy\n",
      "  \"\"\"Entry point for launching an IPython kernel.\n"
     ]
    }
   ],
   "source": [
    "data.previous_year_rating[data.previous_year_rating.isnull()]=3.0"
   ]
  },
  {
   "cell_type": "code",
   "execution_count": 748,
   "metadata": {},
   "outputs": [
    {
     "name": "stderr",
     "output_type": "stream",
     "text": [
      "C:\\Amrendra\\Anaconda\\lib\\site-packages\\ipykernel_launcher.py:1: SettingWithCopyWarning: \n",
      "A value is trying to be set on a copy of a slice from a DataFrame\n",
      "\n",
      "See the caveats in the documentation: http://pandas.pydata.org/pandas-docs/stable/indexing.html#indexing-view-versus-copy\n",
      "  \"\"\"Entry point for launching an IPython kernel.\n"
     ]
    }
   ],
   "source": [
    "data.education[data.education.isnull()]=\"Bachelor's\""
   ]
  },
  {
   "cell_type": "code",
   "execution_count": 749,
   "metadata": {},
   "outputs": [],
   "source": [
    "data=pd.get_dummies(data,columns=['department','education','gender','recruitment_channel','region','previous_year_rating'])"
   ]
  },
  {
   "cell_type": "code",
   "execution_count": 750,
   "metadata": {},
   "outputs": [],
   "source": [
    "#data.drop(exclusion,axis=1,inplace=True)"
   ]
  },
  {
   "cell_type": "code",
   "execution_count": 751,
   "metadata": {},
   "outputs": [
    {
     "name": "stderr",
     "output_type": "stream",
     "text": [
      "C:\\Amrendra\\Anaconda\\lib\\site-packages\\pandas\\core\\frame.py:3694: SettingWithCopyWarning: \n",
      "A value is trying to be set on a copy of a slice from a DataFrame\n",
      "\n",
      "See the caveats in the documentation: http://pandas.pydata.org/pandas-docs/stable/indexing.html#indexing-view-versus-copy\n",
      "  errors=errors)\n"
     ]
    }
   ],
   "source": [
    "train=data[data.source=='train']\n",
    "train.drop('source',axis=1,inplace=True)\n",
    "test=data[data.source=='test']\n",
    "test.drop(['source','is_promoted'],axis=1,inplace=True)"
   ]
  },
  {
   "cell_type": "code",
   "execution_count": 752,
   "metadata": {},
   "outputs": [],
   "source": [
    "from sklearn.model_selection import train_test_split\n",
    "trainset, testset = train_test_split(train, test_size=0.0001)"
   ]
  },
  {
   "cell_type": "code",
   "execution_count": 753,
   "metadata": {},
   "outputs": [
    {
     "data": {
      "text/html": [
       "<div>\n",
       "<style scoped>\n",
       "    .dataframe tbody tr th:only-of-type {\n",
       "        vertical-align: middle;\n",
       "    }\n",
       "\n",
       "    .dataframe tbody tr th {\n",
       "        vertical-align: top;\n",
       "    }\n",
       "\n",
       "    .dataframe thead th {\n",
       "        text-align: right;\n",
       "    }\n",
       "</style>\n",
       "<table border=\"1\" class=\"dataframe\">\n",
       "  <thead>\n",
       "    <tr style=\"text-align: right;\">\n",
       "      <th></th>\n",
       "      <th>KPIs_met &gt;80%</th>\n",
       "      <th>age</th>\n",
       "      <th>avg_training_score</th>\n",
       "      <th>awards_won?</th>\n",
       "      <th>employee_id</th>\n",
       "      <th>is_promoted</th>\n",
       "      <th>length_of_service</th>\n",
       "      <th>no_of_trainings</th>\n",
       "      <th>department_Analytics</th>\n",
       "      <th>department_Finance</th>\n",
       "      <th>...</th>\n",
       "      <th>region_region_4</th>\n",
       "      <th>region_region_5</th>\n",
       "      <th>region_region_6</th>\n",
       "      <th>region_region_7</th>\n",
       "      <th>region_region_8</th>\n",
       "      <th>region_region_9</th>\n",
       "      <th>previous_year_rating_3.0</th>\n",
       "      <th>previous_year_rating_High</th>\n",
       "      <th>previous_year_rating_Medium</th>\n",
       "      <th>previous_year_rating_low</th>\n",
       "    </tr>\n",
       "  </thead>\n",
       "  <tbody>\n",
       "    <tr>\n",
       "      <th>9956</th>\n",
       "      <td>0</td>\n",
       "      <td>34</td>\n",
       "      <td>50</td>\n",
       "      <td>0</td>\n",
       "      <td>41870</td>\n",
       "      <td>0.0</td>\n",
       "      <td>3</td>\n",
       "      <td>2</td>\n",
       "      <td>0</td>\n",
       "      <td>0</td>\n",
       "      <td>...</td>\n",
       "      <td>0</td>\n",
       "      <td>0</td>\n",
       "      <td>0</td>\n",
       "      <td>0</td>\n",
       "      <td>0</td>\n",
       "      <td>0</td>\n",
       "      <td>0</td>\n",
       "      <td>0</td>\n",
       "      <td>1</td>\n",
       "      <td>0</td>\n",
       "    </tr>\n",
       "    <tr>\n",
       "      <th>13378</th>\n",
       "      <td>0</td>\n",
       "      <td>34</td>\n",
       "      <td>47</td>\n",
       "      <td>0</td>\n",
       "      <td>71373</td>\n",
       "      <td>0.0</td>\n",
       "      <td>10</td>\n",
       "      <td>1</td>\n",
       "      <td>0</td>\n",
       "      <td>0</td>\n",
       "      <td>...</td>\n",
       "      <td>0</td>\n",
       "      <td>0</td>\n",
       "      <td>0</td>\n",
       "      <td>0</td>\n",
       "      <td>0</td>\n",
       "      <td>0</td>\n",
       "      <td>0</td>\n",
       "      <td>1</td>\n",
       "      <td>0</td>\n",
       "      <td>0</td>\n",
       "    </tr>\n",
       "    <tr>\n",
       "      <th>2148</th>\n",
       "      <td>0</td>\n",
       "      <td>34</td>\n",
       "      <td>49</td>\n",
       "      <td>0</td>\n",
       "      <td>14745</td>\n",
       "      <td>0.0</td>\n",
       "      <td>2</td>\n",
       "      <td>2</td>\n",
       "      <td>0</td>\n",
       "      <td>0</td>\n",
       "      <td>...</td>\n",
       "      <td>0</td>\n",
       "      <td>0</td>\n",
       "      <td>0</td>\n",
       "      <td>0</td>\n",
       "      <td>0</td>\n",
       "      <td>0</td>\n",
       "      <td>0</td>\n",
       "      <td>1</td>\n",
       "      <td>0</td>\n",
       "      <td>0</td>\n",
       "    </tr>\n",
       "    <tr>\n",
       "      <th>45751</th>\n",
       "      <td>0</td>\n",
       "      <td>39</td>\n",
       "      <td>69</td>\n",
       "      <td>0</td>\n",
       "      <td>36046</td>\n",
       "      <td>1.0</td>\n",
       "      <td>3</td>\n",
       "      <td>1</td>\n",
       "      <td>0</td>\n",
       "      <td>0</td>\n",
       "      <td>...</td>\n",
       "      <td>0</td>\n",
       "      <td>0</td>\n",
       "      <td>0</td>\n",
       "      <td>0</td>\n",
       "      <td>0</td>\n",
       "      <td>0</td>\n",
       "      <td>0</td>\n",
       "      <td>0</td>\n",
       "      <td>0</td>\n",
       "      <td>1</td>\n",
       "    </tr>\n",
       "    <tr>\n",
       "      <th>51389</th>\n",
       "      <td>0</td>\n",
       "      <td>54</td>\n",
       "      <td>50</td>\n",
       "      <td>0</td>\n",
       "      <td>54596</td>\n",
       "      <td>0.0</td>\n",
       "      <td>25</td>\n",
       "      <td>2</td>\n",
       "      <td>0</td>\n",
       "      <td>0</td>\n",
       "      <td>...</td>\n",
       "      <td>0</td>\n",
       "      <td>0</td>\n",
       "      <td>0</td>\n",
       "      <td>0</td>\n",
       "      <td>0</td>\n",
       "      <td>0</td>\n",
       "      <td>0</td>\n",
       "      <td>0</td>\n",
       "      <td>1</td>\n",
       "      <td>0</td>\n",
       "    </tr>\n",
       "  </tbody>\n",
       "</table>\n",
       "<p>5 rows × 63 columns</p>\n",
       "</div>"
      ],
      "text/plain": [
       "       KPIs_met >80%  age  avg_training_score  awards_won?  employee_id  \\\n",
       "9956               0   34                  50            0        41870   \n",
       "13378              0   34                  47            0        71373   \n",
       "2148               0   34                  49            0        14745   \n",
       "45751              0   39                  69            0        36046   \n",
       "51389              0   54                  50            0        54596   \n",
       "\n",
       "       is_promoted  length_of_service  no_of_trainings  department_Analytics  \\\n",
       "9956           0.0                  3                2                     0   \n",
       "13378          0.0                 10                1                     0   \n",
       "2148           0.0                  2                2                     0   \n",
       "45751          1.0                  3                1                     0   \n",
       "51389          0.0                 25                2                     0   \n",
       "\n",
       "       department_Finance            ...             region_region_4  \\\n",
       "9956                    0            ...                           0   \n",
       "13378                   0            ...                           0   \n",
       "2148                    0            ...                           0   \n",
       "45751                   0            ...                           0   \n",
       "51389                   0            ...                           0   \n",
       "\n",
       "       region_region_5  region_region_6  region_region_7  region_region_8  \\\n",
       "9956                 0                0                0                0   \n",
       "13378                0                0                0                0   \n",
       "2148                 0                0                0                0   \n",
       "45751                0                0                0                0   \n",
       "51389                0                0                0                0   \n",
       "\n",
       "       region_region_9  previous_year_rating_3.0  previous_year_rating_High  \\\n",
       "9956                 0                         0                          0   \n",
       "13378                0                         0                          1   \n",
       "2148                 0                         0                          1   \n",
       "45751                0                         0                          0   \n",
       "51389                0                         0                          0   \n",
       "\n",
       "       previous_year_rating_Medium  previous_year_rating_low  \n",
       "9956                             1                         0  \n",
       "13378                            0                         0  \n",
       "2148                             0                         0  \n",
       "45751                            0                         1  \n",
       "51389                            1                         0  \n",
       "\n",
       "[5 rows x 63 columns]"
      ]
     },
     "execution_count": 753,
     "metadata": {},
     "output_type": "execute_result"
    }
   ],
   "source": [
    "testset.head()"
   ]
  },
  {
   "cell_type": "code",
   "execution_count": 754,
   "metadata": {},
   "outputs": [],
   "source": [
    "def modelfit(alg, dtrain, dtest, predictors,useTrainCV=True, cv_folds=5, early_stopping_rounds=50):\n",
    "    \n",
    "    if useTrainCV:\n",
    "        xgb_param = alg.get_xgb_params()\n",
    "        xgtrain = xgb.DMatrix(dtrain[predictors].values, label=dtrain[target].values)\n",
    "        xgtest = xgb.DMatrix(dtest[predictors].values)\n",
    "        cvresult = xgb.cv(xgb_param, xgtrain, num_boost_round=alg.get_params()['n_estimators'], nfold=cv_folds,\n",
    "            metrics='auc', early_stopping_rounds=early_stopping_rounds)\n",
    "        alg.set_params(n_estimators=cvresult.shape[0])\n",
    "    \n",
    "    #Fit the algorithm on the data\n",
    "    alg.fit(dtrain[predictors], dtrain[target],eval_metric='auc')\n",
    "        \n",
    "    #Predict training set:\n",
    "    dtrain_predictions = alg.predict(dtrain[predictors])\n",
    "    dtrain_predprob = alg.predict_proba(dtrain[predictors])[:,1]\n",
    "        \n",
    "    #Print model report:\n",
    "    print (\"\\nModel Report\")\n",
    "    print (\"Accuracy : %.4g\" % metrics.accuracy_score(dtrain[target].values, dtrain_predictions))\n",
    "    print (\"AUC Score (Train): %f\" % metrics.roc_auc_score(dtrain[target], dtrain_predprob))\n",
    "    \n",
    "#     Predict on testing data:\n",
    "    dtest['predprob'] = alg.predict_proba(dtest[predictors])[:,1]\n",
    "    results = test_results.merge(dtest[['employee_id','predprob']], on='employee_id')\n",
    "    print ('AUC Score (Test): %f' % metrics.roc_auc_score(results['is_promoted'], results['predprob']))\n",
    "                \n",
    "    feat_imp = pd.Series(alg.get_booster().get_fscore()).sort_values(ascending=False)\n",
    "    feat_imp.plot(kind='bar', title='Feature Importances')\n",
    "    plt.ylabel('Feature Importance Score')"
   ]
  },
  {
   "cell_type": "code",
   "execution_count": 755,
   "metadata": {},
   "outputs": [
    {
     "name": "stderr",
     "output_type": "stream",
     "text": [
      "C:\\Amrendra\\Anaconda\\lib\\site-packages\\sklearn\\preprocessing\\label.py:151: DeprecationWarning: The truth value of an empty array is ambiguous. Returning False, but in future this will result in an error. Use `array.size > 0` to check that an array is not empty.\n",
      "  if diff:\n"
     ]
    },
    {
     "name": "stdout",
     "output_type": "stream",
     "text": [
      "\n",
      "Model Report\n",
      "Accuracy : 0.9437\n",
      "AUC Score (Train): 0.929913\n",
      "AUC Score (Test): 1.000000\n"
     ]
    },
    {
     "name": "stderr",
     "output_type": "stream",
     "text": [
      "C:\\Amrendra\\Anaconda\\lib\\site-packages\\ipykernel_launcher.py:24: SettingWithCopyWarning: \n",
      "A value is trying to be set on a copy of a slice from a DataFrame.\n",
      "Try using .loc[row_indexer,col_indexer] = value instead\n",
      "\n",
      "See the caveats in the documentation: http://pandas.pydata.org/pandas-docs/stable/indexing.html#indexing-view-versus-copy\n"
     ]
    },
    {
     "data": {
      "image/png": "[encoded data removed]",
      "text/plain": [
       "<Figure size 864x288 with 1 Axes>"
      ]
     },
     "metadata": {},
     "output_type": "display_data"
    }
   ],
   "source": [
    "predictors = [x for x in train.columns if x not in [target, IDcol]]\n",
    "xgb1 = XGBClassifier(\n",
    "        learning_rate =0.1,\n",
    "        n_estimators=200,\n",
    "        max_depth=5,\n",
    "        min_child_weight=4,\n",
    "        reg_alpha=1,\n",
    "        gamma=0,\n",
    "        subsample=0.85,\n",
    "        colsample_bytree=0.8,\n",
    "        objective= 'binary:logistic',\n",
    "        nthread=4,\n",
    "        scale_pos_weight=1,\n",
    "        seed=27)\n",
    "modelfit(xgb1, trainset, testset, predictors)"
   ]
  },
  {
   "cell_type": "code",
   "execution_count": 756,
   "metadata": {},
   "outputs": [
    {
     "name": "stderr",
     "output_type": "stream",
     "text": [
      "C:\\Amrendra\\Anaconda\\lib\\site-packages\\sklearn\\preprocessing\\label.py:151: DeprecationWarning: The truth value of an empty array is ambiguous. Returning False, but in future this will result in an error. Use `array.size > 0` to check that an array is not empty.\n",
      "  if diff:\n"
     ]
    }
   ],
   "source": [
    "pred=xgb1.predict(test[predictors])"
   ]
  },
  {
   "cell_type": "code",
   "execution_count": 757,
   "metadata": {},
   "outputs": [],
   "source": [
    "s=pd.Series(pred.tolist()).astype(int)"
   ]
  },
  {
   "cell_type": "code",
   "execution_count": 684,
   "metadata": {},
   "outputs": [],
   "source": [
    "s.to_csv('D:/My Personal Documents/Learnings/Data Science/Data Sets/WNS Analytics/s19.csv')"
   ]
  },
  {
   "cell_type": "code",
   "execution_count": 758,
   "metadata": {},
   "outputs": [
    {
     "data": {
      "text/plain": [
       "0    22796\n",
       "1      694\n",
       "dtype: int64"
      ]
     },
     "execution_count": 758,
     "metadata": {},
     "output_type": "execute_result"
    }
   ],
   "source": [
    "s.value_counts()"
   ]
  },
  {
   "cell_type": "code",
   "execution_count": 674,
   "metadata": {},
   "outputs": [
    {
     "data": {
      "text/plain": [
       "GridSearchCV(cv=5, error_score='raise',\n",
       "       estimator=XGBClassifier(base_score=0.5, booster='gbtree', colsample_bylevel=1,\n",
       "       colsample_bytree=0.8, gamma=0.1, learning_rate=0.1,\n",
       "       max_delta_step=0, max_depth=5, min_child_weight=6, missing=None,\n",
       "       n_estimators=177, n_jobs=1, nthread=4, objective='binary:logistic',\n",
       "       random_state=0, reg_alpha=0, reg_lambda=1, scale_pos_weight=1,\n",
       "       seed=27, silent=True, subsample=0.8),\n",
       "       fit_params={}, iid=False, n_jobs=4,\n",
       "       param_grid={'reg_alpha': [1e-05, 0.01, 0.1, 1, 100]},\n",
       "       pre_dispatch='2*n_jobs', refit=True, scoring='roc_auc', verbose=0)"
      ]
     },
     "execution_count": 674,
     "metadata": {},
     "output_type": "execute_result"
    }
   ],
   "source": [
    "#Grid seach on subsample and max_features\n",
    "#Choose all predictors except target & IDcols\n",
    "param_test6 = {\n",
    "    'reg_alpha':[1e-5, 1e-2, 0.1, 1, 100]\n",
    "}\n",
    "gsearch6 = GridSearchCV(estimator = XGBClassifier( learning_rate =0.1, n_estimators=177, max_depth=5,\n",
    "                                        min_child_weight=6, gamma=0.1, subsample=0.8, colsample_bytree=0.8,\n",
    "                                        objective= 'binary:logistic', nthread=4, scale_pos_weight=1,seed=27), \n",
    "                       param_grid = param_test6, scoring='roc_auc',n_jobs=4,iid=False, cv=5)\n",
    "gsearch6.fit(train[predictors],train[target])"
   ]
  },
  {
   "cell_type": "code",
   "execution_count": 675,
   "metadata": {},
   "outputs": [
    {
     "data": {
      "text/plain": [
       "([mean: 0.90981, std: 0.00358, params: {'reg_alpha': 1e-05},\n",
       "  mean: 0.91005, std: 0.00367, params: {'reg_alpha': 0.01},\n",
       "  mean: 0.91003, std: 0.00324, params: {'reg_alpha': 0.1},\n",
       "  mean: 0.91017, std: 0.00351, params: {'reg_alpha': 1},\n",
       "  mean: 0.88015, std: 0.00427, params: {'reg_alpha': 100}],\n",
       " {'reg_alpha': 1},\n",
       " 0.9101682775736858)"
      ]
     },
     "execution_count": 675,
     "metadata": {},
     "output_type": "execute_result"
    }
   ],
   "source": [
    "gsearch6.grid_scores_, gsearch6.best_params_, gsearch6.best_score_"
   ]
  },
  {
   "cell_type": "code",
   "execution_count": 676,
   "metadata": {},
   "outputs": [
    {
     "data": {
      "text/plain": [
       "GridSearchCV(cv=5, error_score='raise',\n",
       "       estimator=XGBClassifier(base_score=0.5, booster='gbtree', colsample_bylevel=1,\n",
       "       colsample_bytree=0.8, gamma=0, learning_rate=0.1, max_delta_step=0,\n",
       "       max_depth=4, min_child_weight=6, missing=None, n_estimators=177,\n",
       "       n_jobs=1, nthread=4, objective='binary:logistic', random_state=0,\n",
       "       reg_alpha=0, reg_lambda=1, scale_pos_weight=1, seed=27, silent=True,\n",
       "       subsample=0.8),\n",
       "       fit_params={}, iid=False, n_jobs=4,\n",
       "       param_grid={'subsample': [0.75, 0.8, 0.85], 'colsample_bytree': [0.75, 0.8, 0.85]},\n",
       "       pre_dispatch='2*n_jobs', refit=True, scoring='roc_auc', verbose=0)"
      ]
     },
     "execution_count": 676,
     "metadata": {},
     "output_type": "execute_result"
    }
   ],
   "source": [
    "#Grid seach on subsample and max_features\n",
    "#Choose all predictors except target & IDcols\n",
    "param_test5 = {\n",
    "    'subsample':[i/100.0 for i in range(75,90,5)],\n",
    "    'colsample_bytree':[i/100.0 for i in range(75,90,5)]\n",
    "}\n",
    "gsearch5 = GridSearchCV(estimator = XGBClassifier( learning_rate =0.1, n_estimators=177, max_depth=4,\n",
    "                                        min_child_weight=6, gamma=0, subsample=0.8, colsample_bytree=0.8,\n",
    "                                        objective= 'binary:logistic', nthread=4, scale_pos_weight=1,seed=27), \n",
    "                       param_grid = param_test5, scoring='roc_auc',n_jobs=4,iid=False, cv=5)\n",
    "gsearch5.fit(train[predictors],train[target])"
   ]
  },
  {
   "cell_type": "code",
   "execution_count": 677,
   "metadata": {},
   "outputs": [
    {
     "data": {
      "text/plain": [
       "([mean: 0.90894, std: 0.00474, params: {'colsample_bytree': 0.75, 'subsample': 0.75},\n",
       "  mean: 0.90934, std: 0.00434, params: {'colsample_bytree': 0.75, 'subsample': 0.8},\n",
       "  mean: 0.90920, std: 0.00406, params: {'colsample_bytree': 0.75, 'subsample': 0.85},\n",
       "  mean: 0.90877, std: 0.00473, params: {'colsample_bytree': 0.8, 'subsample': 0.75},\n",
       "  mean: 0.90869, std: 0.00406, params: {'colsample_bytree': 0.8, 'subsample': 0.8},\n",
       "  mean: 0.90958, std: 0.00362, params: {'colsample_bytree': 0.8, 'subsample': 0.85},\n",
       "  mean: 0.90927, std: 0.00418, params: {'colsample_bytree': 0.85, 'subsample': 0.75},\n",
       "  mean: 0.90928, std: 0.00378, params: {'colsample_bytree': 0.85, 'subsample': 0.8},\n",
       "  mean: 0.90973, std: 0.00384, params: {'colsample_bytree': 0.85, 'subsample': 0.85}],\n",
       " {'colsample_bytree': 0.85, 'subsample': 0.85},\n",
       " 0.9097338205907823)"
      ]
     },
     "execution_count": 677,
     "metadata": {},
     "output_type": "execute_result"
    }
   ],
   "source": [
    "\n",
    "gsearch5.grid_scores_, gsearch5.best_params_, gsearch5.best_score_"
   ]
  },
  {
   "cell_type": "code",
   "execution_count": 678,
   "metadata": {},
   "outputs": [
    {
     "data": {
      "text/plain": [
       "GridSearchCV(cv=5, error_score='raise',\n",
       "       estimator=XGBClassifier(base_score=0.5, booster='gbtree', colsample_bylevel=1,\n",
       "       colsample_bytree=0.8, gamma=0, learning_rate=0.1, max_delta_step=0,\n",
       "       max_depth=5, min_child_weight=2, missing=None, n_estimators=200,\n",
       "       n_jobs=1, nthread=4, objective='binary:logistic', random_state=0,\n",
       "       reg_alpha=0, reg_lambda=1, scale_pos_weight=1, seed=27, silent=True,\n",
       "       subsample=0.8),\n",
       "       fit_params={}, iid=False, n_jobs=4,\n",
       "       param_grid={'max_depth': [4, 5, 6, 8], 'min_child_weight': [4, 5, 6, 8]},\n",
       "       pre_dispatch='2*n_jobs', refit=True, scoring='roc_auc', verbose=0)"
      ]
     },
     "execution_count": 678,
     "metadata": {},
     "output_type": "execute_result"
    }
   ],
   "source": [
    "#Grid seach on subsample and max_features\n",
    "#Choose all predictors except target & IDcols\n",
    "param_test2 = {\n",
    "    'max_depth':[4,5,6,8],\n",
    "    'min_child_weight':[4,5,6,8]\n",
    "}\n",
    "gsearch2 = GridSearchCV(estimator = XGBClassifier( learning_rate=0.1, n_estimators=200, max_depth=5,\n",
    "                                        min_child_weight=2, gamma=0, subsample=0.8, colsample_bytree=0.8,\n",
    "                                        objective= 'binary:logistic', nthread=4, scale_pos_weight=1,seed=27), \n",
    "                       param_grid = param_test2, scoring='roc_auc',n_jobs=4,iid=False, cv=5)\n",
    "gsearch2.fit(train[predictors],train[target])"
   ]
  },
  {
   "cell_type": "code",
   "execution_count": 679,
   "metadata": {},
   "outputs": [
    {
     "data": {
      "text/plain": [
       "([mean: 0.91006, std: 0.00388, params: {'max_depth': 4, 'min_child_weight': 4},\n",
       "  mean: 0.91013, std: 0.00384, params: {'max_depth': 4, 'min_child_weight': 5},\n",
       "  mean: 0.90936, std: 0.00385, params: {'max_depth': 4, 'min_child_weight': 6},\n",
       "  mean: 0.90827, std: 0.00446, params: {'max_depth': 4, 'min_child_weight': 8},\n",
       "  mean: 0.91111, std: 0.00367, params: {'max_depth': 5, 'min_child_weight': 4},\n",
       "  mean: 0.91048, std: 0.00444, params: {'max_depth': 5, 'min_child_weight': 5},\n",
       "  mean: 0.91073, std: 0.00351, params: {'max_depth': 5, 'min_child_weight': 6},\n",
       "  mean: 0.90965, std: 0.00408, params: {'max_depth': 5, 'min_child_weight': 8},\n",
       "  mean: 0.90976, std: 0.00319, params: {'max_depth': 6, 'min_child_weight': 4},\n",
       "  mean: 0.91000, std: 0.00276, params: {'max_depth': 6, 'min_child_weight': 5},\n",
       "  mean: 0.90966, std: 0.00399, params: {'max_depth': 6, 'min_child_weight': 6},\n",
       "  mean: 0.90911, std: 0.00329, params: {'max_depth': 6, 'min_child_weight': 8},\n",
       "  mean: 0.90766, std: 0.00330, params: {'max_depth': 8, 'min_child_weight': 4},\n",
       "  mean: 0.90805, std: 0.00308, params: {'max_depth': 8, 'min_child_weight': 5},\n",
       "  mean: 0.90790, std: 0.00370, params: {'max_depth': 8, 'min_child_weight': 6},\n",
       "  mean: 0.90783, std: 0.00357, params: {'max_depth': 8, 'min_child_weight': 8}],\n",
       " {'max_depth': 5, 'min_child_weight': 4},\n",
       " 0.911111730049431)"
      ]
     },
     "execution_count": 679,
     "metadata": {},
     "output_type": "execute_result"
    }
   ],
   "source": [
    "gsearch2.grid_scores_, gsearch2.best_params_, gsearch2.best_score_"
   ]
  },
  {
   "cell_type": "code",
   "execution_count": 680,
   "metadata": {},
   "outputs": [
    {
     "name": "stdout",
     "output_type": "stream",
     "text": [
      "<class 'pandas.core.frame.DataFrame'>\n",
      "Int64Index: 23490 entries, 54808 to 78297\n",
      "Data columns (total 59 columns):\n",
      "KPIs_met >80%                   23490 non-null int64\n",
      "age                             23490 non-null int64\n",
      "avg_training_score              23490 non-null int64\n",
      "awards_won?                     23490 non-null int64\n",
      "employee_id                     23490 non-null int64\n",
      "length_of_service               23490 non-null int64\n",
      "no_of_trainings                 23490 non-null int64\n",
      "previous_year_rating            23490 non-null float64\n",
      "department_Analytics            23490 non-null uint8\n",
      "department_Finance              23490 non-null uint8\n",
      "department_HR                   23490 non-null uint8\n",
      "department_Legal                23490 non-null uint8\n",
      "department_Operations           23490 non-null uint8\n",
      "department_Procurement          23490 non-null uint8\n",
      "department_R&D                  23490 non-null uint8\n",
      "department_Sales & Marketing    23490 non-null uint8\n",
      "department_Technology           23490 non-null uint8\n",
      "education_Bachelor's            23490 non-null uint8\n",
      "education_Below Secondary       23490 non-null uint8\n",
      "education_Master's & above      23490 non-null uint8\n",
      "gender_f                        23490 non-null uint8\n",
      "gender_m                        23490 non-null uint8\n",
      "recruitment_channel_other       23490 non-null uint8\n",
      "recruitment_channel_referred    23490 non-null uint8\n",
      "recruitment_channel_sourcing    23490 non-null uint8\n",
      "region_region_1                 23490 non-null uint8\n",
      "region_region_10                23490 non-null uint8\n",
      "region_region_11                23490 non-null uint8\n",
      "region_region_12                23490 non-null uint8\n",
      "region_region_13                23490 non-null uint8\n",
      "region_region_14                23490 non-null uint8\n",
      "region_region_15                23490 non-null uint8\n",
      "region_region_16                23490 non-null uint8\n",
      "region_region_17                23490 non-null uint8\n",
      "region_region_18                23490 non-null uint8\n",
      "region_region_19                23490 non-null uint8\n",
      "region_region_2                 23490 non-null uint8\n",
      "region_region_20                23490 non-null uint8\n",
      "region_region_21                23490 non-null uint8\n",
      "region_region_22                23490 non-null uint8\n",
      "region_region_23                23490 non-null uint8\n",
      "region_region_24                23490 non-null uint8\n",
      "region_region_25                23490 non-null uint8\n",
      "region_region_26                23490 non-null uint8\n",
      "region_region_27                23490 non-null uint8\n",
      "region_region_28                23490 non-null uint8\n",
      "region_region_29                23490 non-null uint8\n",
      "region_region_3                 23490 non-null uint8\n",
      "region_region_30                23490 non-null uint8\n",
      "region_region_31                23490 non-null uint8\n",
      "region_region_32                23490 non-null uint8\n",
      "region_region_33                23490 non-null uint8\n",
      "region_region_34                23490 non-null uint8\n",
      "region_region_4                 23490 non-null uint8\n",
      "region_region_5                 23490 non-null uint8\n",
      "region_region_6                 23490 non-null uint8\n",
      "region_region_7                 23490 non-null uint8\n",
      "region_region_8                 23490 non-null uint8\n",
      "region_region_9                 23490 non-null uint8\n",
      "dtypes: float64(1), int64(7), uint8(51)\n",
      "memory usage: 2.8 MB\n"
     ]
    }
   ],
   "source": [
    "test.info()"
   ]
  },
  {
   "cell_type": "code",
   "execution_count": null,
   "metadata": {},
   "outputs": [],
   "source": []
  }
 ],
 "metadata": {
  "kernelspec": {
   "display_name": "Python 3",
   "language": "python",
   "name": "python3"
  },
  "language_info": {
   "codemirror_mode": {
    "name": "ipython",
    "version": 3
   },
   "file_extension": ".py",
   "mimetype": "text/x-python",
   "name": "python",
   "nbconvert_exporter": "python",
   "pygments_lexer": "ipython3",
   "version": "3.6.5"
  }
 },
 "nbformat": 4,
 "nbformat_minor": 2
}
