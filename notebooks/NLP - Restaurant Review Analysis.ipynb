{
 "cells": [
  {
   "cell_type": "code",
   "execution_count": 1,
   "metadata": {},
   "outputs": [],
   "source": [
    "import nltk\n",
    "\n",
    "from nltk.util import ngrams\n",
    "\n",
    "from nltk.stem import WordNetLemmatizer"
   ]
  },
  {
   "cell_type": "code",
   "execution_count": 2,
   "metadata": {},
   "outputs": [],
   "source": [
    "from sklearn import metrics\n",
    "from sklearn.metrics import confusion_matrix\n",
    "from sklearn.model_selection import train_test_split"
   ]
  },
  {
   "cell_type": "code",
   "execution_count": null,
   "metadata": {},
   "outputs": [],
   "source": []
  },
  {
   "cell_type": "code",
   "execution_count": null,
   "metadata": {},
   "outputs": [],
   "source": []
  },
  {
   "cell_type": "code",
   "execution_count": 3,
   "metadata": {},
   "outputs": [],
   "source": [
    "import re\n",
    "import pandas as pd\n",
    "import numpy as np"
   ]
  },
  {
   "cell_type": "code",
   "execution_count": 4,
   "metadata": {},
   "outputs": [],
   "source": [
    "file=\"D:\\\\My Personal Documents\\\\Learnings\\\\Data Science\\\\Data Sets\\\\Twiter Sentiment Analysis\\\\sentiment labelled sentences\\\\yelp_labelled.txt\""
   ]
  },
  {
   "cell_type": "code",
   "execution_count": 5,
   "metadata": {},
   "outputs": [],
   "source": [
    "with open(file,'r') as f:\n",
    "    review_lines=f.readlines()"
   ]
  },
  {
   "cell_type": "code",
   "execution_count": 6,
   "metadata": {},
   "outputs": [
    {
     "data": {
      "text/plain": [
       "1000"
      ]
     },
     "execution_count": 6,
     "metadata": {},
     "output_type": "execute_result"
    }
   ],
   "source": [
    "len(review_lines)"
   ]
  },
  {
   "cell_type": "code",
   "execution_count": 7,
   "metadata": {},
   "outputs": [],
   "source": [
    "#for one_line in review_lines:\n",
    "    #print(one_line)\n",
    "\n",
    "reviews = []\n",
    "review_labels = []\n",
    "for line in review_lines:\n",
    "    review=line.split('\\t')[0]\n",
    "    reviews.append(review)\n",
    "    label=line.split('\\t')[1]\n",
    "    review_labels.append(int(label))"
   ]
  },
  {
   "cell_type": "code",
   "execution_count": 8,
   "metadata": {},
   "outputs": [
    {
     "data": {
      "text/plain": [
       "1"
      ]
     },
     "execution_count": 8,
     "metadata": {},
     "output_type": "execute_result"
    }
   ],
   "source": [
    "review_labels[0]"
   ]
  },
  {
   "cell_type": "code",
   "execution_count": 9,
   "metadata": {},
   "outputs": [],
   "source": [
    "review_string = ' '.join(reviews)"
   ]
  },
  {
   "cell_type": "code",
   "execution_count": 10,
   "metadata": {},
   "outputs": [],
   "source": [
    "from nltk.tokenize import TweetTokenizer\n",
    "tknzr = TweetTokenizer()\n",
    "review_tokens = tknzr.tokenize(review_string)"
   ]
  },
  {
   "cell_type": "code",
   "execution_count": 11,
   "metadata": {},
   "outputs": [
    {
     "data": {
      "text/plain": [
       "12471"
      ]
     },
     "execution_count": 11,
     "metadata": {},
     "output_type": "execute_result"
    }
   ],
   "source": [
    "len(review_tokens)"
   ]
  },
  {
   "cell_type": "markdown",
   "metadata": {},
   "source": [
    "#### Removing punctuation"
   ]
  },
  {
   "cell_type": "code",
   "execution_count": 12,
   "metadata": {},
   "outputs": [],
   "source": [
    "punctuation = re.compile(r'[-.,:;()\"?!|0-9]')"
   ]
  },
  {
   "cell_type": "code",
   "execution_count": 13,
   "metadata": {},
   "outputs": [],
   "source": [
    "review_token = []\n",
    "for word in review_tokens:\n",
    "    word = punctuation.sub('',word)\n",
    "    if len(word)>0:\n",
    "        review_token.append(word)\n"
   ]
  },
  {
   "cell_type": "code",
   "execution_count": 14,
   "metadata": {},
   "outputs": [
    {
     "name": "stdout",
     "output_type": "stream",
     "text": [
      "10852\n"
     ]
    }
   ],
   "source": [
    "print(len(review_token))"
   ]
  },
  {
   "cell_type": "markdown",
   "metadata": {},
   "source": [
    "#### Removing stopwords"
   ]
  },
  {
   "cell_type": "code",
   "execution_count": 15,
   "metadata": {},
   "outputs": [],
   "source": [
    "from nltk.corpus import stopwords, wordnet"
   ]
  },
  {
   "cell_type": "code",
   "execution_count": 16,
   "metadata": {},
   "outputs": [
    {
     "data": {
      "text/plain": [
       "<WordListCorpusReader in 'C:\\\\Users\\\\Amrendra\\\\AppData\\\\Roaming\\\\nltk_data\\\\corpora\\\\stopwords'>"
      ]
     },
     "execution_count": 16,
     "metadata": {},
     "output_type": "execute_result"
    }
   ],
   "source": [
    "stopwords"
   ]
  },
  {
   "cell_type": "code",
   "execution_count": 17,
   "metadata": {},
   "outputs": [],
   "source": [
    "stop_words=set(stopwords.words('english'))"
   ]
  },
  {
   "cell_type": "code",
   "execution_count": 18,
   "metadata": {},
   "outputs": [],
   "source": [
    "review_tokens3=[]\n",
    "for word in review_token:\n",
    "    word=word.lower()\n",
    "    if word not in stop_words:\n",
    "        review_tokens3.append(word)"
   ]
  },
  {
   "cell_type": "code",
   "execution_count": 19,
   "metadata": {},
   "outputs": [
    {
     "data": {
      "text/plain": [
       "5592"
      ]
     },
     "execution_count": 19,
     "metadata": {},
     "output_type": "execute_result"
    }
   ],
   "source": [
    "len(review_tokens3)"
   ]
  },
  {
   "cell_type": "markdown",
   "metadata": {},
   "source": [
    "#### Finding frequency distribution"
   ]
  },
  {
   "cell_type": "code",
   "execution_count": 20,
   "metadata": {},
   "outputs": [],
   "source": [
    "from nltk.probability import FreqDist\n",
    "fdist = FreqDist(review_tokens3)\n",
    "#fdist = FreqDist()\n",
    "#for word in review_tokens3:\n",
    "#    fdist[word] += 1"
   ]
  },
  {
   "cell_type": "code",
   "execution_count": 21,
   "metadata": {},
   "outputs": [
    {
     "data": {
      "text/plain": [
       "nltk.probability.FreqDist"
      ]
     },
     "execution_count": 21,
     "metadata": {},
     "output_type": "execute_result"
    }
   ],
   "source": [
    "type(fdist)"
   ]
  },
  {
   "cell_type": "code",
   "execution_count": 22,
   "metadata": {},
   "outputs": [
    {
     "data": {
      "text/plain": [
       "[('food', 126),\n",
       " ('place', 106),\n",
       " ('good', 95),\n",
       " ('service', 84),\n",
       " ('great', 70),\n",
       " ('back', 61),\n",
       " ('like', 46),\n",
       " ('go', 43),\n",
       " ('time', 42),\n",
       " ('really', 36)]"
      ]
     },
     "execution_count": 22,
     "metadata": {},
     "output_type": "execute_result"
    }
   ],
   "source": [
    "fdist.most_common(10)"
   ]
  },
  {
   "cell_type": "markdown",
   "metadata": {},
   "source": [
    "#### Part of speech tag"
   ]
  },
  {
   "cell_type": "code",
   "execution_count": 23,
   "metadata": {},
   "outputs": [],
   "source": [
    "pos_list = []\n",
    "for word in review_tokens3:\n",
    "    pos_list.append(nltk.pos_tag([word]))\n",
    "    "
   ]
  },
  {
   "cell_type": "code",
   "execution_count": 24,
   "metadata": {},
   "outputs": [
    {
     "data": {
      "text/plain": [
       "[('wow', 'NN')]"
      ]
     },
     "execution_count": 24,
     "metadata": {},
     "output_type": "execute_result"
    }
   ],
   "source": [
    "pos1=pos_list[0]\n",
    "pos1"
   ]
  },
  {
   "cell_type": "code",
   "execution_count": 25,
   "metadata": {},
   "outputs": [],
   "source": [
    "pos_set = set()\n",
    "for pos in pos_list:\n",
    "    pos_set.add(pos[0][1])"
   ]
  },
  {
   "cell_type": "code",
   "execution_count": 26,
   "metadata": {},
   "outputs": [
    {
     "data": {
      "text/plain": [
       "{'$',\n",
       " \"''\",\n",
       " 'CC',\n",
       " 'CD',\n",
       " 'DT',\n",
       " 'IN',\n",
       " 'JJ',\n",
       " 'JJR',\n",
       " 'JJS',\n",
       " 'MD',\n",
       " 'NN',\n",
       " 'NNS',\n",
       " 'PRP',\n",
       " 'RB',\n",
       " 'RBR',\n",
       " 'VB',\n",
       " 'VBD',\n",
       " 'VBG',\n",
       " 'VBN',\n",
       " 'VBZ'}"
      ]
     },
     "execution_count": 26,
     "metadata": {},
     "output_type": "execute_result"
    }
   ],
   "source": [
    "pos_set"
   ]
  },
  {
   "cell_type": "markdown",
   "metadata": {},
   "source": [
    "#### Finding Adjectives"
   ]
  },
  {
   "cell_type": "code",
   "execution_count": 27,
   "metadata": {},
   "outputs": [],
   "source": [
    "pos_JJ = []\n",
    "for pos in pos_list:\n",
    "    if pos[0][1] in ['JJ','JJR','JJS']:\n",
    "        pos_JJ.append(pos[0][0])"
   ]
  },
  {
   "cell_type": "code",
   "execution_count": 28,
   "metadata": {},
   "outputs": [
    {
     "data": {
      "text/plain": [
       "708"
      ]
     },
     "execution_count": 28,
     "metadata": {},
     "output_type": "execute_result"
    }
   ],
   "source": [
    "len(pos_JJ)"
   ]
  },
  {
   "cell_type": "code",
   "execution_count": 29,
   "metadata": {},
   "outputs": [],
   "source": [
    "fdist_JJ = FreqDist()\n",
    "for word in pos_JJ:\n",
    "    fdist_JJ[word] += 1"
   ]
  },
  {
   "cell_type": "code",
   "execution_count": 30,
   "metadata": {},
   "outputs": [
    {
     "data": {
      "text/plain": [
       "[('good', 95),\n",
       " ('great', 70),\n",
       " ('best', 30),\n",
       " ('nice', 25),\n",
       " ('delicious', 23),\n",
       " ('disappointed', 19),\n",
       " ('bad', 18),\n",
       " ('much', 18),\n",
       " ('worst', 15),\n",
       " ('fresh', 14)]"
      ]
     },
     "execution_count": 30,
     "metadata": {},
     "output_type": "execute_result"
    }
   ],
   "source": [
    "fdist_JJ.most_common(10)"
   ]
  },
  {
   "cell_type": "code",
   "execution_count": 31,
   "metadata": {},
   "outputs": [],
   "source": [
    "positive_review = []\n",
    "negative_review = []\n",
    "\n",
    "for review in review_lines:\n",
    "    review_list=review.split('\\t')\n",
    "    \n",
    "    label= int(review_list[1])\n",
    "\n",
    "    if label == 1:\n",
    "        pos_review = review_list[0]\n",
    "        pos_review = pos_review.lower()\n",
    "        positive_review.append(pos_review)\n",
    "    \n",
    "    elif label == 0:\n",
    "        neg_review = review_list[0]\n",
    "        neg_review = neg_review.lower()\n",
    "        negative_review.append(neg_review)   "
   ]
  },
  {
   "cell_type": "markdown",
   "metadata": {},
   "source": [
    "#### Working on positive words"
   ]
  },
  {
   "cell_type": "code",
   "execution_count": 32,
   "metadata": {},
   "outputs": [],
   "source": [
    "pos_review_string = ' '.join(positive_review)"
   ]
  },
  {
   "cell_type": "code",
   "execution_count": 33,
   "metadata": {},
   "outputs": [],
   "source": [
    "pos_review_tokens= nltk.word_tokenize(pos_review_string)"
   ]
  },
  {
   "cell_type": "code",
   "execution_count": 34,
   "metadata": {},
   "outputs": [],
   "source": [
    "pos_rev_trigram= list(nltk.trigrams(pos_review_tokens))"
   ]
  },
  {
   "cell_type": "code",
   "execution_count": 35,
   "metadata": {},
   "outputs": [
    {
     "data": {
      "text/plain": [
       "[(('!', '!', '!'), 46),\n",
       " (('this', 'place', 'is'), 12),\n",
       " (('the', 'food', 'was'), 11),\n",
       " (('this', 'place', '.'), 9),\n",
       " (('.', 'the', 'food'), 7),\n",
       " (('our', 'server', 'was'), 7),\n",
       " (('.', 'this', 'place'), 7),\n",
       " (('.', 'i', 'love'), 7),\n",
       " (('and', 'it', 'was'), 6),\n",
       " (('.', 'this', 'is'), 6)]"
      ]
     },
     "execution_count": 35,
     "metadata": {},
     "output_type": "execute_result"
    }
   ],
   "source": [
    "freq_dist_pos_review=nltk.FreqDist(pos_rev_trigram)\n",
    "freq_dist_pos_review.most_common(10)"
   ]
  },
  {
   "cell_type": "markdown",
   "metadata": {},
   "source": [
    "#### Working on negative words"
   ]
  },
  {
   "cell_type": "code",
   "execution_count": 36,
   "metadata": {},
   "outputs": [
    {
     "data": {
      "text/plain": [
       "[(('wo', \"n't\", 'be'), 12),\n",
       " (('.', 'it', 'was'), 11),\n",
       " (('the', 'service', 'was'), 10),\n",
       " (('i', 'do', \"n't\"), 10),\n",
       " (('!', '!', '!'), 10),\n",
       " (('.', 'this', 'place'), 9),\n",
       " (('the', 'food', 'was'), 9),\n",
       " (('.', 'the', 'service'), 8),\n",
       " (('i', 'wo', \"n't\"), 8),\n",
       " ((',', 'but', 'i'), 7)]"
      ]
     },
     "execution_count": 36,
     "metadata": {},
     "output_type": "execute_result"
    }
   ],
   "source": [
    "neg_review_string=' '.join(negative_review)\n",
    "neg_review_tokens=nltk.word_tokenize(neg_review_string)\n",
    "neg_review_trigram= list(nltk.trigrams(neg_review_tokens))\n",
    "freq_dist_neg_review=nltk.FreqDist(neg_review_trigram)\n",
    "freq_dist_neg_review.most_common(10)"
   ]
  },
  {
   "cell_type": "markdown",
   "metadata": {},
   "source": [
    "#### Predicting reviews using Machine Learning"
   ]
  },
  {
   "cell_type": "code",
   "execution_count": 37,
   "metadata": {},
   "outputs": [],
   "source": [
    "review_list=[]\n",
    "for review in review_lines:\n",
    "    reviews=review.split('\\t')[0]\n",
    "    review=review.lower()\n",
    "    review_list.append(reviews)"
   ]
  },
  {
   "cell_type": "code",
   "execution_count": 41,
   "metadata": {},
   "outputs": [
    {
     "data": {
      "text/plain": [
       "list"
      ]
     },
     "execution_count": 41,
     "metadata": {},
     "output_type": "execute_result"
    }
   ],
   "source": [
    "type(review_list)"
   ]
  },
  {
   "cell_type": "code",
   "execution_count": 42,
   "metadata": {},
   "outputs": [],
   "source": [
    "from sklearn.feature_extraction.text import TfidfVectorizer\n",
    "tf_vect= TfidfVectorizer()\n",
    "x_tfidf=tf_vect.fit_transform(review_list)"
   ]
  },
  {
   "cell_type": "code",
   "execution_count": 43,
   "metadata": {},
   "outputs": [
    {
     "data": {
      "text/plain": [
       "(1000, 2036)"
      ]
     },
     "execution_count": 43,
     "metadata": {},
     "output_type": "execute_result"
    }
   ],
   "source": [
    "x_tfidf.shape"
   ]
  },
  {
   "cell_type": "code",
   "execution_count": 44,
   "metadata": {},
   "outputs": [
    {
     "data": {
      "text/plain": [
       "array([[0., 0., 0., ..., 0., 0., 0.],\n",
       "       [0., 0., 0., ..., 0., 0., 0.],\n",
       "       [0., 0., 0., ..., 0., 0., 0.],\n",
       "       ...,\n",
       "       [0., 0., 0., ..., 0., 0., 0.],\n",
       "       [0., 0., 0., ..., 0., 0., 0.],\n",
       "       [0., 0., 0., ..., 0., 0., 0.]])"
      ]
     },
     "execution_count": 44,
     "metadata": {},
     "output_type": "execute_result"
    }
   ],
   "source": [
    "x_tfidf.toarray()"
   ]
  },
  {
   "cell_type": "code",
   "execution_count": 45,
   "metadata": {},
   "outputs": [
    {
     "data": {
      "text/plain": [
       "['00',\n",
       " '10',\n",
       " '100',\n",
       " '11',\n",
       " '12',\n",
       " '15',\n",
       " '17',\n",
       " '1979',\n",
       " '20',\n",
       " '2007',\n",
       " '23',\n",
       " '30',\n",
       " '30s',\n",
       " '35',\n",
       " '40',\n",
       " '40min',\n",
       " '45',\n",
       " '4ths',\n",
       " '5lb',\n",
       " '70',\n",
       " '85',\n",
       " '90',\n",
       " '99',\n",
       " 'about',\n",
       " 'above',\n",
       " 'absolute',\n",
       " 'absolutely',\n",
       " 'absolutley',\n",
       " 'accident',\n",
       " 'accommodations',\n",
       " 'accomodate',\n",
       " 'accordingly',\n",
       " 'accountant',\n",
       " 'ache',\n",
       " 'acknowledged',\n",
       " 'across',\n",
       " 'actual',\n",
       " 'actually',\n",
       " 'added',\n",
       " 'affordable',\n",
       " 'after',\n",
       " 'afternoon',\n",
       " 'again',\n",
       " 'ago',\n",
       " 'ahead',\n",
       " 'airline',\n",
       " 'airport',\n",
       " 'ala',\n",
       " 'albondigas',\n",
       " 'all',\n",
       " 'allergy',\n",
       " 'almonds',\n",
       " 'almost',\n",
       " 'alone',\n",
       " 'also',\n",
       " 'although',\n",
       " 'always',\n",
       " 'am',\n",
       " 'amazing',\n",
       " 'ambiance',\n",
       " 'ambience',\n",
       " 'amount',\n",
       " 'ample',\n",
       " 'an',\n",
       " 'and',\n",
       " 'andddd',\n",
       " 'angry',\n",
       " 'annoying',\n",
       " 'another',\n",
       " 'anticipated',\n",
       " 'any',\n",
       " 'anymore',\n",
       " 'anyone',\n",
       " 'anything',\n",
       " 'anytime',\n",
       " 'anyway',\n",
       " 'anyways',\n",
       " 'apart',\n",
       " 'apologize',\n",
       " 'apology',\n",
       " 'app',\n",
       " 'appalling',\n",
       " 'apparently',\n",
       " 'appealing',\n",
       " 'appetite',\n",
       " 'appetizer',\n",
       " 'appetizers',\n",
       " 'apple',\n",
       " 'approval',\n",
       " 'are',\n",
       " 'area',\n",
       " 'aren',\n",
       " 'arepas',\n",
       " 'aria',\n",
       " 'around',\n",
       " 'array',\n",
       " 'arrived',\n",
       " 'arrives',\n",
       " 'arriving',\n",
       " 'article',\n",
       " 'as',\n",
       " 'ask',\n",
       " 'asked',\n",
       " 'asking',\n",
       " 'assure',\n",
       " 'at',\n",
       " 'ate',\n",
       " 'atmosphere',\n",
       " 'atrocious',\n",
       " 'attached',\n",
       " 'attack',\n",
       " 'attention',\n",
       " 'attentive',\n",
       " 'attitudes',\n",
       " 'auju',\n",
       " 'authentic',\n",
       " 'average',\n",
       " 'avocado',\n",
       " 'avoid',\n",
       " 'avoided',\n",
       " 'away',\n",
       " 'awesome',\n",
       " 'awful',\n",
       " 'awkward',\n",
       " 'awkwardly',\n",
       " 'ayce',\n",
       " 'az',\n",
       " 'baba',\n",
       " 'baby',\n",
       " 'bachi',\n",
       " 'back',\n",
       " 'bacon',\n",
       " 'bad',\n",
       " 'bagels',\n",
       " 'bakery',\n",
       " 'baklava',\n",
       " 'ball',\n",
       " 'bamboo',\n",
       " 'banana',\n",
       " 'bank',\n",
       " 'bar',\n",
       " 'bare',\n",
       " 'barely',\n",
       " 'bargain',\n",
       " 'bars',\n",
       " 'bartender',\n",
       " 'bartenders',\n",
       " 'baseball',\n",
       " 'based',\n",
       " 'basically',\n",
       " 'batch',\n",
       " 'bathroom',\n",
       " 'bathrooms',\n",
       " 'batter',\n",
       " 'bay',\n",
       " 'bbq',\n",
       " 'be',\n",
       " 'bean',\n",
       " 'beans',\n",
       " 'beat',\n",
       " 'beateous',\n",
       " 'beautiful',\n",
       " 'beautifully',\n",
       " 'beauty',\n",
       " 'because',\n",
       " 'become',\n",
       " 'beef',\n",
       " 'been',\n",
       " 'beer',\n",
       " 'beers',\n",
       " 'before',\n",
       " 'begin',\n",
       " 'behind',\n",
       " 'being',\n",
       " 'believe',\n",
       " 'bellagio',\n",
       " 'bellies',\n",
       " 'belly',\n",
       " 'below',\n",
       " 'besides',\n",
       " 'best',\n",
       " 'better',\n",
       " 'between',\n",
       " 'beyond',\n",
       " 'big',\n",
       " 'bigger',\n",
       " 'biggest',\n",
       " 'bill',\n",
       " 'binge',\n",
       " 'bird',\n",
       " 'biscuit',\n",
       " 'biscuits',\n",
       " 'bisque',\n",
       " 'bit',\n",
       " 'bitches',\n",
       " 'bite',\n",
       " 'bites',\n",
       " 'bits',\n",
       " 'black',\n",
       " 'blah',\n",
       " 'blame',\n",
       " 'bland',\n",
       " 'blandest',\n",
       " 'blanket',\n",
       " 'block',\n",
       " 'bloddy',\n",
       " 'bloodiest',\n",
       " 'bloody',\n",
       " 'blow',\n",
       " 'blown',\n",
       " 'blows',\n",
       " 'blue',\n",
       " 'boba',\n",
       " 'bodes',\n",
       " 'boiled',\n",
       " 'bone',\n",
       " 'book',\n",
       " 'boot',\n",
       " 'boring',\n",
       " 'both',\n",
       " 'bother',\n",
       " 'bottom',\n",
       " 'bouchon',\n",
       " 'bought',\n",
       " 'bowl',\n",
       " 'box',\n",
       " 'boxes',\n",
       " 'boy',\n",
       " 'boyfriend',\n",
       " 'boys',\n",
       " 'bread',\n",
       " 'break',\n",
       " 'breakfast',\n",
       " 'breaks',\n",
       " 'breeze',\n",
       " 'brick',\n",
       " 'bring',\n",
       " 'brings',\n",
       " 'brisket',\n",
       " 'brother',\n",
       " 'brought',\n",
       " 'brownish',\n",
       " 'brunch',\n",
       " 'bruschetta',\n",
       " 'brushfire',\n",
       " 'bucks',\n",
       " 'buffet',\n",
       " 'buffets',\n",
       " 'bug',\n",
       " 'building',\n",
       " 'buldogis',\n",
       " 'bunch',\n",
       " 'burger',\n",
       " 'burgers',\n",
       " 'burned',\n",
       " 'burrittos',\n",
       " 'bus',\n",
       " 'business',\n",
       " 'businesses',\n",
       " 'bussell',\n",
       " 'busy',\n",
       " 'but',\n",
       " 'butter',\n",
       " 'buying',\n",
       " 'by',\n",
       " 'bye',\n",
       " 'caballero',\n",
       " 'caesar',\n",
       " 'cafe',\n",
       " 'cafã',\n",
       " 'cake',\n",
       " 'cakes',\n",
       " 'calamari',\n",
       " 'call',\n",
       " 'calligraphy',\n",
       " 'callings',\n",
       " 'came',\n",
       " 'camelback',\n",
       " 'can',\n",
       " 'cannoli',\n",
       " 'cannot',\n",
       " 'cant',\n",
       " 'cape',\n",
       " 'capers',\n",
       " 'car',\n",
       " 'carbs',\n",
       " 'care',\n",
       " 'caring',\n",
       " 'carly',\n",
       " 'carpaccio',\n",
       " 'cart',\n",
       " 'cartel',\n",
       " 'case',\n",
       " 'cash',\n",
       " 'cashew',\n",
       " 'cashier',\n",
       " 'casino',\n",
       " 'caterpillar',\n",
       " 'caught',\n",
       " 'cause',\n",
       " 'cavier',\n",
       " 'certainly',\n",
       " 'chai',\n",
       " 'chains',\n",
       " 'changing',\n",
       " 'char',\n",
       " 'charcoal',\n",
       " 'charge',\n",
       " 'charged',\n",
       " 'charming',\n",
       " 'cheap',\n",
       " 'cheated',\n",
       " 'check',\n",
       " 'checked',\n",
       " 'cheek',\n",
       " 'cheese',\n",
       " 'cheeseburger',\n",
       " 'cheesecurds',\n",
       " 'chef',\n",
       " 'chefs',\n",
       " 'chewy',\n",
       " 'chicken',\n",
       " 'chickens',\n",
       " 'chinese',\n",
       " 'chip',\n",
       " 'chipolte',\n",
       " 'chipotle',\n",
       " 'chips',\n",
       " 'chocolate',\n",
       " 'choose',\n",
       " 'choux',\n",
       " 'chow',\n",
       " 'christmas',\n",
       " 'cibo',\n",
       " 'circumstances',\n",
       " 'claimed',\n",
       " 'class',\n",
       " 'classic',\n",
       " 'classics',\n",
       " 'classy',\n",
       " 'clean',\n",
       " 'climbing',\n",
       " 'close',\n",
       " 'closed',\n",
       " 'club',\n",
       " 'clue',\n",
       " 'cocktail',\n",
       " 'cocktails',\n",
       " 'coconut',\n",
       " 'cod',\n",
       " 'coffee',\n",
       " 'cold',\n",
       " 'colder',\n",
       " 'college',\n",
       " 'color',\n",
       " 'combination',\n",
       " 'combo',\n",
       " 'combos',\n",
       " 'come',\n",
       " 'comfortable',\n",
       " 'coming',\n",
       " 'common',\n",
       " 'companions',\n",
       " 'company',\n",
       " 'complain',\n",
       " 'complaints',\n",
       " 'complete',\n",
       " 'completely',\n",
       " 'compliments',\n",
       " 'con',\n",
       " 'concept',\n",
       " 'concern',\n",
       " 'conclusion',\n",
       " 'condiment',\n",
       " 'connisseur',\n",
       " 'connoisseur',\n",
       " 'consider',\n",
       " 'considering',\n",
       " 'consistent',\n",
       " 'constructed',\n",
       " 'contain',\n",
       " 'contained',\n",
       " 'containers',\n",
       " 'continue',\n",
       " 'convenient',\n",
       " 'cook',\n",
       " 'cooked',\n",
       " 'cooking',\n",
       " 'cool',\n",
       " 'corn',\n",
       " 'corporation',\n",
       " 'correct',\n",
       " 'correction',\n",
       " 'cost',\n",
       " 'costco',\n",
       " 'cotta',\n",
       " 'could',\n",
       " 'couldn',\n",
       " 'count',\n",
       " 'couple',\n",
       " 'couples',\n",
       " 'coupons',\n",
       " 'course',\n",
       " 'court',\n",
       " 'courteous',\n",
       " 'cover',\n",
       " 'covered',\n",
       " 'covers',\n",
       " 'cow',\n",
       " 'coziness',\n",
       " 'crab',\n",
       " 'cramming',\n",
       " 'cranberry',\n",
       " 'craving',\n",
       " 'crawfish',\n",
       " 'crazy',\n",
       " 'cream',\n",
       " 'creamy',\n",
       " 'crema',\n",
       " 'crepe',\n",
       " 'crisp',\n",
       " 'crispy',\n",
       " 'crostini',\n",
       " 'croutons',\n",
       " 'crowd',\n",
       " 'crowds',\n",
       " 'crumby',\n",
       " 'crust',\n",
       " 'crusty',\n",
       " 'crystals',\n",
       " 'crãªpe',\n",
       " 'cuisine',\n",
       " 'curry',\n",
       " 'customer',\n",
       " 'customers',\n",
       " 'customize',\n",
       " 'cut',\n",
       " 'cute',\n",
       " 'daily',\n",
       " 'damn',\n",
       " 'dark',\n",
       " 'date',\n",
       " 'dates',\n",
       " 'daughter',\n",
       " 'day',\n",
       " 'dead',\n",
       " 'deal',\n",
       " 'dealing',\n",
       " 'decent',\n",
       " 'decide',\n",
       " 'decided',\n",
       " 'decision',\n",
       " 'decor',\n",
       " 'decorated',\n",
       " 'dedicated',\n",
       " 'deep',\n",
       " 'deeply',\n",
       " 'def',\n",
       " 'definately',\n",
       " 'definitely',\n",
       " 'degree',\n",
       " 'del',\n",
       " 'delicate',\n",
       " 'delicioso',\n",
       " 'delicious',\n",
       " 'deliciously',\n",
       " 'delight',\n",
       " 'delightful',\n",
       " 'delights',\n",
       " 'delish',\n",
       " 'deliver',\n",
       " 'delivery',\n",
       " 'denny',\n",
       " 'describing',\n",
       " 'descriptions',\n",
       " 'deserves',\n",
       " 'desired',\n",
       " 'despicable',\n",
       " 'despite',\n",
       " 'dessert',\n",
       " 'desserts',\n",
       " 'deuchebaggery',\n",
       " 'devine',\n",
       " 'did',\n",
       " 'didn',\n",
       " 'die',\n",
       " 'difference',\n",
       " 'different',\n",
       " 'dime',\n",
       " 'dine',\n",
       " 'dining',\n",
       " 'dinner',\n",
       " 'dinners',\n",
       " 'dipping',\n",
       " 'dirt',\n",
       " 'dirty',\n",
       " 'disagree',\n",
       " 'disappoint',\n",
       " 'disappointed',\n",
       " 'disappointing',\n",
       " 'disappointment',\n",
       " 'disapppointment',\n",
       " 'disaster',\n",
       " 'disbelief',\n",
       " 'discount',\n",
       " 'disgrace',\n",
       " 'disgraceful',\n",
       " 'disgust',\n",
       " 'disgusted',\n",
       " 'disgusting',\n",
       " 'dish',\n",
       " 'dishes',\n",
       " 'dispenser',\n",
       " 'disrespected',\n",
       " 'diverse',\n",
       " 'do',\n",
       " 'does',\n",
       " 'dog',\n",
       " 'doing',\n",
       " 'dollars',\n",
       " 'don',\n",
       " 'done',\n",
       " 'dont',\n",
       " 'donut',\n",
       " 'door',\n",
       " 'dos',\n",
       " 'double',\n",
       " 'doubt',\n",
       " 'douchey',\n",
       " 'dough',\n",
       " 'doughy',\n",
       " 'down',\n",
       " 'downright',\n",
       " 'downside',\n",
       " 'downtown',\n",
       " 'drag',\n",
       " 'drastically',\n",
       " 'drawing',\n",
       " 'dreamed',\n",
       " 'drenched',\n",
       " 'dressed',\n",
       " 'dressing',\n",
       " 'dried',\n",
       " 'driest',\n",
       " 'drink',\n",
       " 'drinking',\n",
       " 'drinks',\n",
       " 'dripping',\n",
       " 'drive',\n",
       " 'driving',\n",
       " 'dropped',\n",
       " 'drunk',\n",
       " 'dry',\n",
       " 'duck',\n",
       " 'dude',\n",
       " 'due',\n",
       " 'duo',\n",
       " 'during',\n",
       " 'dusted',\n",
       " 'dylan',\n",
       " 'each',\n",
       " 'easily',\n",
       " 'eat',\n",
       " 'eaten',\n",
       " 'eating',\n",
       " 'eclectic',\n",
       " 'ed',\n",
       " 'edible',\n",
       " 'edinburgh',\n",
       " 'editing',\n",
       " 'eel',\n",
       " 'eew',\n",
       " 'efficient',\n",
       " 'effort',\n",
       " 'egg',\n",
       " 'eggplant',\n",
       " 'eggs',\n",
       " 'either',\n",
       " 'elegantly',\n",
       " 'elk',\n",
       " 'else',\n",
       " 'elsewhere',\n",
       " 'email',\n",
       " 'employee',\n",
       " 'employees',\n",
       " 'empty',\n",
       " 'end',\n",
       " 'ended',\n",
       " 'english',\n",
       " 'enjoy',\n",
       " 'enjoyable',\n",
       " 'enjoyed',\n",
       " 'enough',\n",
       " 'ensued',\n",
       " 'enthusiastic',\n",
       " 'entire',\n",
       " 'entrees',\n",
       " 'equally',\n",
       " 'especially',\n",
       " 'establishment',\n",
       " 'etc',\n",
       " 'ethic',\n",
       " 'eve',\n",
       " 'even',\n",
       " 'evening',\n",
       " 'event',\n",
       " 'events',\n",
       " 'ever',\n",
       " 'every',\n",
       " 'everyone',\n",
       " 'everything',\n",
       " 'everywhere',\n",
       " 'exactly',\n",
       " 'excalibur',\n",
       " 'exceeding',\n",
       " 'excellent',\n",
       " 'exceptional',\n",
       " 'excuse',\n",
       " 'expanded',\n",
       " 'expect',\n",
       " 'expectations',\n",
       " 'expected',\n",
       " 'expensive',\n",
       " 'experience',\n",
       " 'experienced',\n",
       " 'experiencing',\n",
       " 'expert',\n",
       " 'exquisite',\n",
       " 'extensive',\n",
       " 'extra',\n",
       " 'extraordinary',\n",
       " 'extremely',\n",
       " 'eyed',\n",
       " 'eyes',\n",
       " 'fabulous',\n",
       " 'fact',\n",
       " 'fail',\n",
       " 'fails',\n",
       " 'fair',\n",
       " 'fairly',\n",
       " 'falafels',\n",
       " 'falling',\n",
       " 'familiar',\n",
       " 'family',\n",
       " 'famous',\n",
       " 'fan',\n",
       " 'fancy',\n",
       " 'fantastic',\n",
       " 'far',\n",
       " 'fare',\n",
       " 'fast',\n",
       " 'fat',\n",
       " 'fav',\n",
       " 'favor',\n",
       " 'favorite',\n",
       " 'fear',\n",
       " 'feel',\n",
       " 'feeling',\n",
       " 'feels',\n",
       " 'fell',\n",
       " 'fella',\n",
       " 'fellow',\n",
       " 'felt',\n",
       " 'few',\n",
       " 'fiancã',\n",
       " 'figured',\n",
       " 'filet',\n",
       " 'fill',\n",
       " 'fillet',\n",
       " 'filling',\n",
       " 'final',\n",
       " 'finally',\n",
       " 'find',\n",
       " 'fine',\n",
       " 'finger',\n",
       " 'finish',\n",
       " 'fireball',\n",
       " 'firehouse',\n",
       " 'first',\n",
       " 'fish',\n",
       " 'five',\n",
       " 'flair',\n",
       " 'flat',\n",
       " 'flavor',\n",
       " 'flavored',\n",
       " 'flavorful',\n",
       " 'flavorless',\n",
       " 'flavors',\n",
       " 'flavourful',\n",
       " 'flirting',\n",
       " 'flop',\n",
       " 'flower',\n",
       " 'fluffy',\n",
       " 'fly',\n",
       " 'fo',\n",
       " 'focused',\n",
       " 'folks',\n",
       " 'fondue',\n",
       " 'food',\n",
       " 'foods',\n",
       " 'foot',\n",
       " 'for',\n",
       " 'forever',\n",
       " 'forgetting',\n",
       " 'forth',\n",
       " 'forty',\n",
       " 'forward',\n",
       " 'found',\n",
       " 'four',\n",
       " 'francisco',\n",
       " 'freaking',\n",
       " 'free',\n",
       " 'freezing',\n",
       " 'frenchman',\n",
       " 'fresh',\n",
       " 'fridays',\n",
       " 'fried',\n",
       " 'friend',\n",
       " 'friendly',\n",
       " 'friends',\n",
       " 'fries',\n",
       " 'from',\n",
       " 'front',\n",
       " 'frozen',\n",
       " 'fruit',\n",
       " 'frustrated',\n",
       " 'fry',\n",
       " 'fs',\n",
       " 'fucking',\n",
       " 'full',\n",
       " 'fun',\n",
       " 'funny',\n",
       " 'further',\n",
       " 'furthermore',\n",
       " 'fuzzy',\n",
       " 'ganoush',\n",
       " 'garden',\n",
       " 'garlic',\n",
       " 'gas',\n",
       " 'gave',\n",
       " 'gc',\n",
       " 'gem',\n",
       " 'generic',\n",
       " 'generous',\n",
       " 'genuinely',\n",
       " 'get',\n",
       " 'gets',\n",
       " 'getting',\n",
       " 'giant',\n",
       " 'girlfriend',\n",
       " 'give',\n",
       " 'given',\n",
       " 'giving',\n",
       " 'glad',\n",
       " 'glance',\n",
       " 'glass',\n",
       " 'gloves',\n",
       " 'gluten',\n",
       " 'go',\n",
       " 'goat',\n",
       " 'godfathers',\n",
       " 'going',\n",
       " 'gold',\n",
       " 'golden',\n",
       " 'gone',\n",
       " 'good',\n",
       " 'google',\n",
       " 'gooodd',\n",
       " 'gordon',\n",
       " 'got',\n",
       " 'gotten',\n",
       " 'gourmet',\n",
       " 'grab',\n",
       " 'grain',\n",
       " 'grandmother',\n",
       " 'gratitude',\n",
       " 'gratuity',\n",
       " 'grease',\n",
       " 'greasy',\n",
       " 'great',\n",
       " 'greatest',\n",
       " 'greedy',\n",
       " 'greek',\n",
       " 'green',\n",
       " 'greens',\n",
       " 'greeted',\n",
       " 'grill',\n",
       " 'grilled',\n",
       " 'gringos',\n",
       " 'gristle',\n",
       " 'grocery',\n",
       " 'gross',\n",
       " 'grossed',\n",
       " 'ground',\n",
       " 'group',\n",
       " 'groups',\n",
       " 'grow',\n",
       " 'guacamole',\n",
       " 'guess',\n",
       " 'guest',\n",
       " 'guests',\n",
       " 'guy',\n",
       " 'guys',\n",
       " 'gyro',\n",
       " 'gyros',\n",
       " 'ha',\n",
       " 'had',\n",
       " 'hadn',\n",
       " 'hair',\n",
       " 'half',\n",
       " 'halibut',\n",
       " 'hamburger',\n",
       " 'han',\n",
       " 'hand',\n",
       " 'handed',\n",
       " 'handled',\n",
       " 'handling',\n",
       " 'handmade',\n",
       " 'hands',\n",
       " 'hankering',\n",
       " 'happened',\n",
       " 'happier',\n",
       " 'happy',\n",
       " 'hard',\n",
       " 'hardest',\n",
       " 'hardly',\n",
       " 'has',\n",
       " 'hasn',\n",
       " 'hate',\n",
       " 'hated',\n",
       " 'haunt',\n",
       " 'have',\n",
       " 'haven',\n",
       " 'having',\n",
       " 'hawaiian',\n",
       " 'he',\n",
       " 'head',\n",
       " 'heads',\n",
       " 'healthy',\n",
       " 'heard',\n",
       " 'heart',\n",
       " 'hearts',\n",
       " 'heat',\n",
       " 'heimer',\n",
       " 'held',\n",
       " 'hell',\n",
       " 'hella',\n",
       " 'hello',\n",
       " 'help',\n",
       " 'helped',\n",
       " 'helpful',\n",
       " 'her',\n",
       " 'here',\n",
       " 'hereas',\n",
       " 'hi',\n",
       " 'high',\n",
       " 'highlight',\n",
       " 'highlighted',\n",
       " 'highlights',\n",
       " 'highly',\n",
       " 'hilarious',\n",
       " 'him',\n",
       " 'hip',\n",
       " 'hiro',\n",
       " 'his',\n",
       " 'hit',\n",
       " 'hits',\n",
       " 'hole',\n",
       " 'holiday',\n",
       " 'home',\n",
       " 'homemade',\n",
       " 'honeslty',\n",
       " 'honest',\n",
       " 'honestly',\n",
       " 'honor',\n",
       " 'hooked',\n",
       " 'hope',\n",
       " 'hopefully',\n",
       " 'hopes',\n",
       " 'hoping',\n",
       " 'horrible',\n",
       " 'hospitality',\n",
       " 'host',\n",
       " 'hostess',\n",
       " 'hot',\n",
       " 'hottest',\n",
       " 'hour',\n",
       " 'hours',\n",
       " 'house',\n",
       " 'how',\n",
       " 'however',\n",
       " 'huevos',\n",
       " 'huge',\n",
       " 'human',\n",
       " 'humiliated',\n",
       " 'hummus',\n",
       " 'hunan',\n",
       " 'hungry',\n",
       " 'hurry',\n",
       " 'husband',\n",
       " 'hut',\n",
       " 'ians',\n",
       " 'ice',\n",
       " 'iced',\n",
       " 'idea',\n",
       " 'if',\n",
       " 'ignore',\n",
       " 'ignored',\n",
       " 'im',\n",
       " 'imagination',\n",
       " 'imaginative',\n",
       " 'imagine',\n",
       " 'imagined',\n",
       " 'immediately',\n",
       " 'impeccable',\n",
       " 'impressed',\n",
       " 'impressive',\n",
       " 'in',\n",
       " 'inch',\n",
       " 'included',\n",
       " 'including',\n",
       " 'inconsiderate',\n",
       " 'incredible',\n",
       " 'incredibly',\n",
       " 'indian',\n",
       " 'indicate',\n",
       " 'indoor',\n",
       " 'industry',\n",
       " 'inexpensive',\n",
       " 'inflate',\n",
       " 'informative',\n",
       " 'ingredients',\n",
       " 'insanely',\n",
       " 'inside',\n",
       " 'inspired',\n",
       " 'instantly',\n",
       " 'instead',\n",
       " 'insulted',\n",
       " 'insults',\n",
       " 'interesting',\n",
       " 'interior',\n",
       " 'into',\n",
       " 'inviting',\n",
       " 'ironman',\n",
       " 'is',\n",
       " 'isn',\n",
       " 'it',\n",
       " 'italian',\n",
       " 'item',\n",
       " 'its',\n",
       " 'itself',\n",
       " 'jalapeno',\n",
       " 'jamaican',\n",
       " 'japanese',\n",
       " 'jeff',\n",
       " 'jenni',\n",
       " 'jerk',\n",
       " 'jewel',\n",
       " 'job',\n",
       " 'joey',\n",
       " 'join',\n",
       " 'joint',\n",
       " 'joke',\n",
       " 'joy',\n",
       " 'judge',\n",
       " 'judging',\n",
       " 'juice',\n",
       " 'juries',\n",
       " 'just',\n",
       " 'kabuki',\n",
       " 'kept',\n",
       " 'key',\n",
       " 'khao',\n",
       " 'kid',\n",
       " 'kiddos',\n",
       " 'kids',\n",
       " 'killer',\n",
       " 'kind',\n",
       " 'kitchen',\n",
       " 'know',\n",
       " 'known',\n",
       " 'lack',\n",
       " 'lacked',\n",
       " 'lacking',\n",
       " 'ladies',\n",
       " 'lady',\n",
       " 'large',\n",
       " 'largely',\n",
       " 'larger',\n",
       " 'las',\n",
       " 'last',\n",
       " 'lastly',\n",
       " 'late',\n",
       " 'later',\n",
       " 'latte',\n",
       " 'law',\n",
       " 'lawyers',\n",
       " 'least',\n",
       " 'leather',\n",
       " 'leave',\n",
       " ...]"
      ]
     },
     "execution_count": 45,
     "metadata": {},
     "output_type": "execute_result"
    }
   ],
   "source": [
    "tf_vect.get_feature_names()"
   ]
  },
  {
   "cell_type": "code",
   "execution_count": 46,
   "metadata": {},
   "outputs": [],
   "source": [
    "x_tf=pd.DataFrame(x_tfidf.toarray(),columns=tf_vect.get_feature_names())"
   ]
  },
  {
   "cell_type": "code",
   "execution_count": 47,
   "metadata": {},
   "outputs": [
    {
     "data": {
      "text/html": [
       "<div>\n",
       "<style scoped>\n",
       "    .dataframe tbody tr th:only-of-type {\n",
       "        vertical-align: middle;\n",
       "    }\n",
       "\n",
       "    .dataframe tbody tr th {\n",
       "        vertical-align: top;\n",
       "    }\n",
       "\n",
       "    .dataframe thead th {\n",
       "        text-align: right;\n",
       "    }\n",
       "</style>\n",
       "<table border=\"1\" class=\"dataframe\">\n",
       "  <thead>\n",
       "    <tr style=\"text-align: right;\">\n",
       "      <th></th>\n",
       "      <th>00</th>\n",
       "      <th>10</th>\n",
       "      <th>100</th>\n",
       "      <th>11</th>\n",
       "      <th>12</th>\n",
       "      <th>15</th>\n",
       "      <th>17</th>\n",
       "      <th>1979</th>\n",
       "      <th>20</th>\n",
       "      <th>2007</th>\n",
       "      <th>...</th>\n",
       "      <th>yelpers</th>\n",
       "      <th>yet</th>\n",
       "      <th>you</th>\n",
       "      <th>your</th>\n",
       "      <th>yourself</th>\n",
       "      <th>yucky</th>\n",
       "      <th>yukon</th>\n",
       "      <th>yum</th>\n",
       "      <th>yummy</th>\n",
       "      <th>zero</th>\n",
       "    </tr>\n",
       "  </thead>\n",
       "  <tbody>\n",
       "    <tr>\n",
       "      <th>0</th>\n",
       "      <td>0.0</td>\n",
       "      <td>0.0</td>\n",
       "      <td>0.0</td>\n",
       "      <td>0.0</td>\n",
       "      <td>0.0</td>\n",
       "      <td>0.0</td>\n",
       "      <td>0.0</td>\n",
       "      <td>0.0</td>\n",
       "      <td>0.0</td>\n",
       "      <td>0.0</td>\n",
       "      <td>...</td>\n",
       "      <td>0.0</td>\n",
       "      <td>0.0</td>\n",
       "      <td>0.0</td>\n",
       "      <td>0.0</td>\n",
       "      <td>0.0</td>\n",
       "      <td>0.0</td>\n",
       "      <td>0.0</td>\n",
       "      <td>0.0</td>\n",
       "      <td>0.0</td>\n",
       "      <td>0.0</td>\n",
       "    </tr>\n",
       "    <tr>\n",
       "      <th>1</th>\n",
       "      <td>0.0</td>\n",
       "      <td>0.0</td>\n",
       "      <td>0.0</td>\n",
       "      <td>0.0</td>\n",
       "      <td>0.0</td>\n",
       "      <td>0.0</td>\n",
       "      <td>0.0</td>\n",
       "      <td>0.0</td>\n",
       "      <td>0.0</td>\n",
       "      <td>0.0</td>\n",
       "      <td>...</td>\n",
       "      <td>0.0</td>\n",
       "      <td>0.0</td>\n",
       "      <td>0.0</td>\n",
       "      <td>0.0</td>\n",
       "      <td>0.0</td>\n",
       "      <td>0.0</td>\n",
       "      <td>0.0</td>\n",
       "      <td>0.0</td>\n",
       "      <td>0.0</td>\n",
       "      <td>0.0</td>\n",
       "    </tr>\n",
       "    <tr>\n",
       "      <th>2</th>\n",
       "      <td>0.0</td>\n",
       "      <td>0.0</td>\n",
       "      <td>0.0</td>\n",
       "      <td>0.0</td>\n",
       "      <td>0.0</td>\n",
       "      <td>0.0</td>\n",
       "      <td>0.0</td>\n",
       "      <td>0.0</td>\n",
       "      <td>0.0</td>\n",
       "      <td>0.0</td>\n",
       "      <td>...</td>\n",
       "      <td>0.0</td>\n",
       "      <td>0.0</td>\n",
       "      <td>0.0</td>\n",
       "      <td>0.0</td>\n",
       "      <td>0.0</td>\n",
       "      <td>0.0</td>\n",
       "      <td>0.0</td>\n",
       "      <td>0.0</td>\n",
       "      <td>0.0</td>\n",
       "      <td>0.0</td>\n",
       "    </tr>\n",
       "    <tr>\n",
       "      <th>3</th>\n",
       "      <td>0.0</td>\n",
       "      <td>0.0</td>\n",
       "      <td>0.0</td>\n",
       "      <td>0.0</td>\n",
       "      <td>0.0</td>\n",
       "      <td>0.0</td>\n",
       "      <td>0.0</td>\n",
       "      <td>0.0</td>\n",
       "      <td>0.0</td>\n",
       "      <td>0.0</td>\n",
       "      <td>...</td>\n",
       "      <td>0.0</td>\n",
       "      <td>0.0</td>\n",
       "      <td>0.0</td>\n",
       "      <td>0.0</td>\n",
       "      <td>0.0</td>\n",
       "      <td>0.0</td>\n",
       "      <td>0.0</td>\n",
       "      <td>0.0</td>\n",
       "      <td>0.0</td>\n",
       "      <td>0.0</td>\n",
       "    </tr>\n",
       "    <tr>\n",
       "      <th>4</th>\n",
       "      <td>0.0</td>\n",
       "      <td>0.0</td>\n",
       "      <td>0.0</td>\n",
       "      <td>0.0</td>\n",
       "      <td>0.0</td>\n",
       "      <td>0.0</td>\n",
       "      <td>0.0</td>\n",
       "      <td>0.0</td>\n",
       "      <td>0.0</td>\n",
       "      <td>0.0</td>\n",
       "      <td>...</td>\n",
       "      <td>0.0</td>\n",
       "      <td>0.0</td>\n",
       "      <td>0.0</td>\n",
       "      <td>0.0</td>\n",
       "      <td>0.0</td>\n",
       "      <td>0.0</td>\n",
       "      <td>0.0</td>\n",
       "      <td>0.0</td>\n",
       "      <td>0.0</td>\n",
       "      <td>0.0</td>\n",
       "    </tr>\n",
       "  </tbody>\n",
       "</table>\n",
       "<p>5 rows × 2036 columns</p>\n",
       "</div>"
      ],
      "text/plain": [
       "    00   10  100   11   12   15   17  1979   20  2007  ...   yelpers  yet  \\\n",
       "0  0.0  0.0  0.0  0.0  0.0  0.0  0.0   0.0  0.0   0.0  ...       0.0  0.0   \n",
       "1  0.0  0.0  0.0  0.0  0.0  0.0  0.0   0.0  0.0   0.0  ...       0.0  0.0   \n",
       "2  0.0  0.0  0.0  0.0  0.0  0.0  0.0   0.0  0.0   0.0  ...       0.0  0.0   \n",
       "3  0.0  0.0  0.0  0.0  0.0  0.0  0.0   0.0  0.0   0.0  ...       0.0  0.0   \n",
       "4  0.0  0.0  0.0  0.0  0.0  0.0  0.0   0.0  0.0   0.0  ...       0.0  0.0   \n",
       "\n",
       "   you  your  yourself  yucky  yukon  yum  yummy  zero  \n",
       "0  0.0   0.0       0.0    0.0    0.0  0.0    0.0   0.0  \n",
       "1  0.0   0.0       0.0    0.0    0.0  0.0    0.0   0.0  \n",
       "2  0.0   0.0       0.0    0.0    0.0  0.0    0.0   0.0  \n",
       "3  0.0   0.0       0.0    0.0    0.0  0.0    0.0   0.0  \n",
       "4  0.0   0.0       0.0    0.0    0.0  0.0    0.0   0.0  \n",
       "\n",
       "[5 rows x 2036 columns]"
      ]
     },
     "execution_count": 47,
     "metadata": {},
     "output_type": "execute_result"
    }
   ],
   "source": [
    "x_tf.head()"
   ]
  },
  {
   "cell_type": "code",
   "execution_count": 48,
   "metadata": {},
   "outputs": [],
   "source": [
    "y=review_labels"
   ]
  },
  {
   "cell_type": "code",
   "execution_count": 49,
   "metadata": {},
   "outputs": [],
   "source": [
    "x_tf_train, x_tf_test, y_tf_train,y_tf_test = train_test_split(x_tf,y, test_size=0.2,random_state=3)"
   ]
  },
  {
   "cell_type": "code",
   "execution_count": 50,
   "metadata": {},
   "outputs": [
    {
     "data": {
      "text/plain": [
       "(800, 2036)"
      ]
     },
     "execution_count": 50,
     "metadata": {},
     "output_type": "execute_result"
    }
   ],
   "source": [
    "x_tf_train.shape"
   ]
  },
  {
   "cell_type": "code",
   "execution_count": 51,
   "metadata": {},
   "outputs": [
    {
     "data": {
      "text/plain": [
       "(200, 2036)"
      ]
     },
     "execution_count": 51,
     "metadata": {},
     "output_type": "execute_result"
    }
   ],
   "source": [
    "x_tf_test.shape"
   ]
  },
  {
   "cell_type": "code",
   "execution_count": 52,
   "metadata": {},
   "outputs": [
    {
     "data": {
      "text/plain": [
       "MultinomialNB(alpha=1.0, class_prior=None, fit_prior=True)"
      ]
     },
     "execution_count": 52,
     "metadata": {},
     "output_type": "execute_result"
    }
   ],
   "source": [
    "from sklearn.naive_bayes import MultinomialNB\n",
    "\n",
    "clf_tf = MultinomialNB()\n",
    "clf_tf.fit(x_tf_train,y_tf_train)"
   ]
  },
  {
   "cell_type": "code",
   "execution_count": 53,
   "metadata": {},
   "outputs": [],
   "source": [
    "y_tf_pred= clf_tf.predict(x_tf_test)"
   ]
  },
  {
   "cell_type": "code",
   "execution_count": 54,
   "metadata": {},
   "outputs": [
    {
     "data": {
      "text/plain": [
       "0.795"
      ]
     },
     "execution_count": 54,
     "metadata": {},
     "output_type": "execute_result"
    }
   ],
   "source": [
    "metrics.accuracy_score(y_tf_pred,y_tf_test)"
   ]
  },
  {
   "cell_type": "code",
   "execution_count": 55,
   "metadata": {},
   "outputs": [
    {
     "data": {
      "text/plain": [
       "array([[77, 31],\n",
       "       [10, 82]], dtype=int64)"
      ]
     },
     "execution_count": 55,
     "metadata": {},
     "output_type": "execute_result"
    }
   ],
   "source": [
    "from sklearn.metrics import confusion_matrix\n",
    "confusion_matrix(y_tf_pred,y_tf_test)"
   ]
  },
  {
   "cell_type": "code",
   "execution_count": 56,
   "metadata": {},
   "outputs": [],
   "source": [
    "from sklearn.model_selection import GridSearchCV, StratifiedKFold\n",
    "skf = StratifiedKFold(n_splits=10)\n",
    "params = {}\n",
    "nb = MultinomialNB()\n",
    "gs = GridSearchCV(nb, cv=skf, param_grid=params, return_train_score=True)\n"
   ]
  },
  {
   "cell_type": "code",
   "execution_count": 57,
   "metadata": {},
   "outputs": [
    {
     "data": {
      "text/plain": [
       "GridSearchCV(cv=StratifiedKFold(n_splits=10, random_state=None, shuffle=False),\n",
       "       error_score='raise',\n",
       "       estimator=MultinomialNB(alpha=1.0, class_prior=None, fit_prior=True),\n",
       "       fit_params=None, iid=True, n_jobs=1, param_grid={},\n",
       "       pre_dispatch='2*n_jobs', refit=True, return_train_score=True,\n",
       "       scoring=None, verbose=0)"
      ]
     },
     "execution_count": 57,
     "metadata": {},
     "output_type": "execute_result"
    }
   ],
   "source": [
    "gs.fit(x_tf_train,y_tf_train)"
   ]
  },
  {
   "cell_type": "code",
   "execution_count": 58,
   "metadata": {},
   "outputs": [
    {
     "data": {
      "text/plain": [
       "{'mean_fit_time': array([0.02985396]),\n",
       " 'std_fit_time': array([0.04119695]),\n",
       " 'mean_score_time': array([0.00099628]),\n",
       " 'std_score_time': array([0.00044601]),\n",
       " 'params': [{}],\n",
       " 'split0_test_score': array([0.83950617]),\n",
       " 'split1_test_score': array([0.7654321]),\n",
       " 'split2_test_score': array([0.83950617]),\n",
       " 'split3_test_score': array([0.825]),\n",
       " 'split4_test_score': array([0.775]),\n",
       " 'split5_test_score': array([0.7875]),\n",
       " 'split6_test_score': array([0.7875]),\n",
       " 'split7_test_score': array([0.73417722]),\n",
       " 'split8_test_score': array([0.82278481]),\n",
       " 'split9_test_score': array([0.7721519]),\n",
       " 'mean_test_score': array([0.795]),\n",
       " 'std_test_score': array([0.03352586]),\n",
       " 'rank_test_score': array([1]),\n",
       " 'split0_train_score': array([0.9527121]),\n",
       " 'split1_train_score': array([0.94993046]),\n",
       " 'split2_train_score': array([0.95549374]),\n",
       " 'split3_train_score': array([0.95972222]),\n",
       " 'split4_train_score': array([0.95972222]),\n",
       " 'split5_train_score': array([0.95972222]),\n",
       " 'split6_train_score': array([0.95972222]),\n",
       " 'split7_train_score': array([0.95977809]),\n",
       " 'split8_train_score': array([0.9667129]),\n",
       " 'split9_train_score': array([0.95839112]),\n",
       " 'mean_train_score': array([0.95819073]),\n",
       " 'std_train_score': array([0.00435993])}"
      ]
     },
     "execution_count": 58,
     "metadata": {},
     "output_type": "execute_result"
    }
   ],
   "source": [
    "gs.cv_results_"
   ]
  },
  {
   "cell_type": "code",
   "execution_count": 6,
   "metadata": {},
   "outputs": [],
   "source": [
    "import nltk\n",
    "sentence = \"the little yellow dog barked at the cat\"\n",
    "#Define your grammar using regular expressions\n",
    "grammar = r'''\n",
    "    NP: {<DT>?<JJ>*<NN>} # NP\n",
    "    '''"
   ]
  },
  {
   "cell_type": "code",
   "execution_count": 7,
   "metadata": {},
   "outputs": [
    {
     "data": {
      "text/plain": [
       "[('the', 'DT'),\n",
       " ('little', 'JJ'),\n",
       " ('yellow', 'JJ'),\n",
       " ('dog', 'NN'),\n",
       " ('barked', 'VBD'),\n",
       " ('at', 'IN'),\n",
       " ('the', 'DT'),\n",
       " ('cat', 'NN')]"
      ]
     },
     "execution_count": 7,
     "metadata": {},
     "output_type": "execute_result"
    }
   ],
   "source": [
    "chunkParser = nltk.RegexpParser(grammar)\n",
    "tagged = nltk.pos_tag(nltk.word_tokenize(sentence))\n",
    "tagged"
   ]
  },
  {
   "cell_type": "code",
   "execution_count": 8,
   "metadata": {},
   "outputs": [],
   "source": [
    "tree = chunkParser.parse(tagged)"
   ]
  },
  {
   "cell_type": "code",
   "execution_count": 9,
   "metadata": {},
   "outputs": [
    {
     "name": "stdout",
     "output_type": "stream",
     "text": [
      "(S\n",
      "  (NP the/DT little/JJ yellow/JJ dog/NN)\n",
      "  barked/VBD\n",
      "  at/IN\n",
      "  (NP the/DT cat/NN))\n",
      "(NP the/DT little/JJ yellow/JJ dog/NN)\n",
      "(NP the/DT cat/NN)\n"
     ]
    }
   ],
   "source": [
    "for subtree in tree.subtrees():\n",
    "    print(subtree)"
   ]
  },
  {
   "cell_type": "code",
   "execution_count": 10,
   "metadata": {},
   "outputs": [],
   "source": [
    "tree.draw()"
   ]
  },
  {
   "cell_type": "code",
   "execution_count": null,
   "metadata": {},
   "outputs": [],
   "source": []
  }
 ],
 "metadata": {
  "kernelspec": {
   "display_name": "Python 3",
   "language": "python",
   "name": "python3"
  },
  "language_info": {
   "codemirror_mode": {
    "name": "ipython",
    "version": 3
   },
   "file_extension": ".py",
   "mimetype": "text/x-python",
   "name": "python",
   "nbconvert_exporter": "python",
   "pygments_lexer": "ipython3",
   "version": "3.6.5"
  }
 },
 "nbformat": 4,
 "nbformat_minor": 2
}
