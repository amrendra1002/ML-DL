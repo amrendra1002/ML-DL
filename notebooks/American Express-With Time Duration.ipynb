{
 "cells": [
  {
   "cell_type": "code",
   "execution_count": 59,
   "metadata": {},
   "outputs": [],
   "source": [
    "import pandas as pd\n",
    "import numpy as np\n",
    "import seaborn as sb\n",
    "import matplotlib.pyplot as plt"
   ]
  },
  {
   "cell_type": "code",
   "execution_count": 60,
   "metadata": {},
   "outputs": [],
   "source": [
    "from sklearn.ensemble import RandomForestClassifier\n",
    "from sklearn import model_selection, metrics\n",
    "from sklearn import tree\n",
    "from sklearn.metrics import accuracy_score\n",
    "from sklearn.model_selection import KFold\n",
    "from sklearn.model_selection import cross_val_score"
   ]
  },
  {
   "cell_type": "code",
   "execution_count": 61,
   "metadata": {},
   "outputs": [],
   "source": [
    "train_file='D:\\\\My Personal Documents\\\\Learnings\\\\Data Science\\\\Data Sets\\\\AmericanExpress\\\\train.csv'\n",
    "test_file='D:\\\\My Personal Documents\\\\Learnings\\\\Data Science\\\\Data Sets\\\\AmericanExpress\\\\test.csv'\n",
    "user_logs='D:\\\\My Personal Documents\\\\Learnings\\\\Data Science\\\\Data Sets\\\\AmericanExpress\\\\historical_user_logs.csv'\n",
    "\n",
    "train=pd.read_csv(train_file)\n",
    "test=pd.read_csv(test_file)\n",
    "user_log=pd.read_csv(user_logs)"
   ]
  },
  {
   "cell_type": "code",
   "execution_count": 62,
   "metadata": {},
   "outputs": [],
   "source": [
    "is_click_count= len(train[train.is_click==1])\n",
    "non_click_indices = train[train.is_click==0].index\n",
    "random_indices = np.random.choice(non_click_indices,is_click_count*5, replace=False)\n",
    "click_indices = train[train.is_click==1].index\n",
    "under_sample_indices = np.concatenate([click_indices,random_indices])\n",
    "under_sample = train.loc[under_sample_indices]\n",
    "train=under_sample"
   ]
  },
  {
   "cell_type": "code",
   "execution_count": 63,
   "metadata": {},
   "outputs": [],
   "source": [
    "user_log_view=user_log[user_log.action=='view']\n",
    "user_log_interest=user_log[user_log.action=='interest']"
   ]
  },
  {
   "cell_type": "code",
   "execution_count": 64,
   "metadata": {},
   "outputs": [],
   "source": [
    "user_log_interest=user_log_interest.groupby(['user_id','product']).action.count().reset_index()"
   ]
  },
  {
   "cell_type": "code",
   "execution_count": 65,
   "metadata": {},
   "outputs": [
    {
     "data": {
      "text/html": [
       "<div>\n",
       "<style scoped>\n",
       "    .dataframe tbody tr th:only-of-type {\n",
       "        vertical-align: middle;\n",
       "    }\n",
       "\n",
       "    .dataframe tbody tr th {\n",
       "        vertical-align: top;\n",
       "    }\n",
       "\n",
       "    .dataframe thead th {\n",
       "        text-align: right;\n",
       "    }\n",
       "</style>\n",
       "<table border=\"1\" class=\"dataframe\">\n",
       "  <thead>\n",
       "    <tr style=\"text-align: right;\">\n",
       "      <th></th>\n",
       "      <th>user_id</th>\n",
       "      <th>product</th>\n",
       "      <th>interest</th>\n",
       "    </tr>\n",
       "  </thead>\n",
       "  <tbody>\n",
       "    <tr>\n",
       "      <th>0</th>\n",
       "      <td>19</td>\n",
       "      <td>D</td>\n",
       "      <td>1</td>\n",
       "    </tr>\n",
       "    <tr>\n",
       "      <th>1</th>\n",
       "      <td>19</td>\n",
       "      <td>F</td>\n",
       "      <td>2</td>\n",
       "    </tr>\n",
       "    <tr>\n",
       "      <th>2</th>\n",
       "      <td>19</td>\n",
       "      <td>G</td>\n",
       "      <td>2</td>\n",
       "    </tr>\n",
       "    <tr>\n",
       "      <th>3</th>\n",
       "      <td>26</td>\n",
       "      <td>H</td>\n",
       "      <td>1</td>\n",
       "    </tr>\n",
       "    <tr>\n",
       "      <th>4</th>\n",
       "      <td>30</td>\n",
       "      <td>H</td>\n",
       "      <td>1</td>\n",
       "    </tr>\n",
       "  </tbody>\n",
       "</table>\n",
       "</div>"
      ],
      "text/plain": [
       "   user_id product  interest\n",
       "0       19       D         1\n",
       "1       19       F         2\n",
       "2       19       G         2\n",
       "3       26       H         1\n",
       "4       30       H         1"
      ]
     },
     "execution_count": 65,
     "metadata": {},
     "output_type": "execute_result"
    }
   ],
   "source": [
    "user_log_interest.rename(columns={'action': 'interest'}, inplace=True)\n",
    "user_log_interest.head()"
   ]
  },
  {
   "cell_type": "code",
   "execution_count": 66,
   "metadata": {},
   "outputs": [],
   "source": [
    "user_log_view=user_log_view.groupby(['user_id','product']).action.count().reset_index()"
   ]
  },
  {
   "cell_type": "code",
   "execution_count": 67,
   "metadata": {},
   "outputs": [
    {
     "data": {
      "text/html": [
       "<div>\n",
       "<style scoped>\n",
       "    .dataframe tbody tr th:only-of-type {\n",
       "        vertical-align: middle;\n",
       "    }\n",
       "\n",
       "    .dataframe tbody tr th {\n",
       "        vertical-align: top;\n",
       "    }\n",
       "\n",
       "    .dataframe thead th {\n",
       "        text-align: right;\n",
       "    }\n",
       "</style>\n",
       "<table border=\"1\" class=\"dataframe\">\n",
       "  <thead>\n",
       "    <tr style=\"text-align: right;\">\n",
       "      <th></th>\n",
       "      <th>user_id</th>\n",
       "      <th>product</th>\n",
       "      <th>view</th>\n",
       "    </tr>\n",
       "  </thead>\n",
       "  <tbody>\n",
       "    <tr>\n",
       "      <th>0</th>\n",
       "      <td>4</td>\n",
       "      <td>A</td>\n",
       "      <td>3</td>\n",
       "    </tr>\n",
       "    <tr>\n",
       "      <th>1</th>\n",
       "      <td>4</td>\n",
       "      <td>B</td>\n",
       "      <td>1</td>\n",
       "    </tr>\n",
       "    <tr>\n",
       "      <th>2</th>\n",
       "      <td>4</td>\n",
       "      <td>H</td>\n",
       "      <td>1</td>\n",
       "    </tr>\n",
       "    <tr>\n",
       "      <th>3</th>\n",
       "      <td>4</td>\n",
       "      <td>I</td>\n",
       "      <td>2</td>\n",
       "    </tr>\n",
       "    <tr>\n",
       "      <th>4</th>\n",
       "      <td>19</td>\n",
       "      <td>A</td>\n",
       "      <td>14</td>\n",
       "    </tr>\n",
       "  </tbody>\n",
       "</table>\n",
       "</div>"
      ],
      "text/plain": [
       "   user_id product  view\n",
       "0        4       A     3\n",
       "1        4       B     1\n",
       "2        4       H     1\n",
       "3        4       I     2\n",
       "4       19       A    14"
      ]
     },
     "execution_count": 67,
     "metadata": {},
     "output_type": "execute_result"
    }
   ],
   "source": [
    "user_log_view.rename(columns={'action': 'view'}, inplace=True)\n",
    "user_log_view.head()\n"
   ]
  },
  {
   "cell_type": "code",
   "execution_count": 68,
   "metadata": {},
   "outputs": [
    {
     "name": "stderr",
     "output_type": "stream",
     "text": [
      "C:\\Amrendra\\Anaconda\\lib\\site-packages\\pandas\\core\\frame.py:6201: FutureWarning: Sorting because non-concatenation axis is not aligned. A future version\n",
      "of pandas will change to not sort by default.\n",
      "\n",
      "To accept the future behavior, pass 'sort=True'.\n",
      "\n",
      "To retain the current behavior and silence the warning, pass sort=False\n",
      "\n",
      "  sort=sort)\n"
     ]
    },
    {
     "name": "stdout",
     "output_type": "stream",
     "text": [
      "<class 'pandas.core.frame.DataFrame'>\n",
      "Int64Index: 316844 entries, 38 to 128857\n",
      "Data columns (total 16 columns):\n",
      "DateTime                  316844 non-null object\n",
      "age_level                 303772 non-null float64\n",
      "campaign_id               316844 non-null int64\n",
      "city_development_index    231603 non-null float64\n",
      "gender                    303772 non-null object\n",
      "is_click                  187986 non-null float64\n",
      "product                   316844 non-null object\n",
      "product_category_1        316844 non-null int64\n",
      "product_category_2        91984 non-null float64\n",
      "session_id                316844 non-null int64\n",
      "source                    316844 non-null object\n",
      "user_depth                303772 non-null float64\n",
      "user_group_id             303772 non-null float64\n",
      "user_id                   316844 non-null int64\n",
      "var_1                     316844 non-null int64\n",
      "webpage_id                316844 non-null int64\n",
      "dtypes: float64(6), int64(6), object(4)\n",
      "memory usage: 41.1+ MB\n"
     ]
    }
   ],
   "source": [
    "train['source']='train'\n",
    "test['source']='test'\n",
    "train=train.append(test)\n",
    "train.info()\n"
   ]
  },
  {
   "cell_type": "code",
   "execution_count": 69,
   "metadata": {},
   "outputs": [],
   "source": [
    "train=pd.merge(train,user_log_interest,how='left', on=['user_id','product'])\n",
    "train=pd.merge(train,user_log_view,how='left', on=['user_id','product'])"
   ]
  },
  {
   "cell_type": "code",
   "execution_count": 70,
   "metadata": {},
   "outputs": [
    {
     "name": "stdout",
     "output_type": "stream",
     "text": [
      "<class 'pandas.core.frame.DataFrame'>\n",
      "Int64Index: 316844 entries, 0 to 316843\n",
      "Data columns (total 18 columns):\n",
      "DateTime                  316844 non-null object\n",
      "age_level                 303772 non-null float64\n",
      "campaign_id               316844 non-null int64\n",
      "city_development_index    231603 non-null float64\n",
      "gender                    303772 non-null object\n",
      "is_click                  187986 non-null float64\n",
      "product                   316844 non-null object\n",
      "product_category_1        316844 non-null int64\n",
      "product_category_2        91984 non-null float64\n",
      "session_id                316844 non-null int64\n",
      "source                    316844 non-null object\n",
      "user_depth                303772 non-null float64\n",
      "user_group_id             303772 non-null float64\n",
      "user_id                   316844 non-null int64\n",
      "var_1                     316844 non-null int64\n",
      "webpage_id                316844 non-null int64\n",
      "interest                  54854 non-null float64\n",
      "view                      254408 non-null float64\n",
      "dtypes: float64(8), int64(6), object(4)\n",
      "memory usage: 45.9+ MB\n"
     ]
    }
   ],
   "source": [
    "train.info()"
   ]
  },
  {
   "cell_type": "code",
   "execution_count": 71,
   "metadata": {},
   "outputs": [],
   "source": [
    "t_click1=train[train.is_click==1]\n",
    "train=train.append(t_click1)\n",
    "train=train.append(t_click1)"
   ]
  },
  {
   "cell_type": "code",
   "execution_count": 72,
   "metadata": {},
   "outputs": [
    {
     "data": {
      "text/plain": [
       "DateTime                       0\n",
       "age_level                  15620\n",
       "campaign_id                    0\n",
       "city_development_index    102205\n",
       "gender                     15620\n",
       "is_click                  128858\n",
       "product                        0\n",
       "product_category_1             0\n",
       "product_category_2        275150\n",
       "session_id                     0\n",
       "source                         0\n",
       "user_depth                 15620\n",
       "user_group_id              15620\n",
       "user_id                        0\n",
       "var_1                          0\n",
       "webpage_id                     0\n",
       "interest                  313720\n",
       "view                       73956\n",
       "dtype: int64"
      ]
     },
     "execution_count": 72,
     "metadata": {},
     "output_type": "execute_result"
    }
   ],
   "source": [
    "train.isnull().sum()"
   ]
  },
  {
   "cell_type": "code",
   "execution_count": 73,
   "metadata": {},
   "outputs": [
    {
     "data": {
      "text/plain": [
       "<matplotlib.axes._subplots.AxesSubplot at 0x158016000b8>"
      ]
     },
     "execution_count": 73,
     "metadata": {},
     "output_type": "execute_result"
    },
    {
     "data": {
      "image/png": "[encoded data removed]",
      "text/plain": [
       "<Figure size 432x288 with 1 Axes>"
      ]
     },
     "metadata": {},
     "output_type": "display_data"
    }
   ],
   "source": [
    "sb.countplot(train.is_click)"
   ]
  },
  {
   "cell_type": "code",
   "execution_count": 74,
   "metadata": {},
   "outputs": [],
   "source": [
    "#plt.figure(figsize=(12,6))\n",
    "#sb.countplot(x='is_click', hue='product', data=train)"
   ]
  },
  {
   "cell_type": "code",
   "execution_count": 75,
   "metadata": {},
   "outputs": [],
   "source": [
    "#plt.figure(figsize=(12,6))\n",
    "#sb.countplot(x='is_click', hue='gender', data=train)"
   ]
  },
  {
   "cell_type": "code",
   "execution_count": 76,
   "metadata": {},
   "outputs": [],
   "source": [
    "#plt.figure(figsize=(12,6))\n",
    "#sb.countplot(x='is_click', hue='var_1', data=train)"
   ]
  },
  {
   "cell_type": "code",
   "execution_count": 77,
   "metadata": {},
   "outputs": [],
   "source": [
    "#plt.figure(figsize=(12,6))\n",
    "#sb.countplot(x='var_1', hue='is_click', data=train)"
   ]
  },
  {
   "cell_type": "raw",
   "metadata": {},
   "source": [
    "plt.figure(figsize=(12,6))\n",
    "sb.countplot(x='is_click', hue='user_depth', data=train)"
   ]
  },
  {
   "cell_type": "code",
   "execution_count": 78,
   "metadata": {},
   "outputs": [],
   "source": [
    "train_label= train.is_click\n"
   ]
  },
  {
   "cell_type": "code",
   "execution_count": 79,
   "metadata": {},
   "outputs": [],
   "source": [
    "train.gender=train.gender.fillna('Unknown')"
   ]
  },
  {
   "cell_type": "code",
   "execution_count": 80,
   "metadata": {},
   "outputs": [],
   "source": [
    "train.city_development_index= train.city_development_index.fillna(method='pad')"
   ]
  },
  {
   "cell_type": "code",
   "execution_count": 81,
   "metadata": {},
   "outputs": [],
   "source": [
    "train.age_level= train.age_level.fillna(method='pad')"
   ]
  },
  {
   "cell_type": "code",
   "execution_count": 82,
   "metadata": {},
   "outputs": [],
   "source": [
    "train.user_depth= train.user_depth.fillna(method='pad')"
   ]
  },
  {
   "cell_type": "code",
   "execution_count": 83,
   "metadata": {},
   "outputs": [],
   "source": [
    "train.user_group_id= train.user_group_id.fillna(method='pad')"
   ]
  },
  {
   "cell_type": "code",
   "execution_count": 84,
   "metadata": {},
   "outputs": [],
   "source": [
    "train.view=train.view.fillna(0)\n",
    "train.interest=train.interest.fillna(0)"
   ]
  },
  {
   "cell_type": "code",
   "execution_count": 85,
   "metadata": {},
   "outputs": [],
   "source": [
    "train.DateTime = pd.to_datetime(train.DateTime)"
   ]
  },
  {
   "cell_type": "code",
   "execution_count": 86,
   "metadata": {},
   "outputs": [],
   "source": [
    "test.DateTime = pd.to_datetime(test.DateTime)"
   ]
  },
  {
   "cell_type": "code",
   "execution_count": 87,
   "metadata": {},
   "outputs": [],
   "source": [
    "train=pd.get_dummies(train,columns=['gender','product'])"
   ]
  },
  {
   "cell_type": "code",
   "execution_count": 88,
   "metadata": {},
   "outputs": [
    {
     "name": "stdout",
     "output_type": "stream",
     "text": [
      "2017-07-09 00:00:00\n"
     ]
    }
   ],
   "source": [
    "import datetime\n",
    "\n",
    "train_dt = datetime.datetime(2017, 7, 7)\n",
    "test_dt = datetime.datetime(2017, 7, 9)\n",
    "\n",
    "print(test_dt)"
   ]
  },
  {
   "cell_type": "code",
   "execution_count": 89,
   "metadata": {},
   "outputs": [
    {
     "data": {
      "text/plain": [
       "172800.0"
      ]
     },
     "execution_count": 89,
     "metadata": {},
     "output_type": "execute_result"
    }
   ],
   "source": [
    "(test_dt-train_dt).total_seconds()"
   ]
  },
  {
   "cell_type": "code",
   "execution_count": 90,
   "metadata": {},
   "outputs": [],
   "source": [
    "train['duration']= train.DateTime.apply(lambda x: pd.Timedelta(train_dt-x).total_seconds()/60)\n",
    "test['duration']= test.DateTime.apply(lambda x: pd.Timedelta(test_dt-x).total_seconds()/60)"
   ]
  },
  {
   "cell_type": "code",
   "execution_count": 91,
   "metadata": {},
   "outputs": [
    {
     "data": {
      "text/html": [
       "<div>\n",
       "<style scoped>\n",
       "    .dataframe tbody tr th:only-of-type {\n",
       "        vertical-align: middle;\n",
       "    }\n",
       "\n",
       "    .dataframe tbody tr th {\n",
       "        vertical-align: top;\n",
       "    }\n",
       "\n",
       "    .dataframe thead th {\n",
       "        text-align: right;\n",
       "    }\n",
       "</style>\n",
       "<table border=\"1\" class=\"dataframe\">\n",
       "  <thead>\n",
       "    <tr style=\"text-align: right;\">\n",
       "      <th></th>\n",
       "      <th>DateTime</th>\n",
       "      <th>age_level</th>\n",
       "      <th>campaign_id</th>\n",
       "      <th>city_development_index</th>\n",
       "      <th>is_click</th>\n",
       "      <th>product_category_1</th>\n",
       "      <th>product_category_2</th>\n",
       "      <th>session_id</th>\n",
       "      <th>source</th>\n",
       "      <th>user_depth</th>\n",
       "      <th>...</th>\n",
       "      <th>product_B</th>\n",
       "      <th>product_C</th>\n",
       "      <th>product_D</th>\n",
       "      <th>product_E</th>\n",
       "      <th>product_F</th>\n",
       "      <th>product_G</th>\n",
       "      <th>product_H</th>\n",
       "      <th>product_I</th>\n",
       "      <th>product_J</th>\n",
       "      <th>duration</th>\n",
       "    </tr>\n",
       "  </thead>\n",
       "  <tbody>\n",
       "    <tr>\n",
       "      <th>0</th>\n",
       "      <td>2017-07-02 00:05:00</td>\n",
       "      <td>2.0</td>\n",
       "      <td>359520</td>\n",
       "      <td>NaN</td>\n",
       "      <td>1.0</td>\n",
       "      <td>3</td>\n",
       "      <td>NaN</td>\n",
       "      <td>489923</td>\n",
       "      <td>train</td>\n",
       "      <td>2.0</td>\n",
       "      <td>...</td>\n",
       "      <td>0</td>\n",
       "      <td>0</td>\n",
       "      <td>0</td>\n",
       "      <td>0</td>\n",
       "      <td>0</td>\n",
       "      <td>0</td>\n",
       "      <td>1</td>\n",
       "      <td>0</td>\n",
       "      <td>0</td>\n",
       "      <td>7195.0</td>\n",
       "    </tr>\n",
       "    <tr>\n",
       "      <th>1</th>\n",
       "      <td>2017-07-02 00:07:00</td>\n",
       "      <td>3.0</td>\n",
       "      <td>98970</td>\n",
       "      <td>4.0</td>\n",
       "      <td>1.0</td>\n",
       "      <td>4</td>\n",
       "      <td>NaN</td>\n",
       "      <td>419802</td>\n",
       "      <td>train</td>\n",
       "      <td>3.0</td>\n",
       "      <td>...</td>\n",
       "      <td>0</td>\n",
       "      <td>0</td>\n",
       "      <td>0</td>\n",
       "      <td>0</td>\n",
       "      <td>0</td>\n",
       "      <td>1</td>\n",
       "      <td>0</td>\n",
       "      <td>0</td>\n",
       "      <td>0</td>\n",
       "      <td>7193.0</td>\n",
       "    </tr>\n",
       "    <tr>\n",
       "      <th>2</th>\n",
       "      <td>2017-07-02 00:08:00</td>\n",
       "      <td>3.0</td>\n",
       "      <td>359520</td>\n",
       "      <td>4.0</td>\n",
       "      <td>1.0</td>\n",
       "      <td>4</td>\n",
       "      <td>NaN</td>\n",
       "      <td>145098</td>\n",
       "      <td>train</td>\n",
       "      <td>3.0</td>\n",
       "      <td>...</td>\n",
       "      <td>0</td>\n",
       "      <td>1</td>\n",
       "      <td>0</td>\n",
       "      <td>0</td>\n",
       "      <td>0</td>\n",
       "      <td>0</td>\n",
       "      <td>0</td>\n",
       "      <td>0</td>\n",
       "      <td>0</td>\n",
       "      <td>7192.0</td>\n",
       "    </tr>\n",
       "    <tr>\n",
       "      <th>3</th>\n",
       "      <td>2017-07-02 00:13:00</td>\n",
       "      <td>2.0</td>\n",
       "      <td>405490</td>\n",
       "      <td>4.0</td>\n",
       "      <td>1.0</td>\n",
       "      <td>3</td>\n",
       "      <td>NaN</td>\n",
       "      <td>102183</td>\n",
       "      <td>train</td>\n",
       "      <td>3.0</td>\n",
       "      <td>...</td>\n",
       "      <td>0</td>\n",
       "      <td>1</td>\n",
       "      <td>0</td>\n",
       "      <td>0</td>\n",
       "      <td>0</td>\n",
       "      <td>0</td>\n",
       "      <td>0</td>\n",
       "      <td>0</td>\n",
       "      <td>0</td>\n",
       "      <td>7187.0</td>\n",
       "    </tr>\n",
       "    <tr>\n",
       "      <th>4</th>\n",
       "      <td>2017-07-02 00:13:00</td>\n",
       "      <td>2.0</td>\n",
       "      <td>405490</td>\n",
       "      <td>3.0</td>\n",
       "      <td>1.0</td>\n",
       "      <td>3</td>\n",
       "      <td>NaN</td>\n",
       "      <td>72843</td>\n",
       "      <td>train</td>\n",
       "      <td>3.0</td>\n",
       "      <td>...</td>\n",
       "      <td>0</td>\n",
       "      <td>1</td>\n",
       "      <td>0</td>\n",
       "      <td>0</td>\n",
       "      <td>0</td>\n",
       "      <td>0</td>\n",
       "      <td>0</td>\n",
       "      <td>0</td>\n",
       "      <td>0</td>\n",
       "      <td>7187.0</td>\n",
       "    </tr>\n",
       "  </tbody>\n",
       "</table>\n",
       "<p>5 rows × 30 columns</p>\n",
       "</div>"
      ],
      "text/plain": [
       "             DateTime  age_level  campaign_id  city_development_index  \\\n",
       "0 2017-07-02 00:05:00        2.0       359520                     NaN   \n",
       "1 2017-07-02 00:07:00        3.0        98970                     4.0   \n",
       "2 2017-07-02 00:08:00        3.0       359520                     4.0   \n",
       "3 2017-07-02 00:13:00        2.0       405490                     4.0   \n",
       "4 2017-07-02 00:13:00        2.0       405490                     3.0   \n",
       "\n",
       "   is_click  product_category_1  product_category_2  session_id source  \\\n",
       "0       1.0                   3                 NaN      489923  train   \n",
       "1       1.0                   4                 NaN      419802  train   \n",
       "2       1.0                   4                 NaN      145098  train   \n",
       "3       1.0                   3                 NaN      102183  train   \n",
       "4       1.0                   3                 NaN       72843  train   \n",
       "\n",
       "   user_depth    ...     product_B  product_C  product_D  product_E  \\\n",
       "0         2.0    ...             0          0          0          0   \n",
       "1         3.0    ...             0          0          0          0   \n",
       "2         3.0    ...             0          1          0          0   \n",
       "3         3.0    ...             0          1          0          0   \n",
       "4         3.0    ...             0          1          0          0   \n",
       "\n",
       "   product_F  product_G  product_H  product_I  product_J  duration  \n",
       "0          0          0          1          0          0    7195.0  \n",
       "1          0          1          0          0          0    7193.0  \n",
       "2          0          0          0          0          0    7192.0  \n",
       "3          0          0          0          0          0    7187.0  \n",
       "4          0          0          0          0          0    7187.0  \n",
       "\n",
       "[5 rows x 30 columns]"
      ]
     },
     "execution_count": 91,
     "metadata": {},
     "output_type": "execute_result"
    }
   ],
   "source": [
    "train.head()"
   ]
  },
  {
   "cell_type": "code",
   "execution_count": null,
   "metadata": {},
   "outputs": [],
   "source": []
  },
  {
   "cell_type": "code",
   "execution_count": 92,
   "metadata": {},
   "outputs": [],
   "source": [
    "train= train.drop(['DateTime','user_id','product_category_2','session_id'],axis=1)"
   ]
  },
  {
   "cell_type": "code",
   "execution_count": 93,
   "metadata": {},
   "outputs": [
    {
     "data": {
      "text/html": [
       "<div>\n",
       "<style scoped>\n",
       "    .dataframe tbody tr th:only-of-type {\n",
       "        vertical-align: middle;\n",
       "    }\n",
       "\n",
       "    .dataframe tbody tr th {\n",
       "        vertical-align: top;\n",
       "    }\n",
       "\n",
       "    .dataframe thead th {\n",
       "        text-align: right;\n",
       "    }\n",
       "</style>\n",
       "<table border=\"1\" class=\"dataframe\">\n",
       "  <thead>\n",
       "    <tr style=\"text-align: right;\">\n",
       "      <th></th>\n",
       "      <th>age_level</th>\n",
       "      <th>campaign_id</th>\n",
       "      <th>city_development_index</th>\n",
       "      <th>is_click</th>\n",
       "      <th>product_category_1</th>\n",
       "      <th>source</th>\n",
       "      <th>user_depth</th>\n",
       "      <th>user_group_id</th>\n",
       "      <th>var_1</th>\n",
       "      <th>webpage_id</th>\n",
       "      <th>...</th>\n",
       "      <th>product_B</th>\n",
       "      <th>product_C</th>\n",
       "      <th>product_D</th>\n",
       "      <th>product_E</th>\n",
       "      <th>product_F</th>\n",
       "      <th>product_G</th>\n",
       "      <th>product_H</th>\n",
       "      <th>product_I</th>\n",
       "      <th>product_J</th>\n",
       "      <th>duration</th>\n",
       "    </tr>\n",
       "  </thead>\n",
       "  <tbody>\n",
       "    <tr>\n",
       "      <th>0</th>\n",
       "      <td>2.0</td>\n",
       "      <td>359520</td>\n",
       "      <td>NaN</td>\n",
       "      <td>1.0</td>\n",
       "      <td>3</td>\n",
       "      <td>train</td>\n",
       "      <td>2.0</td>\n",
       "      <td>2.0</td>\n",
       "      <td>0</td>\n",
       "      <td>13787</td>\n",
       "      <td>...</td>\n",
       "      <td>0</td>\n",
       "      <td>0</td>\n",
       "      <td>0</td>\n",
       "      <td>0</td>\n",
       "      <td>0</td>\n",
       "      <td>0</td>\n",
       "      <td>1</td>\n",
       "      <td>0</td>\n",
       "      <td>0</td>\n",
       "      <td>7195.0</td>\n",
       "    </tr>\n",
       "    <tr>\n",
       "      <th>1</th>\n",
       "      <td>3.0</td>\n",
       "      <td>98970</td>\n",
       "      <td>4.0</td>\n",
       "      <td>1.0</td>\n",
       "      <td>4</td>\n",
       "      <td>train</td>\n",
       "      <td>3.0</td>\n",
       "      <td>9.0</td>\n",
       "      <td>1</td>\n",
       "      <td>6970</td>\n",
       "      <td>...</td>\n",
       "      <td>0</td>\n",
       "      <td>0</td>\n",
       "      <td>0</td>\n",
       "      <td>0</td>\n",
       "      <td>0</td>\n",
       "      <td>1</td>\n",
       "      <td>0</td>\n",
       "      <td>0</td>\n",
       "      <td>0</td>\n",
       "      <td>7193.0</td>\n",
       "    </tr>\n",
       "    <tr>\n",
       "      <th>2</th>\n",
       "      <td>3.0</td>\n",
       "      <td>359520</td>\n",
       "      <td>4.0</td>\n",
       "      <td>1.0</td>\n",
       "      <td>4</td>\n",
       "      <td>train</td>\n",
       "      <td>3.0</td>\n",
       "      <td>3.0</td>\n",
       "      <td>0</td>\n",
       "      <td>13787</td>\n",
       "      <td>...</td>\n",
       "      <td>0</td>\n",
       "      <td>1</td>\n",
       "      <td>0</td>\n",
       "      <td>0</td>\n",
       "      <td>0</td>\n",
       "      <td>0</td>\n",
       "      <td>0</td>\n",
       "      <td>0</td>\n",
       "      <td>0</td>\n",
       "      <td>7192.0</td>\n",
       "    </tr>\n",
       "    <tr>\n",
       "      <th>3</th>\n",
       "      <td>2.0</td>\n",
       "      <td>405490</td>\n",
       "      <td>4.0</td>\n",
       "      <td>1.0</td>\n",
       "      <td>3</td>\n",
       "      <td>train</td>\n",
       "      <td>3.0</td>\n",
       "      <td>2.0</td>\n",
       "      <td>0</td>\n",
       "      <td>60305</td>\n",
       "      <td>...</td>\n",
       "      <td>0</td>\n",
       "      <td>1</td>\n",
       "      <td>0</td>\n",
       "      <td>0</td>\n",
       "      <td>0</td>\n",
       "      <td>0</td>\n",
       "      <td>0</td>\n",
       "      <td>0</td>\n",
       "      <td>0</td>\n",
       "      <td>7187.0</td>\n",
       "    </tr>\n",
       "    <tr>\n",
       "      <th>4</th>\n",
       "      <td>2.0</td>\n",
       "      <td>405490</td>\n",
       "      <td>3.0</td>\n",
       "      <td>1.0</td>\n",
       "      <td>3</td>\n",
       "      <td>train</td>\n",
       "      <td>3.0</td>\n",
       "      <td>2.0</td>\n",
       "      <td>1</td>\n",
       "      <td>60305</td>\n",
       "      <td>...</td>\n",
       "      <td>0</td>\n",
       "      <td>1</td>\n",
       "      <td>0</td>\n",
       "      <td>0</td>\n",
       "      <td>0</td>\n",
       "      <td>0</td>\n",
       "      <td>0</td>\n",
       "      <td>0</td>\n",
       "      <td>0</td>\n",
       "      <td>7187.0</td>\n",
       "    </tr>\n",
       "  </tbody>\n",
       "</table>\n",
       "<p>5 rows × 26 columns</p>\n",
       "</div>"
      ],
      "text/plain": [
       "   age_level  campaign_id  city_development_index  is_click  \\\n",
       "0        2.0       359520                     NaN       1.0   \n",
       "1        3.0        98970                     4.0       1.0   \n",
       "2        3.0       359520                     4.0       1.0   \n",
       "3        2.0       405490                     4.0       1.0   \n",
       "4        2.0       405490                     3.0       1.0   \n",
       "\n",
       "   product_category_1 source  user_depth  user_group_id  var_1  webpage_id  \\\n",
       "0                   3  train         2.0            2.0      0       13787   \n",
       "1                   4  train         3.0            9.0      1        6970   \n",
       "2                   4  train         3.0            3.0      0       13787   \n",
       "3                   3  train         3.0            2.0      0       60305   \n",
       "4                   3  train         3.0            2.0      1       60305   \n",
       "\n",
       "     ...     product_B  product_C  product_D  product_E  product_F  product_G  \\\n",
       "0    ...             0          0          0          0          0          0   \n",
       "1    ...             0          0          0          0          0          1   \n",
       "2    ...             0          1          0          0          0          0   \n",
       "3    ...             0          1          0          0          0          0   \n",
       "4    ...             0          1          0          0          0          0   \n",
       "\n",
       "   product_H  product_I  product_J  duration  \n",
       "0          1          0          0    7195.0  \n",
       "1          0          0          0    7193.0  \n",
       "2          0          0          0    7192.0  \n",
       "3          0          0          0    7187.0  \n",
       "4          0          0          0    7187.0  \n",
       "\n",
       "[5 rows x 26 columns]"
      ]
     },
     "execution_count": 93,
     "metadata": {},
     "output_type": "execute_result"
    }
   ],
   "source": [
    "train.head()"
   ]
  },
  {
   "cell_type": "code",
   "execution_count": 94,
   "metadata": {},
   "outputs": [],
   "source": [
    "test=train[train.source=='test']\n",
    "train=train[train.source=='train']\n"
   ]
  },
  {
   "cell_type": "code",
   "execution_count": 95,
   "metadata": {},
   "outputs": [],
   "source": [
    "train.drop('source',axis=1,inplace=True)"
   ]
  },
  {
   "cell_type": "code",
   "execution_count": 96,
   "metadata": {},
   "outputs": [],
   "source": [
    "test.drop('source',axis=1,inplace=True)"
   ]
  },
  {
   "cell_type": "code",
   "execution_count": 97,
   "metadata": {},
   "outputs": [],
   "source": [
    "train_label=train.is_click"
   ]
  },
  {
   "cell_type": "code",
   "execution_count": 98,
   "metadata": {},
   "outputs": [
    {
     "data": {
      "text/plain": [
       "age_level                 0\n",
       "campaign_id               0\n",
       "city_development_index    0\n",
       "is_click                  0\n",
       "product_category_1        0\n",
       "user_depth                0\n",
       "user_group_id             0\n",
       "var_1                     0\n",
       "webpage_id                0\n",
       "interest                  0\n",
       "view                      0\n",
       "gender_Female             0\n",
       "gender_Male               0\n",
       "gender_Unknown            0\n",
       "product_A                 0\n",
       "product_B                 0\n",
       "product_C                 0\n",
       "product_D                 0\n",
       "product_E                 0\n",
       "product_F                 0\n",
       "product_G                 0\n",
       "product_H                 0\n",
       "product_I                 0\n",
       "product_J                 0\n",
       "duration                  0\n",
       "dtype: int64"
      ]
     },
     "execution_count": 98,
     "metadata": {},
     "output_type": "execute_result"
    }
   ],
   "source": [
    "train=train[~(train.city_development_index.isna())]\n",
    "train.isna().sum()"
   ]
  },
  {
   "cell_type": "code",
   "execution_count": 99,
   "metadata": {},
   "outputs": [],
   "source": [
    "y_train=train['is_click']\n",
    "x_train=train.drop(['is_click'],axis=1).values\n",
    "x_test=test.drop(['is_click'],axis=1).values\n",
    "#y_test=titanic_result.Survived"
   ]
  },
  {
   "cell_type": "code",
   "execution_count": 109,
   "metadata": {},
   "outputs": [
    {
     "data": {
      "text/html": [
       "<div>\n",
       "<style scoped>\n",
       "    .dataframe tbody tr th:only-of-type {\n",
       "        vertical-align: middle;\n",
       "    }\n",
       "\n",
       "    .dataframe tbody tr th {\n",
       "        vertical-align: top;\n",
       "    }\n",
       "\n",
       "    .dataframe thead th {\n",
       "        text-align: right;\n",
       "    }\n",
       "</style>\n",
       "<table border=\"1\" class=\"dataframe\">\n",
       "  <thead>\n",
       "    <tr style=\"text-align: right;\">\n",
       "      <th></th>\n",
       "      <th>age_level</th>\n",
       "      <th>campaign_id</th>\n",
       "      <th>city_development_index</th>\n",
       "      <th>is_click</th>\n",
       "      <th>product_category_1</th>\n",
       "      <th>user_depth</th>\n",
       "      <th>user_group_id</th>\n",
       "      <th>var_1</th>\n",
       "      <th>webpage_id</th>\n",
       "      <th>interest</th>\n",
       "      <th>...</th>\n",
       "      <th>product_B</th>\n",
       "      <th>product_C</th>\n",
       "      <th>product_D</th>\n",
       "      <th>product_E</th>\n",
       "      <th>product_F</th>\n",
       "      <th>product_G</th>\n",
       "      <th>product_H</th>\n",
       "      <th>product_I</th>\n",
       "      <th>product_J</th>\n",
       "      <th>duration</th>\n",
       "    </tr>\n",
       "  </thead>\n",
       "  <tbody>\n",
       "    <tr>\n",
       "      <th>count</th>\n",
       "      <td>250647.00000</td>\n",
       "      <td>250647.000000</td>\n",
       "      <td>250647.000000</td>\n",
       "      <td>250647.000000</td>\n",
       "      <td>250647.000000</td>\n",
       "      <td>250647.000000</td>\n",
       "      <td>250647.000000</td>\n",
       "      <td>250647.000000</td>\n",
       "      <td>250647.000000</td>\n",
       "      <td>250647.000000</td>\n",
       "      <td>...</td>\n",
       "      <td>250647.000000</td>\n",
       "      <td>250647.000000</td>\n",
       "      <td>250647.000000</td>\n",
       "      <td>250647.000000</td>\n",
       "      <td>250647.000000</td>\n",
       "      <td>250647.000000</td>\n",
       "      <td>250647.000000</td>\n",
       "      <td>250647.000000</td>\n",
       "      <td>250647.000000</td>\n",
       "      <td>250647.000000</td>\n",
       "    </tr>\n",
       "    <tr>\n",
       "      <th>mean</th>\n",
       "      <td>2.77108</td>\n",
       "      <td>310341.989336</td>\n",
       "      <td>2.548269</td>\n",
       "      <td>0.374998</td>\n",
       "      <td>3.043368</td>\n",
       "      <td>2.878754</td>\n",
       "      <td>3.456044</td>\n",
       "      <td>0.429078</td>\n",
       "      <td>30781.293895</td>\n",
       "      <td>0.352264</td>\n",
       "      <td>...</td>\n",
       "      <td>0.045706</td>\n",
       "      <td>0.354957</td>\n",
       "      <td>0.090107</td>\n",
       "      <td>0.046675</td>\n",
       "      <td>0.013796</td>\n",
       "      <td>0.018097</td>\n",
       "      <td>0.239444</td>\n",
       "      <td>0.135178</td>\n",
       "      <td>0.023623</td>\n",
       "      <td>2915.897916</td>\n",
       "    </tr>\n",
       "    <tr>\n",
       "      <th>std</th>\n",
       "      <td>1.07902</td>\n",
       "      <td>126766.038657</td>\n",
       "      <td>0.917740</td>\n",
       "      <td>0.484123</td>\n",
       "      <td>1.295525</td>\n",
       "      <td>0.399770</td>\n",
       "      <td>2.413517</td>\n",
       "      <td>0.494945</td>\n",
       "      <td>21965.656796</td>\n",
       "      <td>1.136610</td>\n",
       "      <td>...</td>\n",
       "      <td>0.208847</td>\n",
       "      <td>0.478501</td>\n",
       "      <td>0.286335</td>\n",
       "      <td>0.210943</td>\n",
       "      <td>0.116645</td>\n",
       "      <td>0.133303</td>\n",
       "      <td>0.426745</td>\n",
       "      <td>0.341914</td>\n",
       "      <td>0.151871</td>\n",
       "      <td>2448.655109</td>\n",
       "    </tr>\n",
       "    <tr>\n",
       "      <th>min</th>\n",
       "      <td>0.00000</td>\n",
       "      <td>82320.000000</td>\n",
       "      <td>1.000000</td>\n",
       "      <td>0.000000</td>\n",
       "      <td>1.000000</td>\n",
       "      <td>1.000000</td>\n",
       "      <td>0.000000</td>\n",
       "      <td>0.000000</td>\n",
       "      <td>1734.000000</td>\n",
       "      <td>0.000000</td>\n",
       "      <td>...</td>\n",
       "      <td>0.000000</td>\n",
       "      <td>0.000000</td>\n",
       "      <td>0.000000</td>\n",
       "      <td>0.000000</td>\n",
       "      <td>0.000000</td>\n",
       "      <td>0.000000</td>\n",
       "      <td>0.000000</td>\n",
       "      <td>0.000000</td>\n",
       "      <td>0.000000</td>\n",
       "      <td>-1439.000000</td>\n",
       "    </tr>\n",
       "    <tr>\n",
       "      <th>25%</th>\n",
       "      <td>2.00000</td>\n",
       "      <td>118601.000000</td>\n",
       "      <td>2.000000</td>\n",
       "      <td>0.000000</td>\n",
       "      <td>2.000000</td>\n",
       "      <td>3.000000</td>\n",
       "      <td>2.000000</td>\n",
       "      <td>0.000000</td>\n",
       "      <td>13787.000000</td>\n",
       "      <td>0.000000</td>\n",
       "      <td>...</td>\n",
       "      <td>0.000000</td>\n",
       "      <td>0.000000</td>\n",
       "      <td>0.000000</td>\n",
       "      <td>0.000000</td>\n",
       "      <td>0.000000</td>\n",
       "      <td>0.000000</td>\n",
       "      <td>0.000000</td>\n",
       "      <td>0.000000</td>\n",
       "      <td>0.000000</td>\n",
       "      <td>736.000000</td>\n",
       "    </tr>\n",
       "    <tr>\n",
       "      <th>50%</th>\n",
       "      <td>3.00000</td>\n",
       "      <td>360936.000000</td>\n",
       "      <td>2.000000</td>\n",
       "      <td>0.000000</td>\n",
       "      <td>3.000000</td>\n",
       "      <td>3.000000</td>\n",
       "      <td>3.000000</td>\n",
       "      <td>0.000000</td>\n",
       "      <td>13787.000000</td>\n",
       "      <td>0.000000</td>\n",
       "      <td>...</td>\n",
       "      <td>0.000000</td>\n",
       "      <td>0.000000</td>\n",
       "      <td>0.000000</td>\n",
       "      <td>0.000000</td>\n",
       "      <td>0.000000</td>\n",
       "      <td>0.000000</td>\n",
       "      <td>0.000000</td>\n",
       "      <td>0.000000</td>\n",
       "      <td>0.000000</td>\n",
       "      <td>3084.000000</td>\n",
       "    </tr>\n",
       "    <tr>\n",
       "      <th>75%</th>\n",
       "      <td>3.00000</td>\n",
       "      <td>405490.000000</td>\n",
       "      <td>3.000000</td>\n",
       "      <td>1.000000</td>\n",
       "      <td>4.000000</td>\n",
       "      <td>3.000000</td>\n",
       "      <td>4.000000</td>\n",
       "      <td>1.000000</td>\n",
       "      <td>53587.000000</td>\n",
       "      <td>0.000000</td>\n",
       "      <td>...</td>\n",
       "      <td>0.000000</td>\n",
       "      <td>1.000000</td>\n",
       "      <td>0.000000</td>\n",
       "      <td>0.000000</td>\n",
       "      <td>0.000000</td>\n",
       "      <td>0.000000</td>\n",
       "      <td>0.000000</td>\n",
       "      <td>0.000000</td>\n",
       "      <td>0.000000</td>\n",
       "      <td>5092.000000</td>\n",
       "    </tr>\n",
       "    <tr>\n",
       "      <th>max</th>\n",
       "      <td>6.00000</td>\n",
       "      <td>414149.000000</td>\n",
       "      <td>4.000000</td>\n",
       "      <td>1.000000</td>\n",
       "      <td>5.000000</td>\n",
       "      <td>3.000000</td>\n",
       "      <td>12.000000</td>\n",
       "      <td>1.000000</td>\n",
       "      <td>60305.000000</td>\n",
       "      <td>41.000000</td>\n",
       "      <td>...</td>\n",
       "      <td>1.000000</td>\n",
       "      <td>1.000000</td>\n",
       "      <td>1.000000</td>\n",
       "      <td>1.000000</td>\n",
       "      <td>1.000000</td>\n",
       "      <td>1.000000</td>\n",
       "      <td>1.000000</td>\n",
       "      <td>1.000000</td>\n",
       "      <td>1.000000</td>\n",
       "      <td>7200.000000</td>\n",
       "    </tr>\n",
       "  </tbody>\n",
       "</table>\n",
       "<p>8 rows × 25 columns</p>\n",
       "</div>"
      ],
      "text/plain": [
       "          age_level    campaign_id  city_development_index       is_click  \\\n",
       "count  250647.00000  250647.000000           250647.000000  250647.000000   \n",
       "mean        2.77108  310341.989336                2.548269       0.374998   \n",
       "std         1.07902  126766.038657                0.917740       0.484123   \n",
       "min         0.00000   82320.000000                1.000000       0.000000   \n",
       "25%         2.00000  118601.000000                2.000000       0.000000   \n",
       "50%         3.00000  360936.000000                2.000000       0.000000   \n",
       "75%         3.00000  405490.000000                3.000000       1.000000   \n",
       "max         6.00000  414149.000000                4.000000       1.000000   \n",
       "\n",
       "       product_category_1     user_depth  user_group_id          var_1  \\\n",
       "count       250647.000000  250647.000000  250647.000000  250647.000000   \n",
       "mean             3.043368       2.878754       3.456044       0.429078   \n",
       "std              1.295525       0.399770       2.413517       0.494945   \n",
       "min              1.000000       1.000000       0.000000       0.000000   \n",
       "25%              2.000000       3.000000       2.000000       0.000000   \n",
       "50%              3.000000       3.000000       3.000000       0.000000   \n",
       "75%              4.000000       3.000000       4.000000       1.000000   \n",
       "max              5.000000       3.000000      12.000000       1.000000   \n",
       "\n",
       "          webpage_id       interest      ...            product_B  \\\n",
       "count  250647.000000  250647.000000      ...        250647.000000   \n",
       "mean    30781.293895       0.352264      ...             0.045706   \n",
       "std     21965.656796       1.136610      ...             0.208847   \n",
       "min      1734.000000       0.000000      ...             0.000000   \n",
       "25%     13787.000000       0.000000      ...             0.000000   \n",
       "50%     13787.000000       0.000000      ...             0.000000   \n",
       "75%     53587.000000       0.000000      ...             0.000000   \n",
       "max     60305.000000      41.000000      ...             1.000000   \n",
       "\n",
       "           product_C      product_D      product_E      product_F  \\\n",
       "count  250647.000000  250647.000000  250647.000000  250647.000000   \n",
       "mean        0.354957       0.090107       0.046675       0.013796   \n",
       "std         0.478501       0.286335       0.210943       0.116645   \n",
       "min         0.000000       0.000000       0.000000       0.000000   \n",
       "25%         0.000000       0.000000       0.000000       0.000000   \n",
       "50%         0.000000       0.000000       0.000000       0.000000   \n",
       "75%         1.000000       0.000000       0.000000       0.000000   \n",
       "max         1.000000       1.000000       1.000000       1.000000   \n",
       "\n",
       "           product_G      product_H      product_I      product_J  \\\n",
       "count  250647.000000  250647.000000  250647.000000  250647.000000   \n",
       "mean        0.018097       0.239444       0.135178       0.023623   \n",
       "std         0.133303       0.426745       0.341914       0.151871   \n",
       "min         0.000000       0.000000       0.000000       0.000000   \n",
       "25%         0.000000       0.000000       0.000000       0.000000   \n",
       "50%         0.000000       0.000000       0.000000       0.000000   \n",
       "75%         0.000000       0.000000       0.000000       0.000000   \n",
       "max         1.000000       1.000000       1.000000       1.000000   \n",
       "\n",
       "            duration  \n",
       "count  250647.000000  \n",
       "mean     2915.897916  \n",
       "std      2448.655109  \n",
       "min     -1439.000000  \n",
       "25%       736.000000  \n",
       "50%      3084.000000  \n",
       "75%      5092.000000  \n",
       "max      7200.000000  \n",
       "\n",
       "[8 rows x 25 columns]"
      ]
     },
     "execution_count": 109,
     "metadata": {},
     "output_type": "execute_result"
    }
   ],
   "source": [
    "train.describe()"
   ]
  },
  {
   "cell_type": "code",
   "execution_count": 100,
   "metadata": {},
   "outputs": [],
   "source": [
    "from sklearn.model_selection import RandomizedSearchCV\n",
    "from sklearn.model_selection import GridSearchCV\n",
    "from sklearn.metrics import confusion_matrix\n",
    "\n",
    "#param_grid = {\n",
    " #   'bootstrap': [True],\n",
    "    #'max_depth': [3,5,8],\n",
    "   # 'max_features':[3,4,5],\n",
    " #   'n_estimators': [500] \n",
    "#}\n",
    "\n",
    "#rf=RandomForestClassifier()\n",
    "#grid_search=GridSearchCV(estimator=rf,param_grid=param_grid,cv=2,n_jobs=-1,verbose=2)"
   ]
  },
  {
   "cell_type": "code",
   "execution_count": 101,
   "metadata": {},
   "outputs": [],
   "source": [
    "#grid_search.fit(x_train,y_train)\n",
    "#print(grid_search.best_params_)"
   ]
  },
  {
   "cell_type": "code",
   "execution_count": 102,
   "metadata": {},
   "outputs": [],
   "source": [
    "rf=RandomForestClassifier(n_estimators=1200,\n",
    "                               # criterion='gini',\n",
    "                               # max_depth=6,\n",
    "                                #min_samples_split=10,\n",
    "                               # min_samples_leaf=4,\n",
    "                                max_features=5,\n",
    "                                random_state=0)\n",
    "rf.fit(x_train,y_train)\n",
    "test_pred=rf.predict(x_test)"
   ]
  },
  {
   "cell_type": "code",
   "execution_count": 103,
   "metadata": {},
   "outputs": [],
   "source": [
    "prediction=pd.Series(test_pred.tolist()).astype(int)"
   ]
  },
  {
   "cell_type": "code",
   "execution_count": 104,
   "metadata": {},
   "outputs": [],
   "source": [
    "prediction.to_csv('D:/My Personal Documents/Learnings/Data Science/Data Sets/AmericanExpress/prediction.csv')"
   ]
  },
  {
   "cell_type": "code",
   "execution_count": 105,
   "metadata": {},
   "outputs": [
    {
     "data": {
      "text/plain": [
       "(128858, 25)"
      ]
     },
     "execution_count": 105,
     "metadata": {},
     "output_type": "execute_result"
    }
   ],
   "source": [
    "test.shape"
   ]
  },
  {
   "cell_type": "code",
   "execution_count": null,
   "metadata": {},
   "outputs": [],
   "source": []
  }
 ],
 "metadata": {
  "kernelspec": {
   "display_name": "Python 3",
   "language": "python",
   "name": "python3"
  },
  "language_info": {
   "codemirror_mode": {
    "name": "ipython",
    "version": 3
   },
   "file_extension": ".py",
   "mimetype": "text/x-python",
   "name": "python",
   "nbconvert_exporter": "python",
   "pygments_lexer": "ipython3",
   "version": "3.6.5"
  }
 },
 "nbformat": 4,
 "nbformat_minor": 2
}
