{
 "cells": [
  {
   "cell_type": "code",
   "execution_count": 1128,
   "metadata": {},
   "outputs": [],
   "source": [
    "import pandas as pd"
   ]
  },
  {
   "cell_type": "code",
   "execution_count": 191,
   "metadata": {},
   "outputs": [],
   "source": [
    "file = \"D:\\\\My Personal Documents\\\\Learnings\\\\Data Science\\\\Data Sets\\\\Twiter Sentiment Analysis\\\\train_E6oV3lV.csv\"\n",
    "test = 'D:\\\\My Personal Documents\\\\Learnings\\\\Data Science\\\\Data Sets\\\\Twiter Sentiment Analysis\\\\test_tweets_anuFYb8.csv'\n",
    "tweets = pd.read_csv(file)\n",
    "test_tweets=pd.read_csv(test)"
   ]
  },
  {
   "cell_type": "code",
   "execution_count": 192,
   "metadata": {},
   "outputs": [
    {
     "data": {
      "text/html": [
       "<div>\n",
       "<style scoped>\n",
       "    .dataframe tbody tr th:only-of-type {\n",
       "        vertical-align: middle;\n",
       "    }\n",
       "\n",
       "    .dataframe tbody tr th {\n",
       "        vertical-align: top;\n",
       "    }\n",
       "\n",
       "    .dataframe thead th {\n",
       "        text-align: right;\n",
       "    }\n",
       "</style>\n",
       "<table border=\"1\" class=\"dataframe\">\n",
       "  <thead>\n",
       "    <tr style=\"text-align: right;\">\n",
       "      <th></th>\n",
       "      <th>id</th>\n",
       "      <th>label</th>\n",
       "      <th>tweet</th>\n",
       "    </tr>\n",
       "  </thead>\n",
       "  <tbody>\n",
       "    <tr>\n",
       "      <th>0</th>\n",
       "      <td>1</td>\n",
       "      <td>0</td>\n",
       "      <td>@user when a father is dysfunctional and is s...</td>\n",
       "    </tr>\n",
       "    <tr>\n",
       "      <th>1</th>\n",
       "      <td>2</td>\n",
       "      <td>0</td>\n",
       "      <td>@user @user thanks for #lyft credit i can't us...</td>\n",
       "    </tr>\n",
       "    <tr>\n",
       "      <th>2</th>\n",
       "      <td>3</td>\n",
       "      <td>0</td>\n",
       "      <td>bihday your majesty</td>\n",
       "    </tr>\n",
       "    <tr>\n",
       "      <th>3</th>\n",
       "      <td>4</td>\n",
       "      <td>0</td>\n",
       "      <td>#model   i love u take with u all the time in ...</td>\n",
       "    </tr>\n",
       "    <tr>\n",
       "      <th>4</th>\n",
       "      <td>5</td>\n",
       "      <td>0</td>\n",
       "      <td>factsguide: society now    #motivation</td>\n",
       "    </tr>\n",
       "    <tr>\n",
       "      <th>5</th>\n",
       "      <td>6</td>\n",
       "      <td>0</td>\n",
       "      <td>[2/2] huge fan fare and big talking before the...</td>\n",
       "    </tr>\n",
       "    <tr>\n",
       "      <th>6</th>\n",
       "      <td>7</td>\n",
       "      <td>0</td>\n",
       "      <td>@user camping tomorrow @user @user @user @use...</td>\n",
       "    </tr>\n",
       "    <tr>\n",
       "      <th>7</th>\n",
       "      <td>8</td>\n",
       "      <td>0</td>\n",
       "      <td>the next school year is the year for exams.ð...</td>\n",
       "    </tr>\n",
       "    <tr>\n",
       "      <th>8</th>\n",
       "      <td>9</td>\n",
       "      <td>0</td>\n",
       "      <td>we won!!! love the land!!! #allin #cavs #champ...</td>\n",
       "    </tr>\n",
       "    <tr>\n",
       "      <th>9</th>\n",
       "      <td>10</td>\n",
       "      <td>0</td>\n",
       "      <td>@user @user welcome here !  i'm   it's so #gr...</td>\n",
       "    </tr>\n",
       "    <tr>\n",
       "      <th>10</th>\n",
       "      <td>11</td>\n",
       "      <td>0</td>\n",
       "      <td>â #ireland consumer price index (mom) climb...</td>\n",
       "    </tr>\n",
       "    <tr>\n",
       "      <th>11</th>\n",
       "      <td>12</td>\n",
       "      <td>0</td>\n",
       "      <td>we are so selfish. #orlando #standwithorlando ...</td>\n",
       "    </tr>\n",
       "    <tr>\n",
       "      <th>12</th>\n",
       "      <td>13</td>\n",
       "      <td>0</td>\n",
       "      <td>i get to see my daddy today!!   #80days #getti...</td>\n",
       "    </tr>\n",
       "    <tr>\n",
       "      <th>13</th>\n",
       "      <td>14</td>\n",
       "      <td>1</td>\n",
       "      <td>@user #cnn calls #michigan middle school 'buil...</td>\n",
       "    </tr>\n",
       "    <tr>\n",
       "      <th>14</th>\n",
       "      <td>15</td>\n",
       "      <td>1</td>\n",
       "      <td>no comment!  in #australia   #opkillingbay #se...</td>\n",
       "    </tr>\n",
       "    <tr>\n",
       "      <th>15</th>\n",
       "      <td>16</td>\n",
       "      <td>0</td>\n",
       "      <td>ouch...junior is angryð#got7 #junior #yugyo...</td>\n",
       "    </tr>\n",
       "    <tr>\n",
       "      <th>16</th>\n",
       "      <td>17</td>\n",
       "      <td>0</td>\n",
       "      <td>i am thankful for having a paner. #thankful #p...</td>\n",
       "    </tr>\n",
       "    <tr>\n",
       "      <th>17</th>\n",
       "      <td>18</td>\n",
       "      <td>1</td>\n",
       "      <td>retweet if you agree!</td>\n",
       "    </tr>\n",
       "    <tr>\n",
       "      <th>18</th>\n",
       "      <td>19</td>\n",
       "      <td>0</td>\n",
       "      <td>its #friday! ð smiles all around via ig use...</td>\n",
       "    </tr>\n",
       "    <tr>\n",
       "      <th>19</th>\n",
       "      <td>20</td>\n",
       "      <td>0</td>\n",
       "      <td>as we all know, essential oils are not made of...</td>\n",
       "    </tr>\n",
       "  </tbody>\n",
       "</table>\n",
       "</div>"
      ],
      "text/plain": [
       "    id  label                                              tweet\n",
       "0    1      0   @user when a father is dysfunctional and is s...\n",
       "1    2      0  @user @user thanks for #lyft credit i can't us...\n",
       "2    3      0                                bihday your majesty\n",
       "3    4      0  #model   i love u take with u all the time in ...\n",
       "4    5      0             factsguide: society now    #motivation\n",
       "5    6      0  [2/2] huge fan fare and big talking before the...\n",
       "6    7      0   @user camping tomorrow @user @user @user @use...\n",
       "7    8      0  the next school year is the year for exams.ð...\n",
       "8    9      0  we won!!! love the land!!! #allin #cavs #champ...\n",
       "9   10      0   @user @user welcome here !  i'm   it's so #gr...\n",
       "10  11      0   â #ireland consumer price index (mom) climb...\n",
       "11  12      0  we are so selfish. #orlando #standwithorlando ...\n",
       "12  13      0  i get to see my daddy today!!   #80days #getti...\n",
       "13  14      1  @user #cnn calls #michigan middle school 'buil...\n",
       "14  15      1  no comment!  in #australia   #opkillingbay #se...\n",
       "15  16      0  ouch...junior is angryð#got7 #junior #yugyo...\n",
       "16  17      0  i am thankful for having a paner. #thankful #p...\n",
       "17  18      1                             retweet if you agree! \n",
       "18  19      0  its #friday! ð smiles all around via ig use...\n",
       "19  20      0  as we all know, essential oils are not made of..."
      ]
     },
     "execution_count": 192,
     "metadata": {},
     "output_type": "execute_result"
    }
   ],
   "source": [
    "tweets.head(20) "
   ]
  },
  {
   "cell_type": "code",
   "execution_count": 193,
   "metadata": {},
   "outputs": [],
   "source": [
    "tweet_label = tweets['label']"
   ]
  },
  {
   "cell_type": "code",
   "execution_count": 194,
   "metadata": {},
   "outputs": [],
   "source": [
    "tweet_text=tweets['tweet']"
   ]
  },
  {
   "cell_type": "code",
   "execution_count": 195,
   "metadata": {},
   "outputs": [
    {
     "name": "stderr",
     "output_type": "stream",
     "text": [
      "C:\\Amrendra\\Anaconda\\lib\\site-packages\\pandas\\core\\frame.py:6201: FutureWarning: Sorting because non-concatenation axis is not aligned. A future version\n",
      "of pandas will change to not sort by default.\n",
      "\n",
      "To accept the future behavior, pass 'sort=True'.\n",
      "\n",
      "To retain the current behavior and silence the warning, pass sort=False\n",
      "\n",
      "  sort=sort)\n"
     ]
    }
   ],
   "source": [
    "tweets=tweets.append(test_tweets)\n"
   ]
  },
  {
   "cell_type": "code",
   "execution_count": 196,
   "metadata": {},
   "outputs": [
    {
     "name": "stdout",
     "output_type": "stream",
     "text": [
      "<class 'pandas.core.frame.DataFrame'>\n",
      "Int64Index: 49159 entries, 0 to 17196\n",
      "Data columns (total 3 columns):\n",
      "id       49159 non-null int64\n",
      "label    31962 non-null float64\n",
      "tweet    49159 non-null object\n",
      "dtypes: float64(1), int64(1), object(1)\n",
      "memory usage: 1.5+ MB\n"
     ]
    }
   ],
   "source": [
    "tweets.info()"
   ]
  },
  {
   "cell_type": "code",
   "execution_count": 197,
   "metadata": {},
   "outputs": [],
   "source": [
    "cleaned_tweet = tweets.tweet.str.replace(\"[^a-zA-Z]\", \" \")\n",
    "#cleaned_tweet = tweets.tweet.str.replace(\"@user\", \"\")"
   ]
  },
  {
   "cell_type": "code",
   "execution_count": 198,
   "metadata": {},
   "outputs": [
    {
     "data": {
      "text/plain": [
       "0       user when a father is dysfunctional and is s...\n",
       "1      user  user thanks for  lyft credit i can t us...\n",
       "2                                   bihday your majesty\n",
       "3      model   i love u take with u all the time in ...\n",
       "4                factsguide  society now     motivation\n",
       "5           huge fan fare and big talking before the...\n",
       "6       user camping tomorrow  user  user  user  use...\n",
       "7     the next school year is the year for exams    ...\n",
       "8     we won    love the land     allin  cavs  champ...\n",
       "9       user  user welcome here    i m   it s so  gr...\n",
       "10          ireland consumer price index  mom  climb...\n",
       "11    we are so selfish   orlando  standwithorlando ...\n",
       "12    i get to see my daddy today        days  getti...\n",
       "13     user  cnn calls  michigan middle school  buil...\n",
       "14    no comment   in  australia    opkillingbay  se...\n",
       "15    ouch   junior is angry     got   junior  yugyo...\n",
       "16    i am thankful for having a paner   thankful  p...\n",
       "17                               retweet if you agree  \n",
       "18    its  friday       smiles all around via ig use...\n",
       "19    as we all know  essential oils are not made of...\n",
       "Name: tweet, dtype: object"
      ]
     },
     "execution_count": 198,
     "metadata": {},
     "output_type": "execute_result"
    }
   ],
   "source": [
    "cleaned_tweet.head(20)"
   ]
  },
  {
   "cell_type": "code",
   "execution_count": 199,
   "metadata": {},
   "outputs": [],
   "source": [
    "cleaned_tweet = cleaned_tweet.apply(lambda x: ' '.join([text for text in x.split() if len(text)>2 and text!='user']))"
   ]
  },
  {
   "cell_type": "code",
   "execution_count": 200,
   "metadata": {},
   "outputs": [],
   "source": [
    "from nltk.stem.porter import PorterStemmer\n",
    "stem = PorterStemmer()\n",
    "#stem.stem(cleaned_tweet)\n",
    "cleaned_tweet = cleaned_tweet.apply(lambda x: ' '.join([stem.stem(text) for text in x.split() if len(text)>2]))"
   ]
  },
  {
   "cell_type": "code",
   "execution_count": 201,
   "metadata": {},
   "outputs": [],
   "source": [
    "c_tweet=[]\n",
    "for t in cleaned_tweet:\n",
    "    t1=re.sub(\"\\S*\\d\\S*\", \"\", t).strip()\n",
    "    c_tweet.append(t1)\n",
    "\n",
    "cleaned_tweet=c_tweet"
   ]
  },
  {
   "cell_type": "code",
   "execution_count": 202,
   "metadata": {},
   "outputs": [
    {
     "data": {
      "text/plain": [
       "['when father dysfunct and selfish drag hi kid into hi dysfunct run',\n",
       " 'thank for lyft credit can use caus they don offer wheelchair van pdx disapoint getthank',\n",
       " 'bihday your majesti',\n",
       " 'model love take with all the time',\n",
       " 'factsguid societi now motiv',\n",
       " 'huge fan fare and big talk befor they leav chao and pay disput when they get there allshowandnogo',\n",
       " 'camp tomorrow danni',\n",
       " 'the next school year the year for exam can think about that school exam hate imagin actorslif revolutionschool girl',\n",
       " 'won love the land allin cav champion cleveland clevelandcavali',\n",
       " 'welcom here',\n",
       " 'ireland consum price index mom climb from previou may blog silver gold forex',\n",
       " 'are selfish orlando standwithorlando pulseshoot orlandoshoot biggerproblem selfish heabreak valu love',\n",
       " 'get see daddi today day gettingf',\n",
       " 'cnn call michigan middl school build the wall chant tcot',\n",
       " 'comment australia opkillingbay seashepherd helpcovedolphin thecov helpcovedolphin',\n",
       " 'ouch junior angri got junior yugyoem omg',\n",
       " 'thank for have paner thank posit',\n",
       " 'retweet you agre',\n",
       " 'it friday smile all around via cooki make peopl',\n",
       " 'all know essenti oil are not made chemic',\n",
       " 'euro peopl blame for conced goal wa fat rooney who gave away free kick know bale can hit them from there',\n",
       " 'sad littl dude badday coneofsham cat piss funni laugh',\n",
       " 'product the day happi man wine tool who the weekend time open amp drink',\n",
       " 'lumpi say prove lumpi',\n",
       " 'tgif gamedev indiedev indiegamedev squad',\n",
       " 'beauti sign vendor for upsideofflorida shopalyssa love',\n",
       " 'all smile when media pressconfer antalya turkey sunday throwback love',\n",
       " 'had great panel the mediat the public servic ica',\n",
       " 'happi father day',\n",
       " 'peopl went nightclub have good night and man action mean those peopl are lost their famili forev rip orlando',\n",
       " 'have never had chanc vote for presidenti candid wa excit about and thi cycl look differ',\n",
       " 'alohafriday time doe not exist positivevib hawaiian',\n",
       " 'rip the fellow nohern ireland fan who sadley pass away tonight gawa forev sing and cheer fire',\n",
       " 'wa hard monday due cloudi weather disabl oxygen product for today goodnight badmonday',\n",
       " 'unbeliev that the centuri need someth like thi again neverump xenophobia',\n",
       " 'taylorswift bull you will domin your bull and you will direct whatev you want',\n",
       " 'morn travelingram dalat ripinkylif',\n",
       " 'onc more onli one word tell all photoshop enoughisenough dontphotoshopeveryth wheresallthenaturalphoto',\n",
       " 'cedarpoint wait hour the valravn line and stop work were close',\n",
       " 'thank for sunshin thank posit',\n",
       " 'when you final finish book you been work for awhil bookworm ontothenextnovel',\n",
       " 'yup be knick fan hard it easier just nba fan when the playoff roll around',\n",
       " 'there life after social network embrac each day',\n",
       " 'mom share the same bihday bihday snake see you thi weekend',\n",
       " 'love echeveria bloom flower grow garden iphonesia bliss bloom basilicabotanica',\n",
       " 'amaz posit affirm',\n",
       " 'model love take with all the time',\n",
       " 'whenev and someth goe wrong',\n",
       " 'feel blue illustr',\n",
       " 'the best about life know who you are',\n",
       " 'abc get readi remov the victum frm pulseclub prayfororlando',\n",
       " 'for her bihday got her nose job bihday petunia love you',\n",
       " 'off concelebr the albanpilgrimag for the first time',\n",
       " 'let the scum baggeri begin',\n",
       " 'thank you super love zpamdelacruz wed dolor capa tarlac',\n",
       " 'scourg those play baroqu piec piano beyond belief',\n",
       " 'let fight against love peac',\n",
       " 'happi father day rayo video father day rayo world hotvideo video',\n",
       " 'ascot time with thi babe ascot fashion monochrom style instahappyday',\n",
       " 'the weekend here selfi yolo xoxo like like',\n",
       " 'happi work confer right mindset lead cultur develop organ work mindset',\n",
       " 'christina grimmi last perform befor be shot via christinarip voic christinagrimmi',\n",
       " 'are readi danc roar preschool student proud',\n",
       " 'you realli feel',\n",
       " 'wife whom ador had miss your poland show becaus she had surgeri her name bridget amp she everyth',\n",
       " 'jealou you right now chatiado',\n",
       " 'celebr everi man that ha play fatherli role father day',\n",
       " 'sure they are just happi hour',\n",
       " 'the white establish can have blk folx run around love themselv and promot our great',\n",
       " 'good morn the journey begin travel yeah thejourneybegin hello',\n",
       " 'you luv hottweet like thi from venusexchang',\n",
       " 'our new brochur have arriv how excit awork solut',\n",
       " 'much stuff happen florida first orlando shoot and now disneygatorattack two year old kid',\n",
       " 'ferrari will for the sake the championship thi clearli turn point ferrari merc',\n",
       " 'ace first test proud',\n",
       " 'seek probe into udtapunjab leak point finger amarind aap',\n",
       " 'wrap senseaboutmath',\n",
       " 'hey white peopl you can call peopl white race ident med',\n",
       " 'you might just have not shown here today regurgit talk point and name call',\n",
       " 'sometim you have rais few brow rais the bar golfstrengthandcondit strong felixfoisgolf',\n",
       " 'about that greathonour careerconvo',\n",
       " 'design innov learn space includ wateringhol cave mountaintop campfir',\n",
       " 'how the altright use amp insecur lure men into whitesupremaci',\n",
       " 'carri gun wouldn help you can take with you gun control won stop the black market terror will get wors',\n",
       " 'use the power your mind heal your bodi altwaystoh healthi peac',\n",
       " 'woohoo just over week',\n",
       " 'be far away place where you have famili member hu',\n",
       " 'readi rehears tonight with new music and new video look out for the announc midweek newmus watchthisspac guitar',\n",
       " 'now monday night channel final get see what all the fuss about',\n",
       " 'watch the new episod',\n",
       " 'offlin now after veri nice and long night snapchat redhead vermillionr',\n",
       " 'thing incred peopl',\n",
       " 'ye receiv accept letter for master will back again octob goodtim histori',\n",
       " 'daughter ride her bike around driveway son play hi guitar for while enjoy the campfir summeim memori',\n",
       " 'omg love thi station way jam out work while get work done cours memori',\n",
       " 'alway hope that one day get hug you but don think that gonna happen anytim soon',\n",
       " 'model love take with all the time',\n",
       " 'coupl have sex fat nake japanes girl',\n",
       " 'hump that hump day humper edwardsvil pennsylvania',\n",
       " 'personalis gbp get here shop cool home fun',\n",
       " 'there are some truli sick ppl out there',\n",
       " 'trump call obama resign over the orlando shoot the boy ha point year and all did wa talk about chang',\n",
       " 'not long now nashvilletour nashvilleforev',\n",
       " 'eur usd clear barrier jump fresh week high blog silver gold forex',\n",
       " 'go tomorrow',\n",
       " 'thank for good friend thank posit',\n",
       " 'still can not wrap head around the fact that christinagrimmi gone and the fact that man destroy prayfororlando just',\n",
       " 'just receiv di from can wait sta bake eyelid',\n",
       " 'were play for vigilfororlando harp clonakilti rip via',\n",
       " 'ye ye ye ihavenofriend someonecomewithm',\n",
       " 'sunday weekend relax icon woman sundaymorn sunday marilynmonro',\n",
       " 'not interest linguist that doesn address race amp racism about power raciolinguist bring',\n",
       " 'one belov long lost cd now recov thank appl music',\n",
       " 'marvel song musica weed ripchristina adel danc vine',\n",
       " 'whi not mock obama for be black brexit',\n",
       " 'under the spell brexit referendum commerzbank blog silver gold forex',\n",
       " 'amaz health benefit cucumb healthi altwaystoh',\n",
       " 'model love take with all the time',\n",
       " 'off work ofw pinoy followm iger instagood smile love',\n",
       " 'toradora anim animeedit made breakup alon lone',\n",
       " 'lap pool ride done and pick gym membership form',\n",
       " 'cotd polar bear climb race angri polar bear climb race the polar bear live cold place look',\n",
       " 'get him angri muslim assassin not much',\n",
       " 'happi snappi wait for the footbal footbal snapchat',\n",
       " 'friday miss you fring qcbag summer',\n",
       " 'nochebuena lasvega usa la vega strip',\n",
       " 'fleurett instaboy instaman sefi septum friend smile blackandwhit',\n",
       " 'sad the branch just raini day write tear are fli bird haiku line micropoetri',\n",
       " 'yeah new button the mail for they are pretti jewelrymak button',\n",
       " 'driver hit femal moos river weston moos wa kill driver crew remov anim now',\n",
       " 'afterpa made japan madeinjapan eo cute fun cawaii love strawberri tomato',\n",
       " 'peopl aren protest trump becaus republican won they becaus trump ha fuher amp',\n",
       " 'need find way spend time you are not alway mind boy guy',\n",
       " 'updat social analyt photooftheday iger like',\n",
       " 'anyon know the date our doj and fbi becam corrupt emailg hillari shame disgrac ridicul',\n",
       " 'stupid make more than even neglig whi put sachintendulkar instal were go take off',\n",
       " 'bihday thbihday bestfriend love',\n",
       " 'most impoant thing enjoy your life all that matter life too sho pooh',\n",
       " 'happi bihday chri evan great actor and human chrisevan bihday',\n",
       " 'our hea thought prayer out the more than peopl who were murder gay nightclub florida',\n",
       " 'demo guitar for new album newalbum indi guitar echobelli',\n",
       " 'retweet lion pro tgif webmaret seo commun manag weekend',\n",
       " 'nzd usd target the week sma blog silver gold forex',\n",
       " 'had pretti bad bihday week befor but far thi the worst ever bihdayweeksuck bithday',\n",
       " 'bless have work with best lead ladi',\n",
       " 'happiest place eah disneysmagickingdom disney magickingdom disneyland orlando',\n",
       " 'kinda among human again',\n",
       " 'just found out after been exclaim how blain hair wa the other nite',\n",
       " 'listen most beauti best friend sing with her most amaz voic',\n",
       " 'healthi freedom from effo the present mere mean that there ha been effo store the past theodor roosevelt',\n",
       " 'when you know yall aint go know where love commit trust faith',\n",
       " 'ye when you call michelleobama gorilla becaus racist have long thought black peopl bet',\n",
       " 'newarkfestiv thi all thi year wait for the show sta our year run',\n",
       " 'when the internet broken you can watch netflix mochithepug puglif',\n",
       " 'and she will just that then what busi usual',\n",
       " 'hbd thi dick suckin tequila lovin slut wouldnt want ani other way justalil butstillontim',\n",
       " 'the smaller hand show barri probabl lie about be whi hi knick game suck more than hi golf',\n",
       " 'good morn friday what everyon do thi weekend goodmorn friday girl love florida',\n",
       " 'challeng aap claim that punjabi are drugaddict dare prove',\n",
       " 'tracerequest send deepest condol the orlando gay famili zimbabw gay commun ha you hea touch',\n",
       " 'new selfi guy mato chapon',\n",
       " 'saturday afternoon chi meet friend',\n",
       " 'model love take with all the time',\n",
       " 'so out all nut amp bolt bloke',\n",
       " 'aww yeah all good bing bong bing bong',\n",
       " 'just dawn month will see live excit vfest summer',\n",
       " 'happi bihday shane robe watson bihday shane watson australia cricker',\n",
       " 'you point one finger million are point right back you jewishsupremacist',\n",
       " 'sad hear the announc say that may have move the player one two out the lead whoknow',\n",
       " 'radio go coldplay tonight ye',\n",
       " 'think like thi too the god who not come through for the god who not keep',\n",
       " 'terrorist constitut right thi just anoth excus republican appeas the nra with gun control measur',\n",
       " 'all about gloucesterrugbi',\n",
       " 'veri sad what happen',\n",
       " 'everyon everyth sad togeth alon down fine dandi lone exuber depress halfful halfempti',\n",
       " 'mikeashley sposdirectsham perhaps good exampl the need protect workersright from within europ euref remain',\n",
       " 'angri bird stella bad princess bird stella bad princess birdsstellabadprincess time post wed',\n",
       " 'check incred have made great memori with great peopl did',\n",
       " 'saw shi last night that said rip when care realli',\n",
       " 'hilari alreadi block for ask one not paicularli difficult question',\n",
       " 'devast news hea goe out the victim and their famili orlando heabreak',\n",
       " 'happi not state arriv but manner travel margaret lee runbeck happi quot inspir',\n",
       " 'safe way heal your acn altwaystoh healthi heal',\n",
       " 'what creat right now beat makingbeat thursday work istandard akaipro',\n",
       " 'wed number wed weddingpay love forev weddingdress',\n",
       " 'look forward attend the cipd ireland confer amp workshop cpd onemoreday',\n",
       " 'final reach follow twitch follow hypu stream tomorrow',\n",
       " 'word free how use that can cost you verbal abus love adult teen',\n",
       " 'after what our countri went through thi last year see peopl bring bomb the stadium amp come here for everyth but footbal',\n",
       " 'thank for cat thank posit',\n",
       " 'time eat with bae swalscha dejeun lunch happi love amoureux',\n",
       " 'ilovethesecret lawofattract quiz love happi motiv success joy life',\n",
       " 'you might libtard libtard sjw liber polit',\n",
       " 'about down pole bgp rozthediva blackgirlspol bodyandpol live love',\n",
       " 'argentina attack bull game you realli think that hi head wa empti around the citi each side',\n",
       " 'what self serv hypocrit alway keep your eye the bounc ball with thi nimrod presid',\n",
       " 'nohcarolina bull you will domin your bull and you will direct whatev you want whe',\n",
       " 'build polar bear climb race angri polar bear climb race the polar bear live cold place loo',\n",
       " 'they want reelect money ksleg',\n",
       " 'hea with orlando right now truli cannot imagin could have easili happen anywher',\n",
       " 'alreemgroup ali alshahawi cute summer photographerdubai sun hair mydubai',\n",
       " 'seem like the onli place with action here montreal',\n",
       " 'that and you are old and wash',\n",
       " 'spirit posit affirm',\n",
       " 'thank for enteain thank posit',\n",
       " 'thi show truli how bad brisban are',\n",
       " 'can wait for wimbledon',\n",
       " 'happi man success model entrepreneur speaker fresh confid fashion',\n",
       " 'gala moment day kid bipolar frikiegirl the lucki chinatown mall binondo',\n",
       " 'thi realli take the piss angri just goe show who valu and who isn you complet and utter moron',\n",
       " 'take out the trash america vote against hate vote against vote against vot',\n",
       " 'father day all the amaz dad out there that give much for their famili enjoy your',\n",
       " 'doe magnettherapi realli work altwaystoh heal healthi',\n",
       " 'sebbo ha said all',\n",
       " 'smile smile egsmil torio',\n",
       " 'brilliant servic your ketter branch today custom',\n",
       " 'will here for screen will miss will sing all the song from potp and shock treatment becaus can',\n",
       " 'the way toraya bu alamindah white music carrieunderwood',\n",
       " 'model love take with all the time',\n",
       " 'good day new beer bridpo food amp beer fest back the campsit drunk the starstruck amp move',\n",
       " 'repost from propey ocean summer life famili sydney',\n",
       " 'want teach you love like you never felt befor quot quot love pakistan allin girl boy fashion feel',\n",
       " 'thank for now thank posit',\n",
       " 'omg just day left countdown nolefam can wait for him come milan',\n",
       " 'stone rose done now time for club day',\n",
       " 'there reason whi two peopl stay togeth they give each other someth nobodi els can hopelli great day',\n",
       " 'you never know who might have crush you wakow buzz moment ride love crush date hookup app',\n",
       " 'friend just got engag',\n",
       " 'day lef end classez yay risay risaypl',\n",
       " 'thursday may watch how say what need said',\n",
       " 'legendari posit affirm',\n",
       " 'the unit state america from the rest the world think you proven you don have the right own firearm',\n",
       " 'you hold open door for woman becaus she woman and not becaus nice thing that don even tri deni',\n",
       " 'when your have good weekend and show thank bless jeffreycwilliam',\n",
       " 'when you have good hea and help everyon you alway seem the one who get buttru',\n",
       " 'the happiest babi ive ever known cute smile babygirl beauti niec bless',\n",
       " 'are you readi for oneteamlincoln are',\n",
       " 'can wait for carowind readi see and time rockthepark timetogetmyjesuson',\n",
       " 'alreadi bought find dori ticket',\n",
       " 'for everi minut you are you lose sixti second happi and you should the same',\n",
       " 'sanjapan animeconvent see you guy septemb',\n",
       " 'question the day excit for moto tech announc moto question',\n",
       " 'make today count mondaymotiv livelifetothefullest healthi everydaycount',\n",
       " 'happi morn degre with anna classmat friend',\n",
       " 'would abl suppo our event brentwood homesta they lost fund and may have close',\n",
       " 'are happi littl peopl happyhappi peopl kitten cat blackkitten',\n",
       " 'thank you veri much for thi oppoun will cherish forev',\n",
       " 'themeowood puppi',\n",
       " 'few more day till who',\n",
       " 'happi pharrel william pharrellwilliam lyric',\n",
       " 'happi ork confer right mindset lead cultur develop organ work',\n",
       " 'lost anoth member our famili yesterday gut rosi',\n",
       " 'yayyy trailer morrow fever super',\n",
       " 'watch fanci tail vine mad mad teeth bite piss dog bite dogbit dogtreat',\n",
       " 'dreamcatch bull you will domin your bull and you will direct whatev you want when',\n",
       " 'readi for tomorrow englishteach teacher ecuador',\n",
       " 'memori wonder dad alway miss etern love strong greatquot',\n",
       " 'dalla shoot the video you about see disturb viewer discret then they play loop ove',\n",
       " 'itako alon fine littl',\n",
       " 'sunshin amp sticker kind saturday letthembelittl childhoodunplug',\n",
       " 'had wonder day today calm sunni chubbygirl glass finnishgirl finn',\n",
       " 'buka bersama tma famili yuhuuuuu tma risha meylucki amp other mayfair townhous pic',\n",
       " 'love you more than you know nationalbestfriendsday true',\n",
       " 'thi man ran for governor the state with the biggest african american popul',\n",
       " 'stereotyp prejudic offer hope solut but creat the same old repetit hate conflict',\n",
       " 'who can get the pussi quicker these day',\n",
       " 'probabl the time come back home ugh',\n",
       " 'model love take with all the time',\n",
       " 'anyon play voez kinda love with thi game game game girlgam voez',\n",
       " 'how mani pol pass how mani time and said noth bluelivesmatt draintheswamp ferguson',\n",
       " 'sequoia about the weekend',\n",
       " 'some bitch care more about their eyebrow then how much they makin the end the week',\n",
       " 'bham pride paradereadi beyou ofbham',\n",
       " 'fathersday all the guy who play dad out there love you',\n",
       " 'bihday bogummi love you forev hope you happi everyday good night',\n",
       " 'wish all our client had babi goat cuddl',\n",
       " 'positivevib fresh love you guy get some concord mill mall',\n",
       " 'the conjur get readi scare tonight readyornot truestori',\n",
       " 'today the day make the chang elimin neg and choos live posit lifestyl instead',\n",
       " 'aaahh nabilah look arigat jkt have veri happi daaay iwearbanana',\n",
       " 'last day work tomorrow for self employ from monday scare redditchbizhour',\n",
       " 'half boy half man dumb too',\n",
       " 'happi littl boy smile corbinrayp',\n",
       " 'never been more appropri have zero idea what feel right now scare missyou whatwasthat',\n",
       " 'have magnific monday mondaymorn mondaymotiv monday indraloka',\n",
       " 'just dont understand these design print anim fabric just bought muzlin sanasafinaz noexchangepolici',\n",
       " 'mayb happi hour you can get end',\n",
       " 'littlebear and her friend joy toddlerfriend puresweet latergram toddlerfun',\n",
       " 'you have never lost love one senseless violenc you don get fuck opinion the amend',\n",
       " 'where the world head you could lose your life just for leav your home orlando',\n",
       " 'heard him say that wa tri lock the shooter but kept other patron from get out',\n",
       " 'good mood flight with off munich for interview pharrel',\n",
       " 'first present the netherland',\n",
       " 'made proud been read word amp assur will assoment petit emot wish the best',\n",
       " 'happi joy happi temporari and leav joy last forev and never leav real tru',\n",
       " 'twinklatinboy slut snapshot hot nasti naughti sexi horni shi porn nude kinki xxx',\n",
       " 'not peopl who are thank thank peopl who are happi thankfulthursday',\n",
       " 'creativ posit affirm',\n",
       " 'have held back tear have cri happi tear amp final leav week tomorrow canadianrav',\n",
       " 'bihday pressi from mummi and granni michaelkor luckygirl bihday liverpool',\n",
       " 'stuck athen instead santorini becaus said wa windi land shock servic everi level sinc',\n",
       " 'these happi folk had the veri first freakshak the launch freak yum dalston',\n",
       " 'what huge crowd for trump',\n",
       " 'thank for saturday thank posit',\n",
       " 'good god whi',\n",
       " 'enjoy these delici melon vegan organ fresh fruit organ healthi healthyliv life',\n",
       " 'first month then week now onli day till the begin the end both and sad the same time',\n",
       " 'firework weeheeee',\n",
       " 'blackpool attack bull game you realli think that hi head wa empti around the citi each side',\n",
       " 'fathersday all our the amaz father out there today',\n",
       " 'just want that too much ask for',\n",
       " 'readi and wait newblood',\n",
       " 'sad aunt pass away she wa funer',\n",
       " 'horribl ad from that made cring',\n",
       " 'wouldn mind robson kanu decent player avail free transfer too',\n",
       " 'come you can better than thi pleas put yourself shoe unnecessari stress',\n",
       " 'stalk watch just peon poor disabl kill thi usa not the usa use proud amp the univers doesn care',\n",
       " 'stephcurri outburst beg the question can christian get nbafin',\n",
       " 'and grate now that affirm',\n",
       " 'more week then san antonio bound see cant wait see littl brother missyou mybrotherskeep',\n",
       " 'listen',\n",
       " 'the die the light villag green town antisemit hocoschool columbiamd hocomd',\n",
       " 'hahaha thi last friday amp weird',\n",
       " 'hey notic that are train lover ask check free app known train appl',\n",
       " 'sexi fuck direction niall nialhoranfact niallerwin hot justindrewbieb justindb believet',\n",
       " 'father sday say love you your dad right now sanya whererefreshingbegin',\n",
       " 'guess who back back again lifeaftersurgeri dog dogslif labrador labradorretriev lifeofsam',\n",
       " 'hey superspoilt you may want check for latest updat glastofest',\n",
       " 'bihday sid god bless you hav success career',\n",
       " 'nba final ambival love steph and thompson kyri stink green class doosh lebron won talk guillermo',\n",
       " 'check out product team web seri episod that wa edit your truli mep webseri',\n",
       " 'model love take with all the time',\n",
       " 'you never answer about your statement the nazi over hatr amp bigotri be found',\n",
       " 'juneteenth independenceday food thought rich ancestr heritag independ hall',\n",
       " 'river gorilla simul you need adapt the environ the need tear the citi materi',\n",
       " 'watch the leadership embrac amp kiss donald ass pathet amp thi now the pay pay racism amp hate ripgop',\n",
       " 'love how matur for age',\n",
       " 'aww yeah all good bing bong bing bong',\n",
       " 'such good feel when thi happen smile instalik instamood instap',\n",
       " 'check graffiti dublin ireland music vimeo movi video europ peopl flow fun rafalwojcicki',\n",
       " 'oitnbseason day aaahhhhh',\n",
       " 'iamposs today extraordinaryladyspeak staraward',\n",
       " 'sun out happi thursday breakfast the sun day sunnyday sun blue',\n",
       " 'pack sneak peek work with the yellowjacket the neshl for bhl hockey',\n",
       " 'toni sunday tonyaward',\n",
       " 'happi father day dad and all the dad out there father day',\n",
       " 'theverdict idiot countri rock bluegrass beatl love pop romanc',\n",
       " 'project the week june blog silver gold forex',\n",
       " 'dayshappi dayseventyseven day happi love lifequot life',\n",
       " 'littl brother ha higher toler alcohol than lol',\n",
       " 'wish thi guy bihday blaze say the spit imag',\n",
       " 'thank for hike trail thank posit',\n",
       " 'all pay meet tackl movi which uncov problem don want the world know',\n",
       " 'chill relax piano music keep your pet quiet and dure juli firework',\n",
       " 'you might libtard libtard sjw liber polit',\n",
       " 'noth say merica like that tweet',\n",
       " 'alway paratyphoid',\n",
       " 'today lost thevoic sister senselessli sing for love not death peopl stoptheh ripchristina',\n",
       " 'some guy too concern about their twitter brand honest with their follow',\n",
       " 'hate like famili wa realli born into big ass toxic bomb mother fucker don give fuck about cuz got money',\n",
       " 'get get get enjoy music today free app free music',\n",
       " 'best lawofattract resourc for heal altwaystoh healthi idwp',\n",
       " 'trump chair make racist remark about michel obama fyi tcot',\n",
       " 'are you fan thi should make you',\n",
       " 'music therapi tool for heal altwaystoh healthi',\n",
       " 'how can food make famili fight mxm',\n",
       " 'delici sangria salud cheer smile the pub pembrok',\n",
       " 'have fabul weekend beauti soul nofilt',\n",
       " 'when feel overwhelm and look down and see million reason happi again love you craig',\n",
       " 'back the day job for shane lowri',\n",
       " 'hour right now bottl amp drink from chippewa buffalo',\n",
       " 'ana nimra farishta mawia khushal the number mark obtain too damn high',\n",
       " 'monday empti without the bachelorett thebachelorett empti nowin',\n",
       " 'suppo famili god chivalri tradit and pride one heritag now controversi',\n",
       " 'the pic say otherwis for young girl confin that kitchen you are void mean beyond cheap public topoli',\n",
       " 'good night faith ever vaitacacommafiasdv',\n",
       " 'what you love simpli for the love love success work busi',\n",
       " 'lunchtim with mom torrington lunch afterschool instadaili yummi withmom',\n",
       " 'sister ain even know wa watch her argu with the nigga wa wait for him too say the wrong shit',\n",
       " 'ride out ride back done cycl sunset ride bike fit cardio dese',\n",
       " 'well wa gonna see adtr with bae',\n",
       " 'tagsforlik food friend summer swag quot love god girl weekend polaroid followm teen win job',\n",
       " 'payintheusa polar bear climb race angri polar bear climb race the polar bear live cold place',\n",
       " 'healthi fam',\n",
       " 'dream palac can move alreadi stellar girl dreami goodmorn day',\n",
       " 'wait for follow sinc the factor',\n",
       " 'but your fault you have use pointscor',\n",
       " 'thi week sta off kinda lame but get better yay wednesdaywisdom',\n",
       " 'forev young man luk too hot wen temper alwi fan till lst breath',\n",
       " 'don worri bee',\n",
       " 'doubl tap and follow beauti smooth lifestyl skin instas fashion',\n",
       " 'lawofattract for heal loa healthi well idwp',\n",
       " 'oil turn flat eye eia inventori data for fuher direct blog silver gold forex',\n",
       " 'train new employe fun newblood',\n",
       " 'first bihday our puppi elois sweetbabin dog growingup cute bihdaygirl',\n",
       " 'pig burn aliv saskatchewan barn fire video',\n",
       " 'you never convinc that american have the right bear these prayfororlando guncontrol',\n",
       " 'with beauti ladi bless know them smile lovethem',\n",
       " 'today baba siddiqu ifftar pay mumbai amp dono ayeng see both again',\n",
       " 'hand ombr blue',\n",
       " 'can wait see warcraft ugh warcraft',\n",
       " 'cousin reunit famili fun well',\n",
       " 'for audienc with duan henri should veri insight',\n",
       " 'train hasn move bing tweet',\n",
       " 'have lover stop be angri visit lover friend astrolog love',\n",
       " 'when you block troll becaus you promis blacklivesmatt amp let hi nonsens rant boo',\n",
       " 'father day all the dad here and the one that are heaven',\n",
       " 'sdl june',\n",
       " 'how creepi awesom are these baboon climb the fire escap like human summev zoo',\n",
       " 'use the power your mind heal your bodi altwaystoh healthi',\n",
       " 'dude tiger roar tiger annaswelshzoo bihdaycelebr',\n",
       " 'don laugh becaus happi becaus laugh william jame xtra',\n",
       " 'have happi sunday everyon think today go good day positivevib sunshin sunday',\n",
       " 'can talk about the way which organ dehuman and how they never held account',\n",
       " 'stuck the rat race find your freedom masterkeyexperi',\n",
       " 'have studi face pizza stole roommat idea for take thi pic',\n",
       " 'dinner with sister sisteradventur sister ilovemysist',\n",
       " 'who els plan watch tomorrow',\n",
       " 'usn rifl day snow out closest ever got navi',\n",
       " 'euro bbc pundit make their predict for franc euro sta today',\n",
       " 'becaus happi happi minion',\n",
       " 'elder scroll for mani year wah wah bethesda',\n",
       " 'poor tiggi and littl bit cheeki jax amp soa throwbackthursday',\n",
       " 'cannot wait for eurogam thi year pump eurogam',\n",
       " 'veri work with russel beckwith soon staytun friend lyle tapfoag',\n",
       " 'whi the nazi studi american race law for inspir ushistori eugen',\n",
       " 'share ice cream sun love outdoor picnic summer famili daughter father dess icecream',\n",
       " 'noth like river island sale shop spree cheer you retailtherapi riverisland shoppingqueen alwayscheersyouup',\n",
       " 'clean hous and zo ziy laundri final free from fever and cold happi clean laundryday',\n",
       " 'new list are ebay woohoo sell sell buy shop shop',\n",
       " 'thank for challeng thank posit',\n",
       " 'chill night with ice cream amp grown chill',\n",
       " 'biher absolut origin hate bigotri altright hatr our african american potu theresist',\n",
       " 'sweet instagood idola idol followm selfi',\n",
       " 'all these tragedi america first with the kill christinagrimmi and now orlando america not safe place today',\n",
       " 'brexit angst factor help drive down interest rate germani and japan bbh blog silver gold',\n",
       " 'fab amp interest day eacbpm now dash quiet place dial into iiba emea region meet busi',\n",
       " 'kayak sup snorkel swim whatev your pleasur put togeth alohabeachbu hawaii explor',\n",
       " 'can hold man down for year and watch him chang over some hear say loyalti',\n",
       " 'back go tacloban now see later great travel tacloban citi from catbalogan',\n",
       " 'how you feel about that you haven won ani olymp medal',\n",
       " 'angri bird film download ita hdtc bird download film ita',\n",
       " 'sunday you all photo model urbex topless tit mono retweet sexi heel ace',\n",
       " 'woh offic viral arrest video wa rude not racist chief crime offic',\n",
       " 'saturday friend',\n",
       " 'yayyyi friend got marri today congratul guy shegotmarri',\n",
       " 'model love take with all the time',\n",
       " 'lewi remain perfect the ranger announc are gonna stroke out',\n",
       " 'chri back soccer after miss most spring season with broken',\n",
       " 'train ticket book for opera week wale',\n",
       " 'beauti day sun fun beachpark beach park',\n",
       " 'the big screen be fit right now euro',\n",
       " 'not all love stori are happi end anim love stori not end like like',\n",
       " 'poet bull you will domin your bull and you will direct whatev you want when you sta',\n",
       " 'tranquil posit affirm',\n",
       " 'that the name ani upcom new track kpop',\n",
       " 'best essentialoil for anxieti healthi peac altwaystoh',\n",
       " 'wow some peopl children have noth better then insult peopl twitter',\n",
       " 'think mayb should have bought instead gettingold becomingbor notborderland goblizzard',\n",
       " 'the fact that album hour away from drip ha lose mind fatkidinacandystor',\n",
       " 'ryderrideu see you and cum togeth snapshot young shi kinki wet porn hot xxx horni',\n",
       " 'snapchat gabi china love girl snapchat flower instasmil instalov',\n",
       " 'brilliant posit affirm',\n",
       " 'true nigga dont look for apament they look shoe and jewelri',\n",
       " 'safe way heal your acn altwaystoh healthi heal',\n",
       " 'msgapparelstoday special father day',\n",
       " 'camp next weekend lovecamp brownwood',\n",
       " 'and grate now that affirm',\n",
       " 'forev besti karaok friend friendship love nofilt instacool instagood',\n",
       " 'absolut love thi place fantast welcom from carlo receptionist time here room request grant usual',\n",
       " 'head thealter with peculiar famili',\n",
       " 'retail sale control group like rose may dansk bank blog silver gold forex',\n",
       " 'happi father day you are love life amp the best father the world fathersday love',\n",
       " 'coolestlifehack world smallest snake motiv',\n",
       " 'thi shockingli and increasingli violent world live and the ha gun control law feel for the famili amp friend',\n",
       " 'funni simpli truestori',\n",
       " 'happi bihday brithday day holiday monday menmodel',\n",
       " 'sadden that one ha thought groom her for the posit befor ask her opinion such issu',\n",
       " 'ukrainian athlet are not grosseto for watch livestream without see them not the same',\n",
       " 'new season oitnb sta tonight oitnbseason',\n",
       " 'excit the other side the cuain for onc tonight look forward see broadway',\n",
       " 'when quay collab with say sold out noooo whyyyy loveyoudesi',\n",
       " 'final get jordan and get paid wear them too lowtop',\n",
       " 'impress posit affirm',\n",
       " 'father day all the father out there out there make happen salut all',\n",
       " 'our view from the floor nyc newyorkc myview girl wine fridaynight',\n",
       " 'discuss republican the same thing critiqu can ignor the consequ',\n",
       " 'got school tomorrow last integr',\n",
       " 'amen truth alway love bless',\n",
       " 'and the stamford kid got month for rape but that wasn boredom wa minut action',\n",
       " 'let color your life rainbow danian love colour rainbow depok',\n",
       " 'aiel aielmaharashtra rude custom care execut make want switch loyalti anoth provid irrit',\n",
       " 'teddi corpuz rocksteddi band enjoy idol omg',\n",
       " 'wow what great daughter you are send that your father right befor father day cheapshot lowblow shame',\n",
       " 'reason happi when your kid mid tantrum parent tantrum toddler calm mind strong',\n",
       " 'truth posit affirm',\n",
       " 'yup siri maco wwdc woot next did they work her listen skill',\n",
       " 'diy done dresser nicknack newelectricscrewdriv brock london',\n",
       " 'are you black amp feel like the are stomp you retweet tampa miami',\n",
       " 'that the problem onli one polic offic you need more with bigger gun and perhap one tank with soldier',\n",
       " 'father day all friend',\n",
       " 'you not with your choic thi fall you can alway write candid',\n",
       " 'end',\n",
       " 'get know the team behind the app that keep our tummi our june issu bazaarmag',\n",
       " 'actual go fish today somewher nice',\n",
       " 'how cute they both look like doll',\n",
       " 'did and',\n",
       " 'love thi vacat enjoy greec crete sabinedrift chillinn blondegirl bluedress',\n",
       " 'unreal advisor refus take payment and say wait for pcn thi custom servic when site wasnt work',\n",
       " 'gamereadi for forza horizon the what time live',\n",
       " 'life better tahiti summer life school tahiti like',\n",
       " 'know their male but thought they had vagina like video game stupidthought quot lmao',\n",
       " 'the pack wa taken and brainwash cheetah downasquadmemb treeout',\n",
       " 'japan domest corpor good price index yoy line with expect may blog silver',\n",
       " 'rememb the day when peopl bbuk went becom realiti star seem realiti star becom big brother contest',\n",
       " 'allahsoil the more familiar becom the more difficult stereotyp',\n",
       " 'good morn you want live life tie goal not peopl thing',\n",
       " 'friday fridayfeel relax bristol',\n",
       " 'day porn movi pussi pay pic',\n",
       " 'look easi till turn rap hiphop rock funni comedi pop kanyewest',\n",
       " 'banner merri christma and new year freepik decor newyear',\n",
       " 'yay thank for let know will veri happi man',\n",
       " 'exam room test tire annoy whi',\n",
       " 'best homeopath remedi for anxieti altwaystoh heal peac',\n",
       " 'rest peac christina',\n",
       " 'those bama you fool around with might rais your child ppl dont think that far advanc they just see fun whatev',\n",
       " 'anti racist codeword for antiwhit asia for the asian africa for the african white countri for everyon',\n",
       " 'periscop first god babi graduat from high school collegebound',\n",
       " 'nearli there folk nervou curiou just finalis stuff with few pointer from grainn bringiton',\n",
       " 'fellowship lifegroup',\n",
       " 'just caught myself eat chocol slice bread besid the ref realiz still didn eat dinner',\n",
       " 'you prais cleveland polic dure rnc the polic are under consent decre are white tamirric rip',\n",
       " 'best lawofattract resourc for heal altwaystoh healthi idwp',\n",
       " 'everyth you need for surfday fathersday all the dad out there from novyspo novytowel surfgear',\n",
       " 'agre',\n",
       " 'our next show monday the fiddler elbow camden look like go huge night',\n",
       " 'swim sign everywher parent weren watch year old',\n",
       " 'mitchellrattl mitchel goodson',\n",
       " 'get readi for saturday jeep run with nbjc day until showyourjeepday jeepmafia jeeplif jeep htt',\n",
       " 'attempt czech furi onli for croatia score their second',\n",
       " 'the latest dairi thank',\n",
       " 'yep grate for everyday gratitud laurasworld',\n",
       " 'had the ebook for awhil but nice have the hard copi',\n",
       " 'nba final game what more could basketbal fan ask for nbafin',\n",
       " 'that doesn prevent you from be and bigot',\n",
       " 'dear uot despit our attempt savechar regret announc that lost her tragic rip angel friend will miss',\n",
       " 'space place color blue fabricsourc finish pillow cushion use',\n",
       " 'perfect moment the day',\n",
       " 'wait for for hour come out just for autograph final walk away come out cours disappoint',\n",
       " 'fathersday gift your dad secur financi futur save insur invest',\n",
       " 'girl the world sexi matur housewif',\n",
       " 'time get happi saturday saturday weekend',\n",
       " 'awesom dad almighti father lord darl dad rip sweethea husband babi daddi son fathersday',\n",
       " 'owen footbal tornament footbal',\n",
       " 'come piss poor recept today month and struggl get signal buxton put more mast switch grumpi',\n",
       " 'excit',\n",
       " 'let troopingthecolour begin are veri bihdayyourmajesti thequeenat',\n",
       " 'work fusiona wolv last stage develop chase now',\n",
       " 'don like the blacklivesmatt slogan talk about be',\n",
       " 'littl bear bear hamster rip imissy',\n",
       " 'give hug love cat moment',\n",
       " 'your lip like fire blood like gasolin love boyfriend smile',\n",
       " 'here let thi peopl icr',\n",
       " 'life isn race allow yourself the present fun',\n",
       " 'dental testimoni from our lichfield client',\n",
       " 'thank you soo much pretti feel soo bless amp lucki plz keep shower lyk surpris like unexpect',\n",
       " 'nice susanna smile day who need fals promis fli dragon when she got ben',\n",
       " 'not back yet',\n",
       " 'got the call yesterday mom wa diagnos with stage ovarian cancer terrifi she terrifi just don know what',\n",
       " 'feminismiscanc feminismisterror feminismmuktbharat whi malevot ignor',\n",
       " 'the other side histori and our alli thi issu embarrass',\n",
       " 'fox new just come out and say bluntli one the most thing read',\n",
       " 'good morn all internationaldayofyoga yogalov yoga relax healthi posit',\n",
       " 'monkey are also declar vermin protest from bajrang dal',\n",
       " 'new plant from are here and readi for the garden garden know how',\n",
       " 'coldplay last night with fave coldplay conc hampden fave coupl cute',\n",
       " 'use the power your mind heal your bodi altwaystoh healthi peac',\n",
       " 'flagday here mine thi gorgeou texa sky householdnam takingov',\n",
       " 'aww yeah all good bing bong bing bong',\n",
       " 'ye let thi suppo openli prowar anti islam homophob rapist who advoc more same hypocrit',\n",
       " 'cat furri persiancat pixion wallpap imag',\n",
       " 'good moooooorn tgif kiss kiss friday fridayfun',\n",
       " 'enjoy everyth alreadi given you rather than alway need more bless thank',\n",
       " 'euro match schedul design franc romania all feedback appreci',\n",
       " 'for father day too should take your dad for the for will love',\n",
       " 'berlin befor and after thank you much that wa incred theriveourberlin theboss',\n",
       " 'whi listen incubu never hu nowplay sick littl world nissan live set',\n",
       " 'anderson cooper amp don lemon will not like gay be thrown off build sharia ndamend',\n",
       " 'bei field for dog walk dog',\n",
       " 'who would steal awork from boohiss',\n",
       " 'compet for list today whenrealtorscompeteyouwin callm gotheextramil',\n",
       " 'great park but total disorganis one poaventura whatajok',\n",
       " 'got news for you berni wasn win even the vote wa held last month dcvote',\n",
       " 'eur usd print new monthli top abov draghi eye blog silver gold forex',\n",
       " 'our two presidenti candid everybodi thi what devolv into elect america smh usa',\n",
       " 'poor pup anim puppi vine magic subscrib youtub vine',\n",
       " 'rare pic superstar with bihday sivakoratala',\n",
       " 'and how and move just outsid downtown and neither you offer better than mbp',\n",
       " 'wish all the dad happi father day dad fathersday intellicr',\n",
       " 'met thi girl yr ago onlin gay friend doe she look like thi when she didn',\n",
       " 'that face say all pwcproud',\n",
       " 'love instagood tbt cute beauti followm',\n",
       " 'enjoy thi weekend with your famili your home happi weekend dear friend weekend famili home',\n",
       " 'anoth senseless tragedi tragic puls orlandostaystrong thoughtsandpray',\n",
       " 'love yrkkh frm the bottom hea frm the day stare amp what get return uglyspat',\n",
       " 'captain felix rutland water the littl boat behind about veri grand adventur',\n",
       " 'bing watch seri thekil complet avoid footbal',\n",
       " 'quot jeremi corbyn here here here fuck',\n",
       " 'happi travel time instamood moment love mylif russian girl model like',\n",
       " 'porn vid wwwsmallgirlsexcom',\n",
       " 'tuesday jacki quot taketim what make your soul enjoylif smile believ dream havefun',\n",
       " 'home sweet home what call edinburgh sinc move there year ago scotland homesweethom famili',\n",
       " 'play england russia marseil what did they expect high risk game and plenti time drink',\n",
       " 'aww yeah all good bing bong bing bong',\n",
       " 'thank for sweater weather thank posit',\n",
       " 'haunt atmospher studiotim',\n",
       " 'becom fan doe not give the right critic the person life idol',\n",
       " 'the latest obsidian radio daili thank latesnew',\n",
       " 'mind blown learn much thi googl form workshop cfisdrrr',\n",
       " 'sexi prettypussi sexybbw realmvp',\n",
       " 'back after traumat few month damag not bad thought proof the plan work onward amp upward excit',\n",
       " 'you might libtard libtard sjw liber polit',\n",
       " 'just more overwhelm evid that the compani trump keep echo hi sentiment amp ideal dumptrump',\n",
       " 'most all femal beef out over these commun dick ass nigga',\n",
       " 'peopl like you alreadi forgot and nah not that just new name are made hashtag weekli basi',\n",
       " 'how have the answer',\n",
       " 'cherri color symbol warm and posit energi necklac price a stone gift amaz beauti',\n",
       " 'can wait for the season begin lfc ynwa englishpremierleagu',\n",
       " 'happi father day all dad except rogergoodel fathersday goodellsuck',\n",
       " 'orb independ brexit poll show leav vote ahead gbp usd slump blog silver gold forex',\n",
       " 'washout flood good take and all set for anoth day golf',\n",
       " 'ever sinc zayn left they never been the same',\n",
       " 'happi father day lovey fathersday sunday father daddi day',\n",
       " 'big shock monday need find new home yeah found dream cottag tuesday',\n",
       " 'save thousand free search login broker actor seeklearn stafresh',\n",
       " 'actual order kyli lip kit',\n",
       " 'hope the famili made arrang make sure that bastard can get access',\n",
       " 'socialmedia firm build nuclear reactor india',\n",
       " 'smaphon bull you will domin your bull and you will direct whatev you want when',\n",
       " 'lifeisbeauti loveit workhard trainhard matter where you bless fitlif',\n",
       " 'oscar tabarez talk lui suarez angri reaction spo dure lui oscar',\n",
       " 'now play njoyhit hitmusicst eur join nice nyc',\n",
       " 'onli week and personaltrain full time will have new slot avail from june pl spread',\n",
       " 'mother can take care ten children but sometim ten children cant take care their mother',\n",
       " 'thank for good night sleep thank posit',\n",
       " 'now play the bride nocturn melancholi melancholymus',\n",
       " 'tvk fathersday father day all tatay daddi enjoy wath tha voic kid',\n",
       " 'thank for friend thank posit',\n",
       " 'thank for mason jar thank posit',\n",
       " 'nigger lifelesson white kid who grew the blogpost whitepeopl respect',\n",
       " 'congrat for',\n",
       " 'via jt love sinkthepink music instagay celebspot',\n",
       " 'readi for ccmf mychurch frontrow upshow',\n",
       " 'how utterli peopl with incur stupid africa albino kill malawi spark educ campaign',\n",
       " 'gold off high back around blog silver gold forex',\n",
       " 'shock event orlando now will the usa review their gun law more innoc have die first horrif unforgiv',\n",
       " 'knowledg posit affirm',\n",
       " 'with sister instatravel instamo igdaili instagramhub instagood instalik',\n",
       " 'feel lone and',\n",
       " 'girliguessimwithh tag the saddest represent how peopl feel they are now forc vote for her',\n",
       " 'the factor doe your mobil app make the want more factor click download aric whitepap',\n",
       " 'meanwhil googl violat free speech will',\n",
       " 'happi work confer right mindset lead cultur develop organ work mindset',\n",
       " 'rochest attack bull chase when you leav the lot despit the fact that you strong sourc',\n",
       " 'the competit',\n",
       " 'tattoosleev gorilla simul you need adapt the environ the need tear the citi',\n",
       " 'ima cri for few hour brb',\n",
       " 'tell sorrow the river that the river taught how flow without the complain sepatu dahlan philosophi proverb',\n",
       " 'thank for memori thank posit',\n",
       " 'you sure are nasti piec work lmao',\n",
       " 'today perfect day happi lifecoach reinventimposs',\n",
       " 'after sex over sex nake women',\n",
       " 'thank for cocktail thank posit',\n",
       " 'dont wait outsid thepeel work homophob taxi driver guy kiss there gay melbourn cab',\n",
       " 'guess one want let the resid spring street know they wouldn abl leav for few hour today',\n",
       " 'great morn deborah smile and kind day',\n",
       " 'window split screen browser customcasetab noedit',\n",
       " 'peopl use tragedi like thi fuel their hate agenda toward entir group peopl and that the opposit help',\n",
       " 'taeyeon unni fire btw realli hope that her album cover not yellow lol whi',\n",
       " 'john mica how the hell are peopl like you elect totalpolitician outoftouch disgrac',\n",
       " 'noth make dad happier than tasti meal fathersday',\n",
       " 'the truth about suicid rate young blackboy',\n",
       " 'happi sunday homesweethom amaz love istanbul girl beauti instalik',\n",
       " 'she block least have love island look forward sunday',\n",
       " 'now play suzann ciani clock the morn music song',\n",
       " 'swing swing mybabygirl babi littlegirl park love cute',\n",
       " 'help bubbl attack winter bathtim cozi',\n",
       " 'move posit affirm',\n",
       " 'the thing matter how mani law and regul there are with gun peopl will still find way get their hand them',\n",
       " 'sunflow natur garden photograpi qualiti print amp card',\n",
       " 'didnt stay for long had emerg home daughter wa not well soo had rush home and miss set',\n",
       " 'great insight trust profess emea growth hack confer growthwithhubspot',\n",
       " 'carolyn cooper ugli poor ignor and black',\n",
       " 'franklin dog the sunshin dogsoftwitt',\n",
       " 'perfect day buy real furnitur hike for dinner for dess sleepnumb bonustolongrest dnd',\n",
       " 'happi face love smile satisfi hair workit smile face',\n",
       " 'love you sunday weekend selfi longhair girl selfporait love',\n",
       " 'natur perfect bull hill climb you have reach the target complet the task surviv with str',\n",
       " 'model love take with all the time',\n",
       " 'orlando gay men angri they can amp donat blood after massacr',\n",
       " 'golinglob golinuntern fresh air trail run and soul keep the golinuntern life balanc',\n",
       " 'monro amp nick best friend amp rosale amp addi and now kelli amp babymonrosal grimm famili nadalind',\n",
       " 'lie hillari would call secur inquiri liber are like mind one eat shit then all them eat shit',\n",
       " 'you know what find incred disrespect take person call dure meet frustrat',\n",
       " 'date night friday pub ilovehim instagay beer billi burnet',\n",
       " 'wish would make their phone the damn screen don shatter they cost arm and leg and still gotta pay fix',\n",
       " 'thi hea wrench what would the state the mother when she know her son about die',\n",
       " 'how time fli less than week until the brilliant lead our summer confer',\n",
       " 'fruit time fruit dess instamo photooftheday yvr sweet vancitybuzz',\n",
       " 'sad one',\n",
       " 'sirf ashiq log follow karen iqbal galib wasi faraz mohsin full poetri add follow',\n",
       " 'minut armaanamaalontkss',\n",
       " 'thank god for the royal becaus without kansa citi right down there with cleveland disgrac',\n",
       " 'will get see favorit person tmrrw',\n",
       " 'latina buffalo simul buffalo for you take the vicin their home thi way you',\n",
       " 'what world live orlando',\n",
       " 'now the vacat ha begun triathlet triathlon coach vacat fearless rul htt',\n",
       " 'bit heabreak too reflect',\n",
       " 'peac way sta the morn befor the daili chao begin gratitud',\n",
       " 'hardcor girl video birday sex xxx',\n",
       " 'takalot book order arriv time for long weekend away the bush bengreenfield',\n",
       " 'saysometh bull you will domin your bull and you will direct whatev you want when',\n",
       " 'steph san kana your are badli need pleas',\n",
       " 'anoth hand amp feet complet berachah you are the best amp tire',\n",
       " 'way over ctf have book talk with the inmat paicip the book club program slugg',\n",
       " 'readi for thi awesom beat cool danc edm hous goodmus mad',\n",
       " 'jpi neg extern environ remain suppoiv mufg blog silver gold forex',\n",
       " 'mkf collect jasmin and moira crossbodi bag wednesday',\n",
       " 'current out eat steakandshak and been here for minut and not gotten the shake order not',\n",
       " 'gray veri sad color make feel grayneedstogo',\n",
       " 'difficult road often lead beauti destin anon leadership inspir quot inspir',\n",
       " 'usd long posit ad eur sho increas anz blog silver gold forex',\n",
       " 'rockallday for day nois',\n",
       " 'wa definit mexican fakenewsal',\n",
       " 'when the new album be releas about and your break loveherbreakup hotgoss',\n",
       " 'stand racism and hate americad not curs out congress and all hater who are deplor hate',\n",
       " 'you are sunshin onli sunshin you make when sky are gray',\n",
       " 'someth want say someth that make happi game gamer xboxon playstat',\n",
       " 'the footbal actual the onli thing that watchabl bringbackgladi',\n",
       " 'happi hump day humpday life lifestyl wednesday midweek snapchat walru funni',\n",
       " 'let just say love be',\n",
       " 'don worri happi via archiveday weekendblogshar happi quot tshi',\n",
       " 'becaus great thing never came from comfo zone goodtogreat inspirem love',\n",
       " 'happi puppi london puppi thursdaymotiv',\n",
       " 'don know where you go but you have room for one more troubl soul draw blackandwhit',\n",
       " 'recommend these dark amp romanc horror moviegenr ambianc',\n",
       " 'trump use hate and putin win the white hous trump press attack khan famili and leader',\n",
       " 'one bucket list item tick tonight final saw ice cube live tonight wildlifefestiv today wa good day',\n",
       " 'friend magic potion ewabeach magicalhappydrink ewa beach hous',\n",
       " 'everytim wear soccer shi joie fri and say look mexican fuck',\n",
       " 'been weird few month but final feel more posit about life late pleasedontchang',\n",
       " 'check holiday croatia daystogo',\n",
       " 'night sweet dream',\n",
       " 'nyc seven day newyork newyorkc travel bigappl',\n",
       " 'life what you make let make motiv',\n",
       " 'fashionblog rooster simul want climb the vast expans mountain reach the leakag coc',\n",
       " 'the best mood ever becauseofhim inlov',\n",
       " 'happi don worri smile love iminlov iam nice day',\n",
       " 'monaco resto chezedgard grandprixf essai sun lewissuppo amour love',\n",
       " 'just bought launch use design think amp via toread letsmak',\n",
       " 'sukhbir badal announc more offic bearer eastcoast zone canada',\n",
       " 'mad that chose snake over zedd edc',\n",
       " 'mango wood lett gbp get here shop cool home fun',\n",
       " 'the danger white liber oveurn appli liber men and femin too',\n",
       " 'truli truli pathet mani way noth learn from the coverin',\n",
       " 'monday morn work the lake scottieandrussel work love picoftheday',\n",
       " 'love thi rain hope hang around while rain water tbt weather bribieisland',\n",
       " 'you have chosen the wrong hors and unless you chang your mind soon will the end your polit career',\n",
       " 'wed are impoant becaus they celebr life and possibl ann hathaway wed love',\n",
       " 'icymi shoot orlando nightclub kill about polic say debelop gun',\n",
       " 'snatch some these thi past week schoolsuppli',\n",
       " 'great aicl right the money starspangledbann slaveri apaheid usa',\n",
       " 'babi wa born welcom new world cat babiescat cat newborn congratul',\n",
       " 'pretend when you pain just exampl how strong you are person nighti',\n",
       " 'even dear cuti',\n",
       " 'it all about mental our cultur mentalhealth',\n",
       " 'wish all veri weekend',\n",
       " 'thank for freezer thank posit',\n",
       " 'readi for full day html from cssday',\n",
       " 'bihday cake made for mom bihday mom fondant pumpkin chocol delici beauti amaz',\n",
       " 'thank you the power social media aand',\n",
       " 'thi made smile bigbang babi cto',\n",
       " 'send good vibe your way happi friday tgifriday goodvibesonli becauseimhappi smilemor',\n",
       " 'letsgo agent tooeasi more day till dlc know gamingforeveryon',\n",
       " 'holi citi tissu',\n",
       " 'how old your mom bihday',\n",
       " 'what did you decid fowoh goldenretriev lcck comfodog workingdog',\n",
       " 'get him angri muslim assassin not much',\n",
       " 'out hereeee ericprydz edc music musiclif edm danc girl',\n",
       " 'funni thing about humankind watch the news feel bad etc then back open for busi usual not good the futur',\n",
       " 'and you keep tell that onli aryan are allow rape women you just troll eod',\n",
       " 'speechless when come all the shoot recent guess peopl have noth lose and don have ani respect',\n",
       " 'forecast the beauti wave raalhugandu ha disappear due construct the bridg amp there hope com',\n",
       " 'ani minut trump will condemn the vile bigot comment hi surrog carlpaladino endhat',\n",
       " 'wish all wonder dad father day let rock today red rascal',\n",
       " 'allahsoil vp got multi million dollar bonus while averag american lost their home',\n",
       " 'love abrahamhick and lawofattract healthi heal joytrain',\n",
       " 'model love take with all the time',\n",
       " 'sign for first bikram yoga class',\n",
       " 'think thought and they will shine from your face like sun beam quot smile',\n",
       " 'you want creativ worker give them enough time play success quot',\n",
       " 'hea prayer are with the orlando victim their famili and the lgbt commun',\n",
       " 'jan interest how discrimin and ha affect the crimin justic system',\n",
       " 'friend forev friend sweden reunion grate love egna hem',\n",
       " 'keep the opposit endthen',\n",
       " 'love pizza pizzaslic pizzaslic aoyama pizza yummi delicia goodtimeswithgo',\n",
       " 'two love beer craftbee dog malinoislov malinoi passion friend',\n",
       " 'abund posit affirm',\n",
       " 'fathersday father day dad skinni and singl buy thing about',\n",
       " 'rickiti rick rickiti rick the same ole broken down wagon look find the next mateen jump board',\n",
       " 'love thi citi great day cleveland home calm',\n",
       " 'guess talk about progress the advanc misogyni homophobia bigotri',\n",
       " 'teen girl kill other injur downtown oakland shoot gun mentalil gang orlando',\n",
       " 'everyon go through ani struggl pain right now keep your head and keep smile you get through hope',\n",
       " 'good even darl instagram babi bless lipstick makeup fun grate share',\n",
       " 'jake right mani ppl lack the will power take stand amp drown the small mind amp oft evil tendenc past',\n",
       " 'realli hate hipocrit politician which just about all all side deserv better citizen',\n",
       " 'where environment wellb the plan onli about site nothng todo with',\n",
       " 'bihday sway bihday sway bihday bihday',\n",
       " 'saturday morn now back sleep thetrust comus indi fade away johnmaun listen',\n",
       " 'wa founat have thi man life everi singl day father day all',\n",
       " 'gut didn know that you were here tonight would have been there good luck',\n",
       " 'begin think tom bradi hater the way goe about the man',\n",
       " 'the attack orlando ha caus lot pain mani peopl vengeanc not option are all veri let comfo each other',\n",
       " 'cute overload let your life fill with love and sweet live long marri life',\n",
       " 'head graduat mechtechplumb futureplumb proudmama',\n",
       " 'possibl for you speak ani topic without bring race into you bigot',\n",
       " 'model love take with all the time',\n",
       " 'our too much terribl news over the weekend orlando christinagrimmi prayer',\n",
       " 'more what make you innov nou',\n",
       " 'updat social analyt instalik tbt yoga summer fun',\n",
       " 'rushlimbaugh doe hi incred obama impress via',\n",
       " 'the peopl are fail our fellow citizen',\n",
       " 'sta pack for move newflat',\n",
       " 'first love may not hi but make feel like love chees shotermlongdist',\n",
       " 'just youtu bed them two and they don get now friendship',\n",
       " 'you want kind the poor sin despis anyon jesu faith believ wisdom',\n",
       " 'have nice life done tri lovequot',\n",
       " 'the latest positivementalattitud thank posit',\n",
       " 'you want spark seriou debat about gun violenc releas the photo the bodi insid the club orlandoshoot gunviol',\n",
       " 'just arriv blagoevgrad zaz conc feel under the umbrela',\n",
       " 'number our leader are come',\n",
       " 'see tcashowroom yesterday',\n",
       " 'isn mean that mean doesn like',\n",
       " 'great way spend saturday relax positivevib california cakesbytheocean',\n",
       " 'eur usd could test near term westpac blog silver gold forex',\n",
       " 'ha money campaign ask for donat midnight fight hrc buy brokedonald lyindon',\n",
       " 'today call for champagn friday fridayfeel friyay goodweek client hair',\n",
       " 'rightli gop hate trump more than obama',\n",
       " 'sunday hug',\n",
       " 'just the selfi myfriend loveh giannena smile thecomeback',\n",
       " 'that moment she decid she need more switch control life respons default',\n",
       " 'now play yiruma kiss the rain music song',\n",
       " 'simpl but true becom all are capabl be burnsurvivor dolbf motiv motiv',\n",
       " 'back who miss greatfultogod beendoinggreat selfi',\n",
       " 'not repeat not put dog hot car and leav them there the heat keep them home for fuck sake dog',\n",
       " 'what splendid nosi probabl not thi year wrc rallypoland',\n",
       " 'hour until our music video releas music edinburgh scotland band musicvideo',\n",
       " 'confirm dead accord farrah gray pulseshoot',\n",
       " 'look journey left and right foot stage',\n",
       " 'black professor make assumpt about entir race whilst speak for entir race next week the jew',\n",
       " 'back music now play michael jackson the lost children unificationsday and may god all the children amp their famili smile',\n",
       " 'drakeandjosh buffalo simul buffalo for you take the vicin their home thi',\n",
       " 'trumpusa when they call homophob misogynist they are realli say they are jealou',\n",
       " 'think you should suspend indefininetli that racist staff',\n",
       " 'she sat alon and let out sad sigh openrp bore',\n",
       " 'good morn manchest quick preview new gin that launch veri soon about thi one',\n",
       " 'tri the new trailn today although they feel veri similar the are smoother and feel great',\n",
       " 'kiki felt ignor today make kiki danc again kikid miabbook',\n",
       " 'the sourc inspir ideal lyf baba father day',\n",
       " 'congrat the thoma your new beauti home tehaleh welcom the lennar famili homeown',\n",
       " 'miss the day when friend play xbox',\n",
       " 'new case and scraggli hair',\n",
       " 'love our dincwear mum word for straight saturday brickingit',\n",
       " 'bihday sexi girl girl top boy nake',\n",
       " 'the onli one where the major fan like him salti gsw fan just need someon about',\n",
       " 'chang daili basi week until handov network team soon then',\n",
       " 'when thi come singapor',\n",
       " 'sma babi sock gbp get here shop cool home fun',\n",
       " 'like video from sjw retard want more',\n",
       " 'woh the wait doubledown wife veganbeerfest vegan',\n",
       " 'lmfao deadass',\n",
       " 'what amaz interview bjmckenzi born win bjmuzic',\n",
       " 'boasti tuesday last night boom boom and harri hype say get',\n",
       " 'bihday balayya even that age mass look craze fan screen romanc legend jaibalayya',\n",
       " 'woohoo kingsland highlandreserv hous famili build ourhom',\n",
       " 'outlin theme for would poem haha',\n",
       " 'decor buffalo simul buffalo for you take the vicin their home thi way you',\n",
       " 'sold one two paint that are go get beauti new home thi week sold',\n",
       " 'msg hope for newyear busi end endof tedtalk tedatibm',\n",
       " 'whi doe slag off children love your show but realli',\n",
       " 'safe say miss marb sit home your own watch euro listen the rain depress bringbackhappi',\n",
       " 'they have been brainwash the left who allow these terrorist come into america kill them',\n",
       " 'morn gdragon kwonjiyong jiyong vip bigbang handsom cute love',\n",
       " 'friendszxc',\n",
       " 'more day till vacat',\n",
       " 'the secret happi marriag all about find other peopl less attract and those who repo',\n",
       " 'python and concurr are not best friend all the code have restructur get concurr with celeri develop python',\n",
       " 'womenareamaz think induoev superwomen follow dowhatyoulov',\n",
       " 'hairi pussi redtub hardcor track',\n",
       " 'let the season bing begin oitnb myfavorit season weekendplan',\n",
       " 'rest peac christinagrimmi loss rip miss fan foreverinourhea',\n",
       " 'pictur woh thousand word sundayrewind hongkong travel ladi lawyer',\n",
       " 'relax inger followm follow follow follow beach pool relax enjoy coupl',\n",
       " 'countdown ha begun famili freeevent festiv enteain food stall',\n",
       " 'awesom beginn gopro mount super use',\n",
       " 'dear istor pleas don crash down due heavi overload booktim muchlov',\n",
       " 'never underestim the power good book good wine good food and great patio summereven patioweath',\n",
       " 'istg thi the best chees but dayum expens',\n",
       " 'morn offic routin will never the same without bff imi',\n",
       " 'model love take with all the time',\n",
       " 'theshallow weak attempt cash the jaw anniversari',\n",
       " 'non stop elect blame cspan for hide for year pittsburgh california',\n",
       " 'extrem reveal the first offici poster for poalorigin come thi summer',\n",
       " 'minut and count wwdc wwdc',\n",
       " 'ha play ball now the state our polit now all facad lost princip',\n",
       " 'peopl aren protest trump becaus republican won they becaus trump ha fuher amp',\n",
       " 'great day just noth but happi bless thank',\n",
       " 'have happi sunday everyon sundaymorn sunday peac love',\n",
       " 'alway help other never myself becaus other peopl matter and clearli don quot latenight',\n",
       " 'bihday weekend even better',\n",
       " 'stay strong selflov love ilovem quot quot quoteoftheday happi life wisdom wordsofwisdom',\n",
       " 'happi father day boy father sweet love memori',\n",
       " 'aww yeah all good bing bong bing bong',\n",
       " 'life most impoant for human spirit truth love give spiritu thinkbigsundaywithmarsha',\n",
       " 'the father babi love happiest father day father via',\n",
       " 'current mood about web develop meet amp hire',\n",
       " 'you know you get old when you sta get turn look poweool amp',\n",
       " 'project busi hand are happi hand',\n",
       " 'bride woman with fine prospect happi behind her ambros bierc wed love',\n",
       " 'friday xoxosamantha via',\n",
       " 'stop rob innoc custom their hard earn aiim which you guy have idea how dey manag recharg',\n",
       " 'grab your besti amp swing for hour miss you fun eat',\n",
       " 'not opinion racism degrad peopl base race justifi discrimin open violenc against them stoprac',\n",
       " 'final move today',\n",
       " 'and way can say blogger vlogger',\n",
       " 'yay fantast for edinburgh',\n",
       " 'lemm find out have put boiler the month june',\n",
       " 'hea goe out the famili those peopl kill the massacr orlando',\n",
       " 'pre gig drink passthecourvoisi',\n",
       " 'rescu pup meet rexi rescuepup rexi pupsofsg suicidegirl beauti puppylov',\n",
       " 'these video will get you excit for the futur tech augment futur mobil',\n",
       " 'congrat wish come true work with superxcit for the song',\n",
       " 'wish were',\n",
       " 'hellosunday hope you all have beauti sunday sundayfunday sunnday',\n",
       " 'onc did that gif did listen thi song sinc age',\n",
       " 'nzd usd rise eye gdt price index and fomc statement blog silver gold forex',\n",
       " 'how true home food consid cheap meal impress are made restaur',\n",
       " 'happi bihday one the west greatest tupac shakur bihday rip tupac',\n",
       " 'live your life',\n",
       " 'hr motionpost reveal mupparimanam feel nervou stay tune',\n",
       " 'had littl tast wa for sure',\n",
       " 'appletstag compleanno toa cake famili bday selfi smile girl summer',\n",
       " 'anim anim tree friend tag anim fana pixiv happi tree',\n",
       " 'happi wed anniversari amaz husband memori year lotstocom love',\n",
       " 'after slow sta had product day get back into routin after bout fatigu and flareup hard spoonieproblem',\n",
       " 'love ramdan and fast love the iftar feel and love the way feel dure ramadan with pray and read quran bless',\n",
       " 'eur gbp subdu trade action around blog silver gold forex',\n",
       " 'with ngitingtagumpay',\n",
       " 'unusu cloudi day elect day and picnic with friend sunday everyon welcomeludovica',\n",
       " 'cloudchas gorilla simul you need adapt the environ the need tear the citi mat',\n",
       " 'christ aliv you vlicob xoxo love grace amen share passion church life',\n",
       " 'want leak udta punjab probe suspect polit job jobsearch chandigarh maker udt',\n",
       " 'yesterday ozen restaur eatallyoucan',\n",
       " 'can alreadi tell that next week episod gonna give intens anxieti nervou gameofthron',\n",
       " 'you got noth say you assum that ahahahahahah',\n",
       " 'just ordinari girl intruduceyourself',\n",
       " 'may light triumph over dark may thi ramadan bring peac harmoni and joy ramadan ramadankareem',\n",
       " 'ani els notic most the suppoer pageant girl year intern femal oppress system',\n",
       " 'reason that optimist rule the world success growth balanc optim',\n",
       " 'hate onlin applic becaus you don even get your foot the door befor they tell you don need you',\n",
       " 'thank for flower thank posit',\n",
       " 'top off crappi day not sign paper for hous pop conc block from work amp didn know',\n",
       " 'beauti love live the beach beach loveit',\n",
       " 'omg bitch knew you wa gone lil kim actual look like music video',\n",
       " 'tgif gamedev indiedev indiegamedev squad',\n",
       " 'man even have bunch coupon too',\n",
       " 'way sta the day goodmorn',\n",
       " 'lking forward our water hole watchtow foress',\n",
       " 'allahsoil the next best seller book isi islam world word terrorist gwot',\n",
       " 'thi fantast rub for steak yum thespicesndteaexchang healthi',\n",
       " 'followm touch tit',\n",
       " 'feel like summer love like live life enjoy healthi sun tan bikini summer',\n",
       " 'teenageson reckon that gone beyond the call duti with fathersday prezzi',\n",
       " 'don forget research show that sexist men have psycholog problem tuckercarlson',\n",
       " 'nice ani specif pedagog chang',\n",
       " 'typic citi fan',\n",
       " 'not attract asian ppl not asian what tell you not attract not ins race here hoe',\n",
       " 'awlrit mol jealou better than be cricket pitch all life getalif',\n",
       " 'prayer out eddi and hi famili',\n",
       " 'nothappi carer finish one week',\n",
       " 'closeencount the fatkind fatkid dese sick tire maybemono',\n",
       " 'gymmorgon gym morn strength energi train wingym',\n",
       " 'glad all arriv safe',\n",
       " 'who defin histor oppress histor oppressor privileg',\n",
       " 'are you realli just pretend truthseek empower selfimprov heal ihearadio',\n",
       " 'final found way how delet old tweet you might find use well deletetweet',\n",
       " 'what view oregon poland usa unitedst holiday produc hous',\n",
       " 'have you put your vote yet you havent and share can see what make you smile poll',\n",
       " 'next chapter life sta soon look hous today with fianc',\n",
       " ...]"
      ]
     },
     "execution_count": 202,
     "metadata": {},
     "output_type": "execute_result"
    }
   ],
   "source": [
    "cleaned_tweet"
   ]
  },
  {
   "cell_type": "code",
   "execution_count": 203,
   "metadata": {},
   "outputs": [],
   "source": [
    " from sklearn.feature_extraction.text import CountVectorizer"
   ]
  },
  {
   "cell_type": "code",
   "execution_count": 204,
   "metadata": {},
   "outputs": [],
   "source": [
    "bow_vectorizer= CountVectorizer(max_df=0.90, min_df=2, stop_words='english')"
   ]
  },
  {
   "cell_type": "code",
   "execution_count": 205,
   "metadata": {},
   "outputs": [],
   "source": [
    "bow = bow_vectorizer.fit_transform(list(cleaned_tweet))"
   ]
  },
  {
   "cell_type": "code",
   "execution_count": 222,
   "metadata": {},
   "outputs": [
    {
     "data": {
      "text/plain": [
       "(49159, 15145)"
      ]
     },
     "execution_count": 222,
     "metadata": {},
     "output_type": "execute_result"
    }
   ],
   "source": [
    "bow.shape"
   ]
  },
  {
   "cell_type": "code",
   "execution_count": 207,
   "metadata": {},
   "outputs": [],
   "source": [
    "bow_train=bow[:31962]\n",
    "bow_test=bow[31962:]"
   ]
  },
  {
   "cell_type": "code",
   "execution_count": 208,
   "metadata": {},
   "outputs": [],
   "source": [
    "from sklearn.model_selection import train_test_split"
   ]
  },
  {
   "cell_type": "code",
   "execution_count": 209,
   "metadata": {},
   "outputs": [],
   "source": [
    "x_train_bow,x_test_bow, y_train,y_test = train_test_split(bow_train,tweet_label, test_size=0.2, random_state=1)"
   ]
  },
  {
   "cell_type": "code",
   "execution_count": 210,
   "metadata": {},
   "outputs": [],
   "source": [
    "from sklearn.naive_bayes import MultinomialNB, GaussianNB"
   ]
  },
  {
   "cell_type": "code",
   "execution_count": 211,
   "metadata": {},
   "outputs": [
    {
     "data": {
      "text/plain": [
       "MultinomialNB(alpha=1.0, class_prior=None, fit_prior=True)"
      ]
     },
     "execution_count": 211,
     "metadata": {},
     "output_type": "execute_result"
    }
   ],
   "source": [
    "clf_tf = MultinomialNB()\n",
    "clf_tf.fit(x_train_bow,y_train)"
   ]
  },
  {
   "cell_type": "code",
   "execution_count": 212,
   "metadata": {},
   "outputs": [],
   "source": [
    "test_pred=clf_tf.predict(x_test_bow)"
   ]
  },
  {
   "cell_type": "code",
   "execution_count": 213,
   "metadata": {},
   "outputs": [],
   "source": [
    "from sklearn import metrics\n",
    "from sklearn.metrics import confusion_matrix"
   ]
  },
  {
   "cell_type": "code",
   "execution_count": 214,
   "metadata": {},
   "outputs": [
    {
     "data": {
      "text/plain": [
       "0.9486938839355545"
      ]
     },
     "execution_count": 214,
     "metadata": {},
     "output_type": "execute_result"
    }
   ],
   "source": [
    "metrics.accuracy_score(test_pred,y_test)"
   ]
  },
  {
   "cell_type": "code",
   "execution_count": 215,
   "metadata": {},
   "outputs": [
    {
     "data": {
      "text/plain": [
       "array([[5778,  146],\n",
       "       [ 182,  287]], dtype=int64)"
      ]
     },
     "execution_count": 215,
     "metadata": {},
     "output_type": "execute_result"
    }
   ],
   "source": [
    "confusion_matrix(test_pred,y_test)"
   ]
  },
  {
   "cell_type": "code",
   "execution_count": 216,
   "metadata": {},
   "outputs": [],
   "source": [
    "from sklearn.model_selection import GridSearchCV, StratifiedKFold\n",
    "skf = StratifiedKFold(n_splits=10)\n",
    "params = {'alpha': [0.001,0.01,0.1,0.9]}\n",
    "nb = MultinomialNB()\n",
    "gs = GridSearchCV(nb, cv=skf, param_grid=params, return_train_score=True)"
   ]
  },
  {
   "cell_type": "code",
   "execution_count": 217,
   "metadata": {},
   "outputs": [
    {
     "data": {
      "text/plain": [
       "dict_keys(['alpha', 'class_prior', 'fit_prior'])"
      ]
     },
     "execution_count": 217,
     "metadata": {},
     "output_type": "execute_result"
    }
   ],
   "source": [
    "gs.fit(x_train_bow,y_train)\n",
    "nb.get_params().keys()"
   ]
  },
  {
   "cell_type": "code",
   "execution_count": 218,
   "metadata": {},
   "outputs": [
    {
     "data": {
      "text/plain": [
       "MultinomialNB(alpha=0.001, class_prior=None, fit_prior=True)"
      ]
     },
     "execution_count": 218,
     "metadata": {},
     "output_type": "execute_result"
    }
   ],
   "source": [
    "gs.best_estimator_"
   ]
  },
  {
   "cell_type": "code",
   "execution_count": 219,
   "metadata": {},
   "outputs": [
    {
     "data": {
      "text/plain": [
       "MultinomialNB(alpha=0.01, class_prior=None, fit_prior=True)"
      ]
     },
     "execution_count": 219,
     "metadata": {},
     "output_type": "execute_result"
    }
   ],
   "source": [
    "clf_tf = MultinomialNB(alpha=0.01)\n",
    "clf_tf.fit(x_train_bow,y_train)"
   ]
  },
  {
   "cell_type": "code",
   "execution_count": 220,
   "metadata": {},
   "outputs": [],
   "source": [
    "test_pred=clf_tf.predict(bow_test)\n",
    "test_pred=pd.DataFrame(test_pred)"
   ]
  },
  {
   "cell_type": "code",
   "execution_count": 221,
   "metadata": {},
   "outputs": [
    {
     "data": {
      "text/plain": [
       "(17197, 1)"
      ]
     },
     "execution_count": 221,
     "metadata": {},
     "output_type": "execute_result"
    }
   ],
   "source": [
    "import pandas as pd\n",
    "test_pred.to_csv('submit.csv',index=False)\n",
    "test_pred.shape"
   ]
  },
  {
   "cell_type": "code",
   "execution_count": 1159,
   "metadata": {},
   "outputs": [],
   "source": [
    "from sklearn.feature_extraction.text import TfidfVectorizer"
   ]
  },
  {
   "cell_type": "code",
   "execution_count": 429,
   "metadata": {},
   "outputs": [],
   "source": [
    "tfidf= TfidfVectorizer()"
   ]
  },
  {
   "cell_type": "code",
   "execution_count": 430,
   "metadata": {},
   "outputs": [],
   "source": [
    "tfidf= tfidf.fit_transform(list(cleaned_tweet))"
   ]
  },
  {
   "cell_type": "code",
   "execution_count": 431,
   "metadata": {},
   "outputs": [],
   "source": [
    "tfidf_train=tfidf[:31962]\n",
    "tfidf_test=tfidf[31962:]"
   ]
  },
  {
   "cell_type": "code",
   "execution_count": 301,
   "metadata": {},
   "outputs": [
    {
     "data": {
      "text/plain": [
       "<bound method csr_matrix.getrow of <17197x48678 sparse matrix of type '<class 'numpy.float64'>'\n",
       "\twith 166401 stored elements in Compressed Sparse Row format>>"
      ]
     },
     "execution_count": 301,
     "metadata": {},
     "output_type": "execute_result"
    }
   ],
   "source": [
    "tfidf_test.getrow"
   ]
  },
  {
   "cell_type": "code",
   "execution_count": 264,
   "metadata": {},
   "outputs": [
    {
     "ename": "MemoryError",
     "evalue": "",
     "output_type": "error",
     "traceback": [
      "\u001b[1;31m---------------------------------------------------------------------------\u001b[0m",
      "\u001b[1;31mMemoryError\u001b[0m                               Traceback (most recent call last)",
      "\u001b[1;32m<ipython-input-264-829218d767ca>\u001b[0m in \u001b[0;36m<module>\u001b[1;34m()\u001b[0m\n\u001b[1;32m----> 1\u001b[1;33m \u001b[0mx_tf\u001b[0m\u001b[1;33m=\u001b[0m\u001b[0mpd\u001b[0m\u001b[1;33m.\u001b[0m\u001b[0mDataFrame\u001b[0m\u001b[1;33m(\u001b[0m\u001b[0mtfidf_train\u001b[0m\u001b[1;33m.\u001b[0m\u001b[0mtoarray\u001b[0m\u001b[1;33m(\u001b[0m\u001b[1;33m)\u001b[0m\u001b[1;33m,\u001b[0m\u001b[0mcolumns\u001b[0m\u001b[1;33m=\u001b[0m\u001b[0mtfidf_train\u001b[0m\u001b[1;33m.\u001b[0m\u001b[0mget_feature_names\u001b[0m\u001b[1;33m(\u001b[0m\u001b[1;33m)\u001b[0m\u001b[1;33m)\u001b[0m\u001b[1;33m\u001b[0m\u001b[0m\n\u001b[0m",
      "\u001b[1;32mC:\\Amrendra\\Anaconda\\lib\\site-packages\\scipy\\sparse\\compressed.py\u001b[0m in \u001b[0;36mtoarray\u001b[1;34m(self, order, out)\u001b[0m\n\u001b[0;32m    945\u001b[0m         \u001b[1;32mif\u001b[0m \u001b[0mout\u001b[0m \u001b[1;32mis\u001b[0m \u001b[1;32mNone\u001b[0m \u001b[1;32mand\u001b[0m \u001b[0morder\u001b[0m \u001b[1;32mis\u001b[0m \u001b[1;32mNone\u001b[0m\u001b[1;33m:\u001b[0m\u001b[1;33m\u001b[0m\u001b[0m\n\u001b[0;32m    946\u001b[0m             \u001b[0morder\u001b[0m \u001b[1;33m=\u001b[0m \u001b[0mself\u001b[0m\u001b[1;33m.\u001b[0m\u001b[0m_swap\u001b[0m\u001b[1;33m(\u001b[0m\u001b[1;34m'cf'\u001b[0m\u001b[1;33m)\u001b[0m\u001b[1;33m[\u001b[0m\u001b[1;36m0\u001b[0m\u001b[1;33m]\u001b[0m\u001b[1;33m\u001b[0m\u001b[0m\n\u001b[1;32m--> 947\u001b[1;33m         \u001b[0mout\u001b[0m \u001b[1;33m=\u001b[0m \u001b[0mself\u001b[0m\u001b[1;33m.\u001b[0m\u001b[0m_process_toarray_args\u001b[0m\u001b[1;33m(\u001b[0m\u001b[0morder\u001b[0m\u001b[1;33m,\u001b[0m \u001b[0mout\u001b[0m\u001b[1;33m)\u001b[0m\u001b[1;33m\u001b[0m\u001b[0m\n\u001b[0m\u001b[0;32m    948\u001b[0m         \u001b[1;32mif\u001b[0m \u001b[1;32mnot\u001b[0m \u001b[1;33m(\u001b[0m\u001b[0mout\u001b[0m\u001b[1;33m.\u001b[0m\u001b[0mflags\u001b[0m\u001b[1;33m.\u001b[0m\u001b[0mc_contiguous\u001b[0m \u001b[1;32mor\u001b[0m \u001b[0mout\u001b[0m\u001b[1;33m.\u001b[0m\u001b[0mflags\u001b[0m\u001b[1;33m.\u001b[0m\u001b[0mf_contiguous\u001b[0m\u001b[1;33m)\u001b[0m\u001b[1;33m:\u001b[0m\u001b[1;33m\u001b[0m\u001b[0m\n\u001b[0;32m    949\u001b[0m             \u001b[1;32mraise\u001b[0m \u001b[0mValueError\u001b[0m\u001b[1;33m(\u001b[0m\u001b[1;34m'Output array must be C or F contiguous'\u001b[0m\u001b[1;33m)\u001b[0m\u001b[1;33m\u001b[0m\u001b[0m\n",
      "\u001b[1;32mC:\\Amrendra\\Anaconda\\lib\\site-packages\\scipy\\sparse\\base.py\u001b[0m in \u001b[0;36m_process_toarray_args\u001b[1;34m(self, order, out)\u001b[0m\n\u001b[0;32m   1182\u001b[0m             \u001b[1;32mreturn\u001b[0m \u001b[0mout\u001b[0m\u001b[1;33m\u001b[0m\u001b[0m\n\u001b[0;32m   1183\u001b[0m         \u001b[1;32melse\u001b[0m\u001b[1;33m:\u001b[0m\u001b[1;33m\u001b[0m\u001b[0m\n\u001b[1;32m-> 1184\u001b[1;33m             \u001b[1;32mreturn\u001b[0m \u001b[0mnp\u001b[0m\u001b[1;33m.\u001b[0m\u001b[0mzeros\u001b[0m\u001b[1;33m(\u001b[0m\u001b[0mself\u001b[0m\u001b[1;33m.\u001b[0m\u001b[0mshape\u001b[0m\u001b[1;33m,\u001b[0m \u001b[0mdtype\u001b[0m\u001b[1;33m=\u001b[0m\u001b[0mself\u001b[0m\u001b[1;33m.\u001b[0m\u001b[0mdtype\u001b[0m\u001b[1;33m,\u001b[0m \u001b[0morder\u001b[0m\u001b[1;33m=\u001b[0m\u001b[0morder\u001b[0m\u001b[1;33m)\u001b[0m\u001b[1;33m\u001b[0m\u001b[0m\n\u001b[0m\u001b[0;32m   1185\u001b[0m \u001b[1;33m\u001b[0m\u001b[0m\n\u001b[0;32m   1186\u001b[0m \u001b[1;33m\u001b[0m\u001b[0m\n",
      "\u001b[1;31mMemoryError\u001b[0m: "
     ]
    }
   ],
   "source": [
    "x_tf=pd.DataFrame(tfidf_train.toarray(),columns=tfidf_train.get_feature_names())"
   ]
  },
  {
   "cell_type": "code",
   "execution_count": 432,
   "metadata": {},
   "outputs": [],
   "source": [
    "x_train_tf,x_test_tf, y_train_tf,y_test_tf = train_test_split(tfidf_train,tweet_label, test_size=0.2, random_state=3)"
   ]
  },
  {
   "cell_type": "code",
   "execution_count": 433,
   "metadata": {},
   "outputs": [
    {
     "data": {
      "text/plain": [
       "MultinomialNB(alpha=1.0, class_prior=None, fit_prior=True)"
      ]
     },
     "execution_count": 433,
     "metadata": {},
     "output_type": "execute_result"
    }
   ],
   "source": [
    "tf_idf = MultinomialNB()\n",
    "tf_idf.fit(x_train_tf,y_train_tf)\n"
   ]
  },
  {
   "cell_type": "code",
   "execution_count": 434,
   "metadata": {},
   "outputs": [
    {
     "data": {
      "text/plain": [
       "(6393, 38973)"
      ]
     },
     "execution_count": 434,
     "metadata": {},
     "output_type": "execute_result"
    }
   ],
   "source": [
    "x_test_tf.shape"
   ]
  },
  {
   "cell_type": "code",
   "execution_count": 435,
   "metadata": {},
   "outputs": [
    {
     "data": {
      "text/plain": [
       "(6393,)"
      ]
     },
     "execution_count": 435,
     "metadata": {},
     "output_type": "execute_result"
    }
   ],
   "source": [
    "tf_pred=tf_idf.predict(x_test_tf)\n",
    "tf_pred.shape"
   ]
  },
  {
   "cell_type": "code",
   "execution_count": 436,
   "metadata": {},
   "outputs": [
    {
     "data": {
      "text/plain": [
       "0.9372751446895041"
      ]
     },
     "execution_count": 436,
     "metadata": {},
     "output_type": "execute_result"
    }
   ],
   "source": [
    "metrics.accuracy_score(y_test_tf,tf_pred)"
   ]
  },
  {
   "cell_type": "code",
   "execution_count": 437,
   "metadata": {},
   "outputs": [],
   "source": [
    "test_pred_tf=tf_idf.predict(tfidf_test)"
   ]
  },
  {
   "cell_type": "code",
   "execution_count": 438,
   "metadata": {},
   "outputs": [],
   "source": [
    "test_pred_tf=pd.DataFrame(test_pred_tf)\n",
    "test_pred_tf.to_csv('submit_tf.csv',index=False)"
   ]
  },
  {
   "cell_type": "code",
   "execution_count": 316,
   "metadata": {},
   "outputs": [
    {
     "data": {
      "text/plain": [
       "(17197, 1)"
      ]
     },
     "execution_count": 316,
     "metadata": {},
     "output_type": "execute_result"
    }
   ],
   "source": [
    "test_pred_tf.shape"
   ]
  },
  {
   "cell_type": "code",
   "execution_count": 313,
   "metadata": {},
   "outputs": [
    {
     "data": {
      "text/plain": [
       "(17197, 48678)"
      ]
     },
     "execution_count": 313,
     "metadata": {},
     "output_type": "execute_result"
    }
   ],
   "source": [
    "tfidf_test.shape"
   ]
  },
  {
   "cell_type": "code",
   "execution_count": 246,
   "metadata": {},
   "outputs": [
    {
     "ename": "MemoryError",
     "evalue": "",
     "output_type": "error",
     "traceback": [
      "\u001b[1;31m---------------------------------------------------------------------------\u001b[0m",
      "\u001b[1;31mMemoryError\u001b[0m                               Traceback (most recent call last)",
      "\u001b[1;32m<ipython-input-246-9957a09aa3b9>\u001b[0m in \u001b[0;36m<module>\u001b[1;34m()\u001b[0m\n\u001b[1;32m----> 1\u001b[1;33m \u001b[0mx_train_tf\u001b[0m\u001b[1;33m.\u001b[0m\u001b[0mtoarray\u001b[0m\u001b[1;33m(\u001b[0m\u001b[1;33m)\u001b[0m\u001b[1;33m\u001b[0m\u001b[0m\n\u001b[0m",
      "\u001b[1;32mC:\\Amrendra\\Anaconda\\lib\\site-packages\\scipy\\sparse\\compressed.py\u001b[0m in \u001b[0;36mtoarray\u001b[1;34m(self, order, out)\u001b[0m\n\u001b[0;32m    945\u001b[0m         \u001b[1;32mif\u001b[0m \u001b[0mout\u001b[0m \u001b[1;32mis\u001b[0m \u001b[1;32mNone\u001b[0m \u001b[1;32mand\u001b[0m \u001b[0morder\u001b[0m \u001b[1;32mis\u001b[0m \u001b[1;32mNone\u001b[0m\u001b[1;33m:\u001b[0m\u001b[1;33m\u001b[0m\u001b[0m\n\u001b[0;32m    946\u001b[0m             \u001b[0morder\u001b[0m \u001b[1;33m=\u001b[0m \u001b[0mself\u001b[0m\u001b[1;33m.\u001b[0m\u001b[0m_swap\u001b[0m\u001b[1;33m(\u001b[0m\u001b[1;34m'cf'\u001b[0m\u001b[1;33m)\u001b[0m\u001b[1;33m[\u001b[0m\u001b[1;36m0\u001b[0m\u001b[1;33m]\u001b[0m\u001b[1;33m\u001b[0m\u001b[0m\n\u001b[1;32m--> 947\u001b[1;33m         \u001b[0mout\u001b[0m \u001b[1;33m=\u001b[0m \u001b[0mself\u001b[0m\u001b[1;33m.\u001b[0m\u001b[0m_process_toarray_args\u001b[0m\u001b[1;33m(\u001b[0m\u001b[0morder\u001b[0m\u001b[1;33m,\u001b[0m \u001b[0mout\u001b[0m\u001b[1;33m)\u001b[0m\u001b[1;33m\u001b[0m\u001b[0m\n\u001b[0m\u001b[0;32m    948\u001b[0m         \u001b[1;32mif\u001b[0m \u001b[1;32mnot\u001b[0m \u001b[1;33m(\u001b[0m\u001b[0mout\u001b[0m\u001b[1;33m.\u001b[0m\u001b[0mflags\u001b[0m\u001b[1;33m.\u001b[0m\u001b[0mc_contiguous\u001b[0m \u001b[1;32mor\u001b[0m \u001b[0mout\u001b[0m\u001b[1;33m.\u001b[0m\u001b[0mflags\u001b[0m\u001b[1;33m.\u001b[0m\u001b[0mf_contiguous\u001b[0m\u001b[1;33m)\u001b[0m\u001b[1;33m:\u001b[0m\u001b[1;33m\u001b[0m\u001b[0m\n\u001b[0;32m    949\u001b[0m             \u001b[1;32mraise\u001b[0m \u001b[0mValueError\u001b[0m\u001b[1;33m(\u001b[0m\u001b[1;34m'Output array must be C or F contiguous'\u001b[0m\u001b[1;33m)\u001b[0m\u001b[1;33m\u001b[0m\u001b[0m\n",
      "\u001b[1;32mC:\\Amrendra\\Anaconda\\lib\\site-packages\\scipy\\sparse\\base.py\u001b[0m in \u001b[0;36m_process_toarray_args\u001b[1;34m(self, order, out)\u001b[0m\n\u001b[0;32m   1182\u001b[0m             \u001b[1;32mreturn\u001b[0m \u001b[0mout\u001b[0m\u001b[1;33m\u001b[0m\u001b[0m\n\u001b[0;32m   1183\u001b[0m         \u001b[1;32melse\u001b[0m\u001b[1;33m:\u001b[0m\u001b[1;33m\u001b[0m\u001b[0m\n\u001b[1;32m-> 1184\u001b[1;33m             \u001b[1;32mreturn\u001b[0m \u001b[0mnp\u001b[0m\u001b[1;33m.\u001b[0m\u001b[0mzeros\u001b[0m\u001b[1;33m(\u001b[0m\u001b[0mself\u001b[0m\u001b[1;33m.\u001b[0m\u001b[0mshape\u001b[0m\u001b[1;33m,\u001b[0m \u001b[0mdtype\u001b[0m\u001b[1;33m=\u001b[0m\u001b[0mself\u001b[0m\u001b[1;33m.\u001b[0m\u001b[0mdtype\u001b[0m\u001b[1;33m,\u001b[0m \u001b[0morder\u001b[0m\u001b[1;33m=\u001b[0m\u001b[0morder\u001b[0m\u001b[1;33m)\u001b[0m\u001b[1;33m\u001b[0m\u001b[0m\n\u001b[0m\u001b[0;32m   1185\u001b[0m \u001b[1;33m\u001b[0m\u001b[0m\n\u001b[0;32m   1186\u001b[0m \u001b[1;33m\u001b[0m\u001b[0m\n",
      "\u001b[1;31mMemoryError\u001b[0m: "
     ]
    }
   ],
   "source": []
  },
  {
   "cell_type": "code",
   "execution_count": 251,
   "metadata": {},
   "outputs": [
    {
     "name": "stdout",
     "output_type": "stream",
     "text": [
      "[[0. 0. 0. ... 0. 0. 0.]\n",
      " [0. 0. 0. ... 0. 0. 0.]\n",
      " [0. 0. 0. ... 0. 0. 0.]\n",
      " ...\n",
      " [0. 0. 0. ... 0. 0. 0.]\n",
      " [0. 0. 0. ... 0. 0. 0.]\n",
      " [0. 0. 0. ... 0. 0. 0.]]\n"
     ]
    }
   ],
   "source": [
    "print(x_test_tf.toarray())"
   ]
  },
  {
   "cell_type": "code",
   "execution_count": 268,
   "metadata": {},
   "outputs": [
    {
     "name": "stdout",
     "output_type": "stream",
     "text": [
      "['and', 'document', 'first', 'is', 'one', 'second', 'the', 'third', 'this']\n",
      "(4, 9)\n"
     ]
    }
   ],
   "source": [
    " from sklearn.feature_extraction.text import TfidfVectorizer\n",
    "corpus = [\n",
    "     'This is the first document.',\n",
    "     'This document is the second document.',\n",
    "     'And this is the third one.',\n",
    "     'Is this the first document?',\n",
    " ]\n",
    "vectorizer = TfidfVectorizer()\n",
    "X = vectorizer.fit_transform(corpus)\n",
    "print(vectorizer.get_feature_names())\n",
    "print(X.shape)\n"
   ]
  },
  {
   "cell_type": "code",
   "execution_count": 271,
   "metadata": {},
   "outputs": [
    {
     "data": {
      "text/plain": [
       "array([[0.        , 0.46979139, 0.58028582, 0.38408524, 0.        ,\n",
       "        0.        , 0.38408524, 0.        , 0.38408524],\n",
       "       [0.        , 0.6876236 , 0.        , 0.28108867, 0.        ,\n",
       "        0.53864762, 0.28108867, 0.        , 0.28108867],\n",
       "       [0.51184851, 0.        , 0.        , 0.26710379, 0.51184851,\n",
       "        0.        , 0.26710379, 0.51184851, 0.26710379],\n",
       "       [0.        , 0.46979139, 0.58028582, 0.38408524, 0.        ,\n",
       "        0.        , 0.38408524, 0.        , 0.38408524]])"
      ]
     },
     "execution_count": 271,
     "metadata": {},
     "output_type": "execute_result"
    }
   ],
   "source": [
    "X.toarray()"
   ]
  },
  {
   "cell_type": "code",
   "execution_count": 286,
   "metadata": {},
   "outputs": [
    {
     "data": {
      "text/plain": [
       "['This is the first document.',\n",
       " 'This document is the second document.',\n",
       " 'And this is the third one.',\n",
       " 'Is this the first document?']"
      ]
     },
     "execution_count": 286,
     "metadata": {},
     "output_type": "execute_result"
    }
   ],
   "source": [
    "corpus"
   ]
  },
  {
   "cell_type": "code",
   "execution_count": null,
   "metadata": {},
   "outputs": [],
   "source": []
  }
 ],
 "metadata": {
  "kernelspec": {
   "display_name": "Python 3",
   "language": "python",
   "name": "python3"
  },
  "language_info": {
   "codemirror_mode": {
    "name": "ipython",
    "version": 3
   },
   "file_extension": ".py",
   "mimetype": "text/x-python",
   "name": "python",
   "nbconvert_exporter": "python",
   "pygments_lexer": "ipython3",
   "version": "3.6.5"
  }
 },
 "nbformat": 4,
 "nbformat_minor": 2
}
