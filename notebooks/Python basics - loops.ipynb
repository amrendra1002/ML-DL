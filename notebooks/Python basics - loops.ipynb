{
 "cells": [
  {
   "cell_type": "code",
   "execution_count": 4,
   "metadata": {},
   "outputs": [
    {
     "data": {
      "text/plain": [
       "[0, 1, 2, 3, 4]"
      ]
     },
     "execution_count": 4,
     "metadata": {},
     "output_type": "execute_result"
    }
   ],
   "source": [
    "list(range(5))"
   ]
  },
  {
   "cell_type": "code",
   "execution_count": 6,
   "metadata": {},
   "outputs": [
    {
     "data": {
      "text/plain": [
       "[1, 2, 3, 4]"
      ]
     },
     "execution_count": 6,
     "metadata": {},
     "output_type": "execute_result"
    }
   ],
   "source": [
    "list(range(1,5))"
   ]
  },
  {
   "cell_type": "code",
   "execution_count": 2,
   "metadata": {},
   "outputs": [
    {
     "data": {
      "text/plain": [
       "[1, 3]"
      ]
     },
     "execution_count": 2,
     "metadata": {},
     "output_type": "execute_result"
    }
   ],
   "source": [
    "list(range(1,5,2))"
   ]
  },
  {
   "cell_type": "code",
   "execution_count": 11,
   "metadata": {},
   "outputs": [
    {
     "name": "stdout",
     "output_type": "stream",
     "text": [
      "0\n",
      "1\n",
      "2\n",
      "3\n",
      "4\n"
     ]
    }
   ],
   "source": [
    "for i in range(5):\n",
    "    print(i)"
   ]
  },
  {
   "cell_type": "code",
   "execution_count": 12,
   "metadata": {},
   "outputs": [
    {
     "name": "stdout",
     "output_type": "stream",
     "text": [
      "0\n",
      "1\n",
      "2\n",
      "3\n",
      "4\n",
      "5\n",
      "6\n",
      "7\n",
      "8\n",
      "9\n"
     ]
    }
   ],
   "source": [
    "i=0\n",
    "while i <10:\n",
    "    print(i)\n",
    "    i = i + 1"
   ]
  },
  {
   "cell_type": "code",
   "execution_count": 22,
   "metadata": {},
   "outputs": [
    {
     "data": {
      "text/plain": [
       "0.21003173386926277"
      ]
     },
     "execution_count": 22,
     "metadata": {},
     "output_type": "execute_result"
    }
   ],
   "source": [
    "import random\n",
    "random.random()"
   ]
  },
  {
   "cell_type": "code",
   "execution_count": 57,
   "metadata": {},
   "outputs": [
    {
     "data": {
      "text/plain": [
       "[1, 2]"
      ]
     },
     "execution_count": 57,
     "metadata": {},
     "output_type": "execute_result"
    }
   ],
   "source": [
    "# randomly select two values from the list.\n",
    "random.sample([1,2,3,4,5],2)"
   ]
  },
  {
   "cell_type": "code",
   "execution_count": 58,
   "metadata": {},
   "outputs": [
    {
     "name": "stdout",
     "output_type": "stream",
     "text": [
      "Enter a value:6\n",
      "Factorial of 6 is 720\n"
     ]
    }
   ],
   "source": [
    "x= int(input('Enter a value:'))\n",
    "factorial=1\n",
    "if x < 0:\n",
    "    print('Please enter a positive number')\n",
    "elif x==0:\n",
    "    print('1')\n",
    "else:\n",
    "    for i in range(1,x+1):\n",
    "        factorial=factorial*i\n",
    "print(\"Factorial of \" + str(x) + \" is \" + str(factorial))"
   ]
  },
  {
   "cell_type": "code",
   "execution_count": null,
   "metadata": {},
   "outputs": [],
   "source": [
    "import datetime\n",
    "bday= datetime.date(1983,2,10)\n",
    "print(bday)\n",
    "#Add 100 days to bday\n",
    "delta= datetime.timedelta(100)\n",
    "print(bday+delta)\n",
    "\n",
    "print(datetime.date.today())\n",
    "print(datetime.datetime.today())\n",
    "\n",
    "#convert string to date \n",
    "date1= \"1/1/2011\"\n",
    "date2=datetime.datetime.strptime(date1,'%d/%m/%Y')\n",
    "print(date2)"
   ]
  },
  {
   "cell_type": "markdown",
   "metadata": {},
   "source": [
    "###### "
   ]
  },
  {
   "cell_type": "code",
   "execution_count": 100,
   "metadata": {},
   "outputs": [
    {
     "name": "stdout",
     "output_type": "stream",
     "text": [
      "Enter the first number:65\n",
      "Enter the second number:34\n",
      "Choose the operator: \n",
      " 1 for addition \n",
      " 2 for substraction \n",
      " 3 for multiplication\n",
      " 4 for division \n",
      "3\n",
      "The result of operation on 65 and 34 is 2210\n"
     ]
    }
   ],
   "source": [
    "#If Else conditions\n",
    "x = int(input('Enter the first number:'))\n",
    "y = int(input('Enter the second number:'))\n",
    "z = int(input('Choose the operator: \\n 1 for addition \\n 2 for substraction \\n 3 for multiplication\\n 4 for division \\n'))\n",
    "result=0\n",
    "if z==1:\n",
    "    result=x+y\n",
    "elif z==2:\n",
    "    result=x-y\n",
    "elif z==3:\n",
    "    result=x*y\n",
    "elif z==4:\n",
    "    result=x/y\n",
    "else:\n",
    "    print('Invalid choice')\n",
    "print('The result of operation on ' + str(x) + ' and ' + str(y) + ' is ' + str(result))"
   ]
  },
  {
   "cell_type": "code",
   "execution_count": 101,
   "metadata": {},
   "outputs": [
    {
     "data": {
      "text/plain": [
       "12"
      ]
     },
     "execution_count": 101,
     "metadata": {},
     "output_type": "execute_result"
    }
   ],
   "source": [
    "#Create a function\n",
    "def feet_to_inch(x):\n",
    "    return x*12\n",
    "feet_to_inch(1)"
   ]
  },
  {
   "cell_type": "code",
   "execution_count": 102,
   "metadata": {},
   "outputs": [
    {
     "data": {
      "text/plain": [
       "36"
      ]
     },
     "execution_count": 102,
     "metadata": {},
     "output_type": "execute_result"
    }
   ],
   "source": [
    "feet_to_inch(3)"
   ]
  },
  {
   "cell_type": "code",
   "execution_count": null,
   "metadata": {},
   "outputs": [],
   "source": []
  }
 ],
 "metadata": {
  "kernelspec": {
   "display_name": "Python 3",
   "language": "python",
   "name": "python3"
  },
  "language_info": {
   "codemirror_mode": {
    "name": "ipython",
    "version": 3
   },
   "file_extension": ".py",
   "mimetype": "text/x-python",
   "name": "python",
   "nbconvert_exporter": "python",
   "pygments_lexer": "ipython3",
   "version": "3.6.5"
  }
 },
 "nbformat": 4,
 "nbformat_minor": 2
}
