{
 "cells": [
  {
   "cell_type": "code",
   "execution_count": 36,
   "metadata": {},
   "outputs": [],
   "source": [
    "# -*- coding: utf-8 -*-\n",
    "\"\"\"\n",
    "Created on Tue Apr 23 16:34:52 2019\n",
    "\n",
    "@author: rajgu\n",
    "\"\"\"\n",
    "import random\n",
    "import pandas as pd\n",
    "import numpy as np\n",
    "import os\n",
    "\n",
    "import random\n",
    "random.seed(123)\n",
    "\n",
    "n=50\n",
    "os.chdir(\"D:\\My Personal Documents\\Learnings\\Data Science\\Quantam Stride\")\n",
    "df_bldng_address = pd.read_excel('Buildings_ZipCode_State.xlsx')\n",
    "\n",
    "new_df = pd.DataFrame(np.empty([n, 0]))\n",
    "new_df['BUILDING_NAME'] = ['A'+str(i) for i in range(1,n+1)]\n",
    "new_df['ANNUAL_RENTAL_COST'] = [random.randrange (10000, 5000000, 1000) for _ in range(1,n+1)]\n",
    "\n",
    "start = pd.to_datetime(\"2016-01-31\").date()\n",
    "end = pd.to_datetime(\"2025-01-31\").date()\n",
    "\n",
    "new_df['LEASE_TERMINATION_DATE'] = [start + (end - start) * random.random() for _ in range(1,n+1)]\n",
    "new_df['EARLY_TERMINATION_DATE'] = [start + (end - start) * random.random() for _ in range(1,n+1)]\n",
    "\n",
    "LEASE_TYPE_LIST = ['NET', 'GROSS', 'TRIPLE NET', 'OWNED','NET', 'GROSS', 'TRIPLE NET']\n",
    "new_df['LEASE_TYPE'] = [random.choice(LEASE_TYPE_LIST) for _ in range(1,n+1)]\n",
    "new_df.loc[new_df['LEASE_TYPE'] == 'OWNED', 'ANNUAL_RENTAL_COST'] = 0\n",
    "\n",
    "new_df['OPEX_SQFT'] = [random.randrange (10000, 500000, 1000) for _ in range(1,n+1)]\n",
    "new_df['SPACE_OCCUPANCY'] = [random.randrange (10, 2000) for _ in range(1,n+1)]\n",
    "\n",
    "new_df['SPACE_OCCUPANCY'] = [random.randrange (10, 2000) for _ in range(1,n+1)]\n",
    "new_df['ASSIGNED_OCCUPANCY'] = new_df['SPACE_OCCUPANCY'].apply( lambda x: random.randrange (9, x))\n",
    "\n",
    "new_df['AVERAGE_MOVEIN_COST'] = 100\n",
    "new_df['AVERAGE_MOVEOUT_COST'] = 100\n",
    "\n",
    "lst =list(new_df.columns.values)\n",
    "new_df = new_df.merge(df_bldng_address, how='left', on='BUILDING_NAME')\n",
    "\n",
    "lst.insert(1,'ZIPCODE')\n",
    "lst.insert(2, 'STATE')\n",
    "new_df= new_df[lst]\n",
    "#new_df.to_csv('test_data.csv', index=False)    \n",
    "new_df.to_excel('test_data.xlsx', index=False) \n",
    "\n"
   ]
  },
  {
   "cell_type": "code",
   "execution_count": null,
   "metadata": {},
   "outputs": [],
   "source": []
  }
 ],
 "metadata": {
  "kernelspec": {
   "display_name": "Python 3",
   "language": "python",
   "name": "python3"
  },
  "language_info": {
   "codemirror_mode": {
    "name": "ipython",
    "version": 3
   },
   "file_extension": ".py",
   "mimetype": "text/x-python",
   "name": "python",
   "nbconvert_exporter": "python",
   "pygments_lexer": "ipython3",
   "version": "3.6.5"
  }
 },
 "nbformat": 4,
 "nbformat_minor": 2
}
