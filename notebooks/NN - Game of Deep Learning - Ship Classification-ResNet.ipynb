{
 "cells": [
  {
   "cell_type": "markdown",
   "metadata": {},
   "source": [
    "### Classify Ship images using CNN"
   ]
  },
  {
   "cell_type": "code",
   "execution_count": 1,
   "metadata": {},
   "outputs": [
    {
     "name": "stderr",
     "output_type": "stream",
     "text": [
      "C:\\Amrendra\\Anaconda\\lib\\site-packages\\h5py\\__init__.py:36: FutureWarning: Conversion of the second argument of issubdtype from `float` to `np.floating` is deprecated. In future, it will be treated as `np.float64 == np.dtype(float).type`.\n",
      "  from ._conv import register_converters as _register_converters\n",
      "Using TensorFlow backend.\n"
     ]
    }
   ],
   "source": [
    "import pandas as pd\n",
    "import numpy as np\n",
    "import keras\n",
    "from keras.models import Sequential\n",
    "from keras.layers import Dense, Flatten, Dropout\n",
    "from keras.layers import Conv2D,MaxPooling2D\n",
    "from keras.callbacks import ModelCheckpoint\n",
    "from keras import regularizers\n",
    "from keras.layers.normalization import BatchNormalization\n",
    "from keras.utils import to_categorical\n",
    "from keras.preprocessing import image\n",
    "from sklearn.model_selection import train_test_split\n",
    "from tqdm import tqdm\n",
    "import os"
   ]
  },
  {
   "cell_type": "code",
   "execution_count": 2,
   "metadata": {},
   "outputs": [],
   "source": [
    "os.chdir(\"D:\\My Personal Documents\\Learnings\\Data Science\\Hackathan - Game of Deep Learning v1\\\\train\")"
   ]
  },
  {
   "cell_type": "code",
   "execution_count": 3,
   "metadata": {},
   "outputs": [],
   "source": [
    "train = pd.read_csv('train.csv')"
   ]
  },
  {
   "cell_type": "code",
   "execution_count": 45,
   "metadata": {},
   "outputs": [
    {
     "name": "stderr",
     "output_type": "stream",
     "text": [
      "100%|██████████████████████████████████████████████████████████████████████████| 12504/12504 [00:10<00:00, 1172.95it/s]\n"
     ]
    }
   ],
   "source": [
    "train_image = []\n",
    "for i in tqdm(range(train.shape[0])):\n",
    "    img = image.load_img('images/'+train['image'][i], target_size=(28,28,3), grayscale=False)\n",
    "    img = image.img_to_array(img)\n",
    "    #img = img/255\n",
    "    train_image.append(img)\n",
    "X = np.array(train_image)"
   ]
  },
  {
   "cell_type": "code",
   "execution_count": 3,
   "metadata": {},
   "outputs": [
    {
     "name": "stderr",
     "output_type": "stream",
     "text": [
      "C:\\Amrendra\\Anaconda\\lib\\site-packages\\keras_applications\\resnet50.py:263: UserWarning: The output shape of `ResNet50(include_top=False)` has been changed since Keras 2.2.0.\n",
      "  warnings.warn('The output shape of `ResNet50(include_top=False)` '\n"
     ]
    }
   ],
   "source": [
    "from keras.applications.resnet50 import ResNet50, preprocess_input\n",
    "\n",
    "HEIGHT = 197\n",
    "WIDTH = 197\n",
    "base_model = ResNet50(weights='imagenet', \n",
    "                      include_top=False, \n",
    "                      input_shape=(HEIGHT, WIDTH, 3))"
   ]
  },
  {
   "cell_type": "code",
   "execution_count": 4,
   "metadata": {},
   "outputs": [
    {
     "name": "stdout",
     "output_type": "stream",
     "text": [
      "Found 15 images belonging to 3 classes.\n"
     ]
    }
   ],
   "source": [
    "from keras.preprocessing.image import ImageDataGenerator\n",
    "os.chdir(\"D:\\My Personal Documents\\Learnings\\Data Science\\Hackathan - Game of Deep Learning v1\")\n",
    "TRAIN_DIR = \"ImgDir\"\n",
    "HEIGHT = 197\n",
    "WIDTH = 197\n",
    "BATCH_SIZE = 8\n",
    "\n",
    "train_datagen =  ImageDataGenerator(\n",
    "      preprocessing_function=preprocess_input,\n",
    "      rotation_range=90,\n",
    "      horizontal_flip=True,\n",
    "      vertical_flip=True\n",
    "    )\n",
    "\n",
    "train_generator = train_datagen.flow_from_directory(TRAIN_DIR, \n",
    "                                                    target_size=(HEIGHT, WIDTH), \n",
    "                                                    batch_size=BATCH_SIZE)"
   ]
  },
  {
   "cell_type": "code",
   "execution_count": 5,
   "metadata": {},
   "outputs": [],
   "source": [
    "from keras.layers import Dense, Activation, Flatten, Dropout\n",
    "from keras.models import Sequential, Model\n",
    "\n",
    "def build_finetune_model(base_model, dropout, fc_layers, num_classes):\n",
    "    for layer in base_model.layers:\n",
    "        layer.trainable = False\n",
    "\n",
    "    x = base_model.output\n",
    "    x = Flatten()(x)\n",
    "    for fc in fc_layers:\n",
    "        # New FC layer, random init\n",
    "        x = Dense(fc, activation='relu')(x) \n",
    "        x = Dropout(dropout)(x)\n",
    "\n",
    "        # New softmax layer\n",
    "\n",
    "    predictions = Dense(num_classes, activation='softmax')(x) \n",
    "    finetune_model = Model(inputs=base_model.input, outputs=predictions)\n",
    "\n",
    "    return finetune_model\n",
    "\n",
    "class_list = [\"Cargo\", \"Military\", \"Cruise\"]\n",
    "\n",
    "FC_LAYERS = [1024, 1024]\n",
    "dropout = 0.5\n",
    "\n",
    "finetune_model = build_finetune_model(base_model, \n",
    "                                      dropout=dropout, \n",
    "                                      fc_layers=FC_LAYERS, \n",
    "                                      num_classes=len(class_list))"
   ]
  },
  {
   "cell_type": "code",
   "execution_count": 10,
   "metadata": {},
   "outputs": [
    {
     "name": "stdout",
     "output_type": "stream",
     "text": [
      "Epoch 1/1\n",
      "12/12 [==============================] - ETA: 2:51 - loss: 1.0985 - acc: 0.625 - ETA: 1:50 - loss: 1.3575 - acc: 0.526 - ETA: 1:24 - loss: 1.6482 - acc: 0.494 - ETA: 1:10 - loss: 1.3860 - acc: 0.589 - ETA: 58s - loss: 1.2713 - acc: 0.585 - ETA: 49s - loss: 1.4474 - acc: 0.57 - ETA: 41s - loss: 1.4899 - acc: 0.56 - ETA: 32s - loss: 1.3575 - acc: 0.59 - ETA: 23s - loss: 1.2694 - acc: 0.61 - ETA: 15s - loss: 1.2904 - acc: 0.61 - ETA: 7s - loss: 1.4439 - acc: 0.5958 - 93s 8s/step - loss: 1.4298 - acc: 0.5984\n",
      "\n",
      "Epoch 00001: saving model to checkpoints\n"
     ]
    },
    {
     "ename": "NameError",
     "evalue": "name 'plot_training' is not defined",
     "output_type": "error",
     "traceback": [
      "\u001b[1;31m---------------------------------------------------------------------------\u001b[0m",
      "\u001b[1;31mNameError\u001b[0m                                 Traceback (most recent call last)",
      "\u001b[1;32m<ipython-input-10-6c31efb0f0da>\u001b[0m in \u001b[0;36m<module>\u001b[1;34m()\u001b[0m\n\u001b[0;32m     17\u001b[0m \u001b[1;33m\u001b[0m\u001b[0m\n\u001b[0;32m     18\u001b[0m \u001b[1;33m\u001b[0m\u001b[0m\n\u001b[1;32m---> 19\u001b[1;33m \u001b[0mplot_training\u001b[0m\u001b[1;33m(\u001b[0m\u001b[0mhistory\u001b[0m\u001b[1;33m)\u001b[0m\u001b[1;33m\u001b[0m\u001b[0m\n\u001b[0m\u001b[0;32m     20\u001b[0m \u001b[1;33m\u001b[0m\u001b[0m\n\u001b[0;32m     21\u001b[0m \u001b[1;31m# Plot the training and validation loss + accuracy\u001b[0m\u001b[1;33m\u001b[0m\u001b[1;33m\u001b[0m\u001b[0m\n",
      "\u001b[1;31mNameError\u001b[0m: name 'plot_training' is not defined"
     ]
    }
   ],
   "source": [
    "from keras.optimizers import SGD, Adam\n",
    "\n",
    "NUM_EPOCHS = 1\n",
    "BATCH_SIZE = 8\n",
    "num_train_images = 100\n",
    "adam = Adam(lr=0.00001)\n",
    "\n",
    "finetune_model.compile(adam, loss='categorical_crossentropy', metrics=['accuracy'])\n",
    "\n",
    "filepath=\"checkpoints\"\n",
    "checkpoint = ModelCheckpoint(filepath, monitor=[\"acc\"], verbose=1, mode='max')\n",
    "callbacks_list = [checkpoint]\n",
    "\n",
    "history = finetune_model.fit_generator(train_generator, epochs=NUM_EPOCHS, workers=8, \n",
    "                                       steps_per_epoch=num_train_images // BATCH_SIZE, \n",
    "                                       shuffle=True, callbacks=callbacks_list)\n",
    "\n",
    "\n",
    "plot_training(history)\n",
    "\n",
    "# Plot the training and validation loss + accuracy\n",
    "\n",
    "def plot_training(history):\n",
    "    acc = history.history['acc']\n",
    "    val_acc = history.history['val_acc']\n",
    "    loss = history.history['loss']\n",
    "    val_loss = history.history['val_loss']\n",
    "    epochs = range(len(acc))\n",
    "\n",
    "    plt.plot(epochs, acc, 'r.')\n",
    "    plt.plot(epochs, val_acc, 'r')\n",
    "    plt.title('Training and validation accuracy')\n",
    "\n",
    "    # plt.figure()\n",
    "    # plt.plot(epochs, loss, 'r.')\n",
    "    # plt.plot(epochs, val_loss, 'r-')\n",
    "   # plt.title('Training and validation loss')\n",
    "    plt.show()"
   ]
  },
  {
   "cell_type": "code",
   "execution_count": 46,
   "metadata": {},
   "outputs": [
    {
     "data": {
      "text/plain": [
       "(12504, 28, 28, 3)"
      ]
     },
     "execution_count": 46,
     "metadata": {},
     "output_type": "execute_result"
    }
   ],
   "source": [
    "finetune_model.predict()"
   ]
  },
  {
   "cell_type": "code",
   "execution_count": 47,
   "metadata": {},
   "outputs": [],
   "source": [
    "y=train['category'].values\n",
    "#y = to_categorical(y)"
   ]
  },
  {
   "cell_type": "code",
   "execution_count": 48,
   "metadata": {},
   "outputs": [],
   "source": [
    "x_train, x_test, y_train, y_test = train_test_split(X, y, random_state=42, test_size=0.2)"
   ]
  },
  {
   "cell_type": "code",
   "execution_count": 49,
   "metadata": {},
   "outputs": [
    {
     "name": "stdout",
     "output_type": "stream",
     "text": [
      "(10003, 28, 28, 3)\n",
      "(10003,)\n",
      "(2501, 28, 28, 3)\n",
      "(2501,)\n"
     ]
    }
   ],
   "source": [
    "print(x_train.shape)\n",
    "print(y_train.shape)\n",
    "print(x_test.shape)\n",
    "print(y_test.shape)"
   ]
  },
  {
   "cell_type": "code",
   "execution_count": 13,
   "metadata": {},
   "outputs": [
    {
     "name": "stderr",
     "output_type": "stream",
     "text": [
      "C:\\Amrendra\\Anaconda\\lib\\site-packages\\ipykernel_launcher.py:9: DeprecationWarning: `toimage` is deprecated!\n",
      "`toimage` is deprecated in SciPy 1.0.0, and will be removed in 1.2.0.\n",
      "Use Pillow's ``Image.fromarray`` directly instead.\n",
      "  if __name__ == '__main__':\n"
     ]
    },
    {
     "data": {
      "image/png": "[encoded data removed]",
      "text/plain": [
       "<Figure size 432x288 with 16 Axes>"
      ]
     },
     "metadata": {},
     "output_type": "display_data"
    }
   ],
   "source": [
    "from matplotlib import pyplot\n",
    "from scipy.misc import toimage\n",
    "def show_imgs(X):\n",
    "    pyplot.figure(1)\n",
    "    k = 0\n",
    "    for i in range(0,4):\n",
    "        for j in range(0,4):\n",
    "            pyplot.subplot2grid((4,4),(i,j))\n",
    "            pyplot.imshow(toimage(X[k]))\n",
    "            k = k+1\n",
    "    # show the plot\n",
    "    pyplot.show()\n",
    " \n",
    "show_imgs(x_test[:16])"
   ]
  },
  {
   "cell_type": "code",
   "execution_count": 50,
   "metadata": {},
   "outputs": [],
   "source": [
    "x_train=x_train/255\n",
    "x_test = x_test/255\n"
   ]
  },
  {
   "cell_type": "code",
   "execution_count": 51,
   "metadata": {},
   "outputs": [],
   "source": [
    "n_class=6\n",
    "y_train = keras.utils.to_categorical(y_train,n_class)\n",
    "y_test = keras.utils.to_categorical(y_test,n_class)"
   ]
  },
  {
   "cell_type": "code",
   "execution_count": 52,
   "metadata": {},
   "outputs": [],
   "source": [
    "n_conv = 64\n",
    "k_conv = (3,3)"
   ]
  },
  {
   "cell_type": "code",
   "execution_count": null,
   "metadata": {},
   "outputs": [],
   "source": [
    "y_train.shape"
   ]
  },
  {
   "cell_type": "code",
   "execution_count": 53,
   "metadata": {},
   "outputs": [],
   "source": [
    "weight_decay = 1e-4\n",
    "model = Sequential()\n",
    "model.add(Conv2D(32,(3,3),padding='same', activation='relu',kernel_regularizer=regularizers.l2(weight_decay)))\n",
    "model.add(MaxPooling2D())\n",
    "model.add(Dropout(0.2))\n",
    "\n",
    "model.add(Conv2D(64,(3,3),padding='same', activation='relu',kernel_regularizer=regularizers.l2(weight_decay)))\n",
    "model.add(MaxPooling2D())\n",
    "model.add(BatchNormalization())\n",
    "model.add(Dropout(0.2))\n",
    "\n",
    "model.add(Conv2D(128,(3,3), padding='same',activation='relu',kernel_regularizer=regularizers.l2(weight_decay)))\n",
    "model.add(MaxPooling2D())\n",
    "model.add(BatchNormalization())\n",
    "model.add(Dropout(0.2))\n",
    "\n",
    "\n",
    "\n",
    "model.add(Flatten())\n",
    "model.add(Dense(128,activation='relu'))\n",
    "model.add(Dense(6,activation='softmax'))"
   ]
  },
  {
   "cell_type": "code",
   "execution_count": 54,
   "metadata": {},
   "outputs": [],
   "source": [
    "model.compile(optimizer='adam', loss='categorical_crossentropy', metrics=['accuracy'])"
   ]
  },
  {
   "cell_type": "code",
   "execution_count": 55,
   "metadata": {},
   "outputs": [
    {
     "name": "stdout",
     "output_type": "stream",
     "text": [
      "Train on 10003 samples, validate on 2501 samples\n",
      "Epoch 1/1\n",
      " 6496/10003 [==================>...........] - ETA: 9:17 - loss: 2.5239 - acc: 0.156 - ETA: 7:53 - loss: 2.3550 - acc: 0.281 - ETA: 7:10 - loss: 2.3896 - acc: 0.250 - ETA: 6:45 - loss: 2.3066 - acc: 0.273 - ETA: 6:24 - loss: 2.2086 - acc: 0.281 - ETA: 6:18 - loss: 2.1407 - acc: 0.286 - ETA: 6:14 - loss: 2.0781 - acc: 0.294 - ETA: 6:08 - loss: 2.1340 - acc: 0.293 - ETA: 6:06 - loss: 2.0797 - acc: 0.291 - ETA: 5:58 - loss: 2.0373 - acc: 0.293 - ETA: 5:49 - loss: 2.0043 - acc: 0.301 - ETA: 5:44 - loss: 1.9923 - acc: 0.309 - ETA: 5:43 - loss: 2.0047 - acc: 0.307 - ETA: 5:41 - loss: 1.9635 - acc: 0.321 - ETA: 5:38 - loss: 1.9560 - acc: 0.318 - ETA: 5:39 - loss: 1.9548 - acc: 0.318 - ETA: 5:34 - loss: 1.9197 - acc: 0.321 - ETA: 5:30 - loss: 1.9184 - acc: 0.314 - ETA: 5:29 - loss: 1.8955 - acc: 0.324 - ETA: 5:26 - loss: 1.8917 - acc: 0.323 - ETA: 5:25 - loss: 1.8965 - acc: 0.321 - ETA: 5:24 - loss: 1.8811 - acc: 0.323 - ETA: 5:21 - loss: 1.8697 - acc: 0.322 - ETA: 5:21 - loss: 1.8567 - acc: 0.324 - ETA: 5:20 - loss: 1.8512 - acc: 0.317 - ETA: 5:20 - loss: 1.8341 - acc: 0.325 - ETA: 5:20 - loss: 1.8160 - acc: 0.331 - ETA: 5:16 - loss: 1.8109 - acc: 0.331 - ETA: 5:17 - loss: 1.8025 - acc: 0.334 - ETA: 5:15 - loss: 1.8062 - acc: 0.333 - ETA: 5:13 - loss: 1.8014 - acc: 0.333 - ETA: 5:12 - loss: 1.7965 - acc: 0.334 - ETA: 5:11 - loss: 1.7889 - acc: 0.334 - ETA: 5:11 - loss: 1.7738 - acc: 0.338 - ETA: 5:12 - loss: 1.7688 - acc: 0.340 - ETA: 5:11 - loss: 1.7648 - acc: 0.340 - ETA: 5:09 - loss: 1.7538 - acc: 0.342 - ETA: 5:08 - loss: 1.7467 - acc: 0.342 - ETA: 5:07 - loss: 1.7519 - acc: 0.341 - ETA: 5:05 - loss: 1.7517 - acc: 0.341 - ETA: 5:04 - loss: 1.7516 - acc: 0.339 - ETA: 5:03 - loss: 1.7496 - acc: 0.340 - ETA: 5:02 - loss: 1.7428 - acc: 0.340 - ETA: 5:00 - loss: 1.7408 - acc: 0.340 - ETA: 4:59 - loss: 1.7363 - acc: 0.341 - ETA: 4:58 - loss: 1.7320 - acc: 0.343 - ETA: 4:57 - loss: 1.7274 - acc: 0.342 - ETA: 4:55 - loss: 1.7209 - acc: 0.343 - ETA: 4:55 - loss: 1.7171 - acc: 0.343 - ETA: 4:53 - loss: 1.7095 - acc: 0.346 - ETA: 4:52 - loss: 1.7073 - acc: 0.348 - ETA: 4:52 - loss: 1.7068 - acc: 0.349 - ETA: 4:49 - loss: 1.7021 - acc: 0.347 - ETA: 4:48 - loss: 1.7026 - acc: 0.345 - ETA: 4:47 - loss: 1.7011 - acc: 0.347 - ETA: 4:45 - loss: 1.6989 - acc: 0.348 - ETA: 4:44 - loss: 1.6956 - acc: 0.349 - ETA: 4:42 - loss: 1.6917 - acc: 0.351 - ETA: 4:42 - loss: 1.6868 - acc: 0.353 - ETA: 4:41 - loss: 1.6848 - acc: 0.354 - ETA: 4:41 - loss: 1.6869 - acc: 0.354 - ETA: 4:40 - loss: 1.6822 - acc: 0.354 - ETA: 4:39 - loss: 1.6809 - acc: 0.355 - ETA: 4:37 - loss: 1.6788 - acc: 0.353 - ETA: 4:36 - loss: 1.6761 - acc: 0.352 - ETA: 4:35 - loss: 1.6770 - acc: 0.352 - ETA: 4:34 - loss: 1.6748 - acc: 0.351 - ETA: 4:33 - loss: 1.6693 - acc: 0.353 - ETA: 4:32 - loss: 1.6634 - acc: 0.355 - ETA: 4:31 - loss: 1.6600 - acc: 0.355 - ETA: 4:30 - loss: 1.6606 - acc: 0.354 - ETA: 4:29 - loss: 1.6535 - acc: 0.357 - ETA: 4:27 - loss: 1.6496 - acc: 0.358 - ETA: 4:26 - loss: 1.6463 - acc: 0.358 - ETA: 4:25 - loss: 1.6452 - acc: 0.356 - ETA: 4:24 - loss: 1.6435 - acc: 0.358 - ETA: 4:22 - loss: 1.6435 - acc: 0.359 - ETA: 4:21 - loss: 1.6414 - acc: 0.360 - ETA: 4:20 - loss: 1.6403 - acc: 0.360 - ETA: 4:19 - loss: 1.6346 - acc: 0.362 - ETA: 4:18 - loss: 1.6360 - acc: 0.361 - ETA: 4:16 - loss: 1.6296 - acc: 0.362 - ETA: 4:15 - loss: 1.6281 - acc: 0.363 - ETA: 4:14 - loss: 1.6243 - acc: 0.364 - ETA: 4:13 - loss: 1.6244 - acc: 0.364 - ETA: 4:11 - loss: 1.6246 - acc: 0.364 - ETA: 4:10 - loss: 1.6241 - acc: 0.364 - ETA: 4:09 - loss: 1.6205 - acc: 0.366 - ETA: 4:08 - loss: 1.6173 - acc: 0.366 - ETA: 4:07 - loss: 1.6142 - acc: 0.368 - ETA: 4:06 - loss: 1.6112 - acc: 0.369 - ETA: 4:04 - loss: 1.6127 - acc: 0.368 - ETA: 4:03 - loss: 1.6092 - acc: 0.370 - ETA: 4:03 - loss: 1.6081 - acc: 0.370 - ETA: 4:02 - loss: 1.6048 - acc: 0.370 - ETA: 4:00 - loss: 1.6008 - acc: 0.371 - ETA: 4:00 - loss: 1.5984 - acc: 0.372 - ETA: 3:58 - loss: 1.5974 - acc: 0.372 - ETA: 3:57 - loss: 1.5962 - acc: 0.371 - ETA: 3:56 - loss: 1.5937 - acc: 0.373 - ETA: 3:55 - loss: 1.5905 - acc: 0.375 - ETA: 3:53 - loss: 1.5878 - acc: 0.376 - ETA: 3:52 - loss: 1.5868 - acc: 0.376 - ETA: 3:51 - loss: 1.5865 - acc: 0.375 - ETA: 3:50 - loss: 1.5836 - acc: 0.376 - ETA: 3:49 - loss: 1.5823 - acc: 0.376 - ETA: 3:47 - loss: 1.5821 - acc: 0.375 - ETA: 3:46 - loss: 1.5802 - acc: 0.376 - ETA: 3:45 - loss: 1.5789 - acc: 0.377 - ETA: 3:44 - loss: 1.5766 - acc: 0.377 - ETA: 3:43 - loss: 1.5744 - acc: 0.378 - ETA: 3:43 - loss: 1.5740 - acc: 0.378 - ETA: 3:42 - loss: 1.5719 - acc: 0.378 - ETA: 3:41 - loss: 1.5717 - acc: 0.378 - ETA: 3:40 - loss: 1.5725 - acc: 0.378 - ETA: 3:39 - loss: 1.5724 - acc: 0.378 - ETA: 3:38 - loss: 1.5749 - acc: 0.377 - ETA: 3:37 - loss: 1.5716 - acc: 0.379 - ETA: 3:36 - loss: 1.5692 - acc: 0.380 - ETA: 3:36 - loss: 1.5677 - acc: 0.380 - ETA: 3:35 - loss: 1.5656 - acc: 0.380 - ETA: 3:33 - loss: 1.5653 - acc: 0.380 - ETA: 3:32 - loss: 1.5640 - acc: 0.380 - ETA: 3:31 - loss: 1.5611 - acc: 0.381 - ETA: 3:30 - loss: 1.5599 - acc: 0.381 - ETA: 3:30 - loss: 1.5607 - acc: 0.380 - ETA: 3:30 - loss: 1.5591 - acc: 0.381 - ETA: 3:28 - loss: 1.5583 - acc: 0.382 - ETA: 3:27 - loss: 1.5568 - acc: 0.383 - ETA: 3:26 - loss: 1.5536 - acc: 0.384 - ETA: 3:25 - loss: 1.5525 - acc: 0.385 - ETA: 3:24 - loss: 1.5511 - acc: 0.386 - ETA: 3:22 - loss: 1.5512 - acc: 0.386 - ETA: 3:21 - loss: 1.5518 - acc: 0.386 - ETA: 3:20 - loss: 1.5508 - acc: 0.386 - ETA: 3:19 - loss: 1.5507 - acc: 0.386 - ETA: 3:17 - loss: 1.5489 - acc: 0.387 - ETA: 3:16 - loss: 1.5456 - acc: 0.388 - ETA: 3:15 - loss: 1.5457 - acc: 0.387 - ETA: 3:13 - loss: 1.5439 - acc: 0.388 - ETA: 3:12 - loss: 1.5421 - acc: 0.389 - ETA: 3:11 - loss: 1.5407 - acc: 0.389 - ETA: 3:10 - loss: 1.5391 - acc: 0.389 - ETA: 3:09 - loss: 1.5365 - acc: 0.389 - ETA: 3:08 - loss: 1.5353 - acc: 0.390 - ETA: 3:07 - loss: 1.5328 - acc: 0.390 - ETA: 3:06 - loss: 1.5310 - acc: 0.391 - ETA: 3:04 - loss: 1.5315 - acc: 0.391 - ETA: 3:03 - loss: 1.5292 - acc: 0.392 - ETA: 3:02 - loss: 1.5286 - acc: 0.392 - ETA: 3:01 - loss: 1.5264 - acc: 0.393 - ETA: 3:00 - loss: 1.5249 - acc: 0.393 - ETA: 2:59 - loss: 1.5230 - acc: 0.393 - ETA: 2:58 - loss: 1.5220 - acc: 0.393 - ETA: 2:56 - loss: 1.5200 - acc: 0.393 - ETA: 2:55 - loss: 1.5180 - acc: 0.394 - ETA: 2:54 - loss: 1.5181 - acc: 0.394 - ETA: 2:53 - loss: 1.5168 - acc: 0.395 - ETA: 2:52 - loss: 1.5154 - acc: 0.395 - ETA: 2:50 - loss: 1.5134 - acc: 0.396 - ETA: 2:49 - loss: 1.5110 - acc: 0.396 - ETA: 2:48 - loss: 1.5120 - acc: 0.395 - ETA: 2:47 - loss: 1.5104 - acc: 0.395 - ETA: 2:46 - loss: 1.5094 - acc: 0.396 - ETA: 2:45 - loss: 1.5072 - acc: 0.397 - ETA: 2:44 - loss: 1.5066 - acc: 0.397 - ETA: 2:42 - loss: 1.5054 - acc: 0.397 - ETA: 2:41 - loss: 1.5052 - acc: 0.397 - ETA: 2:40 - loss: 1.5045 - acc: 0.397 - ETA: 2:38 - loss: 1.5040 - acc: 0.397 - ETA: 2:37 - loss: 1.5025 - acc: 0.398 - ETA: 2:36 - loss: 1.5007 - acc: 0.399 - ETA: 2:35 - loss: 1.4996 - acc: 0.399 - ETA: 2:34 - loss: 1.4982 - acc: 0.400 - ETA: 2:33 - loss: 1.4963 - acc: 0.401 - ETA: 2:32 - loss: 1.4962 - acc: 0.400 - ETA: 2:30 - loss: 1.4962 - acc: 0.401 - ETA: 2:29 - loss: 1.4949 - acc: 0.400 - ETA: 2:28 - loss: 1.4942 - acc: 0.400 - ETA: 2:27 - loss: 1.4929 - acc: 0.400 - ETA: 2:26 - loss: 1.4911 - acc: 0.400 - ETA: 2:25 - loss: 1.4899 - acc: 0.400 - ETA: 2:23 - loss: 1.4878 - acc: 0.401 - ETA: 2:22 - loss: 1.4870 - acc: 0.401 - ETA: 2:21 - loss: 1.4852 - acc: 0.402 - ETA: 2:20 - loss: 1.4834 - acc: 0.403 - ETA: 2:19 - loss: 1.4814 - acc: 0.404 - ETA: 2:18 - loss: 1.4809 - acc: 0.404 - ETA: 2:16 - loss: 1.4808 - acc: 0.404 - ETA: 2:15 - loss: 1.4798 - acc: 0.404 - ETA: 2:14 - loss: 1.4789 - acc: 0.405 - ETA: 2:13 - loss: 1.4783 - acc: 0.405 - ETA: 2:12 - loss: 1.4789 - acc: 0.405 - ETA: 2:11 - loss: 1.4783 - acc: 0.405 - ETA: 2:10 - loss: 1.4774 - acc: 0.405 - ETA: 2:09 - loss: 1.4752 - acc: 0.407 - ETA: 2:08 - loss: 1.4749 - acc: 0.407 - ETA: 2:07 - loss: 1.4743 - acc: 0.407 - ETA: 2:05 - loss: 1.4733 - acc: 0.407 - ETA: 2:04 - loss: 1.4726 - acc: 0.407 - ETA: 2:03 - loss: 1.4707 - acc: 0.407 - ETA: 2:02 - loss: 1.4693 - acc: 0.408 - ETA: 2:01 - loss: 1.4682 - acc: 0.40910003/10003 [==============================] - ETA: 1:59 - loss: 1.4666 - acc: 0.409 - ETA: 1:58 - loss: 1.4663 - acc: 0.409 - ETA: 1:57 - loss: 1.4645 - acc: 0.410 - ETA: 1:56 - loss: 1.4650 - acc: 0.410 - ETA: 1:55 - loss: 1.4642 - acc: 0.411 - ETA: 1:53 - loss: 1.4622 - acc: 0.412 - ETA: 1:52 - loss: 1.4606 - acc: 0.413 - ETA: 1:51 - loss: 1.4604 - acc: 0.413 - ETA: 1:50 - loss: 1.4597 - acc: 0.413 - ETA: 1:49 - loss: 1.4584 - acc: 0.413 - ETA: 1:48 - loss: 1.4571 - acc: 0.414 - ETA: 1:47 - loss: 1.4568 - acc: 0.414 - ETA: 1:45 - loss: 1.4552 - acc: 0.415 - ETA: 1:44 - loss: 1.4541 - acc: 0.415 - ETA: 1:43 - loss: 1.4528 - acc: 0.416 - ETA: 1:42 - loss: 1.4514 - acc: 0.417 - ETA: 1:41 - loss: 1.4505 - acc: 0.417 - ETA: 1:40 - loss: 1.4492 - acc: 0.418 - ETA: 1:39 - loss: 1.4478 - acc: 0.418 - ETA: 1:37 - loss: 1.4463 - acc: 0.419 - ETA: 1:36 - loss: 1.4450 - acc: 0.419 - ETA: 1:35 - loss: 1.4438 - acc: 0.420 - ETA: 1:34 - loss: 1.4425 - acc: 0.420 - ETA: 1:33 - loss: 1.4434 - acc: 0.420 - ETA: 1:32 - loss: 1.4414 - acc: 0.421 - ETA: 1:31 - loss: 1.4392 - acc: 0.421 - ETA: 1:30 - loss: 1.4380 - acc: 0.422 - ETA: 1:29 - loss: 1.4360 - acc: 0.422 - ETA: 1:28 - loss: 1.4345 - acc: 0.423 - ETA: 1:27 - loss: 1.4332 - acc: 0.423 - ETA: 1:26 - loss: 1.4316 - acc: 0.424 - ETA: 1:25 - loss: 1.4305 - acc: 0.425 - ETA: 1:24 - loss: 1.4306 - acc: 0.424 - ETA: 1:23 - loss: 1.4301 - acc: 0.425 - ETA: 1:22 - loss: 1.4291 - acc: 0.425 - ETA: 1:21 - loss: 1.4273 - acc: 0.425 - ETA: 1:19 - loss: 1.4262 - acc: 0.425 - ETA: 1:18 - loss: 1.4249 - acc: 0.426 - ETA: 1:17 - loss: 1.4252 - acc: 0.426 - ETA: 1:16 - loss: 1.4233 - acc: 0.427 - ETA: 1:15 - loss: 1.4213 - acc: 0.428 - ETA: 1:14 - loss: 1.4199 - acc: 0.428 - ETA: 1:13 - loss: 1.4187 - acc: 0.428 - ETA: 1:12 - loss: 1.4170 - acc: 0.429 - ETA: 1:11 - loss: 1.4159 - acc: 0.429 - ETA: 1:10 - loss: 1.4141 - acc: 0.430 - ETA: 1:09 - loss: 1.4130 - acc: 0.430 - ETA: 1:08 - loss: 1.4107 - acc: 0.431 - ETA: 1:07 - loss: 1.4103 - acc: 0.431 - ETA: 1:05 - loss: 1.4087 - acc: 0.431 - ETA: 1:04 - loss: 1.4071 - acc: 0.432 - ETA: 1:03 - loss: 1.4060 - acc: 0.433 - ETA: 1:02 - loss: 1.4047 - acc: 0.433 - ETA: 1:01 - loss: 1.4045 - acc: 0.433 - ETA: 1:00 - loss: 1.4026 - acc: 0.434 - ETA: 59s - loss: 1.4018 - acc: 0.434 - ETA: 58s - loss: 1.4008 - acc: 0.43 - ETA: 56s - loss: 1.3994 - acc: 0.43 - ETA: 55s - loss: 1.3984 - acc: 0.43 - ETA: 54s - loss: 1.3972 - acc: 0.43 - ETA: 53s - loss: 1.3979 - acc: 0.43 - ETA: 52s - loss: 1.3972 - acc: 0.43 - ETA: 51s - loss: 1.3962 - acc: 0.43 - ETA: 50s - loss: 1.3957 - acc: 0.43 - ETA: 49s - loss: 1.3948 - acc: 0.43 - ETA: 47s - loss: 1.3931 - acc: 0.43 - ETA: 46s - loss: 1.3930 - acc: 0.43 - ETA: 45s - loss: 1.3927 - acc: 0.43 - ETA: 44s - loss: 1.3932 - acc: 0.43 - ETA: 43s - loss: 1.3915 - acc: 0.43 - ETA: 42s - loss: 1.3907 - acc: 0.43 - ETA: 41s - loss: 1.3910 - acc: 0.43 - ETA: 40s - loss: 1.3901 - acc: 0.43 - ETA: 39s - loss: 1.3892 - acc: 0.44 - ETA: 37s - loss: 1.3887 - acc: 0.44 - ETA: 36s - loss: 1.3880 - acc: 0.44 - ETA: 35s - loss: 1.3867 - acc: 0.44 - ETA: 34s - loss: 1.3853 - acc: 0.44 - ETA: 33s - loss: 1.3845 - acc: 0.44 - ETA: 32s - loss: 1.3836 - acc: 0.44 - ETA: 31s - loss: 1.3827 - acc: 0.44 - ETA: 30s - loss: 1.3821 - acc: 0.44 - ETA: 29s - loss: 1.3809 - acc: 0.44 - ETA: 28s - loss: 1.3794 - acc: 0.44 - ETA: 26s - loss: 1.3784 - acc: 0.44 - ETA: 25s - loss: 1.3765 - acc: 0.44 - ETA: 24s - loss: 1.3757 - acc: 0.44 - ETA: 23s - loss: 1.3748 - acc: 0.44 - ETA: 22s - loss: 1.3737 - acc: 0.44 - ETA: 21s - loss: 1.3724 - acc: 0.44 - ETA: 20s - loss: 1.3712 - acc: 0.44 - ETA: 19s - loss: 1.3699 - acc: 0.44 - ETA: 18s - loss: 1.3684 - acc: 0.44 - ETA: 17s - loss: 1.3677 - acc: 0.44 - ETA: 15s - loss: 1.3674 - acc: 0.44 - ETA: 14s - loss: 1.3655 - acc: 0.44 - ETA: 13s - loss: 1.3650 - acc: 0.44 - ETA: 12s - loss: 1.3633 - acc: 0.44 - ETA: 11s - loss: 1.3620 - acc: 0.45 - ETA: 10s - loss: 1.3607 - acc: 0.45 - ETA: 9s - loss: 1.3592 - acc: 0.4511 - ETA: 8s - loss: 1.3579 - acc: 0.451 - ETA: 7s - loss: 1.3570 - acc: 0.451 - ETA: 6s - loss: 1.3568 - acc: 0.452 - ETA: 5s - loss: 1.3562 - acc: 0.452 - ETA: 3s - loss: 1.3558 - acc: 0.452 - ETA: 2s - loss: 1.3558 - acc: 0.452 - ETA: 1s - loss: 1.3549 - acc: 0.453 - ETA: 0s - loss: 1.3541 - acc: 0.453 - 344s 34ms/step - loss: 1.3538 - acc: 0.4534 - val_loss: 1.3311 - val_acc: 0.4526\n"
     ]
    },
    {
     "data": {
      "text/plain": [
       "<keras.callbacks.History at 0x12800276390>"
      ]
     },
     "execution_count": 55,
     "metadata": {},
     "output_type": "execute_result"
    }
   ],
   "source": [
    "model.fit(x_train,y_train,epochs=1,verbose=1, validation_data=(x_test,y_test))"
   ]
  },
  {
   "cell_type": "code",
   "execution_count": 19,
   "metadata": {},
   "outputs": [],
   "source": [
    "os.chdir(\"D:\\My Personal Documents\\Learnings\\Data Science\\Hackathan - Game of Deep Learning\\\\train\")\n",
    "test = pd.read_csv('test_ApKoW4T.csv')"
   ]
  },
  {
   "cell_type": "code",
   "execution_count": 20,
   "metadata": {},
   "outputs": [
    {
     "name": "stderr",
     "output_type": "stream",
     "text": [
      "100%|█████████████████████████████████████████████████████████████████████████████| 2680/2680 [00:10<00:00, 252.03it/s]\n"
     ]
    }
   ],
   "source": [
    "test_image = []\n",
    "for i in tqdm(range(test.shape[0])):\n",
    "    img = image.load_img('images/'+test['image'][i], target_size=(197,197,3), grayscale=False)\n",
    "    img = image.img_to_array(img)\n",
    "    img = img/255\n",
    "    test_image.append(img)\n",
    "test = np.array(test_image)"
   ]
  },
  {
   "cell_type": "code",
   "execution_count": 21,
   "metadata": {},
   "outputs": [],
   "source": [
    "prediction = finetune_model.predict(test)"
   ]
  },
  {
   "cell_type": "code",
   "execution_count": 22,
   "metadata": {},
   "outputs": [],
   "source": [
    "pd.DataFrame(prediction).to_csv('test_pred.csv')"
   ]
  },
  {
   "cell_type": "code",
   "execution_count": null,
   "metadata": {},
   "outputs": [],
   "source": [
    "model.save('trained_epoch_5.h5')"
   ]
  },
  {
   "cell_type": "code",
   "execution_count": null,
   "metadata": {},
   "outputs": [],
   "source": [
    "filepath='trained_epoch_5.h5'"
   ]
  },
  {
   "cell_type": "code",
   "execution_count": null,
   "metadata": {},
   "outputs": [],
   "source": [
    "from keras.callbacks import ModelCheckpoint\n",
    "from keras.models import load_model\n",
    "new_model = load_model('trained_epoch_5.h5')"
   ]
  },
  {
   "cell_type": "code",
   "execution_count": null,
   "metadata": {},
   "outputs": [],
   "source": [
    "checkpoint = ModelCheckpoint(filepath, monitor='loss', verbose=1, save_best_only=True, mode='min')"
   ]
  },
  {
   "cell_type": "code",
   "execution_count": null,
   "metadata": {},
   "outputs": [],
   "source": [
    "callback_list = [checkpoint]"
   ]
  },
  {
   "cell_type": "code",
   "execution_count": null,
   "metadata": {},
   "outputs": [],
   "source": [
    "new_model.fit(x_train,y_train, epochs=20, validation_data=(x_test,y_test),callbacks = callback_list)"
   ]
  },
  {
   "cell_type": "code",
   "execution_count": null,
   "metadata": {},
   "outputs": [],
   "source": []
  },
  {
   "cell_type": "code",
   "execution_count": null,
   "metadata": {},
   "outputs": [],
   "source": [
    "new_model.save('trained_epoch_25.h5')"
   ]
  },
  {
   "cell_type": "code",
   "execution_count": null,
   "metadata": {},
   "outputs": [],
   "source": [
    "prediction = new_model.predict_classes(test)"
   ]
  },
  {
   "cell_type": "code",
   "execution_count": null,
   "metadata": {},
   "outputs": [],
   "source": [
    "pd.DataFrame(prediction).to_csv('test_pred.csv')"
   ]
  },
  {
   "cell_type": "code",
   "execution_count": null,
   "metadata": {},
   "outputs": [],
   "source": [
    "filepath='trained_epoch_25.h5'"
   ]
  },
  {
   "cell_type": "code",
   "execution_count": null,
   "metadata": {},
   "outputs": [],
   "source": [
    "new_model1 = load_model('trained_epoch_25.h5')"
   ]
  },
  {
   "cell_type": "code",
   "execution_count": null,
   "metadata": {},
   "outputs": [],
   "source": [
    "checkpoint = ModelCheckpoint(filepath, monitor='loss', verbose=1, save_best_only=True, mode='min')"
   ]
  },
  {
   "cell_type": "code",
   "execution_count": null,
   "metadata": {},
   "outputs": [],
   "source": [
    "callback_list = [checkpoint]"
   ]
  },
  {
   "cell_type": "code",
   "execution_count": null,
   "metadata": {},
   "outputs": [],
   "source": [
    "new_model1.fit(x_train,y_train, epochs=20, validation_data=(x_test,y_test),callbacks = callback_list)"
   ]
  },
  {
   "cell_type": "code",
   "execution_count": null,
   "metadata": {},
   "outputs": [],
   "source": [
    "prediction=new_model1.predict_classes(test)"
   ]
  },
  {
   "cell_type": "code",
   "execution_count": null,
   "metadata": {},
   "outputs": [],
   "source": [
    "pd.DataFrame(prediction).to_csv('test_pred.csv')"
   ]
  },
  {
   "cell_type": "code",
   "execution_count": null,
   "metadata": {},
   "outputs": [],
   "source": []
  }
 ],
 "metadata": {
  "kernelspec": {
   "display_name": "Python 3",
   "language": "python",
   "name": "python3"
  },
  "language_info": {
   "codemirror_mode": {
    "name": "ipython",
    "version": 3
   },
   "file_extension": ".py",
   "mimetype": "text/x-python",
   "name": "python",
   "nbconvert_exporter": "python",
   "pygments_lexer": "ipython3",
   "version": "3.6.5"
  }
 },
 "nbformat": 4,
 "nbformat_minor": 2
}
