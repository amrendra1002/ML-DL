{
 "cells": [
  {
   "cell_type": "code",
   "execution_count": 1,
   "metadata": {},
   "outputs": [],
   "source": [
    "import pandas as pd\n",
    "import numpy as np\n",
    "import filecmp\n",
    "import os\n",
    "import re\n",
    "import sys\n",
    "import string\n",
    "working_dir = 'D:\\File comparision'\n",
    "source_path = working_dir + '\\Source'\n",
    "target_path = working_dir + '\\Target'\n",
    "source_processed_path = working_dir + '\\SourceProcessed'\n",
    "target_processed_path = working_dir + '\\TargetProcessed'"
   ]
  },
  {
   "cell_type": "code",
   "execution_count": 2,
   "metadata": {},
   "outputs": [],
   "source": [
    "os.chdir(source_path)\n",
    "for filename in os.listdir(os.getcwd()):\n",
    "    with open(filename) as f:\n",
    "        with open(source_processed_path + '/' + filename , \"w\") as f1:\n",
    "            for line in f:\n",
    "                if (not '*' in line and line.strip()):\n",
    "                    f1.writelines(line) "
   ]
  },
  {
   "cell_type": "code",
   "execution_count": 3,
   "metadata": {},
   "outputs": [],
   "source": [
    "os.chdir(target_path)\n",
    "for filename in os.listdir(os.getcwd()):\n",
    "    with open(filename) as f:\n",
    "        with open(target_processed_path + '/' + filename , \"w\") as f1:\n",
    "            for line in f:\n",
    "                if (not '*' in line and line.strip()):\n",
    "                    f1.writelines(line) "
   ]
  },
  {
   "cell_type": "code",
   "execution_count": 4,
   "metadata": {},
   "outputs": [],
   "source": [
    "def file_comparison(dir1,dir2):\n",
    "    os.chdir(working_dir)\n",
    "    orig_stdout = sys.stdout\n",
    "    f = open('out.txt', 'w')\n",
    "    sys.stdout = f\n",
    "\n",
    "    for i in range(1):\n",
    "        print ('i = ', filecmp.dircmp(dir1, dir2).report_full_closure())\n",
    "\n",
    "    sys.stdout = orig_stdout\n",
    "    f.close()\n",
    "\n",
    "    file1 = open(\"out.txt\",\"r+\")\n",
    "\n",
    "    data = file1.readlines()\n",
    "    if len(data)>1:\n",
    "        data1 = data[1].partition(\"[\")[2].partition(\"]\")[0].split(',')\n",
    "        data1_header = data[1].split(':')[0]\n",
    "        df1 = pd.DataFrame(data1, columns=[data1_header])\n",
    "        output1 = pd.concat([pd.DataFrame([data1_header] * df1.shape[0], columns=['Id']),pd.DataFrame(data1, columns=['Value'])], axis=1, sort=False)\n",
    "    else:\n",
    "        output1 = pd.DataFrame([])\n",
    "\n",
    "    if len(data)>2:\n",
    "        data2 = data[2].partition(\"[\")[2].partition(\"]\")[0].split(',')\n",
    "        data2_header = data[2].split(':')[0]\n",
    "        df2 = pd.DataFrame(data2, columns=[data2_header])\n",
    "        output2 = pd.concat([pd.DataFrame([data2_header] * df2.shape[0], columns=['Id']),pd.DataFrame(data2, columns=['Value'])], axis=1, sort=False)\n",
    "    else:\n",
    "        output2 = pd.DataFrame([])\n",
    "\n",
    "    if len(data)>3:\n",
    "        data3 = data[3].partition(\"[\")[2].partition(\"]\")[0].split(',')\n",
    "        data3_header = data[3].split(':')[0]\n",
    "        df3 = pd.DataFrame(data3, columns=[data3_header])\n",
    "        output3 = pd.concat([pd.DataFrame([data3_header] * df3.shape[0], columns=['Id']),pd.DataFrame(data3, columns=['Value'])], axis=1, sort=False)\n",
    "    else:\n",
    "        output3 = pd.DataFrame([])\n",
    "\n",
    "    if len(data)>4:\n",
    "        data4 = data[4].partition(\"[\")[2].partition(\"]\")[0].split(',')\n",
    "        data4_header = data[4].split(':')[0]\n",
    "        df4 = pd.DataFrame(data4, columns=[data4_header])\n",
    "        output4 = pd.concat([pd.DataFrame([data4_header] * df4.shape[0], columns=['Id']),pd.DataFrame(data4, columns=['Value'])], axis=1, sort=False)\n",
    "    else:\n",
    "        output4 = pd.DataFrame([])\n",
    "\n",
    "    \n",
    "\n",
    "    \n",
    "    output = pd.concat([output1, output2, output3, output4])\n",
    "    \n",
    "    return output\n",
    "\n",
    "    "
   ]
  },
  {
   "cell_type": "code",
   "execution_count": 5,
   "metadata": {},
   "outputs": [],
   "source": [
    "os.chdir(working_dir)\n",
    "output = file_comparison('SourceProcessed', 'TargetProcessed')"
   ]
  },
  {
   "cell_type": "code",
   "execution_count": 6,
   "metadata": {},
   "outputs": [],
   "source": [
    "output['Value'] = output['Value'].str.replace('\\'','')"
   ]
  },
  {
   "cell_type": "code",
   "execution_count": 7,
   "metadata": {},
   "outputs": [],
   "source": [
    "output = output.rename(columns={'Id': 'Comparison Result Category', 'Value' : 'File Name'})\n",
    "output.to_csv('file_comparison_result.csv', index=False)"
   ]
  },
  {
   "cell_type": "code",
   "execution_count": 8,
   "metadata": {},
   "outputs": [],
   "source": [
    "output_summary= output.groupby('Comparison Result Category')['File Name'].count().reset_index()"
   ]
  },
  {
   "cell_type": "code",
   "execution_count": 9,
   "metadata": {},
   "outputs": [],
   "source": [
    "output['Available in Source'] = output['Comparison Result Category'].apply(lambda x : 0 if x=='Only in TargetProcessed ' else 1)\n",
    "output['Available in Target'] = output['Comparison Result Category'].apply(lambda x : 0 if x=='Only in SourceProcessed ' else 1)\n",
    "output['Target Mismatch'] = output['Comparison Result Category'].apply(lambda x : 0 if x=='Identical files ' else 1)"
   ]
  },
  {
   "cell_type": "code",
   "execution_count": 10,
   "metadata": {},
   "outputs": [],
   "source": [
    "output.to_csv('File_Comparison_Result.csv', index=False)"
   ]
  },
  {
   "cell_type": "code",
   "execution_count": null,
   "metadata": {},
   "outputs": [],
   "source": []
  },
  {
   "cell_type": "code",
   "execution_count": null,
   "metadata": {},
   "outputs": [],
   "source": []
  },
  {
   "cell_type": "code",
   "execution_count": null,
   "metadata": {},
   "outputs": [],
   "source": []
  }
 ],
 "metadata": {
  "kernelspec": {
   "display_name": "Python 3",
   "language": "python",
   "name": "python3"
  },
  "language_info": {
   "codemirror_mode": {
    "name": "ipython",
    "version": 3
   },
   "file_extension": ".py",
   "mimetype": "text/x-python",
   "name": "python",
   "nbconvert_exporter": "python",
   "pygments_lexer": "ipython3",
   "version": "3.6.5"
  }
 },
 "nbformat": 4,
 "nbformat_minor": 2
}
